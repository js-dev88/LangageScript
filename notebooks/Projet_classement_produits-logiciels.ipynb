{
 "cells": [
  {
   "cell_type": "markdown",
   "metadata": {},
   "source": [
    " <div align=\"center\"><h1> ANALYSE DES CLASSEMENTS DE PRODUITS </h1></div>"
   ]
  },
  {
   "cell_type": "markdown",
   "metadata": {},
   "source": [
    "Note : *Le code source est disponible [ici](https://github.com/toshiro10/LangageScript)*"
   ]
  },
  {
   "cell_type": "markdown",
   "metadata": {},
   "source": [
    "## CAS - Logiciels Gestionnaires de Mots de Passe"
   ]
  },
  {
   "cell_type": "markdown",
   "metadata": {},
   "source": [
    "Dans son numéro de septembre 2018, le magazine 60 millions de consommateurs compare dix gestionnaires de mots de passe sur oridnateur et sur mobile. \n",
    "\n",
    "Nous allons appliquer la même méthode que pour le classement des couches-culottes précédent afin d'étudier la qualité du modèle d'évaluation."
   ]
  },
  {
   "cell_type": "markdown",
   "metadata": {},
   "source": [
    "<img src=\"../docs/tableau_logiciels.png\">"
   ]
  },
  {
   "cell_type": "markdown",
   "metadata": {},
   "source": [
    "Le tableau ci-dessus recense les informations relatives au classement des logiciels de gestionnaires de mot de passe. Nous nous baserons sur ce tableau pour effectuer nos analyses"
   ]
  },
  {
   "cell_type": "markdown",
   "metadata": {},
   "source": [
    "## 1. Contexte - Logiciels Gestionnaires de Mots de Passe"
   ]
  },
  {
   "cell_type": "markdown",
   "metadata": {},
   "source": [
    "Le magazine 60 millions de consomateurs dans son numéro N°540 a publié une analyse de dix logiciels de mots de passe sur 4 critères :\n",
    "\n",
    "* Utilisation sur ordinateurs, ce critère englobe tout ce qui s’agit de la facilité d’installation du logiciel, de sa compatibilité avec tous les systèmes d’exploitation, l’ergonomie de l’IHM, la gestion des mots de passes et des formulaires de saisie..\n",
    "\n",
    "* Utilisation sur appareils mobiles, c’est-à-dire si le logiciel est compatible avec les appareils mobiles ou pas.\n",
    "\n",
    "* Protection du gestionnaire et conseils de sécurité, ce critère concerne l’ensemble des conseils de sécurité et de l’audit des mots de passe fournis par le logiciel ainsi que la protection du gestionnaire.\n",
    "\n",
    "* Aide à l’utilisateur\n",
    "\n",
    "Avec des seuils de majorité respectifs de 35%, 35%, 20% et 10%.\n",
    "\n",
    "Nous allons maintenant appliquer ce que nous avons vu auparavant (les deux méthodes d’analyse : sommes pondérées et Electre tri) sur le jeu de données que nous avons créés à partir des données fournies par le magazine . \n"
   ]
  },
  {
   "cell_type": "markdown",
   "metadata": {},
   "source": [
    "## 2. Résultats de la méthode de Sommes pondérées : "
   ]
  },
  {
   "cell_type": "code",
   "execution_count": 1,
   "metadata": {
    "tags": [
     "remove_cell"
    ]
   },
   "outputs": [],
   "source": [
    "import os\n",
    "import sys\n",
    "module_path = os.path.abspath(os.path.join('../src'))\n",
    "if module_path not in sys.path:\n",
    "    sys.path.append(module_path)   "
   ]
  },
  {
   "cell_type": "code",
   "execution_count": 2,
   "metadata": {
    "tags": [
     "remove_cell"
    ]
   },
   "outputs": [],
   "source": [
    "from system import checkAdditiveModel, createUpdateModel, compareRankings\n",
    "from optlang import Variable\n",
    "from loader import getOriginalData, exportInExcel\n",
    "from IPython.display import display, display_html, HTML\n",
    "from json2html import *\n",
    "from IPython.display import HTML"
   ]
  },
  {
   "cell_type": "code",
   "execution_count": 3,
   "metadata": {
    "tags": [
     "remove_cell"
    ]
   },
   "outputs": [],
   "source": [
    "csv_name='../data/data_logiciels_original.xlsx'\n",
    "export_name = './results_notebook/Logiciels_Analyse_Classement.xlsx'\n",
    "result_original = getOriginalData(csv_name)"
   ]
  },
  {
   "cell_type": "markdown",
   "metadata": {},
   "source": [
    "Nous avons dans un premier temps essayé vérifier si le classement proposé par le magazine était issu d’une somme pondérée. Nous avons établi un programme linéaire modélisant le classement proposé par le magazine. "
   ]
  },
  {
   "cell_type": "code",
   "execution_count": 4,
   "metadata": {
    "tags": [
     "remove_cell"
    ]
   },
   "outputs": [
    {
     "name": "stdout",
     "output_type": "stream",
     "text": [
      "Le Programme Lineaire - Classement Logiciels avec notes \n",
      " du fichier ../data/data_logiciels_original.xlsx n'admet pas de solution\n"
     ]
    }
   ],
   "source": [
    "model_name_1 = 'Programme Lineaire - Classement Logiciels avec notes' \n",
    "result_2_1 = checkAdditiveModel(csv_name=csv_name,\n",
    "                      model_name=model_name_1,\n",
    "                      eval_expr='x1',\n",
    "                      direction='max',\n",
    "                      with_scores=True)\n",
    "print(result_2_1)"
   ]
  },
  {
   "cell_type": "markdown",
   "metadata": {},
   "source": [
    "En reprenant exactement les notes affectées par le magazine, on s’aperçoit que le programme linéaire n’a pas de solution. Cela signifie que dans ces conditions, le classement présenté par le magazine ne peut être expliqué par une somme pondérée."
   ]
  },
  {
   "cell_type": "markdown",
   "metadata": {},
   "source": [
    "\n",
    "Nous nous sommes ensuite affranchis des notes finales présentées par le magazine."
   ]
  },
  {
   "cell_type": "code",
   "execution_count": 5,
   "metadata": {
    "tags": [
     "remove_cell"
    ]
   },
   "outputs": [],
   "source": [
    "model_name_2 = 'Programme Lineaire - Classement Logiciels sans note'\n",
    "result_2_2 = checkAdditiveModel(csv_name=csv_name,\n",
    "                  model_name=model_name_2,\n",
    "                  eval_expr='x1',\n",
    "                  direction='max')\n"
   ]
  },
  {
   "cell_type": "code",
   "execution_count": 6,
   "metadata": {
    "tags": [
     "remove_cell"
    ]
   },
   "outputs": [
    {
     "data": {
      "text/html": [
       "<style  type=\"text/css\" >\n",
       "</style>  \n",
       "<table id=\"T_f7f6bd8c_48f8_11e9_8356_409f3864a092\" style='display:inline'><caption>Modèle original</caption> \n",
       "<thead>    <tr> \n",
       "        <th class=\"blank level0\" ></th> \n",
       "        <th class=\"col_heading level0 col0\" >Produit</th> \n",
       "        <th class=\"col_heading level0 col1\" >Ordinateurs</th> \n",
       "        <th class=\"col_heading level0 col2\" >Mobiles</th> \n",
       "        <th class=\"col_heading level0 col3\" >Protection</th> \n",
       "        <th class=\"col_heading level0 col4\" >Aide</th> \n",
       "        <th class=\"col_heading level0 col5\" >Score</th> \n",
       "    </tr></thead> \n",
       "<tbody>    <tr> \n",
       "        <th id=\"T_f7f6bd8c_48f8_11e9_8356_409f3864a092level0_row0\" class=\"row_heading level0 row0\" >0</th> \n",
       "        <td id=\"T_f7f6bd8c_48f8_11e9_8356_409f3864a092row0_col0\" class=\"data row0 col0\" >a- Dashlane</td> \n",
       "        <td id=\"T_f7f6bd8c_48f8_11e9_8356_409f3864a092row0_col1\" class=\"data row0 col1\" >++</td> \n",
       "        <td id=\"T_f7f6bd8c_48f8_11e9_8356_409f3864a092row0_col2\" class=\"data row0 col2\" >++</td> \n",
       "        <td id=\"T_f7f6bd8c_48f8_11e9_8356_409f3864a092row0_col3\" class=\"data row0 col3\" >++</td> \n",
       "        <td id=\"T_f7f6bd8c_48f8_11e9_8356_409f3864a092row0_col4\" class=\"data row0 col4\" >++</td> \n",
       "        <td id=\"T_f7f6bd8c_48f8_11e9_8356_409f3864a092row0_col5\" class=\"data row0 col5\" >15</td> \n",
       "    </tr>    <tr> \n",
       "        <th id=\"T_f7f6bd8c_48f8_11e9_8356_409f3864a092level0_row1\" class=\"row_heading level0 row1\" >1</th> \n",
       "        <td id=\"T_f7f6bd8c_48f8_11e9_8356_409f3864a092row1_col0\" class=\"data row1 col0\" >b- LastPass</td> \n",
       "        <td id=\"T_f7f6bd8c_48f8_11e9_8356_409f3864a092row1_col1\" class=\"data row1 col1\" >+++</td> \n",
       "        <td id=\"T_f7f6bd8c_48f8_11e9_8356_409f3864a092row1_col2\" class=\"data row1 col2\" >+</td> \n",
       "        <td id=\"T_f7f6bd8c_48f8_11e9_8356_409f3864a092row1_col3\" class=\"data row1 col3\" >+</td> \n",
       "        <td id=\"T_f7f6bd8c_48f8_11e9_8356_409f3864a092row1_col4\" class=\"data row1 col4\" >-</td> \n",
       "        <td id=\"T_f7f6bd8c_48f8_11e9_8356_409f3864a092row1_col5\" class=\"data row1 col5\" >14</td> \n",
       "    </tr>    <tr> \n",
       "        <th id=\"T_f7f6bd8c_48f8_11e9_8356_409f3864a092level0_row2\" class=\"row_heading level0 row2\" >2</th> \n",
       "        <td id=\"T_f7f6bd8c_48f8_11e9_8356_409f3864a092row2_col0\" class=\"data row2 col0\" >c- Roboform</td> \n",
       "        <td id=\"T_f7f6bd8c_48f8_11e9_8356_409f3864a092row2_col1\" class=\"data row2 col1\" >+</td> \n",
       "        <td id=\"T_f7f6bd8c_48f8_11e9_8356_409f3864a092row2_col2\" class=\"data row2 col2\" >++</td> \n",
       "        <td id=\"T_f7f6bd8c_48f8_11e9_8356_409f3864a092row2_col3\" class=\"data row2 col3\" >+</td> \n",
       "        <td id=\"T_f7f6bd8c_48f8_11e9_8356_409f3864a092row2_col4\" class=\"data row2 col4\" >-</td> \n",
       "        <td id=\"T_f7f6bd8c_48f8_11e9_8356_409f3864a092row2_col5\" class=\"data row2 col5\" >13</td> \n",
       "    </tr>    <tr> \n",
       "        <th id=\"T_f7f6bd8c_48f8_11e9_8356_409f3864a092level0_row3\" class=\"row_heading level0 row3\" >3</th> \n",
       "        <td id=\"T_f7f6bd8c_48f8_11e9_8356_409f3864a092row3_col0\" class=\"data row3 col0\" >d- Kaspersky</td> \n",
       "        <td id=\"T_f7f6bd8c_48f8_11e9_8356_409f3864a092row3_col1\" class=\"data row3 col1\" >+++</td> \n",
       "        <td id=\"T_f7f6bd8c_48f8_11e9_8356_409f3864a092row3_col2\" class=\"data row3 col2\" >-</td> \n",
       "        <td id=\"T_f7f6bd8c_48f8_11e9_8356_409f3864a092row3_col3\" class=\"data row3 col3\" >+</td> \n",
       "        <td id=\"T_f7f6bd8c_48f8_11e9_8356_409f3864a092row3_col4\" class=\"data row3 col4\" >+</td> \n",
       "        <td id=\"T_f7f6bd8c_48f8_11e9_8356_409f3864a092row3_col5\" class=\"data row3 col5\" >13</td> \n",
       "    </tr>    <tr> \n",
       "        <th id=\"T_f7f6bd8c_48f8_11e9_8356_409f3864a092level0_row4\" class=\"row_heading level0 row4\" >4</th> \n",
       "        <td id=\"T_f7f6bd8c_48f8_11e9_8356_409f3864a092row4_col0\" class=\"data row4 col0\" >e- Keeper</td> \n",
       "        <td id=\"T_f7f6bd8c_48f8_11e9_8356_409f3864a092row4_col1\" class=\"data row4 col1\" >++</td> \n",
       "        <td id=\"T_f7f6bd8c_48f8_11e9_8356_409f3864a092row4_col2\" class=\"data row4 col2\" >+</td> \n",
       "        <td id=\"T_f7f6bd8c_48f8_11e9_8356_409f3864a092row4_col3\" class=\"data row4 col3\" >+</td> \n",
       "        <td id=\"T_f7f6bd8c_48f8_11e9_8356_409f3864a092row4_col4\" class=\"data row4 col4\" >+</td> \n",
       "        <td id=\"T_f7f6bd8c_48f8_11e9_8356_409f3864a092row4_col5\" class=\"data row4 col5\" >12.5</td> \n",
       "    </tr>    <tr> \n",
       "        <th id=\"T_f7f6bd8c_48f8_11e9_8356_409f3864a092level0_row5\" class=\"row_heading level0 row5\" >5</th> \n",
       "        <td id=\"T_f7f6bd8c_48f8_11e9_8356_409f3864a092row5_col0\" class=\"data row5 col0\" >f- 1Password</td> \n",
       "        <td id=\"T_f7f6bd8c_48f8_11e9_8356_409f3864a092row5_col1\" class=\"data row5 col1\" >++</td> \n",
       "        <td id=\"T_f7f6bd8c_48f8_11e9_8356_409f3864a092row5_col2\" class=\"data row5 col2\" >+</td> \n",
       "        <td id=\"T_f7f6bd8c_48f8_11e9_8356_409f3864a092row5_col3\" class=\"data row5 col3\" >++</td> \n",
       "        <td id=\"T_f7f6bd8c_48f8_11e9_8356_409f3864a092row5_col4\" class=\"data row5 col4\" >-</td> \n",
       "        <td id=\"T_f7f6bd8c_48f8_11e9_8356_409f3864a092row5_col5\" class=\"data row5 col5\" >12.5</td> \n",
       "    </tr>    <tr> \n",
       "        <th id=\"T_f7f6bd8c_48f8_11e9_8356_409f3864a092level0_row6\" class=\"row_heading level0 row6\" >6</th> \n",
       "        <td id=\"T_f7f6bd8c_48f8_11e9_8356_409f3864a092row6_col0\" class=\"data row6 col0\" >g- Enpass</td> \n",
       "        <td id=\"T_f7f6bd8c_48f8_11e9_8356_409f3864a092row6_col1\" class=\"data row6 col1\" >+</td> \n",
       "        <td id=\"T_f7f6bd8c_48f8_11e9_8356_409f3864a092row6_col2\" class=\"data row6 col2\" >-</td> \n",
       "        <td id=\"T_f7f6bd8c_48f8_11e9_8356_409f3864a092row6_col3\" class=\"data row6 col3\" >++</td> \n",
       "        <td id=\"T_f7f6bd8c_48f8_11e9_8356_409f3864a092row6_col4\" class=\"data row6 col4\" >-</td> \n",
       "        <td id=\"T_f7f6bd8c_48f8_11e9_8356_409f3864a092row6_col5\" class=\"data row6 col5\" >12</td> \n",
       "    </tr>    <tr> \n",
       "        <th id=\"T_f7f6bd8c_48f8_11e9_8356_409f3864a092level0_row7\" class=\"row_heading level0 row7\" >7</th> \n",
       "        <td id=\"T_f7f6bd8c_48f8_11e9_8356_409f3864a092row7_col0\" class=\"data row7 col0\" >h- Norton </td> \n",
       "        <td id=\"T_f7f6bd8c_48f8_11e9_8356_409f3864a092row7_col1\" class=\"data row7 col1\" >--</td> \n",
       "        <td id=\"T_f7f6bd8c_48f8_11e9_8356_409f3864a092row7_col2\" class=\"data row7 col2\" >+++</td> \n",
       "        <td id=\"T_f7f6bd8c_48f8_11e9_8356_409f3864a092row7_col3\" class=\"data row7 col3\" >-</td> \n",
       "        <td id=\"T_f7f6bd8c_48f8_11e9_8356_409f3864a092row7_col4\" class=\"data row7 col4\" >-</td> \n",
       "        <td id=\"T_f7f6bd8c_48f8_11e9_8356_409f3864a092row7_col5\" class=\"data row7 col5\" >11</td> \n",
       "    </tr>    <tr> \n",
       "        <th id=\"T_f7f6bd8c_48f8_11e9_8356_409f3864a092level0_row8\" class=\"row_heading level0 row8\" >8</th> \n",
       "        <td id=\"T_f7f6bd8c_48f8_11e9_8356_409f3864a092row8_col0\" class=\"data row8 col0\" >i- True Key</td> \n",
       "        <td id=\"T_f7f6bd8c_48f8_11e9_8356_409f3864a092row8_col1\" class=\"data row8 col1\" >+</td> \n",
       "        <td id=\"T_f7f6bd8c_48f8_11e9_8356_409f3864a092row8_col2\" class=\"data row8 col2\" >+</td> \n",
       "        <td id=\"T_f7f6bd8c_48f8_11e9_8356_409f3864a092row8_col3\" class=\"data row8 col3\" >--</td> \n",
       "        <td id=\"T_f7f6bd8c_48f8_11e9_8356_409f3864a092row8_col4\" class=\"data row8 col4\" >-</td> \n",
       "        <td id=\"T_f7f6bd8c_48f8_11e9_8356_409f3864a092row8_col5\" class=\"data row8 col5\" >9.5</td> \n",
       "    </tr>    <tr> \n",
       "        <th id=\"T_f7f6bd8c_48f8_11e9_8356_409f3864a092level0_row9\" class=\"row_heading level0 row9\" >9</th> \n",
       "        <td id=\"T_f7f6bd8c_48f8_11e9_8356_409f3864a092row9_col0\" class=\"data row9 col0\" >j- Avast</td> \n",
       "        <td id=\"T_f7f6bd8c_48f8_11e9_8356_409f3864a092row9_col1\" class=\"data row9 col1\" >++</td> \n",
       "        <td id=\"T_f7f6bd8c_48f8_11e9_8356_409f3864a092row9_col2\" class=\"data row9 col2\" >-</td> \n",
       "        <td id=\"T_f7f6bd8c_48f8_11e9_8356_409f3864a092row9_col3\" class=\"data row9 col3\" >-</td> \n",
       "        <td id=\"T_f7f6bd8c_48f8_11e9_8356_409f3864a092row9_col4\" class=\"data row9 col4\" >-</td> \n",
       "        <td id=\"T_f7f6bd8c_48f8_11e9_8356_409f3864a092row9_col5\" class=\"data row9 col5\" >9.5</td> \n",
       "    </tr></tbody> \n",
       "</table> <style  type=\"text/css\" >\n",
       "</style>  \n",
       "<table id=\"T_f7f6bd8d_48f8_11e9_b916_409f3864a092\" style='display:inline'><caption>Programme Lineaire - Classement Logiciels sans note</caption> \n",
       "<thead>    <tr> \n",
       "        <th class=\"blank level0\" ></th> \n",
       "        <th class=\"col_heading level0 col0\" >Produit</th> \n",
       "        <th class=\"col_heading level0 col1\" >Ordinateurs</th> \n",
       "        <th class=\"col_heading level0 col2\" >Mobiles</th> \n",
       "        <th class=\"col_heading level0 col3\" >Protection</th> \n",
       "        <th class=\"col_heading level0 col4\" >Aide</th> \n",
       "        <th class=\"col_heading level0 col5\" >Score</th> \n",
       "    </tr></thead> \n",
       "<tbody>    <tr> \n",
       "        <th id=\"T_f7f6bd8d_48f8_11e9_b916_409f3864a092level0_row0\" class=\"row_heading level0 row0\" >0</th> \n",
       "        <td id=\"T_f7f6bd8d_48f8_11e9_b916_409f3864a092row0_col0\" class=\"data row0 col0\" >a- Dashlane</td> \n",
       "        <td id=\"T_f7f6bd8d_48f8_11e9_b916_409f3864a092row0_col1\" class=\"data row0 col1\" >16.5</td> \n",
       "        <td id=\"T_f7f6bd8d_48f8_11e9_b916_409f3864a092row0_col2\" class=\"data row0 col2\" >13</td> \n",
       "        <td id=\"T_f7f6bd8d_48f8_11e9_b916_409f3864a092row0_col3\" class=\"data row0 col3\" >13</td> \n",
       "        <td id=\"T_f7f6bd8d_48f8_11e9_b916_409f3864a092row0_col4\" class=\"data row0 col4\" >13</td> \n",
       "        <td id=\"T_f7f6bd8d_48f8_11e9_b916_409f3864a092row0_col5\" class=\"data row0 col5\" >14.225</td> \n",
       "    </tr>    <tr> \n",
       "        <th id=\"T_f7f6bd8d_48f8_11e9_b916_409f3864a092level0_row1\" class=\"row_heading level0 row1\" >1</th> \n",
       "        <td id=\"T_f7f6bd8d_48f8_11e9_b916_409f3864a092row1_col0\" class=\"data row1 col0\" >b- LastPass</td> \n",
       "        <td id=\"T_f7f6bd8d_48f8_11e9_b916_409f3864a092row1_col1\" class=\"data row1 col1\" >17</td> \n",
       "        <td id=\"T_f7f6bd8d_48f8_11e9_b916_409f3864a092row1_col2\" class=\"data row1 col2\" >10</td> \n",
       "        <td id=\"T_f7f6bd8d_48f8_11e9_b916_409f3864a092row1_col3\" class=\"data row1 col3\" >10</td> \n",
       "        <td id=\"T_f7f6bd8d_48f8_11e9_b916_409f3864a092row1_col4\" class=\"data row1 col4\" >7</td> \n",
       "        <td id=\"T_f7f6bd8d_48f8_11e9_b916_409f3864a092row1_col5\" class=\"data row1 col5\" >12.15</td> \n",
       "    </tr>    <tr> \n",
       "        <th id=\"T_f7f6bd8d_48f8_11e9_b916_409f3864a092level0_row2\" class=\"row_heading level0 row2\" >2</th> \n",
       "        <td id=\"T_f7f6bd8d_48f8_11e9_b916_409f3864a092row2_col0\" class=\"data row2 col0\" >c- Roboform</td> \n",
       "        <td id=\"T_f7f6bd8d_48f8_11e9_b916_409f3864a092row2_col1\" class=\"data row2 col1\" >12</td> \n",
       "        <td id=\"T_f7f6bd8d_48f8_11e9_b916_409f3864a092row2_col2\" class=\"data row2 col2\" >13</td> \n",
       "        <td id=\"T_f7f6bd8d_48f8_11e9_b916_409f3864a092row2_col3\" class=\"data row2 col3\" >10</td> \n",
       "        <td id=\"T_f7f6bd8d_48f8_11e9_b916_409f3864a092row2_col4\" class=\"data row2 col4\" >7</td> \n",
       "        <td id=\"T_f7f6bd8d_48f8_11e9_b916_409f3864a092row2_col5\" class=\"data row2 col5\" >11.45</td> \n",
       "    </tr>    <tr> \n",
       "        <th id=\"T_f7f6bd8d_48f8_11e9_b916_409f3864a092level0_row3\" class=\"row_heading level0 row3\" >3</th> \n",
       "        <td id=\"T_f7f6bd8d_48f8_11e9_b916_409f3864a092row3_col0\" class=\"data row3 col0\" >d- Kaspersky</td> \n",
       "        <td id=\"T_f7f6bd8d_48f8_11e9_b916_409f3864a092row3_col1\" class=\"data row3 col1\" >17.1429</td> \n",
       "        <td id=\"T_f7f6bd8d_48f8_11e9_b916_409f3864a092row3_col2\" class=\"data row3 col2\" >7</td> \n",
       "        <td id=\"T_f7f6bd8d_48f8_11e9_b916_409f3864a092row3_col3\" class=\"data row3 col3\" >10</td> \n",
       "        <td id=\"T_f7f6bd8d_48f8_11e9_b916_409f3864a092row3_col4\" class=\"data row3 col4\" >10</td> \n",
       "        <td id=\"T_f7f6bd8d_48f8_11e9_b916_409f3864a092row3_col5\" class=\"data row3 col5\" >11.45</td> \n",
       "    </tr>    <tr> \n",
       "        <th id=\"T_f7f6bd8d_48f8_11e9_b916_409f3864a092level0_row4\" class=\"row_heading level0 row4\" >4</th> \n",
       "        <td id=\"T_f7f6bd8d_48f8_11e9_b916_409f3864a092row4_col0\" class=\"data row4 col0\" >e- Keeper</td> \n",
       "        <td id=\"T_f7f6bd8d_48f8_11e9_b916_409f3864a092row4_col1\" class=\"data row4 col1\" >13.8571</td> \n",
       "        <td id=\"T_f7f6bd8d_48f8_11e9_b916_409f3864a092row4_col2\" class=\"data row4 col2\" >10</td> \n",
       "        <td id=\"T_f7f6bd8d_48f8_11e9_b916_409f3864a092row4_col3\" class=\"data row4 col3\" >10</td> \n",
       "        <td id=\"T_f7f6bd8d_48f8_11e9_b916_409f3864a092row4_col4\" class=\"data row4 col4\" >10</td> \n",
       "        <td id=\"T_f7f6bd8d_48f8_11e9_b916_409f3864a092row4_col5\" class=\"data row4 col5\" >11.35</td> \n",
       "    </tr>    <tr> \n",
       "        <th id=\"T_f7f6bd8d_48f8_11e9_b916_409f3864a092level0_row5\" class=\"row_heading level0 row5\" >5</th> \n",
       "        <td id=\"T_f7f6bd8d_48f8_11e9_b916_409f3864a092row5_col0\" class=\"data row5 col0\" >f- 1Password</td> \n",
       "        <td id=\"T_f7f6bd8d_48f8_11e9_b916_409f3864a092row5_col1\" class=\"data row5 col1\" >13</td> \n",
       "        <td id=\"T_f7f6bd8d_48f8_11e9_b916_409f3864a092row5_col2\" class=\"data row5 col2\" >10</td> \n",
       "        <td id=\"T_f7f6bd8d_48f8_11e9_b916_409f3864a092row5_col3\" class=\"data row5 col3\" >13</td> \n",
       "        <td id=\"T_f7f6bd8d_48f8_11e9_b916_409f3864a092row5_col4\" class=\"data row5 col4\" >7</td> \n",
       "        <td id=\"T_f7f6bd8d_48f8_11e9_b916_409f3864a092row5_col5\" class=\"data row5 col5\" >11.35</td> \n",
       "    </tr>    <tr> \n",
       "        <th id=\"T_f7f6bd8d_48f8_11e9_b916_409f3864a092level0_row6\" class=\"row_heading level0 row6\" >6</th> \n",
       "        <td id=\"T_f7f6bd8d_48f8_11e9_b916_409f3864a092row6_col0\" class=\"data row6 col0\" >g- Enpass</td> \n",
       "        <td id=\"T_f7f6bd8d_48f8_11e9_b916_409f3864a092row6_col1\" class=\"data row6 col1\" >10.1429</td> \n",
       "        <td id=\"T_f7f6bd8d_48f8_11e9_b916_409f3864a092row6_col2\" class=\"data row6 col2\" >7</td> \n",
       "        <td id=\"T_f7f6bd8d_48f8_11e9_b916_409f3864a092row6_col3\" class=\"data row6 col3\" >13</td> \n",
       "        <td id=\"T_f7f6bd8d_48f8_11e9_b916_409f3864a092row6_col4\" class=\"data row6 col4\" >7</td> \n",
       "        <td id=\"T_f7f6bd8d_48f8_11e9_b916_409f3864a092row6_col5\" class=\"data row6 col5\" >9.3</td> \n",
       "    </tr>    <tr> \n",
       "        <th id=\"T_f7f6bd8d_48f8_11e9_b916_409f3864a092level0_row7\" class=\"row_heading level0 row7\" >7</th> \n",
       "        <td id=\"T_f7f6bd8d_48f8_11e9_b916_409f3864a092row7_col0\" class=\"data row7 col0\" >h- Norton </td> \n",
       "        <td id=\"T_f7f6bd8d_48f8_11e9_b916_409f3864a092row7_col1\" class=\"data row7 col1\" >3.28571</td> \n",
       "        <td id=\"T_f7f6bd8d_48f8_11e9_b916_409f3864a092row7_col2\" class=\"data row7 col2\" >17</td> \n",
       "        <td id=\"T_f7f6bd8d_48f8_11e9_b916_409f3864a092row7_col3\" class=\"data row7 col3\" >7</td> \n",
       "        <td id=\"T_f7f6bd8d_48f8_11e9_b916_409f3864a092row7_col4\" class=\"data row7 col4\" >7</td> \n",
       "        <td id=\"T_f7f6bd8d_48f8_11e9_b916_409f3864a092row7_col5\" class=\"data row7 col5\" >9.2</td> \n",
       "    </tr>    <tr> \n",
       "        <th id=\"T_f7f6bd8d_48f8_11e9_b916_409f3864a092level0_row8\" class=\"row_heading level0 row8\" >8</th> \n",
       "        <td id=\"T_f7f6bd8d_48f8_11e9_b916_409f3864a092row8_col0\" class=\"data row8 col0\" >i- True Key</td> \n",
       "        <td id=\"T_f7f6bd8d_48f8_11e9_b916_409f3864a092row8_col1\" class=\"data row8 col1\" >11.5</td> \n",
       "        <td id=\"T_f7f6bd8d_48f8_11e9_b916_409f3864a092row8_col2\" class=\"data row8 col2\" >12.5</td> \n",
       "        <td id=\"T_f7f6bd8d_48f8_11e9_b916_409f3864a092row8_col3\" class=\"data row8 col3\" >0</td> \n",
       "        <td id=\"T_f7f6bd8d_48f8_11e9_b916_409f3864a092row8_col4\" class=\"data row8 col4\" >7</td> \n",
       "        <td id=\"T_f7f6bd8d_48f8_11e9_b916_409f3864a092row8_col5\" class=\"data row8 col5\" >9.1</td> \n",
       "    </tr>    <tr> \n",
       "        <th id=\"T_f7f6bd8d_48f8_11e9_b916_409f3864a092level0_row9\" class=\"row_heading level0 row9\" >9</th> \n",
       "        <td id=\"T_f7f6bd8d_48f8_11e9_b916_409f3864a092row9_col0\" class=\"data row9 col0\" >j- Avast</td> \n",
       "        <td id=\"T_f7f6bd8d_48f8_11e9_b916_409f3864a092row9_col1\" class=\"data row9 col1\" >13</td> \n",
       "        <td id=\"T_f7f6bd8d_48f8_11e9_b916_409f3864a092row9_col2\" class=\"data row9 col2\" >7</td> \n",
       "        <td id=\"T_f7f6bd8d_48f8_11e9_b916_409f3864a092row9_col3\" class=\"data row9 col3\" >7</td> \n",
       "        <td id=\"T_f7f6bd8d_48f8_11e9_b916_409f3864a092row9_col4\" class=\"data row9 col4\" >7</td> \n",
       "        <td id=\"T_f7f6bd8d_48f8_11e9_b916_409f3864a092row9_col5\" class=\"data row9 col5\" >9.1</td> \n",
       "    </tr></tbody> \n",
       "</table> "
      ]
     },
     "metadata": {},
     "output_type": "display_data"
    }
   ],
   "source": [
    "df1_s = result_original.style.set_table_attributes(\"style='display:inline'\").set_caption('Modèle original')\n",
    "df2_s = result_2_2.style.set_table_attributes(\"style='display:inline'\").set_caption(model_name_2)\n",
    "\n",
    "display_html(df1_s._repr_html_()+df2_s._repr_html_(), raw=True)"
   ]
  },
  {
   "cell_type": "code",
   "execution_count": 7,
   "metadata": {
    "tags": [
     "remove_cell"
    ]
   },
   "outputs": [],
   "source": [
    "%%capture\n",
    "dict_max_x1 = compareRankings(result_original['Score'], result_2_2['Score'])\n",
    "exportInExcel(export_name, 'Q2.2',\n",
    "    [result_original, result_2_2],\n",
    "    ['Modèle Original',model_name_2],\n",
    "    [dict_max_x1])\n"
   ]
  },
  {
   "cell_type": "code",
   "execution_count": 8,
   "metadata": {
    "scrolled": true,
    "tags": [
     "remove_cell"
    ]
   },
   "outputs": [
    {
     "name": "stdout",
     "output_type": "stream",
     "text": [
      "Classement sans notes affectées\n"
     ]
    },
    {
     "data": {
      "text/html": [
       "<table border=\"1\"><tr><th>coef - Spearman</th><td>1.0</td></tr><tr><th>p - Spearman</th><td>0.0</td></tr><tr><th>tau - Kendall</th><td>1.0</td></tr><tr><th>p_val - Kendall</th><td>0.00011962061549188025</td></tr><tr><th>Diff Moyenne</th><td>-1.3325000000000002</td></tr></table>"
      ],
      "text/plain": [
       "<IPython.core.display.HTML object>"
      ]
     },
     "metadata": {},
     "output_type": "display_data"
    }
   ],
   "source": [
    "print(\"Classement sans notes affectées\")\n",
    "display(HTML(json2html.convert(json = dict_max_x1)))"
   ]
  },
  {
   "cell_type": "markdown",
   "metadata": {},
   "source": [
    "#### Commentaires"
   ]
  },
  {
   "cell_type": "markdown",
   "metadata": {},
   "source": [
    "Nous avons simplement considéré que chaque note pouvait aller de 0 à 20. L’ordre des notes affichées par le magazine étant cependant toujours respecté (Dashlane doit avoir une note supérieure à LastPass, etc…). Nous avons testé le programme sous ces nouvelles conditions et avons obtenu une solution réalisable. Cela signifie donc que sous ces conditions, les scores obtenus pour chaque logiciels peuvent être modélisés par un modèle de sommes pondérées selon les 4 critères énoncés (Utilisation sur ordinateurs, Utilisation sur appareils mobiles, Protection du gestionnaire et conseils de sécurité, Aide à l'utilisation). Les notes ne sont cependant pas les mêmes que celles affichées par le magazine. Des marques comme Norton ou Enpass passent sous la moyenne.\n"
   ]
  },
  {
   "cell_type": "markdown",
   "metadata": {},
   "source": [
    "### 2.1 Modifications des contraintes, Maximisation et minimisations des contraintes"
   ]
  },
  {
   "cell_type": "markdown",
   "metadata": {},
   "source": [
    "\n",
    "\n",
    "Après cela, nous avons cherché à savoir comment évoluait le classement s’il on supprimait les contraintes d’égalité des logiciels ayant la même note dans le classement du magazine. Comme dans la partie précédente, nous avons cherché à maximiser et minimiser les scores des produits extrêmes (Dashlane et Avast),en modifiant les contraintes d'égalité C13 C15 et C19. \n"
   ]
  },
  {
   "cell_type": "code",
   "execution_count": 9,
   "metadata": {
    "tags": [
     "remove_cell"
    ]
   },
   "outputs": [],
   "source": [
    "#On retire les contraintes d'égalités de score des logiciels\n",
    "update_model_test = createUpdateModel([], ['c13', 'c15', 'c19']) #c13 pour y3 = y4, c15 pour y5 = y6 et c19 pour y9 = 10\n",
    "\n",
    "\n",
    "model_name_test = 'Programme Lineaire - Meilleur score Dashlane'\n",
    "result_test_max = checkAdditiveModel(csv_name=csv_name,\n",
    "                  model_name=model_name_test,\n",
    "                  eval_expr='y1',\n",
    "                  direction='max',\n",
    "                  update_model=update_model_test)"
   ]
  },
  {
   "cell_type": "code",
   "execution_count": 10,
   "metadata": {
    "tags": [
     "remove_cell"
    ]
   },
   "outputs": [],
   "source": [
    "%%capture\n",
    "df1_s = result_original.style.set_table_attributes(\"style='display:inline'\").set_caption('Modèle original')\n",
    "df2_s = result_test_max.style.set_table_attributes(\"style='display:inline'\").set_caption(model_name_test)\n",
    "dict_max_y1 = compareRankings(result_original['Score'], result_test_max['Score'])"
   ]
  },
  {
   "cell_type": "code",
   "execution_count": 11,
   "metadata": {
    "tags": [
     "remove_cell"
    ]
   },
   "outputs": [
    {
     "data": {
      "text/html": [
       "<style  type=\"text/css\" >\n",
       "</style>  \n",
       "<table id=\"T_f8455586_48f8_11e9_a8cc_409f3864a092\" style='display:inline'><caption>Modèle original</caption> \n",
       "<thead>    <tr> \n",
       "        <th class=\"blank level0\" ></th> \n",
       "        <th class=\"col_heading level0 col0\" >Produit</th> \n",
       "        <th class=\"col_heading level0 col1\" >Ordinateurs</th> \n",
       "        <th class=\"col_heading level0 col2\" >Mobiles</th> \n",
       "        <th class=\"col_heading level0 col3\" >Protection</th> \n",
       "        <th class=\"col_heading level0 col4\" >Aide</th> \n",
       "        <th class=\"col_heading level0 col5\" >Score</th> \n",
       "    </tr></thead> \n",
       "<tbody>    <tr> \n",
       "        <th id=\"T_f8455586_48f8_11e9_a8cc_409f3864a092level0_row0\" class=\"row_heading level0 row0\" >0</th> \n",
       "        <td id=\"T_f8455586_48f8_11e9_a8cc_409f3864a092row0_col0\" class=\"data row0 col0\" >a- Dashlane</td> \n",
       "        <td id=\"T_f8455586_48f8_11e9_a8cc_409f3864a092row0_col1\" class=\"data row0 col1\" >++</td> \n",
       "        <td id=\"T_f8455586_48f8_11e9_a8cc_409f3864a092row0_col2\" class=\"data row0 col2\" >++</td> \n",
       "        <td id=\"T_f8455586_48f8_11e9_a8cc_409f3864a092row0_col3\" class=\"data row0 col3\" >++</td> \n",
       "        <td id=\"T_f8455586_48f8_11e9_a8cc_409f3864a092row0_col4\" class=\"data row0 col4\" >++</td> \n",
       "        <td id=\"T_f8455586_48f8_11e9_a8cc_409f3864a092row0_col5\" class=\"data row0 col5\" >15</td> \n",
       "    </tr>    <tr> \n",
       "        <th id=\"T_f8455586_48f8_11e9_a8cc_409f3864a092level0_row1\" class=\"row_heading level0 row1\" >1</th> \n",
       "        <td id=\"T_f8455586_48f8_11e9_a8cc_409f3864a092row1_col0\" class=\"data row1 col0\" >b- LastPass</td> \n",
       "        <td id=\"T_f8455586_48f8_11e9_a8cc_409f3864a092row1_col1\" class=\"data row1 col1\" >+++</td> \n",
       "        <td id=\"T_f8455586_48f8_11e9_a8cc_409f3864a092row1_col2\" class=\"data row1 col2\" >+</td> \n",
       "        <td id=\"T_f8455586_48f8_11e9_a8cc_409f3864a092row1_col3\" class=\"data row1 col3\" >+</td> \n",
       "        <td id=\"T_f8455586_48f8_11e9_a8cc_409f3864a092row1_col4\" class=\"data row1 col4\" >-</td> \n",
       "        <td id=\"T_f8455586_48f8_11e9_a8cc_409f3864a092row1_col5\" class=\"data row1 col5\" >14</td> \n",
       "    </tr>    <tr> \n",
       "        <th id=\"T_f8455586_48f8_11e9_a8cc_409f3864a092level0_row2\" class=\"row_heading level0 row2\" >2</th> \n",
       "        <td id=\"T_f8455586_48f8_11e9_a8cc_409f3864a092row2_col0\" class=\"data row2 col0\" >c- Roboform</td> \n",
       "        <td id=\"T_f8455586_48f8_11e9_a8cc_409f3864a092row2_col1\" class=\"data row2 col1\" >+</td> \n",
       "        <td id=\"T_f8455586_48f8_11e9_a8cc_409f3864a092row2_col2\" class=\"data row2 col2\" >++</td> \n",
       "        <td id=\"T_f8455586_48f8_11e9_a8cc_409f3864a092row2_col3\" class=\"data row2 col3\" >+</td> \n",
       "        <td id=\"T_f8455586_48f8_11e9_a8cc_409f3864a092row2_col4\" class=\"data row2 col4\" >-</td> \n",
       "        <td id=\"T_f8455586_48f8_11e9_a8cc_409f3864a092row2_col5\" class=\"data row2 col5\" >13</td> \n",
       "    </tr>    <tr> \n",
       "        <th id=\"T_f8455586_48f8_11e9_a8cc_409f3864a092level0_row3\" class=\"row_heading level0 row3\" >3</th> \n",
       "        <td id=\"T_f8455586_48f8_11e9_a8cc_409f3864a092row3_col0\" class=\"data row3 col0\" >d- Kaspersky</td> \n",
       "        <td id=\"T_f8455586_48f8_11e9_a8cc_409f3864a092row3_col1\" class=\"data row3 col1\" >+++</td> \n",
       "        <td id=\"T_f8455586_48f8_11e9_a8cc_409f3864a092row3_col2\" class=\"data row3 col2\" >-</td> \n",
       "        <td id=\"T_f8455586_48f8_11e9_a8cc_409f3864a092row3_col3\" class=\"data row3 col3\" >+</td> \n",
       "        <td id=\"T_f8455586_48f8_11e9_a8cc_409f3864a092row3_col4\" class=\"data row3 col4\" >+</td> \n",
       "        <td id=\"T_f8455586_48f8_11e9_a8cc_409f3864a092row3_col5\" class=\"data row3 col5\" >13</td> \n",
       "    </tr>    <tr> \n",
       "        <th id=\"T_f8455586_48f8_11e9_a8cc_409f3864a092level0_row4\" class=\"row_heading level0 row4\" >4</th> \n",
       "        <td id=\"T_f8455586_48f8_11e9_a8cc_409f3864a092row4_col0\" class=\"data row4 col0\" >e- Keeper</td> \n",
       "        <td id=\"T_f8455586_48f8_11e9_a8cc_409f3864a092row4_col1\" class=\"data row4 col1\" >++</td> \n",
       "        <td id=\"T_f8455586_48f8_11e9_a8cc_409f3864a092row4_col2\" class=\"data row4 col2\" >+</td> \n",
       "        <td id=\"T_f8455586_48f8_11e9_a8cc_409f3864a092row4_col3\" class=\"data row4 col3\" >+</td> \n",
       "        <td id=\"T_f8455586_48f8_11e9_a8cc_409f3864a092row4_col4\" class=\"data row4 col4\" >+</td> \n",
       "        <td id=\"T_f8455586_48f8_11e9_a8cc_409f3864a092row4_col5\" class=\"data row4 col5\" >12.5</td> \n",
       "    </tr>    <tr> \n",
       "        <th id=\"T_f8455586_48f8_11e9_a8cc_409f3864a092level0_row5\" class=\"row_heading level0 row5\" >5</th> \n",
       "        <td id=\"T_f8455586_48f8_11e9_a8cc_409f3864a092row5_col0\" class=\"data row5 col0\" >f- 1Password</td> \n",
       "        <td id=\"T_f8455586_48f8_11e9_a8cc_409f3864a092row5_col1\" class=\"data row5 col1\" >++</td> \n",
       "        <td id=\"T_f8455586_48f8_11e9_a8cc_409f3864a092row5_col2\" class=\"data row5 col2\" >+</td> \n",
       "        <td id=\"T_f8455586_48f8_11e9_a8cc_409f3864a092row5_col3\" class=\"data row5 col3\" >++</td> \n",
       "        <td id=\"T_f8455586_48f8_11e9_a8cc_409f3864a092row5_col4\" class=\"data row5 col4\" >-</td> \n",
       "        <td id=\"T_f8455586_48f8_11e9_a8cc_409f3864a092row5_col5\" class=\"data row5 col5\" >12.5</td> \n",
       "    </tr>    <tr> \n",
       "        <th id=\"T_f8455586_48f8_11e9_a8cc_409f3864a092level0_row6\" class=\"row_heading level0 row6\" >6</th> \n",
       "        <td id=\"T_f8455586_48f8_11e9_a8cc_409f3864a092row6_col0\" class=\"data row6 col0\" >g- Enpass</td> \n",
       "        <td id=\"T_f8455586_48f8_11e9_a8cc_409f3864a092row6_col1\" class=\"data row6 col1\" >+</td> \n",
       "        <td id=\"T_f8455586_48f8_11e9_a8cc_409f3864a092row6_col2\" class=\"data row6 col2\" >-</td> \n",
       "        <td id=\"T_f8455586_48f8_11e9_a8cc_409f3864a092row6_col3\" class=\"data row6 col3\" >++</td> \n",
       "        <td id=\"T_f8455586_48f8_11e9_a8cc_409f3864a092row6_col4\" class=\"data row6 col4\" >-</td> \n",
       "        <td id=\"T_f8455586_48f8_11e9_a8cc_409f3864a092row6_col5\" class=\"data row6 col5\" >12</td> \n",
       "    </tr>    <tr> \n",
       "        <th id=\"T_f8455586_48f8_11e9_a8cc_409f3864a092level0_row7\" class=\"row_heading level0 row7\" >7</th> \n",
       "        <td id=\"T_f8455586_48f8_11e9_a8cc_409f3864a092row7_col0\" class=\"data row7 col0\" >h- Norton </td> \n",
       "        <td id=\"T_f8455586_48f8_11e9_a8cc_409f3864a092row7_col1\" class=\"data row7 col1\" >--</td> \n",
       "        <td id=\"T_f8455586_48f8_11e9_a8cc_409f3864a092row7_col2\" class=\"data row7 col2\" >+++</td> \n",
       "        <td id=\"T_f8455586_48f8_11e9_a8cc_409f3864a092row7_col3\" class=\"data row7 col3\" >-</td> \n",
       "        <td id=\"T_f8455586_48f8_11e9_a8cc_409f3864a092row7_col4\" class=\"data row7 col4\" >-</td> \n",
       "        <td id=\"T_f8455586_48f8_11e9_a8cc_409f3864a092row7_col5\" class=\"data row7 col5\" >11</td> \n",
       "    </tr>    <tr> \n",
       "        <th id=\"T_f8455586_48f8_11e9_a8cc_409f3864a092level0_row8\" class=\"row_heading level0 row8\" >8</th> \n",
       "        <td id=\"T_f8455586_48f8_11e9_a8cc_409f3864a092row8_col0\" class=\"data row8 col0\" >i- True Key</td> \n",
       "        <td id=\"T_f8455586_48f8_11e9_a8cc_409f3864a092row8_col1\" class=\"data row8 col1\" >+</td> \n",
       "        <td id=\"T_f8455586_48f8_11e9_a8cc_409f3864a092row8_col2\" class=\"data row8 col2\" >+</td> \n",
       "        <td id=\"T_f8455586_48f8_11e9_a8cc_409f3864a092row8_col3\" class=\"data row8 col3\" >--</td> \n",
       "        <td id=\"T_f8455586_48f8_11e9_a8cc_409f3864a092row8_col4\" class=\"data row8 col4\" >-</td> \n",
       "        <td id=\"T_f8455586_48f8_11e9_a8cc_409f3864a092row8_col5\" class=\"data row8 col5\" >9.5</td> \n",
       "    </tr>    <tr> \n",
       "        <th id=\"T_f8455586_48f8_11e9_a8cc_409f3864a092level0_row9\" class=\"row_heading level0 row9\" >9</th> \n",
       "        <td id=\"T_f8455586_48f8_11e9_a8cc_409f3864a092row9_col0\" class=\"data row9 col0\" >j- Avast</td> \n",
       "        <td id=\"T_f8455586_48f8_11e9_a8cc_409f3864a092row9_col1\" class=\"data row9 col1\" >++</td> \n",
       "        <td id=\"T_f8455586_48f8_11e9_a8cc_409f3864a092row9_col2\" class=\"data row9 col2\" >-</td> \n",
       "        <td id=\"T_f8455586_48f8_11e9_a8cc_409f3864a092row9_col3\" class=\"data row9 col3\" >-</td> \n",
       "        <td id=\"T_f8455586_48f8_11e9_a8cc_409f3864a092row9_col4\" class=\"data row9 col4\" >-</td> \n",
       "        <td id=\"T_f8455586_48f8_11e9_a8cc_409f3864a092row9_col5\" class=\"data row9 col5\" >9.5</td> \n",
       "    </tr></tbody> \n",
       "</table> <style  type=\"text/css\" >\n",
       "</style>  \n",
       "<table id=\"T_f8466640_48f8_11e9_bb82_409f3864a092\" style='display:inline'><caption>Programme Lineaire - Meilleur score Dashlane</caption> \n",
       "<thead>    <tr> \n",
       "        <th class=\"blank level0\" ></th> \n",
       "        <th class=\"col_heading level0 col0\" >Produit</th> \n",
       "        <th class=\"col_heading level0 col1\" >Ordinateurs</th> \n",
       "        <th class=\"col_heading level0 col2\" >Mobiles</th> \n",
       "        <th class=\"col_heading level0 col3\" >Protection</th> \n",
       "        <th class=\"col_heading level0 col4\" >Aide</th> \n",
       "        <th class=\"col_heading level0 col5\" >Score</th> \n",
       "    </tr></thead> \n",
       "<tbody>    <tr> \n",
       "        <th id=\"T_f8466640_48f8_11e9_bb82_409f3864a092level0_row0\" class=\"row_heading level0 row0\" >0</th> \n",
       "        <td id=\"T_f8466640_48f8_11e9_bb82_409f3864a092row0_col0\" class=\"data row0 col0\" >a- Dashlane</td> \n",
       "        <td id=\"T_f8466640_48f8_11e9_bb82_409f3864a092row0_col1\" class=\"data row0 col1\" >16.5</td> \n",
       "        <td id=\"T_f8466640_48f8_11e9_bb82_409f3864a092row0_col2\" class=\"data row0 col2\" >16.5</td> \n",
       "        <td id=\"T_f8466640_48f8_11e9_bb82_409f3864a092row0_col3\" class=\"data row0 col3\" >16.5</td> \n",
       "        <td id=\"T_f8466640_48f8_11e9_bb82_409f3864a092row0_col4\" class=\"data row0 col4\" >16.5</td> \n",
       "        <td id=\"T_f8466640_48f8_11e9_bb82_409f3864a092row0_col5\" class=\"data row0 col5\" >16.5</td> \n",
       "    </tr>    <tr> \n",
       "        <th id=\"T_f8466640_48f8_11e9_bb82_409f3864a092level0_row1\" class=\"row_heading level0 row1\" >1</th> \n",
       "        <td id=\"T_f8466640_48f8_11e9_bb82_409f3864a092row1_col0\" class=\"data row1 col0\" >b- LastPass</td> \n",
       "        <td id=\"T_f8466640_48f8_11e9_bb82_409f3864a092row1_col1\" class=\"data row1 col1\" >17</td> \n",
       "        <td id=\"T_f8466640_48f8_11e9_bb82_409f3864a092row1_col2\" class=\"data row1 col2\" >10</td> \n",
       "        <td id=\"T_f8466640_48f8_11e9_bb82_409f3864a092row1_col3\" class=\"data row1 col3\" >10</td> \n",
       "        <td id=\"T_f8466640_48f8_11e9_bb82_409f3864a092row1_col4\" class=\"data row1 col4\" >7</td> \n",
       "        <td id=\"T_f8466640_48f8_11e9_bb82_409f3864a092row1_col5\" class=\"data row1 col5\" >12.15</td> \n",
       "    </tr>    <tr> \n",
       "        <th id=\"T_f8466640_48f8_11e9_bb82_409f3864a092level0_row2\" class=\"row_heading level0 row2\" >2</th> \n",
       "        <td id=\"T_f8466640_48f8_11e9_bb82_409f3864a092row2_col0\" class=\"data row2 col0\" >c- Roboform</td> \n",
       "        <td id=\"T_f8466640_48f8_11e9_bb82_409f3864a092row2_col1\" class=\"data row2 col1\" >10</td> \n",
       "        <td id=\"T_f8466640_48f8_11e9_bb82_409f3864a092row2_col2\" class=\"data row2 col2\" >13</td> \n",
       "        <td id=\"T_f8466640_48f8_11e9_bb82_409f3864a092row2_col3\" class=\"data row2 col3\" >10</td> \n",
       "        <td id=\"T_f8466640_48f8_11e9_bb82_409f3864a092row2_col4\" class=\"data row2 col4\" >7</td> \n",
       "        <td id=\"T_f8466640_48f8_11e9_bb82_409f3864a092row2_col5\" class=\"data row2 col5\" >10.75</td> \n",
       "    </tr>    <tr> \n",
       "        <th id=\"T_f8466640_48f8_11e9_bb82_409f3864a092level0_row3\" class=\"row_heading level0 row3\" >3</th> \n",
       "        <td id=\"T_f8466640_48f8_11e9_bb82_409f3864a092row3_col0\" class=\"data row3 col0\" >d- Kaspersky</td> \n",
       "        <td id=\"T_f8466640_48f8_11e9_bb82_409f3864a092row3_col1\" class=\"data row3 col1\" >17</td> \n",
       "        <td id=\"T_f8466640_48f8_11e9_bb82_409f3864a092row3_col2\" class=\"data row3 col2\" >7</td> \n",
       "        <td id=\"T_f8466640_48f8_11e9_bb82_409f3864a092row3_col3\" class=\"data row3 col3\" >10</td> \n",
       "        <td id=\"T_f8466640_48f8_11e9_bb82_409f3864a092row3_col4\" class=\"data row3 col4\" >10</td> \n",
       "        <td id=\"T_f8466640_48f8_11e9_bb82_409f3864a092row3_col5\" class=\"data row3 col5\" >11.4</td> \n",
       "    </tr>    <tr> \n",
       "        <th id=\"T_f8466640_48f8_11e9_bb82_409f3864a092level0_row4\" class=\"row_heading level0 row4\" >4</th> \n",
       "        <td id=\"T_f8466640_48f8_11e9_bb82_409f3864a092row4_col0\" class=\"data row4 col0\" >e- Keeper</td> \n",
       "        <td id=\"T_f8466640_48f8_11e9_bb82_409f3864a092row4_col1\" class=\"data row4 col1\" >13</td> \n",
       "        <td id=\"T_f8466640_48f8_11e9_bb82_409f3864a092row4_col2\" class=\"data row4 col2\" >10</td> \n",
       "        <td id=\"T_f8466640_48f8_11e9_bb82_409f3864a092row4_col3\" class=\"data row4 col3\" >10</td> \n",
       "        <td id=\"T_f8466640_48f8_11e9_bb82_409f3864a092row4_col4\" class=\"data row4 col4\" >10</td> \n",
       "        <td id=\"T_f8466640_48f8_11e9_bb82_409f3864a092row4_col5\" class=\"data row4 col5\" >11.05</td> \n",
       "    </tr>    <tr> \n",
       "        <th id=\"T_f8466640_48f8_11e9_bb82_409f3864a092level0_row5\" class=\"row_heading level0 row5\" >5</th> \n",
       "        <td id=\"T_f8466640_48f8_11e9_bb82_409f3864a092row5_col0\" class=\"data row5 col0\" >f- 1Password</td> \n",
       "        <td id=\"T_f8466640_48f8_11e9_bb82_409f3864a092row5_col1\" class=\"data row5 col1\" >13</td> \n",
       "        <td id=\"T_f8466640_48f8_11e9_bb82_409f3864a092row5_col2\" class=\"data row5 col2\" >10</td> \n",
       "        <td id=\"T_f8466640_48f8_11e9_bb82_409f3864a092row5_col3\" class=\"data row5 col3\" >13</td> \n",
       "        <td id=\"T_f8466640_48f8_11e9_bb82_409f3864a092row5_col4\" class=\"data row5 col4\" >7</td> \n",
       "        <td id=\"T_f8466640_48f8_11e9_bb82_409f3864a092row5_col5\" class=\"data row5 col5\" >11.35</td> \n",
       "    </tr>    <tr> \n",
       "        <th id=\"T_f8466640_48f8_11e9_bb82_409f3864a092level0_row6\" class=\"row_heading level0 row6\" >6</th> \n",
       "        <td id=\"T_f8466640_48f8_11e9_bb82_409f3864a092row6_col0\" class=\"data row6 col0\" >g- Enpass</td> \n",
       "        <td id=\"T_f8466640_48f8_11e9_bb82_409f3864a092row6_col1\" class=\"data row6 col1\" >10</td> \n",
       "        <td id=\"T_f8466640_48f8_11e9_bb82_409f3864a092row6_col2\" class=\"data row6 col2\" >7</td> \n",
       "        <td id=\"T_f8466640_48f8_11e9_bb82_409f3864a092row6_col3\" class=\"data row6 col3\" >13</td> \n",
       "        <td id=\"T_f8466640_48f8_11e9_bb82_409f3864a092row6_col4\" class=\"data row6 col4\" >7</td> \n",
       "        <td id=\"T_f8466640_48f8_11e9_bb82_409f3864a092row6_col5\" class=\"data row6 col5\" >9.25</td> \n",
       "    </tr>    <tr> \n",
       "        <th id=\"T_f8466640_48f8_11e9_bb82_409f3864a092level0_row7\" class=\"row_heading level0 row7\" >7</th> \n",
       "        <td id=\"T_f8466640_48f8_11e9_bb82_409f3864a092row7_col0\" class=\"data row7 col0\" >h- Norton </td> \n",
       "        <td id=\"T_f8466640_48f8_11e9_bb82_409f3864a092row7_col1\" class=\"data row7 col1\" >0</td> \n",
       "        <td id=\"T_f8466640_48f8_11e9_bb82_409f3864a092row7_col2\" class=\"data row7 col2\" >17</td> \n",
       "        <td id=\"T_f8466640_48f8_11e9_bb82_409f3864a092row7_col3\" class=\"data row7 col3\" >7</td> \n",
       "        <td id=\"T_f8466640_48f8_11e9_bb82_409f3864a092row7_col4\" class=\"data row7 col4\" >7</td> \n",
       "        <td id=\"T_f8466640_48f8_11e9_bb82_409f3864a092row7_col5\" class=\"data row7 col5\" >8.05</td> \n",
       "    </tr>    <tr> \n",
       "        <th id=\"T_f8466640_48f8_11e9_bb82_409f3864a092level0_row8\" class=\"row_heading level0 row8\" >8</th> \n",
       "        <td id=\"T_f8466640_48f8_11e9_bb82_409f3864a092row8_col0\" class=\"data row8 col0\" >i- True Key</td> \n",
       "        <td id=\"T_f8466640_48f8_11e9_bb82_409f3864a092row8_col1\" class=\"data row8 col1\" >10</td> \n",
       "        <td id=\"T_f8466640_48f8_11e9_bb82_409f3864a092row8_col2\" class=\"data row8 col2\" >10</td> \n",
       "        <td id=\"T_f8466640_48f8_11e9_bb82_409f3864a092row8_col3\" class=\"data row8 col3\" >0</td> \n",
       "        <td id=\"T_f8466640_48f8_11e9_bb82_409f3864a092row8_col4\" class=\"data row8 col4\" >7</td> \n",
       "        <td id=\"T_f8466640_48f8_11e9_bb82_409f3864a092row8_col5\" class=\"data row8 col5\" >7.7</td> \n",
       "    </tr>    <tr> \n",
       "        <th id=\"T_f8466640_48f8_11e9_bb82_409f3864a092level0_row9\" class=\"row_heading level0 row9\" >9</th> \n",
       "        <td id=\"T_f8466640_48f8_11e9_bb82_409f3864a092row9_col0\" class=\"data row9 col0\" >j- Avast</td> \n",
       "        <td id=\"T_f8466640_48f8_11e9_bb82_409f3864a092row9_col1\" class=\"data row9 col1\" >13</td> \n",
       "        <td id=\"T_f8466640_48f8_11e9_bb82_409f3864a092row9_col2\" class=\"data row9 col2\" >7</td> \n",
       "        <td id=\"T_f8466640_48f8_11e9_bb82_409f3864a092row9_col3\" class=\"data row9 col3\" >7</td> \n",
       "        <td id=\"T_f8466640_48f8_11e9_bb82_409f3864a092row9_col4\" class=\"data row9 col4\" >7</td> \n",
       "        <td id=\"T_f8466640_48f8_11e9_bb82_409f3864a092row9_col5\" class=\"data row9 col5\" >9.1</td> \n",
       "    </tr></tbody> \n",
       "</table> "
      ]
     },
     "metadata": {},
     "output_type": "display_data"
    },
    {
     "name": "stdout",
     "output_type": "stream",
     "text": [
      "Classement Max Dashlane\n"
     ]
    },
    {
     "data": {
      "text/html": [
       "<table border=\"1\"><tr><th>coef - Spearman</th><td>0.9235862696337803</td></tr><tr><th>p - Spearman</th><td>0.00013591680973240684</td></tr><tr><th>tau - Kendall</th><td>0.828078671210825</td></tr><tr><th>p_val - Kendall</th><td>0.0011169267142126383</td></tr><tr><th>Diff Moyenne</th><td>-1.4700000000000002</td></tr></table>"
      ],
      "text/plain": [
       "<IPython.core.display.HTML object>"
      ]
     },
     "metadata": {},
     "output_type": "display_data"
    }
   ],
   "source": [
    "display_html(df1_s._repr_html_()+df2_s._repr_html_(), raw=True)\n",
    "\n",
    "print(\"Classement Max Dashlane\")\n",
    "display(HTML(json2html.convert(json = dict_max_y1)))"
   ]
  },
  {
   "cell_type": "markdown",
   "metadata": {},
   "source": [
    "#### Commentaires"
   ]
  },
  {
   "cell_type": "markdown",
   "metadata": {},
   "source": [
    "Après avoir modifié les contraintes d'égalité entre les scores identiques, nous nous apercevons que l'ordre des produits change. Roboform, Keeper et True Key descende dans le classement. "
   ]
  },
  {
   "cell_type": "code",
   "execution_count": 12,
   "metadata": {
    "tags": [
     "remove_cell"
    ]
   },
   "outputs": [],
   "source": [
    "%%capture\n",
    "model_name_test2 = 'Programme Lineaire - Pire score Dashlane'\n",
    "result_test_min = checkAdditiveModel(csv_name=csv_name,\n",
    "                  model_name=model_name_test,\n",
    "                  eval_expr='y1',\n",
    "                  direction='min',\n",
    "                  update_model=update_model_test)\n",
    "\n",
    "\n",
    "dict_min_y1 = compareRankings(result_original['Score'], result_test_min['Score'])\n",
    "\n",
    "\n",
    "\n"
   ]
  },
  {
   "cell_type": "code",
   "execution_count": 13,
   "metadata": {
    "tags": [
     "remove_cell"
    ]
   },
   "outputs": [],
   "source": [
    "%%capture\n",
    "df1_s = result_original.style.set_table_attributes(\"style='display:inline'\").set_caption('Modèle original')\n",
    "df2_s = result_test_min.style.set_table_attributes(\"style='display:inline'\").set_caption(model_name_test2)\n",
    "dict_min_y1 = compareRankings(result_original['Score'], result_test_min['Score'])\n",
    "\n",
    "exportInExcel(export_name, 'Dashlane',\n",
    "             [result_original, result_test_max, result_test_min],\n",
    "             ['Modèle Original',model_name_test, model_name_test2],\n",
    "             [dict_max_y1,dict_min_y1])"
   ]
  },
  {
   "cell_type": "code",
   "execution_count": 14,
   "metadata": {
    "tags": [
     "remove_cell"
    ]
   },
   "outputs": [
    {
     "data": {
      "text/html": [
       "<style  type=\"text/css\" >\n",
       "</style>  \n",
       "<table id=\"T_f8953f70_48f8_11e9_8a14_409f3864a092\" style='display:inline'><caption>Modèle original</caption> \n",
       "<thead>    <tr> \n",
       "        <th class=\"blank level0\" ></th> \n",
       "        <th class=\"col_heading level0 col0\" >Produit</th> \n",
       "        <th class=\"col_heading level0 col1\" >Ordinateurs</th> \n",
       "        <th class=\"col_heading level0 col2\" >Mobiles</th> \n",
       "        <th class=\"col_heading level0 col3\" >Protection</th> \n",
       "        <th class=\"col_heading level0 col4\" >Aide</th> \n",
       "        <th class=\"col_heading level0 col5\" >Score</th> \n",
       "    </tr></thead> \n",
       "<tbody>    <tr> \n",
       "        <th id=\"T_f8953f70_48f8_11e9_8a14_409f3864a092level0_row0\" class=\"row_heading level0 row0\" >0</th> \n",
       "        <td id=\"T_f8953f70_48f8_11e9_8a14_409f3864a092row0_col0\" class=\"data row0 col0\" >a- Dashlane</td> \n",
       "        <td id=\"T_f8953f70_48f8_11e9_8a14_409f3864a092row0_col1\" class=\"data row0 col1\" >++</td> \n",
       "        <td id=\"T_f8953f70_48f8_11e9_8a14_409f3864a092row0_col2\" class=\"data row0 col2\" >++</td> \n",
       "        <td id=\"T_f8953f70_48f8_11e9_8a14_409f3864a092row0_col3\" class=\"data row0 col3\" >++</td> \n",
       "        <td id=\"T_f8953f70_48f8_11e9_8a14_409f3864a092row0_col4\" class=\"data row0 col4\" >++</td> \n",
       "        <td id=\"T_f8953f70_48f8_11e9_8a14_409f3864a092row0_col5\" class=\"data row0 col5\" >15</td> \n",
       "    </tr>    <tr> \n",
       "        <th id=\"T_f8953f70_48f8_11e9_8a14_409f3864a092level0_row1\" class=\"row_heading level0 row1\" >1</th> \n",
       "        <td id=\"T_f8953f70_48f8_11e9_8a14_409f3864a092row1_col0\" class=\"data row1 col0\" >b- LastPass</td> \n",
       "        <td id=\"T_f8953f70_48f8_11e9_8a14_409f3864a092row1_col1\" class=\"data row1 col1\" >+++</td> \n",
       "        <td id=\"T_f8953f70_48f8_11e9_8a14_409f3864a092row1_col2\" class=\"data row1 col2\" >+</td> \n",
       "        <td id=\"T_f8953f70_48f8_11e9_8a14_409f3864a092row1_col3\" class=\"data row1 col3\" >+</td> \n",
       "        <td id=\"T_f8953f70_48f8_11e9_8a14_409f3864a092row1_col4\" class=\"data row1 col4\" >-</td> \n",
       "        <td id=\"T_f8953f70_48f8_11e9_8a14_409f3864a092row1_col5\" class=\"data row1 col5\" >14</td> \n",
       "    </tr>    <tr> \n",
       "        <th id=\"T_f8953f70_48f8_11e9_8a14_409f3864a092level0_row2\" class=\"row_heading level0 row2\" >2</th> \n",
       "        <td id=\"T_f8953f70_48f8_11e9_8a14_409f3864a092row2_col0\" class=\"data row2 col0\" >c- Roboform</td> \n",
       "        <td id=\"T_f8953f70_48f8_11e9_8a14_409f3864a092row2_col1\" class=\"data row2 col1\" >+</td> \n",
       "        <td id=\"T_f8953f70_48f8_11e9_8a14_409f3864a092row2_col2\" class=\"data row2 col2\" >++</td> \n",
       "        <td id=\"T_f8953f70_48f8_11e9_8a14_409f3864a092row2_col3\" class=\"data row2 col3\" >+</td> \n",
       "        <td id=\"T_f8953f70_48f8_11e9_8a14_409f3864a092row2_col4\" class=\"data row2 col4\" >-</td> \n",
       "        <td id=\"T_f8953f70_48f8_11e9_8a14_409f3864a092row2_col5\" class=\"data row2 col5\" >13</td> \n",
       "    </tr>    <tr> \n",
       "        <th id=\"T_f8953f70_48f8_11e9_8a14_409f3864a092level0_row3\" class=\"row_heading level0 row3\" >3</th> \n",
       "        <td id=\"T_f8953f70_48f8_11e9_8a14_409f3864a092row3_col0\" class=\"data row3 col0\" >d- Kaspersky</td> \n",
       "        <td id=\"T_f8953f70_48f8_11e9_8a14_409f3864a092row3_col1\" class=\"data row3 col1\" >+++</td> \n",
       "        <td id=\"T_f8953f70_48f8_11e9_8a14_409f3864a092row3_col2\" class=\"data row3 col2\" >-</td> \n",
       "        <td id=\"T_f8953f70_48f8_11e9_8a14_409f3864a092row3_col3\" class=\"data row3 col3\" >+</td> \n",
       "        <td id=\"T_f8953f70_48f8_11e9_8a14_409f3864a092row3_col4\" class=\"data row3 col4\" >+</td> \n",
       "        <td id=\"T_f8953f70_48f8_11e9_8a14_409f3864a092row3_col5\" class=\"data row3 col5\" >13</td> \n",
       "    </tr>    <tr> \n",
       "        <th id=\"T_f8953f70_48f8_11e9_8a14_409f3864a092level0_row4\" class=\"row_heading level0 row4\" >4</th> \n",
       "        <td id=\"T_f8953f70_48f8_11e9_8a14_409f3864a092row4_col0\" class=\"data row4 col0\" >e- Keeper</td> \n",
       "        <td id=\"T_f8953f70_48f8_11e9_8a14_409f3864a092row4_col1\" class=\"data row4 col1\" >++</td> \n",
       "        <td id=\"T_f8953f70_48f8_11e9_8a14_409f3864a092row4_col2\" class=\"data row4 col2\" >+</td> \n",
       "        <td id=\"T_f8953f70_48f8_11e9_8a14_409f3864a092row4_col3\" class=\"data row4 col3\" >+</td> \n",
       "        <td id=\"T_f8953f70_48f8_11e9_8a14_409f3864a092row4_col4\" class=\"data row4 col4\" >+</td> \n",
       "        <td id=\"T_f8953f70_48f8_11e9_8a14_409f3864a092row4_col5\" class=\"data row4 col5\" >12.5</td> \n",
       "    </tr>    <tr> \n",
       "        <th id=\"T_f8953f70_48f8_11e9_8a14_409f3864a092level0_row5\" class=\"row_heading level0 row5\" >5</th> \n",
       "        <td id=\"T_f8953f70_48f8_11e9_8a14_409f3864a092row5_col0\" class=\"data row5 col0\" >f- 1Password</td> \n",
       "        <td id=\"T_f8953f70_48f8_11e9_8a14_409f3864a092row5_col1\" class=\"data row5 col1\" >++</td> \n",
       "        <td id=\"T_f8953f70_48f8_11e9_8a14_409f3864a092row5_col2\" class=\"data row5 col2\" >+</td> \n",
       "        <td id=\"T_f8953f70_48f8_11e9_8a14_409f3864a092row5_col3\" class=\"data row5 col3\" >++</td> \n",
       "        <td id=\"T_f8953f70_48f8_11e9_8a14_409f3864a092row5_col4\" class=\"data row5 col4\" >-</td> \n",
       "        <td id=\"T_f8953f70_48f8_11e9_8a14_409f3864a092row5_col5\" class=\"data row5 col5\" >12.5</td> \n",
       "    </tr>    <tr> \n",
       "        <th id=\"T_f8953f70_48f8_11e9_8a14_409f3864a092level0_row6\" class=\"row_heading level0 row6\" >6</th> \n",
       "        <td id=\"T_f8953f70_48f8_11e9_8a14_409f3864a092row6_col0\" class=\"data row6 col0\" >g- Enpass</td> \n",
       "        <td id=\"T_f8953f70_48f8_11e9_8a14_409f3864a092row6_col1\" class=\"data row6 col1\" >+</td> \n",
       "        <td id=\"T_f8953f70_48f8_11e9_8a14_409f3864a092row6_col2\" class=\"data row6 col2\" >-</td> \n",
       "        <td id=\"T_f8953f70_48f8_11e9_8a14_409f3864a092row6_col3\" class=\"data row6 col3\" >++</td> \n",
       "        <td id=\"T_f8953f70_48f8_11e9_8a14_409f3864a092row6_col4\" class=\"data row6 col4\" >-</td> \n",
       "        <td id=\"T_f8953f70_48f8_11e9_8a14_409f3864a092row6_col5\" class=\"data row6 col5\" >12</td> \n",
       "    </tr>    <tr> \n",
       "        <th id=\"T_f8953f70_48f8_11e9_8a14_409f3864a092level0_row7\" class=\"row_heading level0 row7\" >7</th> \n",
       "        <td id=\"T_f8953f70_48f8_11e9_8a14_409f3864a092row7_col0\" class=\"data row7 col0\" >h- Norton </td> \n",
       "        <td id=\"T_f8953f70_48f8_11e9_8a14_409f3864a092row7_col1\" class=\"data row7 col1\" >--</td> \n",
       "        <td id=\"T_f8953f70_48f8_11e9_8a14_409f3864a092row7_col2\" class=\"data row7 col2\" >+++</td> \n",
       "        <td id=\"T_f8953f70_48f8_11e9_8a14_409f3864a092row7_col3\" class=\"data row7 col3\" >-</td> \n",
       "        <td id=\"T_f8953f70_48f8_11e9_8a14_409f3864a092row7_col4\" class=\"data row7 col4\" >-</td> \n",
       "        <td id=\"T_f8953f70_48f8_11e9_8a14_409f3864a092row7_col5\" class=\"data row7 col5\" >11</td> \n",
       "    </tr>    <tr> \n",
       "        <th id=\"T_f8953f70_48f8_11e9_8a14_409f3864a092level0_row8\" class=\"row_heading level0 row8\" >8</th> \n",
       "        <td id=\"T_f8953f70_48f8_11e9_8a14_409f3864a092row8_col0\" class=\"data row8 col0\" >i- True Key</td> \n",
       "        <td id=\"T_f8953f70_48f8_11e9_8a14_409f3864a092row8_col1\" class=\"data row8 col1\" >+</td> \n",
       "        <td id=\"T_f8953f70_48f8_11e9_8a14_409f3864a092row8_col2\" class=\"data row8 col2\" >+</td> \n",
       "        <td id=\"T_f8953f70_48f8_11e9_8a14_409f3864a092row8_col3\" class=\"data row8 col3\" >--</td> \n",
       "        <td id=\"T_f8953f70_48f8_11e9_8a14_409f3864a092row8_col4\" class=\"data row8 col4\" >-</td> \n",
       "        <td id=\"T_f8953f70_48f8_11e9_8a14_409f3864a092row8_col5\" class=\"data row8 col5\" >9.5</td> \n",
       "    </tr>    <tr> \n",
       "        <th id=\"T_f8953f70_48f8_11e9_8a14_409f3864a092level0_row9\" class=\"row_heading level0 row9\" >9</th> \n",
       "        <td id=\"T_f8953f70_48f8_11e9_8a14_409f3864a092row9_col0\" class=\"data row9 col0\" >j- Avast</td> \n",
       "        <td id=\"T_f8953f70_48f8_11e9_8a14_409f3864a092row9_col1\" class=\"data row9 col1\" >++</td> \n",
       "        <td id=\"T_f8953f70_48f8_11e9_8a14_409f3864a092row9_col2\" class=\"data row9 col2\" >-</td> \n",
       "        <td id=\"T_f8953f70_48f8_11e9_8a14_409f3864a092row9_col3\" class=\"data row9 col3\" >-</td> \n",
       "        <td id=\"T_f8953f70_48f8_11e9_8a14_409f3864a092row9_col4\" class=\"data row9 col4\" >-</td> \n",
       "        <td id=\"T_f8953f70_48f8_11e9_8a14_409f3864a092row9_col5\" class=\"data row9 col5\" >9.5</td> \n",
       "    </tr></tbody> \n",
       "</table> <style  type=\"text/css\" >\n",
       "</style>  \n",
       "<table id=\"T_f89739dc_48f8_11e9_906d_409f3864a092\" style='display:inline'><caption>Programme Lineaire - Pire score Dashlane</caption> \n",
       "<thead>    <tr> \n",
       "        <th class=\"blank level0\" ></th> \n",
       "        <th class=\"col_heading level0 col0\" >Produit</th> \n",
       "        <th class=\"col_heading level0 col1\" >Ordinateurs</th> \n",
       "        <th class=\"col_heading level0 col2\" >Mobiles</th> \n",
       "        <th class=\"col_heading level0 col3\" >Protection</th> \n",
       "        <th class=\"col_heading level0 col4\" >Aide</th> \n",
       "        <th class=\"col_heading level0 col5\" >Score</th> \n",
       "    </tr></thead> \n",
       "<tbody>    <tr> \n",
       "        <th id=\"T_f89739dc_48f8_11e9_906d_409f3864a092level0_row0\" class=\"row_heading level0 row0\" >0</th> \n",
       "        <td id=\"T_f89739dc_48f8_11e9_906d_409f3864a092row0_col0\" class=\"data row0 col0\" >a- Dashlane</td> \n",
       "        <td id=\"T_f89739dc_48f8_11e9_906d_409f3864a092row0_col1\" class=\"data row0 col1\" >13</td> \n",
       "        <td id=\"T_f89739dc_48f8_11e9_906d_409f3864a092row0_col2\" class=\"data row0 col2\" >13</td> \n",
       "        <td id=\"T_f89739dc_48f8_11e9_906d_409f3864a092row0_col3\" class=\"data row0 col3\" >13</td> \n",
       "        <td id=\"T_f89739dc_48f8_11e9_906d_409f3864a092row0_col4\" class=\"data row0 col4\" >13</td> \n",
       "        <td id=\"T_f89739dc_48f8_11e9_906d_409f3864a092row0_col5\" class=\"data row0 col5\" >13</td> \n",
       "    </tr>    <tr> \n",
       "        <th id=\"T_f89739dc_48f8_11e9_906d_409f3864a092level0_row1\" class=\"row_heading level0 row1\" >1</th> \n",
       "        <td id=\"T_f89739dc_48f8_11e9_906d_409f3864a092row1_col0\" class=\"data row1 col0\" >b- LastPass</td> \n",
       "        <td id=\"T_f89739dc_48f8_11e9_906d_409f3864a092row1_col1\" class=\"data row1 col1\" >17</td> \n",
       "        <td id=\"T_f89739dc_48f8_11e9_906d_409f3864a092row1_col2\" class=\"data row1 col2\" >10</td> \n",
       "        <td id=\"T_f89739dc_48f8_11e9_906d_409f3864a092row1_col3\" class=\"data row1 col3\" >10</td> \n",
       "        <td id=\"T_f89739dc_48f8_11e9_906d_409f3864a092row1_col4\" class=\"data row1 col4\" >7</td> \n",
       "        <td id=\"T_f89739dc_48f8_11e9_906d_409f3864a092row1_col5\" class=\"data row1 col5\" >12.15</td> \n",
       "    </tr>    <tr> \n",
       "        <th id=\"T_f89739dc_48f8_11e9_906d_409f3864a092level0_row2\" class=\"row_heading level0 row2\" >2</th> \n",
       "        <td id=\"T_f89739dc_48f8_11e9_906d_409f3864a092row2_col0\" class=\"data row2 col0\" >c- Roboform</td> \n",
       "        <td id=\"T_f89739dc_48f8_11e9_906d_409f3864a092row2_col1\" class=\"data row2 col1\" >10</td> \n",
       "        <td id=\"T_f89739dc_48f8_11e9_906d_409f3864a092row2_col2\" class=\"data row2 col2\" >13</td> \n",
       "        <td id=\"T_f89739dc_48f8_11e9_906d_409f3864a092row2_col3\" class=\"data row2 col3\" >10</td> \n",
       "        <td id=\"T_f89739dc_48f8_11e9_906d_409f3864a092row2_col4\" class=\"data row2 col4\" >7</td> \n",
       "        <td id=\"T_f89739dc_48f8_11e9_906d_409f3864a092row2_col5\" class=\"data row2 col5\" >10.75</td> \n",
       "    </tr>    <tr> \n",
       "        <th id=\"T_f89739dc_48f8_11e9_906d_409f3864a092level0_row3\" class=\"row_heading level0 row3\" >3</th> \n",
       "        <td id=\"T_f89739dc_48f8_11e9_906d_409f3864a092row3_col0\" class=\"data row3 col0\" >d- Kaspersky</td> \n",
       "        <td id=\"T_f89739dc_48f8_11e9_906d_409f3864a092row3_col1\" class=\"data row3 col1\" >17</td> \n",
       "        <td id=\"T_f89739dc_48f8_11e9_906d_409f3864a092row3_col2\" class=\"data row3 col2\" >7</td> \n",
       "        <td id=\"T_f89739dc_48f8_11e9_906d_409f3864a092row3_col3\" class=\"data row3 col3\" >10</td> \n",
       "        <td id=\"T_f89739dc_48f8_11e9_906d_409f3864a092row3_col4\" class=\"data row3 col4\" >10</td> \n",
       "        <td id=\"T_f89739dc_48f8_11e9_906d_409f3864a092row3_col5\" class=\"data row3 col5\" >11.4</td> \n",
       "    </tr>    <tr> \n",
       "        <th id=\"T_f89739dc_48f8_11e9_906d_409f3864a092level0_row4\" class=\"row_heading level0 row4\" >4</th> \n",
       "        <td id=\"T_f89739dc_48f8_11e9_906d_409f3864a092row4_col0\" class=\"data row4 col0\" >e- Keeper</td> \n",
       "        <td id=\"T_f89739dc_48f8_11e9_906d_409f3864a092row4_col1\" class=\"data row4 col1\" >13</td> \n",
       "        <td id=\"T_f89739dc_48f8_11e9_906d_409f3864a092row4_col2\" class=\"data row4 col2\" >10</td> \n",
       "        <td id=\"T_f89739dc_48f8_11e9_906d_409f3864a092row4_col3\" class=\"data row4 col3\" >10</td> \n",
       "        <td id=\"T_f89739dc_48f8_11e9_906d_409f3864a092row4_col4\" class=\"data row4 col4\" >10</td> \n",
       "        <td id=\"T_f89739dc_48f8_11e9_906d_409f3864a092row4_col5\" class=\"data row4 col5\" >11.05</td> \n",
       "    </tr>    <tr> \n",
       "        <th id=\"T_f89739dc_48f8_11e9_906d_409f3864a092level0_row5\" class=\"row_heading level0 row5\" >5</th> \n",
       "        <td id=\"T_f89739dc_48f8_11e9_906d_409f3864a092row5_col0\" class=\"data row5 col0\" >f- 1Password</td> \n",
       "        <td id=\"T_f89739dc_48f8_11e9_906d_409f3864a092row5_col1\" class=\"data row5 col1\" >13</td> \n",
       "        <td id=\"T_f89739dc_48f8_11e9_906d_409f3864a092row5_col2\" class=\"data row5 col2\" >10</td> \n",
       "        <td id=\"T_f89739dc_48f8_11e9_906d_409f3864a092row5_col3\" class=\"data row5 col3\" >13</td> \n",
       "        <td id=\"T_f89739dc_48f8_11e9_906d_409f3864a092row5_col4\" class=\"data row5 col4\" >7</td> \n",
       "        <td id=\"T_f89739dc_48f8_11e9_906d_409f3864a092row5_col5\" class=\"data row5 col5\" >11.35</td> \n",
       "    </tr>    <tr> \n",
       "        <th id=\"T_f89739dc_48f8_11e9_906d_409f3864a092level0_row6\" class=\"row_heading level0 row6\" >6</th> \n",
       "        <td id=\"T_f89739dc_48f8_11e9_906d_409f3864a092row6_col0\" class=\"data row6 col0\" >g- Enpass</td> \n",
       "        <td id=\"T_f89739dc_48f8_11e9_906d_409f3864a092row6_col1\" class=\"data row6 col1\" >10</td> \n",
       "        <td id=\"T_f89739dc_48f8_11e9_906d_409f3864a092row6_col2\" class=\"data row6 col2\" >7</td> \n",
       "        <td id=\"T_f89739dc_48f8_11e9_906d_409f3864a092row6_col3\" class=\"data row6 col3\" >13</td> \n",
       "        <td id=\"T_f89739dc_48f8_11e9_906d_409f3864a092row6_col4\" class=\"data row6 col4\" >7</td> \n",
       "        <td id=\"T_f89739dc_48f8_11e9_906d_409f3864a092row6_col5\" class=\"data row6 col5\" >9.25</td> \n",
       "    </tr>    <tr> \n",
       "        <th id=\"T_f89739dc_48f8_11e9_906d_409f3864a092level0_row7\" class=\"row_heading level0 row7\" >7</th> \n",
       "        <td id=\"T_f89739dc_48f8_11e9_906d_409f3864a092row7_col0\" class=\"data row7 col0\" >h- Norton </td> \n",
       "        <td id=\"T_f89739dc_48f8_11e9_906d_409f3864a092row7_col1\" class=\"data row7 col1\" >0</td> \n",
       "        <td id=\"T_f89739dc_48f8_11e9_906d_409f3864a092row7_col2\" class=\"data row7 col2\" >17</td> \n",
       "        <td id=\"T_f89739dc_48f8_11e9_906d_409f3864a092row7_col3\" class=\"data row7 col3\" >7</td> \n",
       "        <td id=\"T_f89739dc_48f8_11e9_906d_409f3864a092row7_col4\" class=\"data row7 col4\" >7</td> \n",
       "        <td id=\"T_f89739dc_48f8_11e9_906d_409f3864a092row7_col5\" class=\"data row7 col5\" >8.05</td> \n",
       "    </tr>    <tr> \n",
       "        <th id=\"T_f89739dc_48f8_11e9_906d_409f3864a092level0_row8\" class=\"row_heading level0 row8\" >8</th> \n",
       "        <td id=\"T_f89739dc_48f8_11e9_906d_409f3864a092row8_col0\" class=\"data row8 col0\" >i- True Key</td> \n",
       "        <td id=\"T_f89739dc_48f8_11e9_906d_409f3864a092row8_col1\" class=\"data row8 col1\" >10</td> \n",
       "        <td id=\"T_f89739dc_48f8_11e9_906d_409f3864a092row8_col2\" class=\"data row8 col2\" >10</td> \n",
       "        <td id=\"T_f89739dc_48f8_11e9_906d_409f3864a092row8_col3\" class=\"data row8 col3\" >0</td> \n",
       "        <td id=\"T_f89739dc_48f8_11e9_906d_409f3864a092row8_col4\" class=\"data row8 col4\" >7</td> \n",
       "        <td id=\"T_f89739dc_48f8_11e9_906d_409f3864a092row8_col5\" class=\"data row8 col5\" >7.7</td> \n",
       "    </tr>    <tr> \n",
       "        <th id=\"T_f89739dc_48f8_11e9_906d_409f3864a092level0_row9\" class=\"row_heading level0 row9\" >9</th> \n",
       "        <td id=\"T_f89739dc_48f8_11e9_906d_409f3864a092row9_col0\" class=\"data row9 col0\" >j- Avast</td> \n",
       "        <td id=\"T_f89739dc_48f8_11e9_906d_409f3864a092row9_col1\" class=\"data row9 col1\" >13</td> \n",
       "        <td id=\"T_f89739dc_48f8_11e9_906d_409f3864a092row9_col2\" class=\"data row9 col2\" >7</td> \n",
       "        <td id=\"T_f89739dc_48f8_11e9_906d_409f3864a092row9_col3\" class=\"data row9 col3\" >7</td> \n",
       "        <td id=\"T_f89739dc_48f8_11e9_906d_409f3864a092row9_col4\" class=\"data row9 col4\" >7</td> \n",
       "        <td id=\"T_f89739dc_48f8_11e9_906d_409f3864a092row9_col5\" class=\"data row9 col5\" >9.1</td> \n",
       "    </tr></tbody> \n",
       "</table> "
      ]
     },
     "metadata": {},
     "output_type": "display_data"
    },
    {
     "name": "stdout",
     "output_type": "stream",
     "text": [
      "Classement Min Dashlane\n"
     ]
    },
    {
     "data": {
      "text/html": [
       "<table border=\"1\"><tr><th>coef - Spearman</th><td>0.9235862696337803</td></tr><tr><th>p - Spearman</th><td>0.00013591680973240684</td></tr><tr><th>tau - Kendall</th><td>0.828078671210825</td></tr><tr><th>p_val - Kendall</th><td>0.0011169267142126383</td></tr><tr><th>Diff Moyenne</th><td>-1.8200000000000003</td></tr></table>"
      ],
      "text/plain": [
       "<IPython.core.display.HTML object>"
      ]
     },
     "metadata": {},
     "output_type": "display_data"
    }
   ],
   "source": [
    "display_html(df1_s._repr_html_()+df2_s._repr_html_(), raw=True)\n",
    "\n",
    "print(\"Classement Min Dashlane\")\n",
    "display(HTML(json2html.convert(json = dict_min_y1)))"
   ]
  },
  {
   "cell_type": "markdown",
   "metadata": {},
   "source": [
    "#### Commentaires"
   ]
  },
  {
   "cell_type": "markdown",
   "metadata": {},
   "source": [
    "Nous remarquons ici que le classement est identique à celui obtenu en maximisant le score de Dashlane."
   ]
  },
  {
   "cell_type": "code",
   "execution_count": 15,
   "metadata": {
    "tags": [
     "remove_cell"
    ]
   },
   "outputs": [],
   "source": [
    "%%capture\n",
    "model_name_test3 = 'Programme Lineaire - Meilleur score Avast'\n",
    "result_test_avast_max = checkAdditiveModel(csv_name=csv_name,\n",
    "                  model_name=model_name_test3,\n",
    "                  eval_expr='y10',\n",
    "                  direction='max',\n",
    "                  update_model=update_model_test)\n",
    "\n",
    "\n",
    "\n",
    "dict_max_y10 = compareRankings(result_original['Score'], result_test_avast_max['Score'])\n",
    "\n",
    "\n",
    "\n",
    "\n"
   ]
  },
  {
   "cell_type": "code",
   "execution_count": 16,
   "metadata": {
    "tags": [
     "remove_cell"
    ]
   },
   "outputs": [],
   "source": [
    "%%capture\n",
    "df1_s = result_original.style.set_table_attributes(\"style='display:inline'\").set_caption('Modèle original')\n",
    "df2_s = result_test_avast_max.style.set_table_attributes(\"style='display:inline'\").set_caption(model_name_test3)\n"
   ]
  },
  {
   "cell_type": "code",
   "execution_count": 17,
   "metadata": {
    "tags": [
     "remove_cell"
    ]
   },
   "outputs": [
    {
     "data": {
      "text/html": [
       "<style  type=\"text/css\" >\n",
       "</style>  \n",
       "<table id=\"T_f8e108c0_48f8_11e9_998a_409f3864a092\" style='display:inline'><caption>Modèle original</caption> \n",
       "<thead>    <tr> \n",
       "        <th class=\"blank level0\" ></th> \n",
       "        <th class=\"col_heading level0 col0\" >Produit</th> \n",
       "        <th class=\"col_heading level0 col1\" >Ordinateurs</th> \n",
       "        <th class=\"col_heading level0 col2\" >Mobiles</th> \n",
       "        <th class=\"col_heading level0 col3\" >Protection</th> \n",
       "        <th class=\"col_heading level0 col4\" >Aide</th> \n",
       "        <th class=\"col_heading level0 col5\" >Score</th> \n",
       "    </tr></thead> \n",
       "<tbody>    <tr> \n",
       "        <th id=\"T_f8e108c0_48f8_11e9_998a_409f3864a092level0_row0\" class=\"row_heading level0 row0\" >0</th> \n",
       "        <td id=\"T_f8e108c0_48f8_11e9_998a_409f3864a092row0_col0\" class=\"data row0 col0\" >a- Dashlane</td> \n",
       "        <td id=\"T_f8e108c0_48f8_11e9_998a_409f3864a092row0_col1\" class=\"data row0 col1\" >++</td> \n",
       "        <td id=\"T_f8e108c0_48f8_11e9_998a_409f3864a092row0_col2\" class=\"data row0 col2\" >++</td> \n",
       "        <td id=\"T_f8e108c0_48f8_11e9_998a_409f3864a092row0_col3\" class=\"data row0 col3\" >++</td> \n",
       "        <td id=\"T_f8e108c0_48f8_11e9_998a_409f3864a092row0_col4\" class=\"data row0 col4\" >++</td> \n",
       "        <td id=\"T_f8e108c0_48f8_11e9_998a_409f3864a092row0_col5\" class=\"data row0 col5\" >15</td> \n",
       "    </tr>    <tr> \n",
       "        <th id=\"T_f8e108c0_48f8_11e9_998a_409f3864a092level0_row1\" class=\"row_heading level0 row1\" >1</th> \n",
       "        <td id=\"T_f8e108c0_48f8_11e9_998a_409f3864a092row1_col0\" class=\"data row1 col0\" >b- LastPass</td> \n",
       "        <td id=\"T_f8e108c0_48f8_11e9_998a_409f3864a092row1_col1\" class=\"data row1 col1\" >+++</td> \n",
       "        <td id=\"T_f8e108c0_48f8_11e9_998a_409f3864a092row1_col2\" class=\"data row1 col2\" >+</td> \n",
       "        <td id=\"T_f8e108c0_48f8_11e9_998a_409f3864a092row1_col3\" class=\"data row1 col3\" >+</td> \n",
       "        <td id=\"T_f8e108c0_48f8_11e9_998a_409f3864a092row1_col4\" class=\"data row1 col4\" >-</td> \n",
       "        <td id=\"T_f8e108c0_48f8_11e9_998a_409f3864a092row1_col5\" class=\"data row1 col5\" >14</td> \n",
       "    </tr>    <tr> \n",
       "        <th id=\"T_f8e108c0_48f8_11e9_998a_409f3864a092level0_row2\" class=\"row_heading level0 row2\" >2</th> \n",
       "        <td id=\"T_f8e108c0_48f8_11e9_998a_409f3864a092row2_col0\" class=\"data row2 col0\" >c- Roboform</td> \n",
       "        <td id=\"T_f8e108c0_48f8_11e9_998a_409f3864a092row2_col1\" class=\"data row2 col1\" >+</td> \n",
       "        <td id=\"T_f8e108c0_48f8_11e9_998a_409f3864a092row2_col2\" class=\"data row2 col2\" >++</td> \n",
       "        <td id=\"T_f8e108c0_48f8_11e9_998a_409f3864a092row2_col3\" class=\"data row2 col3\" >+</td> \n",
       "        <td id=\"T_f8e108c0_48f8_11e9_998a_409f3864a092row2_col4\" class=\"data row2 col4\" >-</td> \n",
       "        <td id=\"T_f8e108c0_48f8_11e9_998a_409f3864a092row2_col5\" class=\"data row2 col5\" >13</td> \n",
       "    </tr>    <tr> \n",
       "        <th id=\"T_f8e108c0_48f8_11e9_998a_409f3864a092level0_row3\" class=\"row_heading level0 row3\" >3</th> \n",
       "        <td id=\"T_f8e108c0_48f8_11e9_998a_409f3864a092row3_col0\" class=\"data row3 col0\" >d- Kaspersky</td> \n",
       "        <td id=\"T_f8e108c0_48f8_11e9_998a_409f3864a092row3_col1\" class=\"data row3 col1\" >+++</td> \n",
       "        <td id=\"T_f8e108c0_48f8_11e9_998a_409f3864a092row3_col2\" class=\"data row3 col2\" >-</td> \n",
       "        <td id=\"T_f8e108c0_48f8_11e9_998a_409f3864a092row3_col3\" class=\"data row3 col3\" >+</td> \n",
       "        <td id=\"T_f8e108c0_48f8_11e9_998a_409f3864a092row3_col4\" class=\"data row3 col4\" >+</td> \n",
       "        <td id=\"T_f8e108c0_48f8_11e9_998a_409f3864a092row3_col5\" class=\"data row3 col5\" >13</td> \n",
       "    </tr>    <tr> \n",
       "        <th id=\"T_f8e108c0_48f8_11e9_998a_409f3864a092level0_row4\" class=\"row_heading level0 row4\" >4</th> \n",
       "        <td id=\"T_f8e108c0_48f8_11e9_998a_409f3864a092row4_col0\" class=\"data row4 col0\" >e- Keeper</td> \n",
       "        <td id=\"T_f8e108c0_48f8_11e9_998a_409f3864a092row4_col1\" class=\"data row4 col1\" >++</td> \n",
       "        <td id=\"T_f8e108c0_48f8_11e9_998a_409f3864a092row4_col2\" class=\"data row4 col2\" >+</td> \n",
       "        <td id=\"T_f8e108c0_48f8_11e9_998a_409f3864a092row4_col3\" class=\"data row4 col3\" >+</td> \n",
       "        <td id=\"T_f8e108c0_48f8_11e9_998a_409f3864a092row4_col4\" class=\"data row4 col4\" >+</td> \n",
       "        <td id=\"T_f8e108c0_48f8_11e9_998a_409f3864a092row4_col5\" class=\"data row4 col5\" >12.5</td> \n",
       "    </tr>    <tr> \n",
       "        <th id=\"T_f8e108c0_48f8_11e9_998a_409f3864a092level0_row5\" class=\"row_heading level0 row5\" >5</th> \n",
       "        <td id=\"T_f8e108c0_48f8_11e9_998a_409f3864a092row5_col0\" class=\"data row5 col0\" >f- 1Password</td> \n",
       "        <td id=\"T_f8e108c0_48f8_11e9_998a_409f3864a092row5_col1\" class=\"data row5 col1\" >++</td> \n",
       "        <td id=\"T_f8e108c0_48f8_11e9_998a_409f3864a092row5_col2\" class=\"data row5 col2\" >+</td> \n",
       "        <td id=\"T_f8e108c0_48f8_11e9_998a_409f3864a092row5_col3\" class=\"data row5 col3\" >++</td> \n",
       "        <td id=\"T_f8e108c0_48f8_11e9_998a_409f3864a092row5_col4\" class=\"data row5 col4\" >-</td> \n",
       "        <td id=\"T_f8e108c0_48f8_11e9_998a_409f3864a092row5_col5\" class=\"data row5 col5\" >12.5</td> \n",
       "    </tr>    <tr> \n",
       "        <th id=\"T_f8e108c0_48f8_11e9_998a_409f3864a092level0_row6\" class=\"row_heading level0 row6\" >6</th> \n",
       "        <td id=\"T_f8e108c0_48f8_11e9_998a_409f3864a092row6_col0\" class=\"data row6 col0\" >g- Enpass</td> \n",
       "        <td id=\"T_f8e108c0_48f8_11e9_998a_409f3864a092row6_col1\" class=\"data row6 col1\" >+</td> \n",
       "        <td id=\"T_f8e108c0_48f8_11e9_998a_409f3864a092row6_col2\" class=\"data row6 col2\" >-</td> \n",
       "        <td id=\"T_f8e108c0_48f8_11e9_998a_409f3864a092row6_col3\" class=\"data row6 col3\" >++</td> \n",
       "        <td id=\"T_f8e108c0_48f8_11e9_998a_409f3864a092row6_col4\" class=\"data row6 col4\" >-</td> \n",
       "        <td id=\"T_f8e108c0_48f8_11e9_998a_409f3864a092row6_col5\" class=\"data row6 col5\" >12</td> \n",
       "    </tr>    <tr> \n",
       "        <th id=\"T_f8e108c0_48f8_11e9_998a_409f3864a092level0_row7\" class=\"row_heading level0 row7\" >7</th> \n",
       "        <td id=\"T_f8e108c0_48f8_11e9_998a_409f3864a092row7_col0\" class=\"data row7 col0\" >h- Norton </td> \n",
       "        <td id=\"T_f8e108c0_48f8_11e9_998a_409f3864a092row7_col1\" class=\"data row7 col1\" >--</td> \n",
       "        <td id=\"T_f8e108c0_48f8_11e9_998a_409f3864a092row7_col2\" class=\"data row7 col2\" >+++</td> \n",
       "        <td id=\"T_f8e108c0_48f8_11e9_998a_409f3864a092row7_col3\" class=\"data row7 col3\" >-</td> \n",
       "        <td id=\"T_f8e108c0_48f8_11e9_998a_409f3864a092row7_col4\" class=\"data row7 col4\" >-</td> \n",
       "        <td id=\"T_f8e108c0_48f8_11e9_998a_409f3864a092row7_col5\" class=\"data row7 col5\" >11</td> \n",
       "    </tr>    <tr> \n",
       "        <th id=\"T_f8e108c0_48f8_11e9_998a_409f3864a092level0_row8\" class=\"row_heading level0 row8\" >8</th> \n",
       "        <td id=\"T_f8e108c0_48f8_11e9_998a_409f3864a092row8_col0\" class=\"data row8 col0\" >i- True Key</td> \n",
       "        <td id=\"T_f8e108c0_48f8_11e9_998a_409f3864a092row8_col1\" class=\"data row8 col1\" >+</td> \n",
       "        <td id=\"T_f8e108c0_48f8_11e9_998a_409f3864a092row8_col2\" class=\"data row8 col2\" >+</td> \n",
       "        <td id=\"T_f8e108c0_48f8_11e9_998a_409f3864a092row8_col3\" class=\"data row8 col3\" >--</td> \n",
       "        <td id=\"T_f8e108c0_48f8_11e9_998a_409f3864a092row8_col4\" class=\"data row8 col4\" >-</td> \n",
       "        <td id=\"T_f8e108c0_48f8_11e9_998a_409f3864a092row8_col5\" class=\"data row8 col5\" >9.5</td> \n",
       "    </tr>    <tr> \n",
       "        <th id=\"T_f8e108c0_48f8_11e9_998a_409f3864a092level0_row9\" class=\"row_heading level0 row9\" >9</th> \n",
       "        <td id=\"T_f8e108c0_48f8_11e9_998a_409f3864a092row9_col0\" class=\"data row9 col0\" >j- Avast</td> \n",
       "        <td id=\"T_f8e108c0_48f8_11e9_998a_409f3864a092row9_col1\" class=\"data row9 col1\" >++</td> \n",
       "        <td id=\"T_f8e108c0_48f8_11e9_998a_409f3864a092row9_col2\" class=\"data row9 col2\" >-</td> \n",
       "        <td id=\"T_f8e108c0_48f8_11e9_998a_409f3864a092row9_col3\" class=\"data row9 col3\" >-</td> \n",
       "        <td id=\"T_f8e108c0_48f8_11e9_998a_409f3864a092row9_col4\" class=\"data row9 col4\" >-</td> \n",
       "        <td id=\"T_f8e108c0_48f8_11e9_998a_409f3864a092row9_col5\" class=\"data row9 col5\" >9.5</td> \n",
       "    </tr></tbody> \n",
       "</table> <style  type=\"text/css\" >\n",
       "</style>  \n",
       "<table id=\"T_f8e1f274_48f8_11e9_863c_409f3864a092\" style='display:inline'><caption>Programme Lineaire - Meilleur score Avast</caption> \n",
       "<thead>    <tr> \n",
       "        <th class=\"blank level0\" ></th> \n",
       "        <th class=\"col_heading level0 col0\" >Produit</th> \n",
       "        <th class=\"col_heading level0 col1\" >Ordinateurs</th> \n",
       "        <th class=\"col_heading level0 col2\" >Mobiles</th> \n",
       "        <th class=\"col_heading level0 col3\" >Protection</th> \n",
       "        <th class=\"col_heading level0 col4\" >Aide</th> \n",
       "        <th class=\"col_heading level0 col5\" >Score</th> \n",
       "    </tr></thead> \n",
       "<tbody>    <tr> \n",
       "        <th id=\"T_f8e1f274_48f8_11e9_863c_409f3864a092level0_row0\" class=\"row_heading level0 row0\" >0</th> \n",
       "        <td id=\"T_f8e1f274_48f8_11e9_863c_409f3864a092row0_col0\" class=\"data row0 col0\" >a- Dashlane</td> \n",
       "        <td id=\"T_f8e1f274_48f8_11e9_863c_409f3864a092row0_col1\" class=\"data row0 col1\" >13</td> \n",
       "        <td id=\"T_f8e1f274_48f8_11e9_863c_409f3864a092row0_col2\" class=\"data row0 col2\" >13</td> \n",
       "        <td id=\"T_f8e1f274_48f8_11e9_863c_409f3864a092row0_col3\" class=\"data row0 col3\" >13</td> \n",
       "        <td id=\"T_f8e1f274_48f8_11e9_863c_409f3864a092row0_col4\" class=\"data row0 col4\" >13</td> \n",
       "        <td id=\"T_f8e1f274_48f8_11e9_863c_409f3864a092row0_col5\" class=\"data row0 col5\" >13</td> \n",
       "    </tr>    <tr> \n",
       "        <th id=\"T_f8e1f274_48f8_11e9_863c_409f3864a092level0_row1\" class=\"row_heading level0 row1\" >1</th> \n",
       "        <td id=\"T_f8e1f274_48f8_11e9_863c_409f3864a092row1_col0\" class=\"data row1 col0\" >b- LastPass</td> \n",
       "        <td id=\"T_f8e1f274_48f8_11e9_863c_409f3864a092row1_col1\" class=\"data row1 col1\" >17</td> \n",
       "        <td id=\"T_f8e1f274_48f8_11e9_863c_409f3864a092row1_col2\" class=\"data row1 col2\" >10</td> \n",
       "        <td id=\"T_f8e1f274_48f8_11e9_863c_409f3864a092row1_col3\" class=\"data row1 col3\" >10</td> \n",
       "        <td id=\"T_f8e1f274_48f8_11e9_863c_409f3864a092row1_col4\" class=\"data row1 col4\" >7</td> \n",
       "        <td id=\"T_f8e1f274_48f8_11e9_863c_409f3864a092row1_col5\" class=\"data row1 col5\" >12.15</td> \n",
       "    </tr>    <tr> \n",
       "        <th id=\"T_f8e1f274_48f8_11e9_863c_409f3864a092level0_row2\" class=\"row_heading level0 row2\" >2</th> \n",
       "        <td id=\"T_f8e1f274_48f8_11e9_863c_409f3864a092row2_col0\" class=\"data row2 col0\" >c- Roboform</td> \n",
       "        <td id=\"T_f8e1f274_48f8_11e9_863c_409f3864a092row2_col1\" class=\"data row2 col1\" >10</td> \n",
       "        <td id=\"T_f8e1f274_48f8_11e9_863c_409f3864a092row2_col2\" class=\"data row2 col2\" >13</td> \n",
       "        <td id=\"T_f8e1f274_48f8_11e9_863c_409f3864a092row2_col3\" class=\"data row2 col3\" >10</td> \n",
       "        <td id=\"T_f8e1f274_48f8_11e9_863c_409f3864a092row2_col4\" class=\"data row2 col4\" >7</td> \n",
       "        <td id=\"T_f8e1f274_48f8_11e9_863c_409f3864a092row2_col5\" class=\"data row2 col5\" >10.75</td> \n",
       "    </tr>    <tr> \n",
       "        <th id=\"T_f8e1f274_48f8_11e9_863c_409f3864a092level0_row3\" class=\"row_heading level0 row3\" >3</th> \n",
       "        <td id=\"T_f8e1f274_48f8_11e9_863c_409f3864a092row3_col0\" class=\"data row3 col0\" >d- Kaspersky</td> \n",
       "        <td id=\"T_f8e1f274_48f8_11e9_863c_409f3864a092row3_col1\" class=\"data row3 col1\" >17</td> \n",
       "        <td id=\"T_f8e1f274_48f8_11e9_863c_409f3864a092row3_col2\" class=\"data row3 col2\" >7</td> \n",
       "        <td id=\"T_f8e1f274_48f8_11e9_863c_409f3864a092row3_col3\" class=\"data row3 col3\" >10</td> \n",
       "        <td id=\"T_f8e1f274_48f8_11e9_863c_409f3864a092row3_col4\" class=\"data row3 col4\" >10</td> \n",
       "        <td id=\"T_f8e1f274_48f8_11e9_863c_409f3864a092row3_col5\" class=\"data row3 col5\" >11.4</td> \n",
       "    </tr>    <tr> \n",
       "        <th id=\"T_f8e1f274_48f8_11e9_863c_409f3864a092level0_row4\" class=\"row_heading level0 row4\" >4</th> \n",
       "        <td id=\"T_f8e1f274_48f8_11e9_863c_409f3864a092row4_col0\" class=\"data row4 col0\" >e- Keeper</td> \n",
       "        <td id=\"T_f8e1f274_48f8_11e9_863c_409f3864a092row4_col1\" class=\"data row4 col1\" >13</td> \n",
       "        <td id=\"T_f8e1f274_48f8_11e9_863c_409f3864a092row4_col2\" class=\"data row4 col2\" >10</td> \n",
       "        <td id=\"T_f8e1f274_48f8_11e9_863c_409f3864a092row4_col3\" class=\"data row4 col3\" >10</td> \n",
       "        <td id=\"T_f8e1f274_48f8_11e9_863c_409f3864a092row4_col4\" class=\"data row4 col4\" >10</td> \n",
       "        <td id=\"T_f8e1f274_48f8_11e9_863c_409f3864a092row4_col5\" class=\"data row4 col5\" >11.05</td> \n",
       "    </tr>    <tr> \n",
       "        <th id=\"T_f8e1f274_48f8_11e9_863c_409f3864a092level0_row5\" class=\"row_heading level0 row5\" >5</th> \n",
       "        <td id=\"T_f8e1f274_48f8_11e9_863c_409f3864a092row5_col0\" class=\"data row5 col0\" >f- 1Password</td> \n",
       "        <td id=\"T_f8e1f274_48f8_11e9_863c_409f3864a092row5_col1\" class=\"data row5 col1\" >13</td> \n",
       "        <td id=\"T_f8e1f274_48f8_11e9_863c_409f3864a092row5_col2\" class=\"data row5 col2\" >10</td> \n",
       "        <td id=\"T_f8e1f274_48f8_11e9_863c_409f3864a092row5_col3\" class=\"data row5 col3\" >13</td> \n",
       "        <td id=\"T_f8e1f274_48f8_11e9_863c_409f3864a092row5_col4\" class=\"data row5 col4\" >7</td> \n",
       "        <td id=\"T_f8e1f274_48f8_11e9_863c_409f3864a092row5_col5\" class=\"data row5 col5\" >11.35</td> \n",
       "    </tr>    <tr> \n",
       "        <th id=\"T_f8e1f274_48f8_11e9_863c_409f3864a092level0_row6\" class=\"row_heading level0 row6\" >6</th> \n",
       "        <td id=\"T_f8e1f274_48f8_11e9_863c_409f3864a092row6_col0\" class=\"data row6 col0\" >g- Enpass</td> \n",
       "        <td id=\"T_f8e1f274_48f8_11e9_863c_409f3864a092row6_col1\" class=\"data row6 col1\" >10</td> \n",
       "        <td id=\"T_f8e1f274_48f8_11e9_863c_409f3864a092row6_col2\" class=\"data row6 col2\" >7</td> \n",
       "        <td id=\"T_f8e1f274_48f8_11e9_863c_409f3864a092row6_col3\" class=\"data row6 col3\" >13</td> \n",
       "        <td id=\"T_f8e1f274_48f8_11e9_863c_409f3864a092row6_col4\" class=\"data row6 col4\" >7</td> \n",
       "        <td id=\"T_f8e1f274_48f8_11e9_863c_409f3864a092row6_col5\" class=\"data row6 col5\" >9.25</td> \n",
       "    </tr>    <tr> \n",
       "        <th id=\"T_f8e1f274_48f8_11e9_863c_409f3864a092level0_row7\" class=\"row_heading level0 row7\" >7</th> \n",
       "        <td id=\"T_f8e1f274_48f8_11e9_863c_409f3864a092row7_col0\" class=\"data row7 col0\" >h- Norton </td> \n",
       "        <td id=\"T_f8e1f274_48f8_11e9_863c_409f3864a092row7_col1\" class=\"data row7 col1\" >0</td> \n",
       "        <td id=\"T_f8e1f274_48f8_11e9_863c_409f3864a092row7_col2\" class=\"data row7 col2\" >17</td> \n",
       "        <td id=\"T_f8e1f274_48f8_11e9_863c_409f3864a092row7_col3\" class=\"data row7 col3\" >7</td> \n",
       "        <td id=\"T_f8e1f274_48f8_11e9_863c_409f3864a092row7_col4\" class=\"data row7 col4\" >7</td> \n",
       "        <td id=\"T_f8e1f274_48f8_11e9_863c_409f3864a092row7_col5\" class=\"data row7 col5\" >8.05</td> \n",
       "    </tr>    <tr> \n",
       "        <th id=\"T_f8e1f274_48f8_11e9_863c_409f3864a092level0_row8\" class=\"row_heading level0 row8\" >8</th> \n",
       "        <td id=\"T_f8e1f274_48f8_11e9_863c_409f3864a092row8_col0\" class=\"data row8 col0\" >i- True Key</td> \n",
       "        <td id=\"T_f8e1f274_48f8_11e9_863c_409f3864a092row8_col1\" class=\"data row8 col1\" >10</td> \n",
       "        <td id=\"T_f8e1f274_48f8_11e9_863c_409f3864a092row8_col2\" class=\"data row8 col2\" >10</td> \n",
       "        <td id=\"T_f8e1f274_48f8_11e9_863c_409f3864a092row8_col3\" class=\"data row8 col3\" >0</td> \n",
       "        <td id=\"T_f8e1f274_48f8_11e9_863c_409f3864a092row8_col4\" class=\"data row8 col4\" >7</td> \n",
       "        <td id=\"T_f8e1f274_48f8_11e9_863c_409f3864a092row8_col5\" class=\"data row8 col5\" >7.7</td> \n",
       "    </tr>    <tr> \n",
       "        <th id=\"T_f8e1f274_48f8_11e9_863c_409f3864a092level0_row9\" class=\"row_heading level0 row9\" >9</th> \n",
       "        <td id=\"T_f8e1f274_48f8_11e9_863c_409f3864a092row9_col0\" class=\"data row9 col0\" >j- Avast</td> \n",
       "        <td id=\"T_f8e1f274_48f8_11e9_863c_409f3864a092row9_col1\" class=\"data row9 col1\" >16.5</td> \n",
       "        <td id=\"T_f8e1f274_48f8_11e9_863c_409f3864a092row9_col2\" class=\"data row9 col2\" >9.5</td> \n",
       "        <td id=\"T_f8e1f274_48f8_11e9_863c_409f3864a092row9_col3\" class=\"data row9 col3\" >9.5</td> \n",
       "        <td id=\"T_f8e1f274_48f8_11e9_863c_409f3864a092row9_col4\" class=\"data row9 col4\" >9.5</td> \n",
       "        <td id=\"T_f8e1f274_48f8_11e9_863c_409f3864a092row9_col5\" class=\"data row9 col5\" >11.95</td> \n",
       "    </tr></tbody> \n",
       "</table> "
      ]
     },
     "metadata": {},
     "output_type": "display_data"
    },
    {
     "name": "stdout",
     "output_type": "stream",
     "text": [
      "Classement Max Avast\n"
     ]
    },
    {
     "data": {
      "text/html": [
       "<table border=\"1\"><tr><th>coef - Spearman</th><td>0.64834532835219</td></tr><tr><th>p - Spearman</th><td>0.04259953984956121</td></tr><tr><th>tau - Kendall</th><td>0.5980568180967069</td></tr><tr><th>p_val - Kendall</th><td>0.018576138992956518</td></tr><tr><th>Diff Moyenne</th><td>-1.5349999999999995</td></tr></table>"
      ],
      "text/plain": [
       "<IPython.core.display.HTML object>"
      ]
     },
     "metadata": {},
     "output_type": "display_data"
    }
   ],
   "source": [
    "display_html(df1_s._repr_html_()+df2_s._repr_html_(), raw=True)\n",
    "\n",
    "print(\"Classement Max Avast\")\n",
    "display(HTML(json2html.convert(json = dict_max_y10)))"
   ]
  },
  {
   "cell_type": "markdown",
   "metadata": {},
   "source": [
    "#### Commentaire"
   ]
  },
  {
   "cell_type": "markdown",
   "metadata": {},
   "source": [
    "Nous observons qu'Avast passe au-dessus de la moyenne et n'est plus du tout dernier au classement. Le coefficient de Spearman indique qu'il y a une importante variation entre le classement original et celui obtenu en maximisant Avast."
   ]
  },
  {
   "cell_type": "code",
   "execution_count": 18,
   "metadata": {
    "tags": [
     "remove_cell"
    ]
   },
   "outputs": [],
   "source": [
    "%%capture\n",
    "model_name_test4 = 'Programme Lineaire - Pire score Avast'\n",
    "result_test_avast_min = checkAdditiveModel(csv_name=csv_name,\n",
    "                  model_name=model_name_test4,\n",
    "                  eval_expr='y10',\n",
    "                  direction='min',\n",
    "                  update_model=update_model_test)\n",
    "dict_min_y10 = compareRankings(result_original['Score'], result_test_min['Score'])"
   ]
  },
  {
   "cell_type": "code",
   "execution_count": 19,
   "metadata": {
    "tags": [
     "remove_cell"
    ]
   },
   "outputs": [],
   "source": [
    "%%capture\n",
    "df1_s = result_original.style.set_table_attributes(\"style='display:inline'\").set_caption('Modèle original')\n",
    "df2_s = result_test_avast_min.style.set_table_attributes(\"style='display:inline'\").set_caption(model_name_test4)\n"
   ]
  },
  {
   "cell_type": "code",
   "execution_count": 20,
   "metadata": {
    "tags": [
     "remove_cell"
    ]
   },
   "outputs": [
    {
     "data": {
      "text/html": [
       "<style  type=\"text/css\" >\n",
       "</style>  \n",
       "<table id=\"T_f906265e_48f8_11e9_8492_409f3864a092\" style='display:inline'><caption>Modèle original</caption> \n",
       "<thead>    <tr> \n",
       "        <th class=\"blank level0\" ></th> \n",
       "        <th class=\"col_heading level0 col0\" >Produit</th> \n",
       "        <th class=\"col_heading level0 col1\" >Ordinateurs</th> \n",
       "        <th class=\"col_heading level0 col2\" >Mobiles</th> \n",
       "        <th class=\"col_heading level0 col3\" >Protection</th> \n",
       "        <th class=\"col_heading level0 col4\" >Aide</th> \n",
       "        <th class=\"col_heading level0 col5\" >Score</th> \n",
       "    </tr></thead> \n",
       "<tbody>    <tr> \n",
       "        <th id=\"T_f906265e_48f8_11e9_8492_409f3864a092level0_row0\" class=\"row_heading level0 row0\" >0</th> \n",
       "        <td id=\"T_f906265e_48f8_11e9_8492_409f3864a092row0_col0\" class=\"data row0 col0\" >a- Dashlane</td> \n",
       "        <td id=\"T_f906265e_48f8_11e9_8492_409f3864a092row0_col1\" class=\"data row0 col1\" >++</td> \n",
       "        <td id=\"T_f906265e_48f8_11e9_8492_409f3864a092row0_col2\" class=\"data row0 col2\" >++</td> \n",
       "        <td id=\"T_f906265e_48f8_11e9_8492_409f3864a092row0_col3\" class=\"data row0 col3\" >++</td> \n",
       "        <td id=\"T_f906265e_48f8_11e9_8492_409f3864a092row0_col4\" class=\"data row0 col4\" >++</td> \n",
       "        <td id=\"T_f906265e_48f8_11e9_8492_409f3864a092row0_col5\" class=\"data row0 col5\" >15</td> \n",
       "    </tr>    <tr> \n",
       "        <th id=\"T_f906265e_48f8_11e9_8492_409f3864a092level0_row1\" class=\"row_heading level0 row1\" >1</th> \n",
       "        <td id=\"T_f906265e_48f8_11e9_8492_409f3864a092row1_col0\" class=\"data row1 col0\" >b- LastPass</td> \n",
       "        <td id=\"T_f906265e_48f8_11e9_8492_409f3864a092row1_col1\" class=\"data row1 col1\" >+++</td> \n",
       "        <td id=\"T_f906265e_48f8_11e9_8492_409f3864a092row1_col2\" class=\"data row1 col2\" >+</td> \n",
       "        <td id=\"T_f906265e_48f8_11e9_8492_409f3864a092row1_col3\" class=\"data row1 col3\" >+</td> \n",
       "        <td id=\"T_f906265e_48f8_11e9_8492_409f3864a092row1_col4\" class=\"data row1 col4\" >-</td> \n",
       "        <td id=\"T_f906265e_48f8_11e9_8492_409f3864a092row1_col5\" class=\"data row1 col5\" >14</td> \n",
       "    </tr>    <tr> \n",
       "        <th id=\"T_f906265e_48f8_11e9_8492_409f3864a092level0_row2\" class=\"row_heading level0 row2\" >2</th> \n",
       "        <td id=\"T_f906265e_48f8_11e9_8492_409f3864a092row2_col0\" class=\"data row2 col0\" >c- Roboform</td> \n",
       "        <td id=\"T_f906265e_48f8_11e9_8492_409f3864a092row2_col1\" class=\"data row2 col1\" >+</td> \n",
       "        <td id=\"T_f906265e_48f8_11e9_8492_409f3864a092row2_col2\" class=\"data row2 col2\" >++</td> \n",
       "        <td id=\"T_f906265e_48f8_11e9_8492_409f3864a092row2_col3\" class=\"data row2 col3\" >+</td> \n",
       "        <td id=\"T_f906265e_48f8_11e9_8492_409f3864a092row2_col4\" class=\"data row2 col4\" >-</td> \n",
       "        <td id=\"T_f906265e_48f8_11e9_8492_409f3864a092row2_col5\" class=\"data row2 col5\" >13</td> \n",
       "    </tr>    <tr> \n",
       "        <th id=\"T_f906265e_48f8_11e9_8492_409f3864a092level0_row3\" class=\"row_heading level0 row3\" >3</th> \n",
       "        <td id=\"T_f906265e_48f8_11e9_8492_409f3864a092row3_col0\" class=\"data row3 col0\" >d- Kaspersky</td> \n",
       "        <td id=\"T_f906265e_48f8_11e9_8492_409f3864a092row3_col1\" class=\"data row3 col1\" >+++</td> \n",
       "        <td id=\"T_f906265e_48f8_11e9_8492_409f3864a092row3_col2\" class=\"data row3 col2\" >-</td> \n",
       "        <td id=\"T_f906265e_48f8_11e9_8492_409f3864a092row3_col3\" class=\"data row3 col3\" >+</td> \n",
       "        <td id=\"T_f906265e_48f8_11e9_8492_409f3864a092row3_col4\" class=\"data row3 col4\" >+</td> \n",
       "        <td id=\"T_f906265e_48f8_11e9_8492_409f3864a092row3_col5\" class=\"data row3 col5\" >13</td> \n",
       "    </tr>    <tr> \n",
       "        <th id=\"T_f906265e_48f8_11e9_8492_409f3864a092level0_row4\" class=\"row_heading level0 row4\" >4</th> \n",
       "        <td id=\"T_f906265e_48f8_11e9_8492_409f3864a092row4_col0\" class=\"data row4 col0\" >e- Keeper</td> \n",
       "        <td id=\"T_f906265e_48f8_11e9_8492_409f3864a092row4_col1\" class=\"data row4 col1\" >++</td> \n",
       "        <td id=\"T_f906265e_48f8_11e9_8492_409f3864a092row4_col2\" class=\"data row4 col2\" >+</td> \n",
       "        <td id=\"T_f906265e_48f8_11e9_8492_409f3864a092row4_col3\" class=\"data row4 col3\" >+</td> \n",
       "        <td id=\"T_f906265e_48f8_11e9_8492_409f3864a092row4_col4\" class=\"data row4 col4\" >+</td> \n",
       "        <td id=\"T_f906265e_48f8_11e9_8492_409f3864a092row4_col5\" class=\"data row4 col5\" >12.5</td> \n",
       "    </tr>    <tr> \n",
       "        <th id=\"T_f906265e_48f8_11e9_8492_409f3864a092level0_row5\" class=\"row_heading level0 row5\" >5</th> \n",
       "        <td id=\"T_f906265e_48f8_11e9_8492_409f3864a092row5_col0\" class=\"data row5 col0\" >f- 1Password</td> \n",
       "        <td id=\"T_f906265e_48f8_11e9_8492_409f3864a092row5_col1\" class=\"data row5 col1\" >++</td> \n",
       "        <td id=\"T_f906265e_48f8_11e9_8492_409f3864a092row5_col2\" class=\"data row5 col2\" >+</td> \n",
       "        <td id=\"T_f906265e_48f8_11e9_8492_409f3864a092row5_col3\" class=\"data row5 col3\" >++</td> \n",
       "        <td id=\"T_f906265e_48f8_11e9_8492_409f3864a092row5_col4\" class=\"data row5 col4\" >-</td> \n",
       "        <td id=\"T_f906265e_48f8_11e9_8492_409f3864a092row5_col5\" class=\"data row5 col5\" >12.5</td> \n",
       "    </tr>    <tr> \n",
       "        <th id=\"T_f906265e_48f8_11e9_8492_409f3864a092level0_row6\" class=\"row_heading level0 row6\" >6</th> \n",
       "        <td id=\"T_f906265e_48f8_11e9_8492_409f3864a092row6_col0\" class=\"data row6 col0\" >g- Enpass</td> \n",
       "        <td id=\"T_f906265e_48f8_11e9_8492_409f3864a092row6_col1\" class=\"data row6 col1\" >+</td> \n",
       "        <td id=\"T_f906265e_48f8_11e9_8492_409f3864a092row6_col2\" class=\"data row6 col2\" >-</td> \n",
       "        <td id=\"T_f906265e_48f8_11e9_8492_409f3864a092row6_col3\" class=\"data row6 col3\" >++</td> \n",
       "        <td id=\"T_f906265e_48f8_11e9_8492_409f3864a092row6_col4\" class=\"data row6 col4\" >-</td> \n",
       "        <td id=\"T_f906265e_48f8_11e9_8492_409f3864a092row6_col5\" class=\"data row6 col5\" >12</td> \n",
       "    </tr>    <tr> \n",
       "        <th id=\"T_f906265e_48f8_11e9_8492_409f3864a092level0_row7\" class=\"row_heading level0 row7\" >7</th> \n",
       "        <td id=\"T_f906265e_48f8_11e9_8492_409f3864a092row7_col0\" class=\"data row7 col0\" >h- Norton </td> \n",
       "        <td id=\"T_f906265e_48f8_11e9_8492_409f3864a092row7_col1\" class=\"data row7 col1\" >--</td> \n",
       "        <td id=\"T_f906265e_48f8_11e9_8492_409f3864a092row7_col2\" class=\"data row7 col2\" >+++</td> \n",
       "        <td id=\"T_f906265e_48f8_11e9_8492_409f3864a092row7_col3\" class=\"data row7 col3\" >-</td> \n",
       "        <td id=\"T_f906265e_48f8_11e9_8492_409f3864a092row7_col4\" class=\"data row7 col4\" >-</td> \n",
       "        <td id=\"T_f906265e_48f8_11e9_8492_409f3864a092row7_col5\" class=\"data row7 col5\" >11</td> \n",
       "    </tr>    <tr> \n",
       "        <th id=\"T_f906265e_48f8_11e9_8492_409f3864a092level0_row8\" class=\"row_heading level0 row8\" >8</th> \n",
       "        <td id=\"T_f906265e_48f8_11e9_8492_409f3864a092row8_col0\" class=\"data row8 col0\" >i- True Key</td> \n",
       "        <td id=\"T_f906265e_48f8_11e9_8492_409f3864a092row8_col1\" class=\"data row8 col1\" >+</td> \n",
       "        <td id=\"T_f906265e_48f8_11e9_8492_409f3864a092row8_col2\" class=\"data row8 col2\" >+</td> \n",
       "        <td id=\"T_f906265e_48f8_11e9_8492_409f3864a092row8_col3\" class=\"data row8 col3\" >--</td> \n",
       "        <td id=\"T_f906265e_48f8_11e9_8492_409f3864a092row8_col4\" class=\"data row8 col4\" >-</td> \n",
       "        <td id=\"T_f906265e_48f8_11e9_8492_409f3864a092row8_col5\" class=\"data row8 col5\" >9.5</td> \n",
       "    </tr>    <tr> \n",
       "        <th id=\"T_f906265e_48f8_11e9_8492_409f3864a092level0_row9\" class=\"row_heading level0 row9\" >9</th> \n",
       "        <td id=\"T_f906265e_48f8_11e9_8492_409f3864a092row9_col0\" class=\"data row9 col0\" >j- Avast</td> \n",
       "        <td id=\"T_f906265e_48f8_11e9_8492_409f3864a092row9_col1\" class=\"data row9 col1\" >++</td> \n",
       "        <td id=\"T_f906265e_48f8_11e9_8492_409f3864a092row9_col2\" class=\"data row9 col2\" >-</td> \n",
       "        <td id=\"T_f906265e_48f8_11e9_8492_409f3864a092row9_col3\" class=\"data row9 col3\" >-</td> \n",
       "        <td id=\"T_f906265e_48f8_11e9_8492_409f3864a092row9_col4\" class=\"data row9 col4\" >-</td> \n",
       "        <td id=\"T_f906265e_48f8_11e9_8492_409f3864a092row9_col5\" class=\"data row9 col5\" >9.5</td> \n",
       "    </tr></tbody> \n",
       "</table> <style  type=\"text/css\" >\n",
       "</style>  \n",
       "<table id=\"T_f906e922_48f8_11e9_a929_409f3864a092\" style='display:inline'><caption>Programme Lineaire - Pire score Avast</caption> \n",
       "<thead>    <tr> \n",
       "        <th class=\"blank level0\" ></th> \n",
       "        <th class=\"col_heading level0 col0\" >Produit</th> \n",
       "        <th class=\"col_heading level0 col1\" >Ordinateurs</th> \n",
       "        <th class=\"col_heading level0 col2\" >Mobiles</th> \n",
       "        <th class=\"col_heading level0 col3\" >Protection</th> \n",
       "        <th class=\"col_heading level0 col4\" >Aide</th> \n",
       "        <th class=\"col_heading level0 col5\" >Score</th> \n",
       "    </tr></thead> \n",
       "<tbody>    <tr> \n",
       "        <th id=\"T_f906e922_48f8_11e9_a929_409f3864a092level0_row0\" class=\"row_heading level0 row0\" >0</th> \n",
       "        <td id=\"T_f906e922_48f8_11e9_a929_409f3864a092row0_col0\" class=\"data row0 col0\" >a- Dashlane</td> \n",
       "        <td id=\"T_f906e922_48f8_11e9_a929_409f3864a092row0_col1\" class=\"data row0 col1\" >13</td> \n",
       "        <td id=\"T_f906e922_48f8_11e9_a929_409f3864a092row0_col2\" class=\"data row0 col2\" >13</td> \n",
       "        <td id=\"T_f906e922_48f8_11e9_a929_409f3864a092row0_col3\" class=\"data row0 col3\" >13</td> \n",
       "        <td id=\"T_f906e922_48f8_11e9_a929_409f3864a092row0_col4\" class=\"data row0 col4\" >13</td> \n",
       "        <td id=\"T_f906e922_48f8_11e9_a929_409f3864a092row0_col5\" class=\"data row0 col5\" >13</td> \n",
       "    </tr>    <tr> \n",
       "        <th id=\"T_f906e922_48f8_11e9_a929_409f3864a092level0_row1\" class=\"row_heading level0 row1\" >1</th> \n",
       "        <td id=\"T_f906e922_48f8_11e9_a929_409f3864a092row1_col0\" class=\"data row1 col0\" >b- LastPass</td> \n",
       "        <td id=\"T_f906e922_48f8_11e9_a929_409f3864a092row1_col1\" class=\"data row1 col1\" >17</td> \n",
       "        <td id=\"T_f906e922_48f8_11e9_a929_409f3864a092row1_col2\" class=\"data row1 col2\" >10</td> \n",
       "        <td id=\"T_f906e922_48f8_11e9_a929_409f3864a092row1_col3\" class=\"data row1 col3\" >10</td> \n",
       "        <td id=\"T_f906e922_48f8_11e9_a929_409f3864a092row1_col4\" class=\"data row1 col4\" >7</td> \n",
       "        <td id=\"T_f906e922_48f8_11e9_a929_409f3864a092row1_col5\" class=\"data row1 col5\" >12.15</td> \n",
       "    </tr>    <tr> \n",
       "        <th id=\"T_f906e922_48f8_11e9_a929_409f3864a092level0_row2\" class=\"row_heading level0 row2\" >2</th> \n",
       "        <td id=\"T_f906e922_48f8_11e9_a929_409f3864a092row2_col0\" class=\"data row2 col0\" >c- Roboform</td> \n",
       "        <td id=\"T_f906e922_48f8_11e9_a929_409f3864a092row2_col1\" class=\"data row2 col1\" >10</td> \n",
       "        <td id=\"T_f906e922_48f8_11e9_a929_409f3864a092row2_col2\" class=\"data row2 col2\" >13</td> \n",
       "        <td id=\"T_f906e922_48f8_11e9_a929_409f3864a092row2_col3\" class=\"data row2 col3\" >10</td> \n",
       "        <td id=\"T_f906e922_48f8_11e9_a929_409f3864a092row2_col4\" class=\"data row2 col4\" >7</td> \n",
       "        <td id=\"T_f906e922_48f8_11e9_a929_409f3864a092row2_col5\" class=\"data row2 col5\" >10.75</td> \n",
       "    </tr>    <tr> \n",
       "        <th id=\"T_f906e922_48f8_11e9_a929_409f3864a092level0_row3\" class=\"row_heading level0 row3\" >3</th> \n",
       "        <td id=\"T_f906e922_48f8_11e9_a929_409f3864a092row3_col0\" class=\"data row3 col0\" >d- Kaspersky</td> \n",
       "        <td id=\"T_f906e922_48f8_11e9_a929_409f3864a092row3_col1\" class=\"data row3 col1\" >17</td> \n",
       "        <td id=\"T_f906e922_48f8_11e9_a929_409f3864a092row3_col2\" class=\"data row3 col2\" >7</td> \n",
       "        <td id=\"T_f906e922_48f8_11e9_a929_409f3864a092row3_col3\" class=\"data row3 col3\" >10</td> \n",
       "        <td id=\"T_f906e922_48f8_11e9_a929_409f3864a092row3_col4\" class=\"data row3 col4\" >10</td> \n",
       "        <td id=\"T_f906e922_48f8_11e9_a929_409f3864a092row3_col5\" class=\"data row3 col5\" >11.4</td> \n",
       "    </tr>    <tr> \n",
       "        <th id=\"T_f906e922_48f8_11e9_a929_409f3864a092level0_row4\" class=\"row_heading level0 row4\" >4</th> \n",
       "        <td id=\"T_f906e922_48f8_11e9_a929_409f3864a092row4_col0\" class=\"data row4 col0\" >e- Keeper</td> \n",
       "        <td id=\"T_f906e922_48f8_11e9_a929_409f3864a092row4_col1\" class=\"data row4 col1\" >13</td> \n",
       "        <td id=\"T_f906e922_48f8_11e9_a929_409f3864a092row4_col2\" class=\"data row4 col2\" >10</td> \n",
       "        <td id=\"T_f906e922_48f8_11e9_a929_409f3864a092row4_col3\" class=\"data row4 col3\" >10</td> \n",
       "        <td id=\"T_f906e922_48f8_11e9_a929_409f3864a092row4_col4\" class=\"data row4 col4\" >10</td> \n",
       "        <td id=\"T_f906e922_48f8_11e9_a929_409f3864a092row4_col5\" class=\"data row4 col5\" >11.05</td> \n",
       "    </tr>    <tr> \n",
       "        <th id=\"T_f906e922_48f8_11e9_a929_409f3864a092level0_row5\" class=\"row_heading level0 row5\" >5</th> \n",
       "        <td id=\"T_f906e922_48f8_11e9_a929_409f3864a092row5_col0\" class=\"data row5 col0\" >f- 1Password</td> \n",
       "        <td id=\"T_f906e922_48f8_11e9_a929_409f3864a092row5_col1\" class=\"data row5 col1\" >13</td> \n",
       "        <td id=\"T_f906e922_48f8_11e9_a929_409f3864a092row5_col2\" class=\"data row5 col2\" >10</td> \n",
       "        <td id=\"T_f906e922_48f8_11e9_a929_409f3864a092row5_col3\" class=\"data row5 col3\" >13</td> \n",
       "        <td id=\"T_f906e922_48f8_11e9_a929_409f3864a092row5_col4\" class=\"data row5 col4\" >7</td> \n",
       "        <td id=\"T_f906e922_48f8_11e9_a929_409f3864a092row5_col5\" class=\"data row5 col5\" >11.35</td> \n",
       "    </tr>    <tr> \n",
       "        <th id=\"T_f906e922_48f8_11e9_a929_409f3864a092level0_row6\" class=\"row_heading level0 row6\" >6</th> \n",
       "        <td id=\"T_f906e922_48f8_11e9_a929_409f3864a092row6_col0\" class=\"data row6 col0\" >g- Enpass</td> \n",
       "        <td id=\"T_f906e922_48f8_11e9_a929_409f3864a092row6_col1\" class=\"data row6 col1\" >10</td> \n",
       "        <td id=\"T_f906e922_48f8_11e9_a929_409f3864a092row6_col2\" class=\"data row6 col2\" >7</td> \n",
       "        <td id=\"T_f906e922_48f8_11e9_a929_409f3864a092row6_col3\" class=\"data row6 col3\" >13</td> \n",
       "        <td id=\"T_f906e922_48f8_11e9_a929_409f3864a092row6_col4\" class=\"data row6 col4\" >7</td> \n",
       "        <td id=\"T_f906e922_48f8_11e9_a929_409f3864a092row6_col5\" class=\"data row6 col5\" >9.25</td> \n",
       "    </tr>    <tr> \n",
       "        <th id=\"T_f906e922_48f8_11e9_a929_409f3864a092level0_row7\" class=\"row_heading level0 row7\" >7</th> \n",
       "        <td id=\"T_f906e922_48f8_11e9_a929_409f3864a092row7_col0\" class=\"data row7 col0\" >h- Norton </td> \n",
       "        <td id=\"T_f906e922_48f8_11e9_a929_409f3864a092row7_col1\" class=\"data row7 col1\" >0</td> \n",
       "        <td id=\"T_f906e922_48f8_11e9_a929_409f3864a092row7_col2\" class=\"data row7 col2\" >17</td> \n",
       "        <td id=\"T_f906e922_48f8_11e9_a929_409f3864a092row7_col3\" class=\"data row7 col3\" >7</td> \n",
       "        <td id=\"T_f906e922_48f8_11e9_a929_409f3864a092row7_col4\" class=\"data row7 col4\" >7</td> \n",
       "        <td id=\"T_f906e922_48f8_11e9_a929_409f3864a092row7_col5\" class=\"data row7 col5\" >8.05</td> \n",
       "    </tr>    <tr> \n",
       "        <th id=\"T_f906e922_48f8_11e9_a929_409f3864a092level0_row8\" class=\"row_heading level0 row8\" >8</th> \n",
       "        <td id=\"T_f906e922_48f8_11e9_a929_409f3864a092row8_col0\" class=\"data row8 col0\" >i- True Key</td> \n",
       "        <td id=\"T_f906e922_48f8_11e9_a929_409f3864a092row8_col1\" class=\"data row8 col1\" >10</td> \n",
       "        <td id=\"T_f906e922_48f8_11e9_a929_409f3864a092row8_col2\" class=\"data row8 col2\" >10</td> \n",
       "        <td id=\"T_f906e922_48f8_11e9_a929_409f3864a092row8_col3\" class=\"data row8 col3\" >0</td> \n",
       "        <td id=\"T_f906e922_48f8_11e9_a929_409f3864a092row8_col4\" class=\"data row8 col4\" >7</td> \n",
       "        <td id=\"T_f906e922_48f8_11e9_a929_409f3864a092row8_col5\" class=\"data row8 col5\" >7.7</td> \n",
       "    </tr>    <tr> \n",
       "        <th id=\"T_f906e922_48f8_11e9_a929_409f3864a092level0_row9\" class=\"row_heading level0 row9\" >9</th> \n",
       "        <td id=\"T_f906e922_48f8_11e9_a929_409f3864a092row9_col0\" class=\"data row9 col0\" >j- Avast</td> \n",
       "        <td id=\"T_f906e922_48f8_11e9_a929_409f3864a092row9_col1\" class=\"data row9 col1\" >13</td> \n",
       "        <td id=\"T_f906e922_48f8_11e9_a929_409f3864a092row9_col2\" class=\"data row9 col2\" >7</td> \n",
       "        <td id=\"T_f906e922_48f8_11e9_a929_409f3864a092row9_col3\" class=\"data row9 col3\" >7</td> \n",
       "        <td id=\"T_f906e922_48f8_11e9_a929_409f3864a092row9_col4\" class=\"data row9 col4\" >7</td> \n",
       "        <td id=\"T_f906e922_48f8_11e9_a929_409f3864a092row9_col5\" class=\"data row9 col5\" >9.1</td> \n",
       "    </tr></tbody> \n",
       "</table> "
      ]
     },
     "metadata": {},
     "output_type": "display_data"
    },
    {
     "name": "stdout",
     "output_type": "stream",
     "text": [
      "Classement Min Avast\n"
     ]
    },
    {
     "data": {
      "text/html": [
       "<table border=\"1\"><tr><th>coef - Spearman</th><td>0.9235862696337803</td></tr><tr><th>p - Spearman</th><td>0.00013591680973240684</td></tr><tr><th>tau - Kendall</th><td>0.828078671210825</td></tr><tr><th>p_val - Kendall</th><td>0.0011169267142126383</td></tr><tr><th>Diff Moyenne</th><td>-1.8200000000000003</td></tr></table>"
      ],
      "text/plain": [
       "<IPython.core.display.HTML object>"
      ]
     },
     "metadata": {},
     "output_type": "display_data"
    }
   ],
   "source": [
    "display_html(df1_s._repr_html_()+df2_s._repr_html_(), raw=True)\n",
    "\n",
    "print(\"Classement Min Avast\")\n",
    "display(HTML(json2html.convert(json = dict_min_y10)))"
   ]
  },
  {
   "cell_type": "code",
   "execution_count": 21,
   "metadata": {
    "tags": [
     "remove_cell"
    ]
   },
   "outputs": [],
   "source": [
    "%%capture\n",
    "exportInExcel(export_name, 'Avast',\n",
    "             [result_original, result_test_avast_max, result_test_avast_min],\n",
    "             ['Modèle Original',model_name_test3, model_name_test4],\n",
    "             [dict_max_y10,dict_min_y10])"
   ]
  },
  {
   "cell_type": "markdown",
   "metadata": {},
   "source": [
    "#### Commentaires"
   ]
  },
  {
   "cell_type": "markdown",
   "metadata": {},
   "source": [
    "En comparant chacun des classements obtenus à celui du magazine, on observe les mêmes coefficients de Spearman et de Kendall, respectivement 92,36 % et 82,81%. Les classements obtenus évoluent donc dans le même sens que celui du magazine.\n",
    "On remarque que la différence de moyenne est négative, cela signifie que les notes de notre classement sont en moyenne inférieure de 1,82 points que celle du classement du magazine.\n",
    "On observe aussi que le classement obtenu est exactement le même que celui obtenu en maximisant et en minimisant le score de Dashlane.\n",
    "\n"
   ]
  },
  {
   "cell_type": "markdown",
   "metadata": {},
   "source": [
    "### 2.2  Score global  maximal pour chaque produit"
   ]
  },
  {
   "cell_type": "markdown",
   "metadata": {},
   "source": [
    "Enfin, nous avons décidé de ne plus prendre en compte l'ordre des notes établi par le classement du magazine (ex : La note de Dashlane n’est plus forcément meilleure que celle de LastPass, etc…).\n",
    "En comparant le classement fourni par le magazine au nôtre, on constate un coefficient de Spearman de 89% et un coefficient de Kendall de  76%. Ceci semble cohérent compte tenu de la variation du classement de nos logiciels (2 logiciels ex-aequo au dernier rang contre 2 logiciels ex-aequo à l'avant dernier rang."
   ]
  },
  {
   "cell_type": "code",
   "execution_count": 22,
   "metadata": {
    "tags": [
     "remove_cell"
    ]
   },
   "outputs": [],
   "source": [
    "%%capture\n",
    "update_model_Q4 = createUpdateModel([], ['c11', 'c12', 'c13', \n",
    "                                                                    'c14', 'c15', 'c16',\n",
    "                                                                    'c17', 'c18', 'c19'])\n",
    "\n",
    "    \n",
    "    \n",
    "model_name_7 = 'Programme Lineaire - Score global maximal pour chaque produit'\n",
    "result_4_1_all_max = checkAdditiveModel(csv_name=csv_name,\n",
    "                  model_name=model_name_7,\n",
    "                  eval_expr='all',\n",
    "                  direction='max',\n",
    "                  update_model=update_model_Q4)\n",
    "   \n",
    "dict_max_all = compareRankings(result_original['Score'], result_4_1_all_max['Score']) \n",
    "   "
   ]
  },
  {
   "cell_type": "code",
   "execution_count": 23,
   "metadata": {
    "tags": [
     "remove_cell"
    ]
   },
   "outputs": [],
   "source": [
    "%%capture\n",
    "df1_s = result_original.style.set_table_attributes(\"style='display:inline'\").set_caption('Modèle original')\n",
    "df2_s = result_4_1_all_max.style.set_table_attributes(\"style='display:inline'\").set_caption(model_name_7)\n"
   ]
  },
  {
   "cell_type": "code",
   "execution_count": 24,
   "metadata": {
    "tags": [
     "remove_cell"
    ]
   },
   "outputs": [
    {
     "data": {
      "text/html": [
       "<style  type=\"text/css\" >\n",
       "</style>  \n",
       "<table id=\"T_f9d88552_48f8_11e9_a4e7_409f3864a092\" style='display:inline'><caption>Modèle original</caption> \n",
       "<thead>    <tr> \n",
       "        <th class=\"blank level0\" ></th> \n",
       "        <th class=\"col_heading level0 col0\" >Produit</th> \n",
       "        <th class=\"col_heading level0 col1\" >Ordinateurs</th> \n",
       "        <th class=\"col_heading level0 col2\" >Mobiles</th> \n",
       "        <th class=\"col_heading level0 col3\" >Protection</th> \n",
       "        <th class=\"col_heading level0 col4\" >Aide</th> \n",
       "        <th class=\"col_heading level0 col5\" >Score</th> \n",
       "    </tr></thead> \n",
       "<tbody>    <tr> \n",
       "        <th id=\"T_f9d88552_48f8_11e9_a4e7_409f3864a092level0_row0\" class=\"row_heading level0 row0\" >0</th> \n",
       "        <td id=\"T_f9d88552_48f8_11e9_a4e7_409f3864a092row0_col0\" class=\"data row0 col0\" >a- Dashlane</td> \n",
       "        <td id=\"T_f9d88552_48f8_11e9_a4e7_409f3864a092row0_col1\" class=\"data row0 col1\" >++</td> \n",
       "        <td id=\"T_f9d88552_48f8_11e9_a4e7_409f3864a092row0_col2\" class=\"data row0 col2\" >++</td> \n",
       "        <td id=\"T_f9d88552_48f8_11e9_a4e7_409f3864a092row0_col3\" class=\"data row0 col3\" >++</td> \n",
       "        <td id=\"T_f9d88552_48f8_11e9_a4e7_409f3864a092row0_col4\" class=\"data row0 col4\" >++</td> \n",
       "        <td id=\"T_f9d88552_48f8_11e9_a4e7_409f3864a092row0_col5\" class=\"data row0 col5\" >15</td> \n",
       "    </tr>    <tr> \n",
       "        <th id=\"T_f9d88552_48f8_11e9_a4e7_409f3864a092level0_row1\" class=\"row_heading level0 row1\" >1</th> \n",
       "        <td id=\"T_f9d88552_48f8_11e9_a4e7_409f3864a092row1_col0\" class=\"data row1 col0\" >b- LastPass</td> \n",
       "        <td id=\"T_f9d88552_48f8_11e9_a4e7_409f3864a092row1_col1\" class=\"data row1 col1\" >+++</td> \n",
       "        <td id=\"T_f9d88552_48f8_11e9_a4e7_409f3864a092row1_col2\" class=\"data row1 col2\" >+</td> \n",
       "        <td id=\"T_f9d88552_48f8_11e9_a4e7_409f3864a092row1_col3\" class=\"data row1 col3\" >+</td> \n",
       "        <td id=\"T_f9d88552_48f8_11e9_a4e7_409f3864a092row1_col4\" class=\"data row1 col4\" >-</td> \n",
       "        <td id=\"T_f9d88552_48f8_11e9_a4e7_409f3864a092row1_col5\" class=\"data row1 col5\" >14</td> \n",
       "    </tr>    <tr> \n",
       "        <th id=\"T_f9d88552_48f8_11e9_a4e7_409f3864a092level0_row2\" class=\"row_heading level0 row2\" >2</th> \n",
       "        <td id=\"T_f9d88552_48f8_11e9_a4e7_409f3864a092row2_col0\" class=\"data row2 col0\" >c- Roboform</td> \n",
       "        <td id=\"T_f9d88552_48f8_11e9_a4e7_409f3864a092row2_col1\" class=\"data row2 col1\" >+</td> \n",
       "        <td id=\"T_f9d88552_48f8_11e9_a4e7_409f3864a092row2_col2\" class=\"data row2 col2\" >++</td> \n",
       "        <td id=\"T_f9d88552_48f8_11e9_a4e7_409f3864a092row2_col3\" class=\"data row2 col3\" >+</td> \n",
       "        <td id=\"T_f9d88552_48f8_11e9_a4e7_409f3864a092row2_col4\" class=\"data row2 col4\" >-</td> \n",
       "        <td id=\"T_f9d88552_48f8_11e9_a4e7_409f3864a092row2_col5\" class=\"data row2 col5\" >13</td> \n",
       "    </tr>    <tr> \n",
       "        <th id=\"T_f9d88552_48f8_11e9_a4e7_409f3864a092level0_row3\" class=\"row_heading level0 row3\" >3</th> \n",
       "        <td id=\"T_f9d88552_48f8_11e9_a4e7_409f3864a092row3_col0\" class=\"data row3 col0\" >d- Kaspersky</td> \n",
       "        <td id=\"T_f9d88552_48f8_11e9_a4e7_409f3864a092row3_col1\" class=\"data row3 col1\" >+++</td> \n",
       "        <td id=\"T_f9d88552_48f8_11e9_a4e7_409f3864a092row3_col2\" class=\"data row3 col2\" >-</td> \n",
       "        <td id=\"T_f9d88552_48f8_11e9_a4e7_409f3864a092row3_col3\" class=\"data row3 col3\" >+</td> \n",
       "        <td id=\"T_f9d88552_48f8_11e9_a4e7_409f3864a092row3_col4\" class=\"data row3 col4\" >+</td> \n",
       "        <td id=\"T_f9d88552_48f8_11e9_a4e7_409f3864a092row3_col5\" class=\"data row3 col5\" >13</td> \n",
       "    </tr>    <tr> \n",
       "        <th id=\"T_f9d88552_48f8_11e9_a4e7_409f3864a092level0_row4\" class=\"row_heading level0 row4\" >4</th> \n",
       "        <td id=\"T_f9d88552_48f8_11e9_a4e7_409f3864a092row4_col0\" class=\"data row4 col0\" >e- Keeper</td> \n",
       "        <td id=\"T_f9d88552_48f8_11e9_a4e7_409f3864a092row4_col1\" class=\"data row4 col1\" >++</td> \n",
       "        <td id=\"T_f9d88552_48f8_11e9_a4e7_409f3864a092row4_col2\" class=\"data row4 col2\" >+</td> \n",
       "        <td id=\"T_f9d88552_48f8_11e9_a4e7_409f3864a092row4_col3\" class=\"data row4 col3\" >+</td> \n",
       "        <td id=\"T_f9d88552_48f8_11e9_a4e7_409f3864a092row4_col4\" class=\"data row4 col4\" >+</td> \n",
       "        <td id=\"T_f9d88552_48f8_11e9_a4e7_409f3864a092row4_col5\" class=\"data row4 col5\" >12.5</td> \n",
       "    </tr>    <tr> \n",
       "        <th id=\"T_f9d88552_48f8_11e9_a4e7_409f3864a092level0_row5\" class=\"row_heading level0 row5\" >5</th> \n",
       "        <td id=\"T_f9d88552_48f8_11e9_a4e7_409f3864a092row5_col0\" class=\"data row5 col0\" >f- 1Password</td> \n",
       "        <td id=\"T_f9d88552_48f8_11e9_a4e7_409f3864a092row5_col1\" class=\"data row5 col1\" >++</td> \n",
       "        <td id=\"T_f9d88552_48f8_11e9_a4e7_409f3864a092row5_col2\" class=\"data row5 col2\" >+</td> \n",
       "        <td id=\"T_f9d88552_48f8_11e9_a4e7_409f3864a092row5_col3\" class=\"data row5 col3\" >++</td> \n",
       "        <td id=\"T_f9d88552_48f8_11e9_a4e7_409f3864a092row5_col4\" class=\"data row5 col4\" >-</td> \n",
       "        <td id=\"T_f9d88552_48f8_11e9_a4e7_409f3864a092row5_col5\" class=\"data row5 col5\" >12.5</td> \n",
       "    </tr>    <tr> \n",
       "        <th id=\"T_f9d88552_48f8_11e9_a4e7_409f3864a092level0_row6\" class=\"row_heading level0 row6\" >6</th> \n",
       "        <td id=\"T_f9d88552_48f8_11e9_a4e7_409f3864a092row6_col0\" class=\"data row6 col0\" >g- Enpass</td> \n",
       "        <td id=\"T_f9d88552_48f8_11e9_a4e7_409f3864a092row6_col1\" class=\"data row6 col1\" >+</td> \n",
       "        <td id=\"T_f9d88552_48f8_11e9_a4e7_409f3864a092row6_col2\" class=\"data row6 col2\" >-</td> \n",
       "        <td id=\"T_f9d88552_48f8_11e9_a4e7_409f3864a092row6_col3\" class=\"data row6 col3\" >++</td> \n",
       "        <td id=\"T_f9d88552_48f8_11e9_a4e7_409f3864a092row6_col4\" class=\"data row6 col4\" >-</td> \n",
       "        <td id=\"T_f9d88552_48f8_11e9_a4e7_409f3864a092row6_col5\" class=\"data row6 col5\" >12</td> \n",
       "    </tr>    <tr> \n",
       "        <th id=\"T_f9d88552_48f8_11e9_a4e7_409f3864a092level0_row7\" class=\"row_heading level0 row7\" >7</th> \n",
       "        <td id=\"T_f9d88552_48f8_11e9_a4e7_409f3864a092row7_col0\" class=\"data row7 col0\" >h- Norton </td> \n",
       "        <td id=\"T_f9d88552_48f8_11e9_a4e7_409f3864a092row7_col1\" class=\"data row7 col1\" >--</td> \n",
       "        <td id=\"T_f9d88552_48f8_11e9_a4e7_409f3864a092row7_col2\" class=\"data row7 col2\" >+++</td> \n",
       "        <td id=\"T_f9d88552_48f8_11e9_a4e7_409f3864a092row7_col3\" class=\"data row7 col3\" >-</td> \n",
       "        <td id=\"T_f9d88552_48f8_11e9_a4e7_409f3864a092row7_col4\" class=\"data row7 col4\" >-</td> \n",
       "        <td id=\"T_f9d88552_48f8_11e9_a4e7_409f3864a092row7_col5\" class=\"data row7 col5\" >11</td> \n",
       "    </tr>    <tr> \n",
       "        <th id=\"T_f9d88552_48f8_11e9_a4e7_409f3864a092level0_row8\" class=\"row_heading level0 row8\" >8</th> \n",
       "        <td id=\"T_f9d88552_48f8_11e9_a4e7_409f3864a092row8_col0\" class=\"data row8 col0\" >i- True Key</td> \n",
       "        <td id=\"T_f9d88552_48f8_11e9_a4e7_409f3864a092row8_col1\" class=\"data row8 col1\" >+</td> \n",
       "        <td id=\"T_f9d88552_48f8_11e9_a4e7_409f3864a092row8_col2\" class=\"data row8 col2\" >+</td> \n",
       "        <td id=\"T_f9d88552_48f8_11e9_a4e7_409f3864a092row8_col3\" class=\"data row8 col3\" >--</td> \n",
       "        <td id=\"T_f9d88552_48f8_11e9_a4e7_409f3864a092row8_col4\" class=\"data row8 col4\" >-</td> \n",
       "        <td id=\"T_f9d88552_48f8_11e9_a4e7_409f3864a092row8_col5\" class=\"data row8 col5\" >9.5</td> \n",
       "    </tr>    <tr> \n",
       "        <th id=\"T_f9d88552_48f8_11e9_a4e7_409f3864a092level0_row9\" class=\"row_heading level0 row9\" >9</th> \n",
       "        <td id=\"T_f9d88552_48f8_11e9_a4e7_409f3864a092row9_col0\" class=\"data row9 col0\" >j- Avast</td> \n",
       "        <td id=\"T_f9d88552_48f8_11e9_a4e7_409f3864a092row9_col1\" class=\"data row9 col1\" >++</td> \n",
       "        <td id=\"T_f9d88552_48f8_11e9_a4e7_409f3864a092row9_col2\" class=\"data row9 col2\" >-</td> \n",
       "        <td id=\"T_f9d88552_48f8_11e9_a4e7_409f3864a092row9_col3\" class=\"data row9 col3\" >-</td> \n",
       "        <td id=\"T_f9d88552_48f8_11e9_a4e7_409f3864a092row9_col4\" class=\"data row9 col4\" >-</td> \n",
       "        <td id=\"T_f9d88552_48f8_11e9_a4e7_409f3864a092row9_col5\" class=\"data row9 col5\" >9.5</td> \n",
       "    </tr></tbody> \n",
       "</table> <style  type=\"text/css\" >\n",
       "</style>  \n",
       "<table id=\"T_f9d96f08_48f8_11e9_a945_409f3864a092\" style='display:inline'><caption>Programme Lineaire - Score global maximal pour chaque produit</caption> \n",
       "<thead>    <tr> \n",
       "        <th class=\"blank level0\" ></th> \n",
       "        <th class=\"col_heading level0 col0\" >Produit</th> \n",
       "        <th class=\"col_heading level0 col1\" >Ordinateurs</th> \n",
       "        <th class=\"col_heading level0 col2\" >Mobiles</th> \n",
       "        <th class=\"col_heading level0 col3\" >Protection</th> \n",
       "        <th class=\"col_heading level0 col4\" >Aide</th> \n",
       "        <th class=\"col_heading level0 col5\" >Score</th> \n",
       "    </tr></thead> \n",
       "<tbody>    <tr> \n",
       "        <th id=\"T_f9d96f08_48f8_11e9_a945_409f3864a092level0_row0\" class=\"row_heading level0 row0\" >0</th> \n",
       "        <td id=\"T_f9d96f08_48f8_11e9_a945_409f3864a092row0_col0\" class=\"data row0 col0\" >a- Dashlane</td> \n",
       "        <td id=\"T_f9d96f08_48f8_11e9_a945_409f3864a092row0_col1\" class=\"data row0 col1\" >16.5</td> \n",
       "        <td id=\"T_f9d96f08_48f8_11e9_a945_409f3864a092row0_col2\" class=\"data row0 col2\" >16.5</td> \n",
       "        <td id=\"T_f9d96f08_48f8_11e9_a945_409f3864a092row0_col3\" class=\"data row0 col3\" >16.5</td> \n",
       "        <td id=\"T_f9d96f08_48f8_11e9_a945_409f3864a092row0_col4\" class=\"data row0 col4\" >16.5</td> \n",
       "        <td id=\"T_f9d96f08_48f8_11e9_a945_409f3864a092row0_col5\" class=\"data row0 col5\" >16.5</td> \n",
       "    </tr>    <tr> \n",
       "        <th id=\"T_f9d96f08_48f8_11e9_a945_409f3864a092level0_row1\" class=\"row_heading level0 row1\" >1</th> \n",
       "        <td id=\"T_f9d96f08_48f8_11e9_a945_409f3864a092row1_col0\" class=\"data row1 col0\" >b- LastPass</td> \n",
       "        <td id=\"T_f9d96f08_48f8_11e9_a945_409f3864a092row1_col1\" class=\"data row1 col1\" >20</td> \n",
       "        <td id=\"T_f9d96f08_48f8_11e9_a945_409f3864a092row1_col2\" class=\"data row1 col2\" >12.5</td> \n",
       "        <td id=\"T_f9d96f08_48f8_11e9_a945_409f3864a092row1_col3\" class=\"data row1 col3\" >12.5</td> \n",
       "        <td id=\"T_f9d96f08_48f8_11e9_a945_409f3864a092row1_col4\" class=\"data row1 col4\" >9.5</td> \n",
       "        <td id=\"T_f9d96f08_48f8_11e9_a945_409f3864a092row1_col5\" class=\"data row1 col5\" >14.825</td> \n",
       "    </tr>    <tr> \n",
       "        <th id=\"T_f9d96f08_48f8_11e9_a945_409f3864a092level0_row2\" class=\"row_heading level0 row2\" >2</th> \n",
       "        <td id=\"T_f9d96f08_48f8_11e9_a945_409f3864a092row2_col0\" class=\"data row2 col0\" >c- Roboform</td> \n",
       "        <td id=\"T_f9d96f08_48f8_11e9_a945_409f3864a092row2_col1\" class=\"data row2 col1\" >12.5</td> \n",
       "        <td id=\"T_f9d96f08_48f8_11e9_a945_409f3864a092row2_col2\" class=\"data row2 col2\" >16.5</td> \n",
       "        <td id=\"T_f9d96f08_48f8_11e9_a945_409f3864a092row2_col3\" class=\"data row2 col3\" >12.5</td> \n",
       "        <td id=\"T_f9d96f08_48f8_11e9_a945_409f3864a092row2_col4\" class=\"data row2 col4\" >9.5</td> \n",
       "        <td id=\"T_f9d96f08_48f8_11e9_a945_409f3864a092row2_col5\" class=\"data row2 col5\" >13.6</td> \n",
       "    </tr>    <tr> \n",
       "        <th id=\"T_f9d96f08_48f8_11e9_a945_409f3864a092level0_row3\" class=\"row_heading level0 row3\" >3</th> \n",
       "        <td id=\"T_f9d96f08_48f8_11e9_a945_409f3864a092row3_col0\" class=\"data row3 col0\" >d- Kaspersky</td> \n",
       "        <td id=\"T_f9d96f08_48f8_11e9_a945_409f3864a092row3_col1\" class=\"data row3 col1\" >20</td> \n",
       "        <td id=\"T_f9d96f08_48f8_11e9_a945_409f3864a092row3_col2\" class=\"data row3 col2\" >9.5</td> \n",
       "        <td id=\"T_f9d96f08_48f8_11e9_a945_409f3864a092row3_col3\" class=\"data row3 col3\" >12.5</td> \n",
       "        <td id=\"T_f9d96f08_48f8_11e9_a945_409f3864a092row3_col4\" class=\"data row3 col4\" >12.5</td> \n",
       "        <td id=\"T_f9d96f08_48f8_11e9_a945_409f3864a092row3_col5\" class=\"data row3 col5\" >14.075</td> \n",
       "    </tr>    <tr> \n",
       "        <th id=\"T_f9d96f08_48f8_11e9_a945_409f3864a092level0_row4\" class=\"row_heading level0 row4\" >4</th> \n",
       "        <td id=\"T_f9d96f08_48f8_11e9_a945_409f3864a092row4_col0\" class=\"data row4 col0\" >e- Keeper</td> \n",
       "        <td id=\"T_f9d96f08_48f8_11e9_a945_409f3864a092row4_col1\" class=\"data row4 col1\" >16.5</td> \n",
       "        <td id=\"T_f9d96f08_48f8_11e9_a945_409f3864a092row4_col2\" class=\"data row4 col2\" >12.5</td> \n",
       "        <td id=\"T_f9d96f08_48f8_11e9_a945_409f3864a092row4_col3\" class=\"data row4 col3\" >12.5</td> \n",
       "        <td id=\"T_f9d96f08_48f8_11e9_a945_409f3864a092row4_col4\" class=\"data row4 col4\" >12.5</td> \n",
       "        <td id=\"T_f9d96f08_48f8_11e9_a945_409f3864a092row4_col5\" class=\"data row4 col5\" >13.9</td> \n",
       "    </tr>    <tr> \n",
       "        <th id=\"T_f9d96f08_48f8_11e9_a945_409f3864a092level0_row5\" class=\"row_heading level0 row5\" >5</th> \n",
       "        <td id=\"T_f9d96f08_48f8_11e9_a945_409f3864a092row5_col0\" class=\"data row5 col0\" >f- 1Password</td> \n",
       "        <td id=\"T_f9d96f08_48f8_11e9_a945_409f3864a092row5_col1\" class=\"data row5 col1\" >16.5</td> \n",
       "        <td id=\"T_f9d96f08_48f8_11e9_a945_409f3864a092row5_col2\" class=\"data row5 col2\" >12.5</td> \n",
       "        <td id=\"T_f9d96f08_48f8_11e9_a945_409f3864a092row5_col3\" class=\"data row5 col3\" >16.5</td> \n",
       "        <td id=\"T_f9d96f08_48f8_11e9_a945_409f3864a092row5_col4\" class=\"data row5 col4\" >9.5</td> \n",
       "        <td id=\"T_f9d96f08_48f8_11e9_a945_409f3864a092row5_col5\" class=\"data row5 col5\" >14.4</td> \n",
       "    </tr>    <tr> \n",
       "        <th id=\"T_f9d96f08_48f8_11e9_a945_409f3864a092level0_row6\" class=\"row_heading level0 row6\" >6</th> \n",
       "        <td id=\"T_f9d96f08_48f8_11e9_a945_409f3864a092row6_col0\" class=\"data row6 col0\" >g- Enpass</td> \n",
       "        <td id=\"T_f9d96f08_48f8_11e9_a945_409f3864a092row6_col1\" class=\"data row6 col1\" >12.5</td> \n",
       "        <td id=\"T_f9d96f08_48f8_11e9_a945_409f3864a092row6_col2\" class=\"data row6 col2\" >9.5</td> \n",
       "        <td id=\"T_f9d96f08_48f8_11e9_a945_409f3864a092row6_col3\" class=\"data row6 col3\" >16.5</td> \n",
       "        <td id=\"T_f9d96f08_48f8_11e9_a945_409f3864a092row6_col4\" class=\"data row6 col4\" >9.5</td> \n",
       "        <td id=\"T_f9d96f08_48f8_11e9_a945_409f3864a092row6_col5\" class=\"data row6 col5\" >11.95</td> \n",
       "    </tr>    <tr> \n",
       "        <th id=\"T_f9d96f08_48f8_11e9_a945_409f3864a092level0_row7\" class=\"row_heading level0 row7\" >7</th> \n",
       "        <td id=\"T_f9d96f08_48f8_11e9_a945_409f3864a092row7_col0\" class=\"data row7 col0\" >h- Norton </td> \n",
       "        <td id=\"T_f9d96f08_48f8_11e9_a945_409f3864a092row7_col1\" class=\"data row7 col1\" >6.5</td> \n",
       "        <td id=\"T_f9d96f08_48f8_11e9_a945_409f3864a092row7_col2\" class=\"data row7 col2\" >20</td> \n",
       "        <td id=\"T_f9d96f08_48f8_11e9_a945_409f3864a092row7_col3\" class=\"data row7 col3\" >9.5</td> \n",
       "        <td id=\"T_f9d96f08_48f8_11e9_a945_409f3864a092row7_col4\" class=\"data row7 col4\" >9.5</td> \n",
       "        <td id=\"T_f9d96f08_48f8_11e9_a945_409f3864a092row7_col5\" class=\"data row7 col5\" >12.125</td> \n",
       "    </tr>    <tr> \n",
       "        <th id=\"T_f9d96f08_48f8_11e9_a945_409f3864a092level0_row8\" class=\"row_heading level0 row8\" >8</th> \n",
       "        <td id=\"T_f9d96f08_48f8_11e9_a945_409f3864a092row8_col0\" class=\"data row8 col0\" >i- True Key</td> \n",
       "        <td id=\"T_f9d96f08_48f8_11e9_a945_409f3864a092row8_col1\" class=\"data row8 col1\" >12.5</td> \n",
       "        <td id=\"T_f9d96f08_48f8_11e9_a945_409f3864a092row8_col2\" class=\"data row8 col2\" >12.5</td> \n",
       "        <td id=\"T_f9d96f08_48f8_11e9_a945_409f3864a092row8_col3\" class=\"data row8 col3\" >6.5</td> \n",
       "        <td id=\"T_f9d96f08_48f8_11e9_a945_409f3864a092row8_col4\" class=\"data row8 col4\" >9.5</td> \n",
       "        <td id=\"T_f9d96f08_48f8_11e9_a945_409f3864a092row8_col5\" class=\"data row8 col5\" >11</td> \n",
       "    </tr>    <tr> \n",
       "        <th id=\"T_f9d96f08_48f8_11e9_a945_409f3864a092level0_row9\" class=\"row_heading level0 row9\" >9</th> \n",
       "        <td id=\"T_f9d96f08_48f8_11e9_a945_409f3864a092row9_col0\" class=\"data row9 col0\" >j- Avast</td> \n",
       "        <td id=\"T_f9d96f08_48f8_11e9_a945_409f3864a092row9_col1\" class=\"data row9 col1\" >16.5</td> \n",
       "        <td id=\"T_f9d96f08_48f8_11e9_a945_409f3864a092row9_col2\" class=\"data row9 col2\" >9.5</td> \n",
       "        <td id=\"T_f9d96f08_48f8_11e9_a945_409f3864a092row9_col3\" class=\"data row9 col3\" >9.5</td> \n",
       "        <td id=\"T_f9d96f08_48f8_11e9_a945_409f3864a092row9_col4\" class=\"data row9 col4\" >9.5</td> \n",
       "        <td id=\"T_f9d96f08_48f8_11e9_a945_409f3864a092row9_col5\" class=\"data row9 col5\" >11.95</td> \n",
       "    </tr></tbody> \n",
       "</table> "
      ]
     },
     "metadata": {},
     "output_type": "display_data"
    },
    {
     "name": "stdout",
     "output_type": "stream",
     "text": [
      "Classement Max tous les produits\n"
     ]
    },
    {
     "data": {
      "text/html": [
       "<table border=\"1\"><tr><th>coef - Spearman</th><td>0.8746545467392752</td></tr><tr><th>p - Spearman</th><td>0.0009258603576065943</td></tr><tr><th>tau - Kendall</th><td>0.7360699299651778</td></tr><tr><th>p_val - Kendall</th><td>0.0037657701335442563</td></tr><tr><th>Diff Moyenne</th><td>1.2324999999999988</td></tr></table>"
      ],
      "text/plain": [
       "<IPython.core.display.HTML object>"
      ]
     },
     "metadata": {},
     "output_type": "display_data"
    }
   ],
   "source": [
    "display_html(df1_s._repr_html_()+df2_s._repr_html_(), raw=True)\n",
    "\n",
    "print(\"Classement Max tous les produits\")\n",
    "display(HTML(json2html.convert(json = dict_max_all)))"
   ]
  },
  {
   "cell_type": "code",
   "execution_count": 25,
   "metadata": {
    "tags": [
     "remove_cell"
    ]
   },
   "outputs": [],
   "source": [
    "%%capture\n",
    "exportInExcel(export_name, 'Q4',\n",
    "                 [result_original, result_4_1_all_max],\n",
    "                 ['Modèle Original',model_name_7],\n",
    "                 [dict_max_all])"
   ]
  },
  {
   "cell_type": "markdown",
   "metadata": {},
   "source": [
    "#### Commentaire"
   ]
  },
  {
   "cell_type": "markdown",
   "metadata": {},
   "source": [
    "En observant la différence moyenne, on remarque qu’elle est plus importante avec les hypothèses actuelles. Puisque la différence de moyenne est positive cela signifie que les notes de notre classement sont en moyenne supérieure de 1,23 points que celle du classement du magazine."
   ]
  },
  {
   "cell_type": "code",
   "execution_count": 29,
   "metadata": {
    "tags": [
     "remove_cell"
    ]
   },
   "outputs": [
    {
     "data": {
      "text/html": [
       "<style  type=\"text/css\" >\n",
       "</style>  \n",
       "<table id=\"T_34a24376_48fc_11e9_89e8_409f3864a092\" style='display:inline'><caption>Modèle original</caption> \n",
       "<thead>    <tr> \n",
       "        <th class=\"blank level0\" ></th> \n",
       "        <th class=\"col_heading level0 col0\" >Produit</th> \n",
       "        <th class=\"col_heading level0 col1\" >Ordinateurs</th> \n",
       "        <th class=\"col_heading level0 col2\" >Mobiles</th> \n",
       "        <th class=\"col_heading level0 col3\" >Protection</th> \n",
       "        <th class=\"col_heading level0 col4\" >Aide</th> \n",
       "        <th class=\"col_heading level0 col5\" >Score</th> \n",
       "    </tr></thead> \n",
       "<tbody>    <tr> \n",
       "        <th id=\"T_34a24376_48fc_11e9_89e8_409f3864a092level0_row0\" class=\"row_heading level0 row0\" >0</th> \n",
       "        <td id=\"T_34a24376_48fc_11e9_89e8_409f3864a092row0_col0\" class=\"data row0 col0\" >a- Dashlane</td> \n",
       "        <td id=\"T_34a24376_48fc_11e9_89e8_409f3864a092row0_col1\" class=\"data row0 col1\" >++</td> \n",
       "        <td id=\"T_34a24376_48fc_11e9_89e8_409f3864a092row0_col2\" class=\"data row0 col2\" >++</td> \n",
       "        <td id=\"T_34a24376_48fc_11e9_89e8_409f3864a092row0_col3\" class=\"data row0 col3\" >++</td> \n",
       "        <td id=\"T_34a24376_48fc_11e9_89e8_409f3864a092row0_col4\" class=\"data row0 col4\" >++</td> \n",
       "        <td id=\"T_34a24376_48fc_11e9_89e8_409f3864a092row0_col5\" class=\"data row0 col5\" >15</td> \n",
       "    </tr>    <tr> \n",
       "        <th id=\"T_34a24376_48fc_11e9_89e8_409f3864a092level0_row1\" class=\"row_heading level0 row1\" >1</th> \n",
       "        <td id=\"T_34a24376_48fc_11e9_89e8_409f3864a092row1_col0\" class=\"data row1 col0\" >b- LastPass</td> \n",
       "        <td id=\"T_34a24376_48fc_11e9_89e8_409f3864a092row1_col1\" class=\"data row1 col1\" >+++</td> \n",
       "        <td id=\"T_34a24376_48fc_11e9_89e8_409f3864a092row1_col2\" class=\"data row1 col2\" >+</td> \n",
       "        <td id=\"T_34a24376_48fc_11e9_89e8_409f3864a092row1_col3\" class=\"data row1 col3\" >+</td> \n",
       "        <td id=\"T_34a24376_48fc_11e9_89e8_409f3864a092row1_col4\" class=\"data row1 col4\" >-</td> \n",
       "        <td id=\"T_34a24376_48fc_11e9_89e8_409f3864a092row1_col5\" class=\"data row1 col5\" >14</td> \n",
       "    </tr>    <tr> \n",
       "        <th id=\"T_34a24376_48fc_11e9_89e8_409f3864a092level0_row2\" class=\"row_heading level0 row2\" >2</th> \n",
       "        <td id=\"T_34a24376_48fc_11e9_89e8_409f3864a092row2_col0\" class=\"data row2 col0\" >c- Roboform</td> \n",
       "        <td id=\"T_34a24376_48fc_11e9_89e8_409f3864a092row2_col1\" class=\"data row2 col1\" >+</td> \n",
       "        <td id=\"T_34a24376_48fc_11e9_89e8_409f3864a092row2_col2\" class=\"data row2 col2\" >++</td> \n",
       "        <td id=\"T_34a24376_48fc_11e9_89e8_409f3864a092row2_col3\" class=\"data row2 col3\" >+</td> \n",
       "        <td id=\"T_34a24376_48fc_11e9_89e8_409f3864a092row2_col4\" class=\"data row2 col4\" >-</td> \n",
       "        <td id=\"T_34a24376_48fc_11e9_89e8_409f3864a092row2_col5\" class=\"data row2 col5\" >13</td> \n",
       "    </tr>    <tr> \n",
       "        <th id=\"T_34a24376_48fc_11e9_89e8_409f3864a092level0_row3\" class=\"row_heading level0 row3\" >3</th> \n",
       "        <td id=\"T_34a24376_48fc_11e9_89e8_409f3864a092row3_col0\" class=\"data row3 col0\" >d- Kaspersky</td> \n",
       "        <td id=\"T_34a24376_48fc_11e9_89e8_409f3864a092row3_col1\" class=\"data row3 col1\" >+++</td> \n",
       "        <td id=\"T_34a24376_48fc_11e9_89e8_409f3864a092row3_col2\" class=\"data row3 col2\" >-</td> \n",
       "        <td id=\"T_34a24376_48fc_11e9_89e8_409f3864a092row3_col3\" class=\"data row3 col3\" >+</td> \n",
       "        <td id=\"T_34a24376_48fc_11e9_89e8_409f3864a092row3_col4\" class=\"data row3 col4\" >+</td> \n",
       "        <td id=\"T_34a24376_48fc_11e9_89e8_409f3864a092row3_col5\" class=\"data row3 col5\" >13</td> \n",
       "    </tr>    <tr> \n",
       "        <th id=\"T_34a24376_48fc_11e9_89e8_409f3864a092level0_row4\" class=\"row_heading level0 row4\" >4</th> \n",
       "        <td id=\"T_34a24376_48fc_11e9_89e8_409f3864a092row4_col0\" class=\"data row4 col0\" >e- Keeper</td> \n",
       "        <td id=\"T_34a24376_48fc_11e9_89e8_409f3864a092row4_col1\" class=\"data row4 col1\" >++</td> \n",
       "        <td id=\"T_34a24376_48fc_11e9_89e8_409f3864a092row4_col2\" class=\"data row4 col2\" >+</td> \n",
       "        <td id=\"T_34a24376_48fc_11e9_89e8_409f3864a092row4_col3\" class=\"data row4 col3\" >+</td> \n",
       "        <td id=\"T_34a24376_48fc_11e9_89e8_409f3864a092row4_col4\" class=\"data row4 col4\" >+</td> \n",
       "        <td id=\"T_34a24376_48fc_11e9_89e8_409f3864a092row4_col5\" class=\"data row4 col5\" >12.5</td> \n",
       "    </tr>    <tr> \n",
       "        <th id=\"T_34a24376_48fc_11e9_89e8_409f3864a092level0_row5\" class=\"row_heading level0 row5\" >5</th> \n",
       "        <td id=\"T_34a24376_48fc_11e9_89e8_409f3864a092row5_col0\" class=\"data row5 col0\" >f- 1Password</td> \n",
       "        <td id=\"T_34a24376_48fc_11e9_89e8_409f3864a092row5_col1\" class=\"data row5 col1\" >++</td> \n",
       "        <td id=\"T_34a24376_48fc_11e9_89e8_409f3864a092row5_col2\" class=\"data row5 col2\" >+</td> \n",
       "        <td id=\"T_34a24376_48fc_11e9_89e8_409f3864a092row5_col3\" class=\"data row5 col3\" >++</td> \n",
       "        <td id=\"T_34a24376_48fc_11e9_89e8_409f3864a092row5_col4\" class=\"data row5 col4\" >-</td> \n",
       "        <td id=\"T_34a24376_48fc_11e9_89e8_409f3864a092row5_col5\" class=\"data row5 col5\" >12.5</td> \n",
       "    </tr>    <tr> \n",
       "        <th id=\"T_34a24376_48fc_11e9_89e8_409f3864a092level0_row6\" class=\"row_heading level0 row6\" >6</th> \n",
       "        <td id=\"T_34a24376_48fc_11e9_89e8_409f3864a092row6_col0\" class=\"data row6 col0\" >g- Enpass</td> \n",
       "        <td id=\"T_34a24376_48fc_11e9_89e8_409f3864a092row6_col1\" class=\"data row6 col1\" >+</td> \n",
       "        <td id=\"T_34a24376_48fc_11e9_89e8_409f3864a092row6_col2\" class=\"data row6 col2\" >-</td> \n",
       "        <td id=\"T_34a24376_48fc_11e9_89e8_409f3864a092row6_col3\" class=\"data row6 col3\" >++</td> \n",
       "        <td id=\"T_34a24376_48fc_11e9_89e8_409f3864a092row6_col4\" class=\"data row6 col4\" >-</td> \n",
       "        <td id=\"T_34a24376_48fc_11e9_89e8_409f3864a092row6_col5\" class=\"data row6 col5\" >12</td> \n",
       "    </tr>    <tr> \n",
       "        <th id=\"T_34a24376_48fc_11e9_89e8_409f3864a092level0_row7\" class=\"row_heading level0 row7\" >7</th> \n",
       "        <td id=\"T_34a24376_48fc_11e9_89e8_409f3864a092row7_col0\" class=\"data row7 col0\" >h- Norton </td> \n",
       "        <td id=\"T_34a24376_48fc_11e9_89e8_409f3864a092row7_col1\" class=\"data row7 col1\" >--</td> \n",
       "        <td id=\"T_34a24376_48fc_11e9_89e8_409f3864a092row7_col2\" class=\"data row7 col2\" >+++</td> \n",
       "        <td id=\"T_34a24376_48fc_11e9_89e8_409f3864a092row7_col3\" class=\"data row7 col3\" >-</td> \n",
       "        <td id=\"T_34a24376_48fc_11e9_89e8_409f3864a092row7_col4\" class=\"data row7 col4\" >-</td> \n",
       "        <td id=\"T_34a24376_48fc_11e9_89e8_409f3864a092row7_col5\" class=\"data row7 col5\" >11</td> \n",
       "    </tr>    <tr> \n",
       "        <th id=\"T_34a24376_48fc_11e9_89e8_409f3864a092level0_row8\" class=\"row_heading level0 row8\" >8</th> \n",
       "        <td id=\"T_34a24376_48fc_11e9_89e8_409f3864a092row8_col0\" class=\"data row8 col0\" >i- True Key</td> \n",
       "        <td id=\"T_34a24376_48fc_11e9_89e8_409f3864a092row8_col1\" class=\"data row8 col1\" >+</td> \n",
       "        <td id=\"T_34a24376_48fc_11e9_89e8_409f3864a092row8_col2\" class=\"data row8 col2\" >+</td> \n",
       "        <td id=\"T_34a24376_48fc_11e9_89e8_409f3864a092row8_col3\" class=\"data row8 col3\" >--</td> \n",
       "        <td id=\"T_34a24376_48fc_11e9_89e8_409f3864a092row8_col4\" class=\"data row8 col4\" >-</td> \n",
       "        <td id=\"T_34a24376_48fc_11e9_89e8_409f3864a092row8_col5\" class=\"data row8 col5\" >9.5</td> \n",
       "    </tr>    <tr> \n",
       "        <th id=\"T_34a24376_48fc_11e9_89e8_409f3864a092level0_row9\" class=\"row_heading level0 row9\" >9</th> \n",
       "        <td id=\"T_34a24376_48fc_11e9_89e8_409f3864a092row9_col0\" class=\"data row9 col0\" >j- Avast</td> \n",
       "        <td id=\"T_34a24376_48fc_11e9_89e8_409f3864a092row9_col1\" class=\"data row9 col1\" >++</td> \n",
       "        <td id=\"T_34a24376_48fc_11e9_89e8_409f3864a092row9_col2\" class=\"data row9 col2\" >-</td> \n",
       "        <td id=\"T_34a24376_48fc_11e9_89e8_409f3864a092row9_col3\" class=\"data row9 col3\" >-</td> \n",
       "        <td id=\"T_34a24376_48fc_11e9_89e8_409f3864a092row9_col4\" class=\"data row9 col4\" >-</td> \n",
       "        <td id=\"T_34a24376_48fc_11e9_89e8_409f3864a092row9_col5\" class=\"data row9 col5\" >9.5</td> \n",
       "    </tr></tbody> \n",
       "</table> <style  type=\"text/css\" >\n",
       "</style>  \n",
       "<table id=\"T_34a2df52_48fc_11e9_a36b_409f3864a092\" style='display:inline'><caption>Programme Lineaire - Score global maximal pour chaque produit</caption> \n",
       "<thead>    <tr> \n",
       "        <th class=\"blank level0\" ></th> \n",
       "        <th class=\"col_heading level0 col0\" >Produit</th> \n",
       "        <th class=\"col_heading level0 col1\" >Ordinateurs</th> \n",
       "        <th class=\"col_heading level0 col2\" >Mobiles</th> \n",
       "        <th class=\"col_heading level0 col3\" >Protection</th> \n",
       "        <th class=\"col_heading level0 col4\" >Aide</th> \n",
       "        <th class=\"col_heading level0 col5\" >Score</th> \n",
       "    </tr></thead> \n",
       "<tbody>    <tr> \n",
       "        <th id=\"T_34a2df52_48fc_11e9_a36b_409f3864a092level0_row0\" class=\"row_heading level0 row0\" >0</th> \n",
       "        <td id=\"T_34a2df52_48fc_11e9_a36b_409f3864a092row0_col0\" class=\"data row0 col0\" >a- Dashlane</td> \n",
       "        <td id=\"T_34a2df52_48fc_11e9_a36b_409f3864a092row0_col1\" class=\"data row0 col1\" >16.5</td> \n",
       "        <td id=\"T_34a2df52_48fc_11e9_a36b_409f3864a092row0_col2\" class=\"data row0 col2\" >16.5</td> \n",
       "        <td id=\"T_34a2df52_48fc_11e9_a36b_409f3864a092row0_col3\" class=\"data row0 col3\" >16.5</td> \n",
       "        <td id=\"T_34a2df52_48fc_11e9_a36b_409f3864a092row0_col4\" class=\"data row0 col4\" >16.5</td> \n",
       "        <td id=\"T_34a2df52_48fc_11e9_a36b_409f3864a092row0_col5\" class=\"data row0 col5\" >16.5</td> \n",
       "    </tr>    <tr> \n",
       "        <th id=\"T_34a2df52_48fc_11e9_a36b_409f3864a092level0_row1\" class=\"row_heading level0 row1\" >1</th> \n",
       "        <td id=\"T_34a2df52_48fc_11e9_a36b_409f3864a092row1_col0\" class=\"data row1 col0\" >b- LastPass</td> \n",
       "        <td id=\"T_34a2df52_48fc_11e9_a36b_409f3864a092row1_col1\" class=\"data row1 col1\" >20</td> \n",
       "        <td id=\"T_34a2df52_48fc_11e9_a36b_409f3864a092row1_col2\" class=\"data row1 col2\" >12.5</td> \n",
       "        <td id=\"T_34a2df52_48fc_11e9_a36b_409f3864a092row1_col3\" class=\"data row1 col3\" >12.5</td> \n",
       "        <td id=\"T_34a2df52_48fc_11e9_a36b_409f3864a092row1_col4\" class=\"data row1 col4\" >9.5</td> \n",
       "        <td id=\"T_34a2df52_48fc_11e9_a36b_409f3864a092row1_col5\" class=\"data row1 col5\" >14.825</td> \n",
       "    </tr>    <tr> \n",
       "        <th id=\"T_34a2df52_48fc_11e9_a36b_409f3864a092level0_row2\" class=\"row_heading level0 row2\" >5</th> \n",
       "        <td id=\"T_34a2df52_48fc_11e9_a36b_409f3864a092row2_col0\" class=\"data row2 col0\" >f- 1Password</td> \n",
       "        <td id=\"T_34a2df52_48fc_11e9_a36b_409f3864a092row2_col1\" class=\"data row2 col1\" >16.5</td> \n",
       "        <td id=\"T_34a2df52_48fc_11e9_a36b_409f3864a092row2_col2\" class=\"data row2 col2\" >12.5</td> \n",
       "        <td id=\"T_34a2df52_48fc_11e9_a36b_409f3864a092row2_col3\" class=\"data row2 col3\" >16.5</td> \n",
       "        <td id=\"T_34a2df52_48fc_11e9_a36b_409f3864a092row2_col4\" class=\"data row2 col4\" >9.5</td> \n",
       "        <td id=\"T_34a2df52_48fc_11e9_a36b_409f3864a092row2_col5\" class=\"data row2 col5\" >14.4</td> \n",
       "    </tr>    <tr> \n",
       "        <th id=\"T_34a2df52_48fc_11e9_a36b_409f3864a092level0_row3\" class=\"row_heading level0 row3\" >3</th> \n",
       "        <td id=\"T_34a2df52_48fc_11e9_a36b_409f3864a092row3_col0\" class=\"data row3 col0\" >d- Kaspersky</td> \n",
       "        <td id=\"T_34a2df52_48fc_11e9_a36b_409f3864a092row3_col1\" class=\"data row3 col1\" >20</td> \n",
       "        <td id=\"T_34a2df52_48fc_11e9_a36b_409f3864a092row3_col2\" class=\"data row3 col2\" >9.5</td> \n",
       "        <td id=\"T_34a2df52_48fc_11e9_a36b_409f3864a092row3_col3\" class=\"data row3 col3\" >12.5</td> \n",
       "        <td id=\"T_34a2df52_48fc_11e9_a36b_409f3864a092row3_col4\" class=\"data row3 col4\" >12.5</td> \n",
       "        <td id=\"T_34a2df52_48fc_11e9_a36b_409f3864a092row3_col5\" class=\"data row3 col5\" >14.075</td> \n",
       "    </tr>    <tr> \n",
       "        <th id=\"T_34a2df52_48fc_11e9_a36b_409f3864a092level0_row4\" class=\"row_heading level0 row4\" >4</th> \n",
       "        <td id=\"T_34a2df52_48fc_11e9_a36b_409f3864a092row4_col0\" class=\"data row4 col0\" >e- Keeper</td> \n",
       "        <td id=\"T_34a2df52_48fc_11e9_a36b_409f3864a092row4_col1\" class=\"data row4 col1\" >16.5</td> \n",
       "        <td id=\"T_34a2df52_48fc_11e9_a36b_409f3864a092row4_col2\" class=\"data row4 col2\" >12.5</td> \n",
       "        <td id=\"T_34a2df52_48fc_11e9_a36b_409f3864a092row4_col3\" class=\"data row4 col3\" >12.5</td> \n",
       "        <td id=\"T_34a2df52_48fc_11e9_a36b_409f3864a092row4_col4\" class=\"data row4 col4\" >12.5</td> \n",
       "        <td id=\"T_34a2df52_48fc_11e9_a36b_409f3864a092row4_col5\" class=\"data row4 col5\" >13.9</td> \n",
       "    </tr>    <tr> \n",
       "        <th id=\"T_34a2df52_48fc_11e9_a36b_409f3864a092level0_row5\" class=\"row_heading level0 row5\" >2</th> \n",
       "        <td id=\"T_34a2df52_48fc_11e9_a36b_409f3864a092row5_col0\" class=\"data row5 col0\" >c- Roboform</td> \n",
       "        <td id=\"T_34a2df52_48fc_11e9_a36b_409f3864a092row5_col1\" class=\"data row5 col1\" >12.5</td> \n",
       "        <td id=\"T_34a2df52_48fc_11e9_a36b_409f3864a092row5_col2\" class=\"data row5 col2\" >16.5</td> \n",
       "        <td id=\"T_34a2df52_48fc_11e9_a36b_409f3864a092row5_col3\" class=\"data row5 col3\" >12.5</td> \n",
       "        <td id=\"T_34a2df52_48fc_11e9_a36b_409f3864a092row5_col4\" class=\"data row5 col4\" >9.5</td> \n",
       "        <td id=\"T_34a2df52_48fc_11e9_a36b_409f3864a092row5_col5\" class=\"data row5 col5\" >13.6</td> \n",
       "    </tr>    <tr> \n",
       "        <th id=\"T_34a2df52_48fc_11e9_a36b_409f3864a092level0_row6\" class=\"row_heading level0 row6\" >7</th> \n",
       "        <td id=\"T_34a2df52_48fc_11e9_a36b_409f3864a092row6_col0\" class=\"data row6 col0\" >h- Norton </td> \n",
       "        <td id=\"T_34a2df52_48fc_11e9_a36b_409f3864a092row6_col1\" class=\"data row6 col1\" >6.5</td> \n",
       "        <td id=\"T_34a2df52_48fc_11e9_a36b_409f3864a092row6_col2\" class=\"data row6 col2\" >20</td> \n",
       "        <td id=\"T_34a2df52_48fc_11e9_a36b_409f3864a092row6_col3\" class=\"data row6 col3\" >9.5</td> \n",
       "        <td id=\"T_34a2df52_48fc_11e9_a36b_409f3864a092row6_col4\" class=\"data row6 col4\" >9.5</td> \n",
       "        <td id=\"T_34a2df52_48fc_11e9_a36b_409f3864a092row6_col5\" class=\"data row6 col5\" >12.125</td> \n",
       "    </tr>    <tr> \n",
       "        <th id=\"T_34a2df52_48fc_11e9_a36b_409f3864a092level0_row7\" class=\"row_heading level0 row7\" >9</th> \n",
       "        <td id=\"T_34a2df52_48fc_11e9_a36b_409f3864a092row7_col0\" class=\"data row7 col0\" >j- Avast</td> \n",
       "        <td id=\"T_34a2df52_48fc_11e9_a36b_409f3864a092row7_col1\" class=\"data row7 col1\" >16.5</td> \n",
       "        <td id=\"T_34a2df52_48fc_11e9_a36b_409f3864a092row7_col2\" class=\"data row7 col2\" >9.5</td> \n",
       "        <td id=\"T_34a2df52_48fc_11e9_a36b_409f3864a092row7_col3\" class=\"data row7 col3\" >9.5</td> \n",
       "        <td id=\"T_34a2df52_48fc_11e9_a36b_409f3864a092row7_col4\" class=\"data row7 col4\" >9.5</td> \n",
       "        <td id=\"T_34a2df52_48fc_11e9_a36b_409f3864a092row7_col5\" class=\"data row7 col5\" >11.95</td> \n",
       "    </tr>    <tr> \n",
       "        <th id=\"T_34a2df52_48fc_11e9_a36b_409f3864a092level0_row8\" class=\"row_heading level0 row8\" >6</th> \n",
       "        <td id=\"T_34a2df52_48fc_11e9_a36b_409f3864a092row8_col0\" class=\"data row8 col0\" >g- Enpass</td> \n",
       "        <td id=\"T_34a2df52_48fc_11e9_a36b_409f3864a092row8_col1\" class=\"data row8 col1\" >12.5</td> \n",
       "        <td id=\"T_34a2df52_48fc_11e9_a36b_409f3864a092row8_col2\" class=\"data row8 col2\" >9.5</td> \n",
       "        <td id=\"T_34a2df52_48fc_11e9_a36b_409f3864a092row8_col3\" class=\"data row8 col3\" >16.5</td> \n",
       "        <td id=\"T_34a2df52_48fc_11e9_a36b_409f3864a092row8_col4\" class=\"data row8 col4\" >9.5</td> \n",
       "        <td id=\"T_34a2df52_48fc_11e9_a36b_409f3864a092row8_col5\" class=\"data row8 col5\" >11.95</td> \n",
       "    </tr>    <tr> \n",
       "        <th id=\"T_34a2df52_48fc_11e9_a36b_409f3864a092level0_row9\" class=\"row_heading level0 row9\" >8</th> \n",
       "        <td id=\"T_34a2df52_48fc_11e9_a36b_409f3864a092row9_col0\" class=\"data row9 col0\" >i- True Key</td> \n",
       "        <td id=\"T_34a2df52_48fc_11e9_a36b_409f3864a092row9_col1\" class=\"data row9 col1\" >12.5</td> \n",
       "        <td id=\"T_34a2df52_48fc_11e9_a36b_409f3864a092row9_col2\" class=\"data row9 col2\" >12.5</td> \n",
       "        <td id=\"T_34a2df52_48fc_11e9_a36b_409f3864a092row9_col3\" class=\"data row9 col3\" >6.5</td> \n",
       "        <td id=\"T_34a2df52_48fc_11e9_a36b_409f3864a092row9_col4\" class=\"data row9 col4\" >9.5</td> \n",
       "        <td id=\"T_34a2df52_48fc_11e9_a36b_409f3864a092row9_col5\" class=\"data row9 col5\" >11</td> \n",
       "    </tr></tbody> \n",
       "</table> "
      ]
     },
     "metadata": {},
     "output_type": "display_data"
    }
   ],
   "source": [
    "df2 = result_4_1_all_max.sort_values(by='Score', ascending=False)\n",
    "df1_s = result_original.style.set_table_attributes(\"style='display:inline'\").set_caption('Modèle original')\n",
    "df2_s = df2.style.set_table_attributes(\"style='display:inline'\").set_caption(model_name_7)\n",
    "display_html(df1_s._repr_html_()+df2_s._repr_html_(), raw=True)"
   ]
  },
  {
   "cell_type": "markdown",
   "metadata": {},
   "source": [
    "Le classement obtenu change beaucoup par rapport à celui du magazine. Nous remarquons notamment qu'Avast n'est plus dernier et que 1Password remonte bien dans le classement également."
   ]
  }
 ],
 "metadata": {
  "celltoolbar": "Tags",
  "kernelspec": {
   "display_name": "Python 3",
   "language": "python",
   "name": "python3"
  },
  "language_info": {
   "codemirror_mode": {
    "name": "ipython",
    "version": 3
   },
   "file_extension": ".py",
   "mimetype": "text/x-python",
   "name": "python",
   "nbconvert_exporter": "python",
   "pygments_lexer": "ipython3",
   "version": "3.7.1"
  }
 },
 "nbformat": 4,
 "nbformat_minor": 2
}
