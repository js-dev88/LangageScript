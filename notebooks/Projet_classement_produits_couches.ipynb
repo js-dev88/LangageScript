{
 "cells": [
  {
   "cell_type": "markdown",
   "metadata": {},
   "source": [
    " <div align=\"center\"><h1> ANALYSE DES CLASSEMENTS DE PRODUITS </h1></div>"
   ]
  },
  {
   "cell_type": "markdown",
   "metadata": {},
   "source": [
    "Note : *Le code source est disponible [ici](https://github.com/toshiro10/LangageScript)*"
   ]
  },
  {
   "cell_type": "markdown",
   "metadata": {
    "hide_input": false
   },
   "source": [
    "## CAS DU MAGAZINE 60 MILLIONS DE CONSOMMATEURS - Couches-culottes"
   ]
  },
  {
   "cell_type": "markdown",
   "metadata": {},
   "source": [
    "Le magazine 60 millions de consommateurs dans son numéro 540 du mois d’Août 2018 a publié, après des essais comparatifs, un classement de plusieurs marques de couches-culottes pour enfants. Les résultats de leur enquête sont donnés\n",
    "par le tableau ci-dessous.\n"
   ]
  },
  {
   "cell_type": "markdown",
   "metadata": {},
   "source": [
    "<img src=\"../docs/tableau.png\">"
   ]
  },
  {
   "cell_type": "markdown",
   "metadata": {},
   "source": [
    "Dans cette section, nous essayerons d’analyser ce classement élaboré à partir de deux critères : la performance et la\n",
    "composition avec des poids respectifs de 60% et 40 %."
   ]
  },
  {
   "cell_type": "markdown",
   "metadata": {},
   "source": [
    "## 1. Le score global (/20) associé à chaque produit peut-il être expliqué par une somme pondérée ?"
   ]
  },
  {
   "cell_type": "markdown",
   "metadata": {},
   "source": [
    "A la lecture du classement publié, il semble clair, pour un consommateur, que le score global donné à chaque produit\n",
    "résulte d’une moyenne pondérée (somme pondérée) de ses évaluations sur les deux critères performance et composition.\n",
    "L’objectif dans cette partie est de vérifier l’exactitude ou non de cette hypothèse."
   ]
  },
  {
   "cell_type": "markdown",
   "metadata": {},
   "source": [
    "Pour cela, nous allons associer un nombre réel positif à chaque évaluation qualitative attribuée à un produit. Ainsi, pour\n",
    "le produit “Joone” représenté par la lettre a sur le Tableau 1, si son score de 17/20 est obtenu à partir d’une somme\n",
    "pondérée notée f, alors il existe des nombres réels positifs U1a(+++) ∈ [17, 20] et U2a(+++) ∈ [17, 20] tels que"
   ]
  },
  {
   "cell_type": "markdown",
   "metadata": {},
   "source": [
    "**<p style=\"text-align: center;\">f(a) = 0.6 U1a(+++) + 0.4 U2a(+++) = 17</p>**"
   ]
  },
  {
   "cell_type": "markdown",
   "metadata": {},
   "source": [
    "Plus généralement, pour un produit x dont le score global f(x) est donné par une somme pondérée f, si on note Uix(αix)\n",
    "le nombre réel associé à l’évaluation qualitative αix du produit x sur le critère i (la valeur qualitative αix étant donnée\n",
    "par le magazine), alors on aura\n"
   ]
  },
  {
   "cell_type": "markdown",
   "metadata": {},
   "source": [
    "**<p style=\"text-align: center;\">f(x) = 0.6 U1x(α1x) + 0.4 U2x(α2x)</p>**"
   ]
  },
  {
   "cell_type": "markdown",
   "metadata": {},
   "source": [
    "Pour déterminer si le classement des couches-culottes, fourni par le magazine, est compatible avec un modèle d’évaluation\n",
    "basé sur la somme pondérée, il nous suffit alors de résoudre le programme linéaire PL1 suivant (un système d’inéquations\n",
    "linéaires est suffisant pour ce test) :"
   ]
  },
  {
   "cell_type": "markdown",
   "metadata": {},
   "source": [
    "<img src=\"../docs/pl.png\">"
   ]
  },
  {
   "cell_type": "markdown",
   "metadata": {
    "slideshow": {
     "slide_type": "-"
    }
   },
   "source": [
    "où\n",
    "* La fonction objectif donnée par l’équation (3) consiste, ici, à maximiser le nombre réel U1a(+++) associé à l’évaluation de la couche-culotte “Joone” sur le critère Performance. En réalité, étant donné que nous cherchons simplement à satisfaire les contraintes de ce programme linéaire, le choix de n’importe quelle fonction objectif suffira à résoudre notre problème. En clair le choix de la fonction objectif de PL1 est arbitraire.\n"
   ]
  },
  {
   "cell_type": "markdown",
   "metadata": {},
   "source": [
    "* Les contraintes (4) à (15) correspondent à l’écriture sous forme de somme pondérée, comme dans la formule 2 ci-dessus, des 12 produits à évaluer."
   ]
  },
  {
   "cell_type": "markdown",
   "metadata": {},
   "source": [
    "\n",
    "* Les contraintes (16) à (19) correspondent à l’ordre établi dans le classement des 12 produits du magazine. A noter que la valeur 0.1, dans certains de ces contraintes, permet simplement de satisfaire une inégalité stricte, en termesde notes globales, entre certains produits."
   ]
  },
  {
   "cell_type": "markdown",
   "metadata": {},
   "source": [
    "* Les contraintes (20) à (29) permettent d’assurer l’appartenance de chaque nombre réel Uix(αix) à un intervalle lié à la note qualitative αix telle que donnée par le magazine."
   ]
  },
  {
   "cell_type": "code",
   "execution_count": 1,
   "metadata": {
    "hide_input": false,
    "tags": [
     "remove_cell"
    ]
   },
   "outputs": [],
   "source": [
    "import os\n",
    "import sys\n",
    "module_path = os.path.abspath(os.path.join('../src'))\n",
    "if module_path not in sys.path:\n",
    "    sys.path.append(module_path)   "
   ]
  },
  {
   "cell_type": "markdown",
   "metadata": {},
   "source": [
    " ### 1.1 fonction CheckAdditiveModel"
   ]
  },
  {
   "cell_type": "code",
   "execution_count": 2,
   "metadata": {
    "hide_input": false,
    "tags": [
     "remove_cell"
    ]
   },
   "outputs": [],
   "source": [
    "from system import checkAdditiveModel, createUpdateModel, compareRankings\n",
    "from optlang import Variable\n",
    "from loader import getOriginalData, exportInExcel\n",
    "from IPython.display import display, display_html, HTML\n",
    "from json2html import *\n",
    "from IPython.display import HTML"
   ]
  },
  {
   "cell_type": "markdown",
   "metadata": {},
   "source": [
    "**CheckAdditiveModel** retourne un message d’erreur si le classement n’est pas explicable par un modèle type\n",
    "somme pondérée (dans ce cas, le programme linéaire ou système linéaire correspondant n’admet pas de solution\n",
    "réalisable). Au cas où cela est possible, le programme retournera alors des valeurs numériques à associer à chaque\n",
    "produit (pour chaque critère d’évaluation), ainsi que la valeur de la somme pondérée qui lui correspond, dans ce notebook et sous fichier **Excel** (répertoire **data_solved**)"
   ]
  },
  {
   "cell_type": "markdown",
   "metadata": {},
   "source": [
    "La fonction est construite pour être générique et sera appelée sur différentes propositions de résolution du problème"
   ]
  },
  {
   "cell_type": "markdown",
   "metadata": {},
   "source": [
    " ## 1.2 \n",
    " ### 1.2.1 Test de la fonction avec le classement des couches-culottes"
   ]
  },
  {
   "cell_type": "code",
   "execution_count": 3,
   "metadata": {
    "tags": [
     "remove_cell"
    ]
   },
   "outputs": [],
   "source": [
    "csv_name='../data/data_couches_original.xlsx'\n",
    "model_name_1 = 'Programme Lineaire - Classement Couches-culottes avec notes' "
   ]
  },
  {
   "cell_type": "markdown",
   "metadata": {},
   "source": [
    "La résolution du problème passe par une formalisation en Programme Linéaire"
   ]
  },
  {
   "cell_type": "code",
   "execution_count": 4,
   "metadata": {
    "tags": [
     "remove_cell"
    ]
   },
   "outputs": [
    {
     "name": "stdout",
     "output_type": "stream",
     "text": [
      "Le Programme Lineaire - Classement Couches-culottes avec notes \n",
      " du fichier ../data/data_couches_original.xlsx n'admet pas de solution\n"
     ]
    }
   ],
   "source": [
    "result_2_1 = checkAdditiveModel(csv_name=csv_name,\n",
    "                      model_name=model_name_1,\n",
    "                      eval_expr='x1',\n",
    "                      direction='max',\n",
    "                      with_scores=True)\n",
    "print(result_2_1)"
   ]
  },
  {
   "cell_type": "markdown",
   "metadata": {},
   "source": [
    "#### Commentaires"
   ]
  },
  {
   "cell_type": "markdown",
   "metadata": {},
   "source": [
    "On s'aperçoit qu'il n'y a pas de solution réalisable. Le classement présenté par le magazine n'est donc pas - avec les informations à notre disposition - explicable par un modèle de somme pondérée.\n"
   ]
  },
  {
   "cell_type": "markdown",
   "metadata": {},
   "source": [
    " ### 1.2.2 CheckAdditiveModel avec le classement des couches lorsque la note globale de chaque couche-culotte n’est pas fixée"
   ]
  },
  {
   "cell_type": "code",
   "execution_count": 5,
   "metadata": {
    "tags": [
     "remove_cell"
    ]
   },
   "outputs": [],
   "source": [
    "model_name_2 = 'Programme Lineaire - Classement Couches-culottes sans note'"
   ]
  },
  {
   "cell_type": "code",
   "execution_count": 6,
   "metadata": {
    "hide_input": true,
    "tags": [
     "remove_cell"
    ]
   },
   "outputs": [
    {
     "name": "stdout",
     "output_type": "stream",
     "text": [
      "Le Programme Lineaire - Classement Couches-culottes sans note \n",
      " du fichier ../data/data_couches_original.xlsx n'admet pas de solution\n"
     ]
    }
   ],
   "source": [
    "result_2_2 = checkAdditiveModel(csv_name=csv_name,\n",
    "                  model_name=model_name_2,\n",
    "                  eval_expr='x1',\n",
    "                  direction='max')\n",
    "print(result_2_2)"
   ]
  },
  {
   "cell_type": "markdown",
   "metadata": {},
   "source": [
    "En prenant des scores quelconques entre 0 et 20 au lieu de prendre les scores fixés par le magazine on constate que le programme linéaire reste toujours non réalisable. Et donc qu'il n'existe pas un modèle de somme pondérée satisfaisant tous les critères énoncés par le magazine."
   ]
  },
  {
   "cell_type": "markdown",
   "metadata": {},
   "source": [
    " ### 1.2.3 Commentaires"
   ]
  },
  {
   "cell_type": "markdown",
   "metadata": {},
   "source": [
    "La compréhension intuitive des résultats, suppose qu'il existe deux critères de classement : Performance et composition. La composition compte pour 40%, et la performance pour 60%.\n",
    "\n",
    "Or, en modélisant ce classement, avec ces coefficients liés à la performance et à la composition, on constate qu'il n'existe pas de solution réalisable exacte de ce problème via un modèle de somme pondérée.\n",
    "\n",
    "Ces résultats mettent en cause au moins la présentation de cette étude.\n"
   ]
  },
  {
   "cell_type": "markdown",
   "metadata": {},
   "source": [
    "# 1.3"
   ]
  },
  {
   "cell_type": "markdown",
   "metadata": {},
   "source": [
    "Dans cette question, nous allons supposer que l’évaluation globale n’est pas la même pour les couches-culottes\n",
    "“Naty” et “Pamp. Activ” d’une part, et les couches-culottes “Love & Green” et “Lotus Baby” d’autre part.\n",
    "\n",
    "Pour cela, nous allons supprimer du programme PL1 les deux contraintes suivantes : **fd = fe** de l’équation (17)\n",
    "et **fi = fj** de l’équation (18). \n",
    "\n",
    "Nous allons également supprimer du programme PL1 la contrainte **17 < U2c(+++)**,\n",
    "liée à la couche c-Pamp.Baby."
   ]
  },
  {
   "cell_type": "markdown",
   "metadata": {},
   "source": [
    "## 1.3.1 Le meilleur et le pire score global obtenu par le produit “Joone”"
   ]
  },
  {
   "cell_type": "markdown",
   "metadata": {},
   "source": [
    "#### Meilleur score"
   ]
  },
  {
   "cell_type": "code",
   "execution_count": 7,
   "metadata": {
    "tags": [
     "remove_cell"
    ]
   },
   "outputs": [],
   "source": [
    "update_model_Q3 = createUpdateModel([Variable ('x6', ub = 20)], ['c16', 'c21'])"
   ]
  },
  {
   "cell_type": "code",
   "execution_count": 8,
   "metadata": {
    "tags": [
     "remove_cell"
    ]
   },
   "outputs": [],
   "source": [
    "result_original = getOriginalData(csv_name)\n",
    "model_name_3 = 'Programme Lineaire - Meilleur score Joone'\n",
    "result_3_1_max = checkAdditiveModel(csv_name=csv_name,\n",
    "                  model_name=model_name_3,\n",
    "                  eval_expr='y1',\n",
    "                  direction='max',\n",
    "                  update_model=update_model_Q3)"
   ]
  },
  {
   "cell_type": "code",
   "execution_count": 9,
   "metadata": {
    "hide_input": false,
    "tags": [
     "remove_cell"
    ]
   },
   "outputs": [
    {
     "data": {
      "text/html": [
       "<style  type=\"text/css\" >\n",
       "</style>  \n",
       "<table id=\"T_ac168988_48f2_11e9_b099_409f3864a092\" style='display:inline'><caption>Modèle original</caption> \n",
       "<thead>    <tr> \n",
       "        <th class=\"blank level0\" ></th> \n",
       "        <th class=\"col_heading level0 col0\" >Produit</th> \n",
       "        <th class=\"col_heading level0 col1\" >Performance</th> \n",
       "        <th class=\"col_heading level0 col2\" >Composition</th> \n",
       "        <th class=\"col_heading level0 col3\" >Score</th> \n",
       "    </tr></thead> \n",
       "<tbody>    <tr> \n",
       "        <th id=\"T_ac168988_48f2_11e9_b099_409f3864a092level0_row0\" class=\"row_heading level0 row0\" >0</th> \n",
       "        <td id=\"T_ac168988_48f2_11e9_b099_409f3864a092row0_col0\" class=\"data row0 col0\" >a- Joone</td> \n",
       "        <td id=\"T_ac168988_48f2_11e9_b099_409f3864a092row0_col1\" class=\"data row0 col1\" >+++</td> \n",
       "        <td id=\"T_ac168988_48f2_11e9_b099_409f3864a092row0_col2\" class=\"data row0 col2\" >+++</td> \n",
       "        <td id=\"T_ac168988_48f2_11e9_b099_409f3864a092row0_col3\" class=\"data row0 col3\" >17</td> \n",
       "    </tr>    <tr> \n",
       "        <th id=\"T_ac168988_48f2_11e9_b099_409f3864a092level0_row1\" class=\"row_heading level0 row1\" >1</th> \n",
       "        <td id=\"T_ac168988_48f2_11e9_b099_409f3864a092row1_col0\" class=\"data row1 col0\" >b- Pamp. Prem</td> \n",
       "        <td id=\"T_ac168988_48f2_11e9_b099_409f3864a092row1_col1\" class=\"data row1 col1\" >++</td> \n",
       "        <td id=\"T_ac168988_48f2_11e9_b099_409f3864a092row1_col2\" class=\"data row1 col2\" >++</td> \n",
       "        <td id=\"T_ac168988_48f2_11e9_b099_409f3864a092row1_col3\" class=\"data row1 col3\" >14.5</td> \n",
       "    </tr>    <tr> \n",
       "        <th id=\"T_ac168988_48f2_11e9_b099_409f3864a092level0_row2\" class=\"row_heading level0 row2\" >2</th> \n",
       "        <td id=\"T_ac168988_48f2_11e9_b099_409f3864a092row2_col0\" class=\"data row2 col0\" >c- Pamp. Baby</td> \n",
       "        <td id=\"T_ac168988_48f2_11e9_b099_409f3864a092row2_col1\" class=\"data row2 col1\" >+</td> \n",
       "        <td id=\"T_ac168988_48f2_11e9_b099_409f3864a092row2_col2\" class=\"data row2 col2\" >+++</td> \n",
       "        <td id=\"T_ac168988_48f2_11e9_b099_409f3864a092row2_col3\" class=\"data row2 col3\" >12.5</td> \n",
       "    </tr>    <tr> \n",
       "        <th id=\"T_ac168988_48f2_11e9_b099_409f3864a092level0_row3\" class=\"row_heading level0 row3\" >3</th> \n",
       "        <td id=\"T_ac168988_48f2_11e9_b099_409f3864a092row3_col0\" class=\"data row3 col0\" >d- Naty</td> \n",
       "        <td id=\"T_ac168988_48f2_11e9_b099_409f3864a092row3_col1\" class=\"data row3 col1\" >+</td> \n",
       "        <td id=\"T_ac168988_48f2_11e9_b099_409f3864a092row3_col2\" class=\"data row3 col2\" >+++</td> \n",
       "        <td id=\"T_ac168988_48f2_11e9_b099_409f3864a092row3_col3\" class=\"data row3 col3\" >12.5</td> \n",
       "    </tr>    <tr> \n",
       "        <th id=\"T_ac168988_48f2_11e9_b099_409f3864a092level0_row4\" class=\"row_heading level0 row4\" >4</th> \n",
       "        <td id=\"T_ac168988_48f2_11e9_b099_409f3864a092row4_col0\" class=\"data row4 col0\" >e- Pamp. Activ.</td> \n",
       "        <td id=\"T_ac168988_48f2_11e9_b099_409f3864a092row4_col1\" class=\"data row4 col1\" >+</td> \n",
       "        <td id=\"T_ac168988_48f2_11e9_b099_409f3864a092row4_col2\" class=\"data row4 col2\" >+</td> \n",
       "        <td id=\"T_ac168988_48f2_11e9_b099_409f3864a092row4_col3\" class=\"data row4 col3\" >12.5</td> \n",
       "    </tr>    <tr> \n",
       "        <th id=\"T_ac168988_48f2_11e9_b099_409f3864a092level0_row5\" class=\"row_heading level0 row5\" >5</th> \n",
       "        <td id=\"T_ac168988_48f2_11e9_b099_409f3864a092row5_col0\" class=\"data row5 col0\" >f- Carref.Baby</td> \n",
       "        <td id=\"T_ac168988_48f2_11e9_b099_409f3864a092row5_col1\" class=\"data row5 col1\" >++</td> \n",
       "        <td id=\"T_ac168988_48f2_11e9_b099_409f3864a092row5_col2\" class=\"data row5 col2\" >+</td> \n",
       "        <td id=\"T_ac168988_48f2_11e9_b099_409f3864a092row5_col3\" class=\"data row5 col3\" >12.5</td> \n",
       "    </tr>    <tr> \n",
       "        <th id=\"T_ac168988_48f2_11e9_b099_409f3864a092level0_row6\" class=\"row_heading level0 row6\" >6</th> \n",
       "        <td id=\"T_ac168988_48f2_11e9_b099_409f3864a092row6_col0\" class=\"data row6 col0\" >g- Lupilu</td> \n",
       "        <td id=\"T_ac168988_48f2_11e9_b099_409f3864a092row6_col1\" class=\"data row6 col1\" >++</td> \n",
       "        <td id=\"T_ac168988_48f2_11e9_b099_409f3864a092row6_col2\" class=\"data row6 col2\" >-</td> \n",
       "        <td id=\"T_ac168988_48f2_11e9_b099_409f3864a092row6_col3\" class=\"data row6 col3\" >12</td> \n",
       "    </tr>    <tr> \n",
       "        <th id=\"T_ac168988_48f2_11e9_b099_409f3864a092level0_row7\" class=\"row_heading level0 row7\" >7</th> \n",
       "        <td id=\"T_ac168988_48f2_11e9_b099_409f3864a092row7_col0\" class=\"data row7 col0\" >h- Mots d’enfants </td> \n",
       "        <td id=\"T_ac168988_48f2_11e9_b099_409f3864a092row7_col1\" class=\"data row7 col1\" >+</td> \n",
       "        <td id=\"T_ac168988_48f2_11e9_b099_409f3864a092row7_col2\" class=\"data row7 col2\" >-</td> \n",
       "        <td id=\"T_ac168988_48f2_11e9_b099_409f3864a092row7_col3\" class=\"data row7 col3\" >12</td> \n",
       "    </tr>    <tr> \n",
       "        <th id=\"T_ac168988_48f2_11e9_b099_409f3864a092level0_row8\" class=\"row_heading level0 row8\" >8</th> \n",
       "        <td id=\"T_ac168988_48f2_11e9_b099_409f3864a092row8_col0\" class=\"data row8 col0\" >i- Love & Green</td> \n",
       "        <td id=\"T_ac168988_48f2_11e9_b099_409f3864a092row8_col1\" class=\"data row8 col1\" >++</td> \n",
       "        <td id=\"T_ac168988_48f2_11e9_b099_409f3864a092row8_col2\" class=\"data row8 col2\" >-</td> \n",
       "        <td id=\"T_ac168988_48f2_11e9_b099_409f3864a092row8_col3\" class=\"data row8 col3\" >9.5</td> \n",
       "    </tr>    <tr> \n",
       "        <th id=\"T_ac168988_48f2_11e9_b099_409f3864a092level0_row9\" class=\"row_heading level0 row9\" >9</th> \n",
       "        <td id=\"T_ac168988_48f2_11e9_b099_409f3864a092row9_col0\" class=\"data row9 col0\" >j- Lotus Baby</td> \n",
       "        <td id=\"T_ac168988_48f2_11e9_b099_409f3864a092row9_col1\" class=\"data row9 col1\" >++</td> \n",
       "        <td id=\"T_ac168988_48f2_11e9_b099_409f3864a092row9_col2\" class=\"data row9 col2\" >--</td> \n",
       "        <td id=\"T_ac168988_48f2_11e9_b099_409f3864a092row9_col3\" class=\"data row9 col3\" >9.5</td> \n",
       "    </tr>    <tr> \n",
       "        <th id=\"T_ac168988_48f2_11e9_b099_409f3864a092level0_row10\" class=\"row_heading level0 row10\" >10</th> \n",
       "        <td id=\"T_ac168988_48f2_11e9_b099_409f3864a092row10_col0\" class=\"data row10 col0\" >k- Pommette</td> \n",
       "        <td id=\"T_ac168988_48f2_11e9_b099_409f3864a092row10_col1\" class=\"data row10 col1\" >++</td> \n",
       "        <td id=\"T_ac168988_48f2_11e9_b099_409f3864a092row10_col2\" class=\"data row10 col2\" >--</td> \n",
       "        <td id=\"T_ac168988_48f2_11e9_b099_409f3864a092row10_col3\" class=\"data row10 col3\" >9.5</td> \n",
       "    </tr>    <tr> \n",
       "        <th id=\"T_ac168988_48f2_11e9_b099_409f3864a092level0_row11\" class=\"row_heading level0 row11\" >11</th> \n",
       "        <td id=\"T_ac168988_48f2_11e9_b099_409f3864a092row11_col0\" class=\"data row11 col0\" >l- Lillydoo </td> \n",
       "        <td id=\"T_ac168988_48f2_11e9_b099_409f3864a092row11_col1\" class=\"data row11 col1\" >+</td> \n",
       "        <td id=\"T_ac168988_48f2_11e9_b099_409f3864a092row11_col2\" class=\"data row11 col2\" >--</td> \n",
       "        <td id=\"T_ac168988_48f2_11e9_b099_409f3864a092row11_col3\" class=\"data row11 col3\" >6.5</td> \n",
       "    </tr></tbody> \n",
       "</table> <style  type=\"text/css\" >\n",
       "</style>  \n",
       "<table id=\"T_ac16fef8_48f2_11e9_b9f7_409f3864a092\" style='display:inline'><caption>Programme Lineaire - Meilleur score Joone</caption> \n",
       "<thead>    <tr> \n",
       "        <th class=\"blank level0\" ></th> \n",
       "        <th class=\"col_heading level0 col0\" >Produit</th> \n",
       "        <th class=\"col_heading level0 col1\" >Performance</th> \n",
       "        <th class=\"col_heading level0 col2\" >Composition</th> \n",
       "        <th class=\"col_heading level0 col3\" >Score</th> \n",
       "    </tr></thead> \n",
       "<tbody>    <tr> \n",
       "        <th id=\"T_ac16fef8_48f2_11e9_b9f7_409f3864a092level0_row0\" class=\"row_heading level0 row0\" >0</th> \n",
       "        <td id=\"T_ac16fef8_48f2_11e9_b9f7_409f3864a092row0_col0\" class=\"data row0 col0\" >a- Joone</td> \n",
       "        <td id=\"T_ac16fef8_48f2_11e9_b9f7_409f3864a092row0_col1\" class=\"data row0 col1\" >20</td> \n",
       "        <td id=\"T_ac16fef8_48f2_11e9_b9f7_409f3864a092row0_col2\" class=\"data row0 col2\" >20</td> \n",
       "        <td id=\"T_ac16fef8_48f2_11e9_b9f7_409f3864a092row0_col3\" class=\"data row0 col3\" >20</td> \n",
       "    </tr>    <tr> \n",
       "        <th id=\"T_ac16fef8_48f2_11e9_b9f7_409f3864a092level0_row1\" class=\"row_heading level0 row1\" >1</th> \n",
       "        <td id=\"T_ac16fef8_48f2_11e9_b9f7_409f3864a092row1_col0\" class=\"data row1 col0\" >b- Pamp. Prem</td> \n",
       "        <td id=\"T_ac16fef8_48f2_11e9_b9f7_409f3864a092row1_col1\" class=\"data row1 col1\" >13</td> \n",
       "        <td id=\"T_ac16fef8_48f2_11e9_b9f7_409f3864a092row1_col2\" class=\"data row1 col2\" >13</td> \n",
       "        <td id=\"T_ac16fef8_48f2_11e9_b9f7_409f3864a092row1_col3\" class=\"data row1 col3\" >13</td> \n",
       "    </tr>    <tr> \n",
       "        <th id=\"T_ac16fef8_48f2_11e9_b9f7_409f3864a092level0_row2\" class=\"row_heading level0 row2\" >2</th> \n",
       "        <td id=\"T_ac16fef8_48f2_11e9_b9f7_409f3864a092row2_col0\" class=\"data row2 col0\" >c- Pamp. Baby</td> \n",
       "        <td id=\"T_ac16fef8_48f2_11e9_b9f7_409f3864a092row2_col1\" class=\"data row2 col1\" >10</td> \n",
       "        <td id=\"T_ac16fef8_48f2_11e9_b9f7_409f3864a092row2_col2\" class=\"data row2 col2\" >17.25</td> \n",
       "        <td id=\"T_ac16fef8_48f2_11e9_b9f7_409f3864a092row2_col3\" class=\"data row2 col3\" >12.9</td> \n",
       "    </tr>    <tr> \n",
       "        <th id=\"T_ac16fef8_48f2_11e9_b9f7_409f3864a092level0_row3\" class=\"row_heading level0 row3\" >3</th> \n",
       "        <td id=\"T_ac16fef8_48f2_11e9_b9f7_409f3864a092row3_col0\" class=\"data row3 col0\" >d- Naty</td> \n",
       "        <td id=\"T_ac16fef8_48f2_11e9_b9f7_409f3864a092row3_col1\" class=\"data row3 col1\" >10.1667</td> \n",
       "        <td id=\"T_ac16fef8_48f2_11e9_b9f7_409f3864a092row3_col2\" class=\"data row3 col2\" >17</td> \n",
       "        <td id=\"T_ac16fef8_48f2_11e9_b9f7_409f3864a092row3_col3\" class=\"data row3 col3\" >12.9</td> \n",
       "    </tr>    <tr> \n",
       "        <th id=\"T_ac16fef8_48f2_11e9_b9f7_409f3864a092level0_row4\" class=\"row_heading level0 row4\" >4</th> \n",
       "        <td id=\"T_ac16fef8_48f2_11e9_b9f7_409f3864a092row4_col0\" class=\"data row4 col0\" >e- Pamp. Activ.</td> \n",
       "        <td id=\"T_ac16fef8_48f2_11e9_b9f7_409f3864a092row4_col1\" class=\"data row4 col1\" >12.5</td> \n",
       "        <td id=\"T_ac16fef8_48f2_11e9_b9f7_409f3864a092row4_col2\" class=\"data row4 col2\" >10.75</td> \n",
       "        <td id=\"T_ac16fef8_48f2_11e9_b9f7_409f3864a092row4_col3\" class=\"data row4 col3\" >11.8</td> \n",
       "    </tr>    <tr> \n",
       "        <th id=\"T_ac16fef8_48f2_11e9_b9f7_409f3864a092level0_row5\" class=\"row_heading level0 row5\" >5</th> \n",
       "        <td id=\"T_ac16fef8_48f2_11e9_b9f7_409f3864a092row5_col0\" class=\"data row5 col0\" >f- Carref.Baby</td> \n",
       "        <td id=\"T_ac16fef8_48f2_11e9_b9f7_409f3864a092row5_col1\" class=\"data row5 col1\" >13</td> \n",
       "        <td id=\"T_ac16fef8_48f2_11e9_b9f7_409f3864a092row5_col2\" class=\"data row5 col2\" >10</td> \n",
       "        <td id=\"T_ac16fef8_48f2_11e9_b9f7_409f3864a092row5_col3\" class=\"data row5 col3\" >11.8</td> \n",
       "    </tr>    <tr> \n",
       "        <th id=\"T_ac16fef8_48f2_11e9_b9f7_409f3864a092level0_row6\" class=\"row_heading level0 row6\" >6</th> \n",
       "        <td id=\"T_ac16fef8_48f2_11e9_b9f7_409f3864a092row6_col0\" class=\"data row6 col0\" >g- Lupilu</td> \n",
       "        <td id=\"T_ac16fef8_48f2_11e9_b9f7_409f3864a092row6_col1\" class=\"data row6 col1\" >13.1667</td> \n",
       "        <td id=\"T_ac16fef8_48f2_11e9_b9f7_409f3864a092row6_col2\" class=\"data row6 col2\" >7</td> \n",
       "        <td id=\"T_ac16fef8_48f2_11e9_b9f7_409f3864a092row6_col3\" class=\"data row6 col3\" >10.7</td> \n",
       "    </tr>    <tr> \n",
       "        <th id=\"T_ac16fef8_48f2_11e9_b9f7_409f3864a092level0_row7\" class=\"row_heading level0 row7\" >7</th> \n",
       "        <td id=\"T_ac16fef8_48f2_11e9_b9f7_409f3864a092row7_col0\" class=\"data row7 col0\" >h- Mots d’enfants </td> \n",
       "        <td id=\"T_ac16fef8_48f2_11e9_b9f7_409f3864a092row7_col1\" class=\"data row7 col1\" >12.5</td> \n",
       "        <td id=\"T_ac16fef8_48f2_11e9_b9f7_409f3864a092row7_col2\" class=\"data row7 col2\" >8</td> \n",
       "        <td id=\"T_ac16fef8_48f2_11e9_b9f7_409f3864a092row7_col3\" class=\"data row7 col3\" >10.7</td> \n",
       "    </tr>    <tr> \n",
       "        <th id=\"T_ac16fef8_48f2_11e9_b9f7_409f3864a092level0_row8\" class=\"row_heading level0 row8\" >8</th> \n",
       "        <td id=\"T_ac16fef8_48f2_11e9_b9f7_409f3864a092row8_col0\" class=\"data row8 col0\" >i- Love & Green</td> \n",
       "        <td id=\"T_ac16fef8_48f2_11e9_b9f7_409f3864a092row8_col1\" class=\"data row8 col1\" >13</td> \n",
       "        <td id=\"T_ac16fef8_48f2_11e9_b9f7_409f3864a092row8_col2\" class=\"data row8 col2\" >7</td> \n",
       "        <td id=\"T_ac16fef8_48f2_11e9_b9f7_409f3864a092row8_col3\" class=\"data row8 col3\" >10.6</td> \n",
       "    </tr>    <tr> \n",
       "        <th id=\"T_ac16fef8_48f2_11e9_b9f7_409f3864a092level0_row9\" class=\"row_heading level0 row9\" >9</th> \n",
       "        <td id=\"T_ac16fef8_48f2_11e9_b9f7_409f3864a092row9_col0\" class=\"data row9 col0\" >j- Lotus Baby</td> \n",
       "        <td id=\"T_ac16fef8_48f2_11e9_b9f7_409f3864a092row9_col1\" class=\"data row9 col1\" >13</td> \n",
       "        <td id=\"T_ac16fef8_48f2_11e9_b9f7_409f3864a092row9_col2\" class=\"data row9 col2\" >0</td> \n",
       "        <td id=\"T_ac16fef8_48f2_11e9_b9f7_409f3864a092row9_col3\" class=\"data row9 col3\" >7.8</td> \n",
       "    </tr>    <tr> \n",
       "        <th id=\"T_ac16fef8_48f2_11e9_b9f7_409f3864a092level0_row10\" class=\"row_heading level0 row10\" >10</th> \n",
       "        <td id=\"T_ac16fef8_48f2_11e9_b9f7_409f3864a092row10_col0\" class=\"data row10 col0\" >k- Pommette</td> \n",
       "        <td id=\"T_ac16fef8_48f2_11e9_b9f7_409f3864a092row10_col1\" class=\"data row10 col1\" >13</td> \n",
       "        <td id=\"T_ac16fef8_48f2_11e9_b9f7_409f3864a092row10_col2\" class=\"data row10 col2\" >0</td> \n",
       "        <td id=\"T_ac16fef8_48f2_11e9_b9f7_409f3864a092row10_col3\" class=\"data row10 col3\" >7.8</td> \n",
       "    </tr>    <tr> \n",
       "        <th id=\"T_ac16fef8_48f2_11e9_b9f7_409f3864a092level0_row11\" class=\"row_heading level0 row11\" >11</th> \n",
       "        <td id=\"T_ac16fef8_48f2_11e9_b9f7_409f3864a092row11_col0\" class=\"data row11 col0\" >l- Lillydoo </td> \n",
       "        <td id=\"T_ac16fef8_48f2_11e9_b9f7_409f3864a092row11_col1\" class=\"data row11 col1\" >10</td> \n",
       "        <td id=\"T_ac16fef8_48f2_11e9_b9f7_409f3864a092row11_col2\" class=\"data row11 col2\" >0</td> \n",
       "        <td id=\"T_ac16fef8_48f2_11e9_b9f7_409f3864a092row11_col3\" class=\"data row11 col3\" >6</td> \n",
       "    </tr></tbody> \n",
       "</table> "
      ]
     },
     "metadata": {},
     "output_type": "display_data"
    }
   ],
   "source": [
    "df1_s = result_original.style.set_table_attributes(\"style='display:inline'\").set_caption('Modèle original')\n",
    "df2_s = result_3_1_max.style.set_table_attributes(\"style='display:inline'\").set_caption(model_name_3)\n",
    "\n",
    "display_html(df1_s._repr_html_()+df2_s._repr_html_(), raw=True)"
   ]
  },
  {
   "cell_type": "markdown",
   "metadata": {},
   "source": [
    "#### Pire score"
   ]
  },
  {
   "cell_type": "code",
   "execution_count": 10,
   "metadata": {
    "tags": [
     "remove_cell"
    ]
   },
   "outputs": [],
   "source": [
    "model_name_4 = 'Programme Lineaire - Pire score Joone'\n",
    "result_3_1_min = checkAdditiveModel(csv_name=csv_name,\n",
    "                  model_name=model_name_4,\n",
    "                  eval_expr='y1',\n",
    "                  direction='min',\n",
    "                  update_model=update_model_Q3)"
   ]
  },
  {
   "cell_type": "code",
   "execution_count": 11,
   "metadata": {
    "tags": [
     "remove_cell"
    ]
   },
   "outputs": [
    {
     "data": {
      "text/html": [
       "<style  type=\"text/css\" >\n",
       "</style>  \n",
       "<table id=\"T_ac210e06_48f2_11e9_bed6_409f3864a092\" style='display:inline'><caption>Modèle original</caption> \n",
       "<thead>    <tr> \n",
       "        <th class=\"blank level0\" ></th> \n",
       "        <th class=\"col_heading level0 col0\" >Produit</th> \n",
       "        <th class=\"col_heading level0 col1\" >Performance</th> \n",
       "        <th class=\"col_heading level0 col2\" >Composition</th> \n",
       "        <th class=\"col_heading level0 col3\" >Score</th> \n",
       "    </tr></thead> \n",
       "<tbody>    <tr> \n",
       "        <th id=\"T_ac210e06_48f2_11e9_bed6_409f3864a092level0_row0\" class=\"row_heading level0 row0\" >0</th> \n",
       "        <td id=\"T_ac210e06_48f2_11e9_bed6_409f3864a092row0_col0\" class=\"data row0 col0\" >a- Joone</td> \n",
       "        <td id=\"T_ac210e06_48f2_11e9_bed6_409f3864a092row0_col1\" class=\"data row0 col1\" >+++</td> \n",
       "        <td id=\"T_ac210e06_48f2_11e9_bed6_409f3864a092row0_col2\" class=\"data row0 col2\" >+++</td> \n",
       "        <td id=\"T_ac210e06_48f2_11e9_bed6_409f3864a092row0_col3\" class=\"data row0 col3\" >17</td> \n",
       "    </tr>    <tr> \n",
       "        <th id=\"T_ac210e06_48f2_11e9_bed6_409f3864a092level0_row1\" class=\"row_heading level0 row1\" >1</th> \n",
       "        <td id=\"T_ac210e06_48f2_11e9_bed6_409f3864a092row1_col0\" class=\"data row1 col0\" >b- Pamp. Prem</td> \n",
       "        <td id=\"T_ac210e06_48f2_11e9_bed6_409f3864a092row1_col1\" class=\"data row1 col1\" >++</td> \n",
       "        <td id=\"T_ac210e06_48f2_11e9_bed6_409f3864a092row1_col2\" class=\"data row1 col2\" >++</td> \n",
       "        <td id=\"T_ac210e06_48f2_11e9_bed6_409f3864a092row1_col3\" class=\"data row1 col3\" >14.5</td> \n",
       "    </tr>    <tr> \n",
       "        <th id=\"T_ac210e06_48f2_11e9_bed6_409f3864a092level0_row2\" class=\"row_heading level0 row2\" >2</th> \n",
       "        <td id=\"T_ac210e06_48f2_11e9_bed6_409f3864a092row2_col0\" class=\"data row2 col0\" >c- Pamp. Baby</td> \n",
       "        <td id=\"T_ac210e06_48f2_11e9_bed6_409f3864a092row2_col1\" class=\"data row2 col1\" >+</td> \n",
       "        <td id=\"T_ac210e06_48f2_11e9_bed6_409f3864a092row2_col2\" class=\"data row2 col2\" >+++</td> \n",
       "        <td id=\"T_ac210e06_48f2_11e9_bed6_409f3864a092row2_col3\" class=\"data row2 col3\" >12.5</td> \n",
       "    </tr>    <tr> \n",
       "        <th id=\"T_ac210e06_48f2_11e9_bed6_409f3864a092level0_row3\" class=\"row_heading level0 row3\" >3</th> \n",
       "        <td id=\"T_ac210e06_48f2_11e9_bed6_409f3864a092row3_col0\" class=\"data row3 col0\" >d- Naty</td> \n",
       "        <td id=\"T_ac210e06_48f2_11e9_bed6_409f3864a092row3_col1\" class=\"data row3 col1\" >+</td> \n",
       "        <td id=\"T_ac210e06_48f2_11e9_bed6_409f3864a092row3_col2\" class=\"data row3 col2\" >+++</td> \n",
       "        <td id=\"T_ac210e06_48f2_11e9_bed6_409f3864a092row3_col3\" class=\"data row3 col3\" >12.5</td> \n",
       "    </tr>    <tr> \n",
       "        <th id=\"T_ac210e06_48f2_11e9_bed6_409f3864a092level0_row4\" class=\"row_heading level0 row4\" >4</th> \n",
       "        <td id=\"T_ac210e06_48f2_11e9_bed6_409f3864a092row4_col0\" class=\"data row4 col0\" >e- Pamp. Activ.</td> \n",
       "        <td id=\"T_ac210e06_48f2_11e9_bed6_409f3864a092row4_col1\" class=\"data row4 col1\" >+</td> \n",
       "        <td id=\"T_ac210e06_48f2_11e9_bed6_409f3864a092row4_col2\" class=\"data row4 col2\" >+</td> \n",
       "        <td id=\"T_ac210e06_48f2_11e9_bed6_409f3864a092row4_col3\" class=\"data row4 col3\" >12.5</td> \n",
       "    </tr>    <tr> \n",
       "        <th id=\"T_ac210e06_48f2_11e9_bed6_409f3864a092level0_row5\" class=\"row_heading level0 row5\" >5</th> \n",
       "        <td id=\"T_ac210e06_48f2_11e9_bed6_409f3864a092row5_col0\" class=\"data row5 col0\" >f- Carref.Baby</td> \n",
       "        <td id=\"T_ac210e06_48f2_11e9_bed6_409f3864a092row5_col1\" class=\"data row5 col1\" >++</td> \n",
       "        <td id=\"T_ac210e06_48f2_11e9_bed6_409f3864a092row5_col2\" class=\"data row5 col2\" >+</td> \n",
       "        <td id=\"T_ac210e06_48f2_11e9_bed6_409f3864a092row5_col3\" class=\"data row5 col3\" >12.5</td> \n",
       "    </tr>    <tr> \n",
       "        <th id=\"T_ac210e06_48f2_11e9_bed6_409f3864a092level0_row6\" class=\"row_heading level0 row6\" >6</th> \n",
       "        <td id=\"T_ac210e06_48f2_11e9_bed6_409f3864a092row6_col0\" class=\"data row6 col0\" >g- Lupilu</td> \n",
       "        <td id=\"T_ac210e06_48f2_11e9_bed6_409f3864a092row6_col1\" class=\"data row6 col1\" >++</td> \n",
       "        <td id=\"T_ac210e06_48f2_11e9_bed6_409f3864a092row6_col2\" class=\"data row6 col2\" >-</td> \n",
       "        <td id=\"T_ac210e06_48f2_11e9_bed6_409f3864a092row6_col3\" class=\"data row6 col3\" >12</td> \n",
       "    </tr>    <tr> \n",
       "        <th id=\"T_ac210e06_48f2_11e9_bed6_409f3864a092level0_row7\" class=\"row_heading level0 row7\" >7</th> \n",
       "        <td id=\"T_ac210e06_48f2_11e9_bed6_409f3864a092row7_col0\" class=\"data row7 col0\" >h- Mots d’enfants </td> \n",
       "        <td id=\"T_ac210e06_48f2_11e9_bed6_409f3864a092row7_col1\" class=\"data row7 col1\" >+</td> \n",
       "        <td id=\"T_ac210e06_48f2_11e9_bed6_409f3864a092row7_col2\" class=\"data row7 col2\" >-</td> \n",
       "        <td id=\"T_ac210e06_48f2_11e9_bed6_409f3864a092row7_col3\" class=\"data row7 col3\" >12</td> \n",
       "    </tr>    <tr> \n",
       "        <th id=\"T_ac210e06_48f2_11e9_bed6_409f3864a092level0_row8\" class=\"row_heading level0 row8\" >8</th> \n",
       "        <td id=\"T_ac210e06_48f2_11e9_bed6_409f3864a092row8_col0\" class=\"data row8 col0\" >i- Love & Green</td> \n",
       "        <td id=\"T_ac210e06_48f2_11e9_bed6_409f3864a092row8_col1\" class=\"data row8 col1\" >++</td> \n",
       "        <td id=\"T_ac210e06_48f2_11e9_bed6_409f3864a092row8_col2\" class=\"data row8 col2\" >-</td> \n",
       "        <td id=\"T_ac210e06_48f2_11e9_bed6_409f3864a092row8_col3\" class=\"data row8 col3\" >9.5</td> \n",
       "    </tr>    <tr> \n",
       "        <th id=\"T_ac210e06_48f2_11e9_bed6_409f3864a092level0_row9\" class=\"row_heading level0 row9\" >9</th> \n",
       "        <td id=\"T_ac210e06_48f2_11e9_bed6_409f3864a092row9_col0\" class=\"data row9 col0\" >j- Lotus Baby</td> \n",
       "        <td id=\"T_ac210e06_48f2_11e9_bed6_409f3864a092row9_col1\" class=\"data row9 col1\" >++</td> \n",
       "        <td id=\"T_ac210e06_48f2_11e9_bed6_409f3864a092row9_col2\" class=\"data row9 col2\" >--</td> \n",
       "        <td id=\"T_ac210e06_48f2_11e9_bed6_409f3864a092row9_col3\" class=\"data row9 col3\" >9.5</td> \n",
       "    </tr>    <tr> \n",
       "        <th id=\"T_ac210e06_48f2_11e9_bed6_409f3864a092level0_row10\" class=\"row_heading level0 row10\" >10</th> \n",
       "        <td id=\"T_ac210e06_48f2_11e9_bed6_409f3864a092row10_col0\" class=\"data row10 col0\" >k- Pommette</td> \n",
       "        <td id=\"T_ac210e06_48f2_11e9_bed6_409f3864a092row10_col1\" class=\"data row10 col1\" >++</td> \n",
       "        <td id=\"T_ac210e06_48f2_11e9_bed6_409f3864a092row10_col2\" class=\"data row10 col2\" >--</td> \n",
       "        <td id=\"T_ac210e06_48f2_11e9_bed6_409f3864a092row10_col3\" class=\"data row10 col3\" >9.5</td> \n",
       "    </tr>    <tr> \n",
       "        <th id=\"T_ac210e06_48f2_11e9_bed6_409f3864a092level0_row11\" class=\"row_heading level0 row11\" >11</th> \n",
       "        <td id=\"T_ac210e06_48f2_11e9_bed6_409f3864a092row11_col0\" class=\"data row11 col0\" >l- Lillydoo </td> \n",
       "        <td id=\"T_ac210e06_48f2_11e9_bed6_409f3864a092row11_col1\" class=\"data row11 col1\" >+</td> \n",
       "        <td id=\"T_ac210e06_48f2_11e9_bed6_409f3864a092row11_col2\" class=\"data row11 col2\" >--</td> \n",
       "        <td id=\"T_ac210e06_48f2_11e9_bed6_409f3864a092row11_col3\" class=\"data row11 col3\" >6.5</td> \n",
       "    </tr></tbody> \n",
       "</table> <style  type=\"text/css\" >\n",
       "</style>  \n",
       "<table id=\"T_ac215bf4_48f2_11e9_b2ea_409f3864a092\" style='display:inline'><caption>Programme Lineaire - Pire score Joone</caption> \n",
       "<thead>    <tr> \n",
       "        <th class=\"blank level0\" ></th> \n",
       "        <th class=\"col_heading level0 col0\" >Produit</th> \n",
       "        <th class=\"col_heading level0 col1\" >Performance</th> \n",
       "        <th class=\"col_heading level0 col2\" >Composition</th> \n",
       "        <th class=\"col_heading level0 col3\" >Score</th> \n",
       "    </tr></thead> \n",
       "<tbody>    <tr> \n",
       "        <th id=\"T_ac215bf4_48f2_11e9_b2ea_409f3864a092level0_row0\" class=\"row_heading level0 row0\" >0</th> \n",
       "        <td id=\"T_ac215bf4_48f2_11e9_b2ea_409f3864a092row0_col0\" class=\"data row0 col0\" >a- Joone</td> \n",
       "        <td id=\"T_ac215bf4_48f2_11e9_b2ea_409f3864a092row0_col1\" class=\"data row0 col1\" >17</td> \n",
       "        <td id=\"T_ac215bf4_48f2_11e9_b2ea_409f3864a092row0_col2\" class=\"data row0 col2\" >17</td> \n",
       "        <td id=\"T_ac215bf4_48f2_11e9_b2ea_409f3864a092row0_col3\" class=\"data row0 col3\" >17</td> \n",
       "    </tr>    <tr> \n",
       "        <th id=\"T_ac215bf4_48f2_11e9_b2ea_409f3864a092level0_row1\" class=\"row_heading level0 row1\" >1</th> \n",
       "        <td id=\"T_ac215bf4_48f2_11e9_b2ea_409f3864a092row1_col0\" class=\"data row1 col0\" >b- Pamp. Prem</td> \n",
       "        <td id=\"T_ac215bf4_48f2_11e9_b2ea_409f3864a092row1_col1\" class=\"data row1 col1\" >13</td> \n",
       "        <td id=\"T_ac215bf4_48f2_11e9_b2ea_409f3864a092row1_col2\" class=\"data row1 col2\" >13</td> \n",
       "        <td id=\"T_ac215bf4_48f2_11e9_b2ea_409f3864a092row1_col3\" class=\"data row1 col3\" >13</td> \n",
       "    </tr>    <tr> \n",
       "        <th id=\"T_ac215bf4_48f2_11e9_b2ea_409f3864a092level0_row2\" class=\"row_heading level0 row2\" >2</th> \n",
       "        <td id=\"T_ac215bf4_48f2_11e9_b2ea_409f3864a092row2_col0\" class=\"data row2 col0\" >c- Pamp. Baby</td> \n",
       "        <td id=\"T_ac215bf4_48f2_11e9_b2ea_409f3864a092row2_col1\" class=\"data row2 col1\" >10</td> \n",
       "        <td id=\"T_ac215bf4_48f2_11e9_b2ea_409f3864a092row2_col2\" class=\"data row2 col2\" >17.25</td> \n",
       "        <td id=\"T_ac215bf4_48f2_11e9_b2ea_409f3864a092row2_col3\" class=\"data row2 col3\" >12.9</td> \n",
       "    </tr>    <tr> \n",
       "        <th id=\"T_ac215bf4_48f2_11e9_b2ea_409f3864a092level0_row3\" class=\"row_heading level0 row3\" >3</th> \n",
       "        <td id=\"T_ac215bf4_48f2_11e9_b2ea_409f3864a092row3_col0\" class=\"data row3 col0\" >d- Naty</td> \n",
       "        <td id=\"T_ac215bf4_48f2_11e9_b2ea_409f3864a092row3_col1\" class=\"data row3 col1\" >10.1667</td> \n",
       "        <td id=\"T_ac215bf4_48f2_11e9_b2ea_409f3864a092row3_col2\" class=\"data row3 col2\" >17</td> \n",
       "        <td id=\"T_ac215bf4_48f2_11e9_b2ea_409f3864a092row3_col3\" class=\"data row3 col3\" >12.9</td> \n",
       "    </tr>    <tr> \n",
       "        <th id=\"T_ac215bf4_48f2_11e9_b2ea_409f3864a092level0_row4\" class=\"row_heading level0 row4\" >4</th> \n",
       "        <td id=\"T_ac215bf4_48f2_11e9_b2ea_409f3864a092row4_col0\" class=\"data row4 col0\" >e- Pamp. Activ.</td> \n",
       "        <td id=\"T_ac215bf4_48f2_11e9_b2ea_409f3864a092row4_col1\" class=\"data row4 col1\" >12.5</td> \n",
       "        <td id=\"T_ac215bf4_48f2_11e9_b2ea_409f3864a092row4_col2\" class=\"data row4 col2\" >10.75</td> \n",
       "        <td id=\"T_ac215bf4_48f2_11e9_b2ea_409f3864a092row4_col3\" class=\"data row4 col3\" >11.8</td> \n",
       "    </tr>    <tr> \n",
       "        <th id=\"T_ac215bf4_48f2_11e9_b2ea_409f3864a092level0_row5\" class=\"row_heading level0 row5\" >5</th> \n",
       "        <td id=\"T_ac215bf4_48f2_11e9_b2ea_409f3864a092row5_col0\" class=\"data row5 col0\" >f- Carref.Baby</td> \n",
       "        <td id=\"T_ac215bf4_48f2_11e9_b2ea_409f3864a092row5_col1\" class=\"data row5 col1\" >13</td> \n",
       "        <td id=\"T_ac215bf4_48f2_11e9_b2ea_409f3864a092row5_col2\" class=\"data row5 col2\" >10</td> \n",
       "        <td id=\"T_ac215bf4_48f2_11e9_b2ea_409f3864a092row5_col3\" class=\"data row5 col3\" >11.8</td> \n",
       "    </tr>    <tr> \n",
       "        <th id=\"T_ac215bf4_48f2_11e9_b2ea_409f3864a092level0_row6\" class=\"row_heading level0 row6\" >6</th> \n",
       "        <td id=\"T_ac215bf4_48f2_11e9_b2ea_409f3864a092row6_col0\" class=\"data row6 col0\" >g- Lupilu</td> \n",
       "        <td id=\"T_ac215bf4_48f2_11e9_b2ea_409f3864a092row6_col1\" class=\"data row6 col1\" >13.1667</td> \n",
       "        <td id=\"T_ac215bf4_48f2_11e9_b2ea_409f3864a092row6_col2\" class=\"data row6 col2\" >7</td> \n",
       "        <td id=\"T_ac215bf4_48f2_11e9_b2ea_409f3864a092row6_col3\" class=\"data row6 col3\" >10.7</td> \n",
       "    </tr>    <tr> \n",
       "        <th id=\"T_ac215bf4_48f2_11e9_b2ea_409f3864a092level0_row7\" class=\"row_heading level0 row7\" >7</th> \n",
       "        <td id=\"T_ac215bf4_48f2_11e9_b2ea_409f3864a092row7_col0\" class=\"data row7 col0\" >h- Mots d’enfants </td> \n",
       "        <td id=\"T_ac215bf4_48f2_11e9_b2ea_409f3864a092row7_col1\" class=\"data row7 col1\" >12.5</td> \n",
       "        <td id=\"T_ac215bf4_48f2_11e9_b2ea_409f3864a092row7_col2\" class=\"data row7 col2\" >8</td> \n",
       "        <td id=\"T_ac215bf4_48f2_11e9_b2ea_409f3864a092row7_col3\" class=\"data row7 col3\" >10.7</td> \n",
       "    </tr>    <tr> \n",
       "        <th id=\"T_ac215bf4_48f2_11e9_b2ea_409f3864a092level0_row8\" class=\"row_heading level0 row8\" >8</th> \n",
       "        <td id=\"T_ac215bf4_48f2_11e9_b2ea_409f3864a092row8_col0\" class=\"data row8 col0\" >i- Love & Green</td> \n",
       "        <td id=\"T_ac215bf4_48f2_11e9_b2ea_409f3864a092row8_col1\" class=\"data row8 col1\" >13</td> \n",
       "        <td id=\"T_ac215bf4_48f2_11e9_b2ea_409f3864a092row8_col2\" class=\"data row8 col2\" >7</td> \n",
       "        <td id=\"T_ac215bf4_48f2_11e9_b2ea_409f3864a092row8_col3\" class=\"data row8 col3\" >10.6</td> \n",
       "    </tr>    <tr> \n",
       "        <th id=\"T_ac215bf4_48f2_11e9_b2ea_409f3864a092level0_row9\" class=\"row_heading level0 row9\" >9</th> \n",
       "        <td id=\"T_ac215bf4_48f2_11e9_b2ea_409f3864a092row9_col0\" class=\"data row9 col0\" >j- Lotus Baby</td> \n",
       "        <td id=\"T_ac215bf4_48f2_11e9_b2ea_409f3864a092row9_col1\" class=\"data row9 col1\" >13</td> \n",
       "        <td id=\"T_ac215bf4_48f2_11e9_b2ea_409f3864a092row9_col2\" class=\"data row9 col2\" >0</td> \n",
       "        <td id=\"T_ac215bf4_48f2_11e9_b2ea_409f3864a092row9_col3\" class=\"data row9 col3\" >7.8</td> \n",
       "    </tr>    <tr> \n",
       "        <th id=\"T_ac215bf4_48f2_11e9_b2ea_409f3864a092level0_row10\" class=\"row_heading level0 row10\" >10</th> \n",
       "        <td id=\"T_ac215bf4_48f2_11e9_b2ea_409f3864a092row10_col0\" class=\"data row10 col0\" >k- Pommette</td> \n",
       "        <td id=\"T_ac215bf4_48f2_11e9_b2ea_409f3864a092row10_col1\" class=\"data row10 col1\" >13</td> \n",
       "        <td id=\"T_ac215bf4_48f2_11e9_b2ea_409f3864a092row10_col2\" class=\"data row10 col2\" >0</td> \n",
       "        <td id=\"T_ac215bf4_48f2_11e9_b2ea_409f3864a092row10_col3\" class=\"data row10 col3\" >7.8</td> \n",
       "    </tr>    <tr> \n",
       "        <th id=\"T_ac215bf4_48f2_11e9_b2ea_409f3864a092level0_row11\" class=\"row_heading level0 row11\" >11</th> \n",
       "        <td id=\"T_ac215bf4_48f2_11e9_b2ea_409f3864a092row11_col0\" class=\"data row11 col0\" >l- Lillydoo </td> \n",
       "        <td id=\"T_ac215bf4_48f2_11e9_b2ea_409f3864a092row11_col1\" class=\"data row11 col1\" >10</td> \n",
       "        <td id=\"T_ac215bf4_48f2_11e9_b2ea_409f3864a092row11_col2\" class=\"data row11 col2\" >0</td> \n",
       "        <td id=\"T_ac215bf4_48f2_11e9_b2ea_409f3864a092row11_col3\" class=\"data row11 col3\" >6</td> \n",
       "    </tr></tbody> \n",
       "</table> "
      ]
     },
     "metadata": {},
     "output_type": "display_data"
    }
   ],
   "source": [
    "df2_s = result_3_1_min.style.set_table_attributes(\"style='display:inline'\").set_caption(model_name_4)\n",
    "display_html(df1_s._repr_html_()+df2_s._repr_html_(), raw=True)"
   ]
  },
  {
   "cell_type": "markdown",
   "metadata": {},
   "source": [
    "#### Commentaires"
   ]
  },
  {
   "cell_type": "markdown",
   "metadata": {},
   "source": [
    "En supposant que les couches \"Naty\" et \"Pamp. Activ\", ainsi que les couches \"Love & Green\" et \"Lotus Baby\" n'ont plus nécessairement le même score et en supposant également que la note de composition de la couche \"Pamp Baby\" n'est plus nécessairement supérieure à 17/20, on obtient les résultats suivants :\n",
    "\n",
    "Le score maximal obtenu pour la couche \"Joone\" est de 20/20. Le score minimal est de 17/20.\n",
    "\n",
    "On observe sous ces hypothèses, que la note de la couche \"Love & Green\" passe de 9.5 à 10.6 soit une progression de 1.1 point.\n"
   ]
  },
  {
   "cell_type": "markdown",
   "metadata": {},
   "source": [
    "## 1.3.2 Le meilleur et le pire score global obtenu par le produit “Lillydoo”"
   ]
  },
  {
   "cell_type": "markdown",
   "metadata": {},
   "source": [
    "#### Meilleur score"
   ]
  },
  {
   "cell_type": "code",
   "execution_count": 12,
   "metadata": {
    "tags": [
     "remove_cell"
    ]
   },
   "outputs": [],
   "source": [
    "model_name_5 = 'Programme Lineaire - Meilleur score Lillydoo'\n",
    "result_3_2_max = checkAdditiveModel(csv_name=csv_name,\n",
    "                  model_name=model_name_5,\n",
    "                  eval_expr='y12',\n",
    "                  direction='max',\n",
    "                  update_model=update_model_Q3)"
   ]
  },
  {
   "cell_type": "code",
   "execution_count": 13,
   "metadata": {
    "tags": [
     "remove_cell"
    ]
   },
   "outputs": [
    {
     "data": {
      "text/html": [
       "<style  type=\"text/css\" >\n",
       "</style>  \n",
       "<table id=\"T_ac328e46_48f2_11e9_880b_409f3864a092\" style='display:inline'><caption>Modèle original</caption> \n",
       "<thead>    <tr> \n",
       "        <th class=\"blank level0\" ></th> \n",
       "        <th class=\"col_heading level0 col0\" >Produit</th> \n",
       "        <th class=\"col_heading level0 col1\" >Performance</th> \n",
       "        <th class=\"col_heading level0 col2\" >Composition</th> \n",
       "        <th class=\"col_heading level0 col3\" >Score</th> \n",
       "    </tr></thead> \n",
       "<tbody>    <tr> \n",
       "        <th id=\"T_ac328e46_48f2_11e9_880b_409f3864a092level0_row0\" class=\"row_heading level0 row0\" >0</th> \n",
       "        <td id=\"T_ac328e46_48f2_11e9_880b_409f3864a092row0_col0\" class=\"data row0 col0\" >a- Joone</td> \n",
       "        <td id=\"T_ac328e46_48f2_11e9_880b_409f3864a092row0_col1\" class=\"data row0 col1\" >+++</td> \n",
       "        <td id=\"T_ac328e46_48f2_11e9_880b_409f3864a092row0_col2\" class=\"data row0 col2\" >+++</td> \n",
       "        <td id=\"T_ac328e46_48f2_11e9_880b_409f3864a092row0_col3\" class=\"data row0 col3\" >17</td> \n",
       "    </tr>    <tr> \n",
       "        <th id=\"T_ac328e46_48f2_11e9_880b_409f3864a092level0_row1\" class=\"row_heading level0 row1\" >1</th> \n",
       "        <td id=\"T_ac328e46_48f2_11e9_880b_409f3864a092row1_col0\" class=\"data row1 col0\" >b- Pamp. Prem</td> \n",
       "        <td id=\"T_ac328e46_48f2_11e9_880b_409f3864a092row1_col1\" class=\"data row1 col1\" >++</td> \n",
       "        <td id=\"T_ac328e46_48f2_11e9_880b_409f3864a092row1_col2\" class=\"data row1 col2\" >++</td> \n",
       "        <td id=\"T_ac328e46_48f2_11e9_880b_409f3864a092row1_col3\" class=\"data row1 col3\" >14.5</td> \n",
       "    </tr>    <tr> \n",
       "        <th id=\"T_ac328e46_48f2_11e9_880b_409f3864a092level0_row2\" class=\"row_heading level0 row2\" >2</th> \n",
       "        <td id=\"T_ac328e46_48f2_11e9_880b_409f3864a092row2_col0\" class=\"data row2 col0\" >c- Pamp. Baby</td> \n",
       "        <td id=\"T_ac328e46_48f2_11e9_880b_409f3864a092row2_col1\" class=\"data row2 col1\" >+</td> \n",
       "        <td id=\"T_ac328e46_48f2_11e9_880b_409f3864a092row2_col2\" class=\"data row2 col2\" >+++</td> \n",
       "        <td id=\"T_ac328e46_48f2_11e9_880b_409f3864a092row2_col3\" class=\"data row2 col3\" >12.5</td> \n",
       "    </tr>    <tr> \n",
       "        <th id=\"T_ac328e46_48f2_11e9_880b_409f3864a092level0_row3\" class=\"row_heading level0 row3\" >3</th> \n",
       "        <td id=\"T_ac328e46_48f2_11e9_880b_409f3864a092row3_col0\" class=\"data row3 col0\" >d- Naty</td> \n",
       "        <td id=\"T_ac328e46_48f2_11e9_880b_409f3864a092row3_col1\" class=\"data row3 col1\" >+</td> \n",
       "        <td id=\"T_ac328e46_48f2_11e9_880b_409f3864a092row3_col2\" class=\"data row3 col2\" >+++</td> \n",
       "        <td id=\"T_ac328e46_48f2_11e9_880b_409f3864a092row3_col3\" class=\"data row3 col3\" >12.5</td> \n",
       "    </tr>    <tr> \n",
       "        <th id=\"T_ac328e46_48f2_11e9_880b_409f3864a092level0_row4\" class=\"row_heading level0 row4\" >4</th> \n",
       "        <td id=\"T_ac328e46_48f2_11e9_880b_409f3864a092row4_col0\" class=\"data row4 col0\" >e- Pamp. Activ.</td> \n",
       "        <td id=\"T_ac328e46_48f2_11e9_880b_409f3864a092row4_col1\" class=\"data row4 col1\" >+</td> \n",
       "        <td id=\"T_ac328e46_48f2_11e9_880b_409f3864a092row4_col2\" class=\"data row4 col2\" >+</td> \n",
       "        <td id=\"T_ac328e46_48f2_11e9_880b_409f3864a092row4_col3\" class=\"data row4 col3\" >12.5</td> \n",
       "    </tr>    <tr> \n",
       "        <th id=\"T_ac328e46_48f2_11e9_880b_409f3864a092level0_row5\" class=\"row_heading level0 row5\" >5</th> \n",
       "        <td id=\"T_ac328e46_48f2_11e9_880b_409f3864a092row5_col0\" class=\"data row5 col0\" >f- Carref.Baby</td> \n",
       "        <td id=\"T_ac328e46_48f2_11e9_880b_409f3864a092row5_col1\" class=\"data row5 col1\" >++</td> \n",
       "        <td id=\"T_ac328e46_48f2_11e9_880b_409f3864a092row5_col2\" class=\"data row5 col2\" >+</td> \n",
       "        <td id=\"T_ac328e46_48f2_11e9_880b_409f3864a092row5_col3\" class=\"data row5 col3\" >12.5</td> \n",
       "    </tr>    <tr> \n",
       "        <th id=\"T_ac328e46_48f2_11e9_880b_409f3864a092level0_row6\" class=\"row_heading level0 row6\" >6</th> \n",
       "        <td id=\"T_ac328e46_48f2_11e9_880b_409f3864a092row6_col0\" class=\"data row6 col0\" >g- Lupilu</td> \n",
       "        <td id=\"T_ac328e46_48f2_11e9_880b_409f3864a092row6_col1\" class=\"data row6 col1\" >++</td> \n",
       "        <td id=\"T_ac328e46_48f2_11e9_880b_409f3864a092row6_col2\" class=\"data row6 col2\" >-</td> \n",
       "        <td id=\"T_ac328e46_48f2_11e9_880b_409f3864a092row6_col3\" class=\"data row6 col3\" >12</td> \n",
       "    </tr>    <tr> \n",
       "        <th id=\"T_ac328e46_48f2_11e9_880b_409f3864a092level0_row7\" class=\"row_heading level0 row7\" >7</th> \n",
       "        <td id=\"T_ac328e46_48f2_11e9_880b_409f3864a092row7_col0\" class=\"data row7 col0\" >h- Mots d’enfants </td> \n",
       "        <td id=\"T_ac328e46_48f2_11e9_880b_409f3864a092row7_col1\" class=\"data row7 col1\" >+</td> \n",
       "        <td id=\"T_ac328e46_48f2_11e9_880b_409f3864a092row7_col2\" class=\"data row7 col2\" >-</td> \n",
       "        <td id=\"T_ac328e46_48f2_11e9_880b_409f3864a092row7_col3\" class=\"data row7 col3\" >12</td> \n",
       "    </tr>    <tr> \n",
       "        <th id=\"T_ac328e46_48f2_11e9_880b_409f3864a092level0_row8\" class=\"row_heading level0 row8\" >8</th> \n",
       "        <td id=\"T_ac328e46_48f2_11e9_880b_409f3864a092row8_col0\" class=\"data row8 col0\" >i- Love & Green</td> \n",
       "        <td id=\"T_ac328e46_48f2_11e9_880b_409f3864a092row8_col1\" class=\"data row8 col1\" >++</td> \n",
       "        <td id=\"T_ac328e46_48f2_11e9_880b_409f3864a092row8_col2\" class=\"data row8 col2\" >-</td> \n",
       "        <td id=\"T_ac328e46_48f2_11e9_880b_409f3864a092row8_col3\" class=\"data row8 col3\" >9.5</td> \n",
       "    </tr>    <tr> \n",
       "        <th id=\"T_ac328e46_48f2_11e9_880b_409f3864a092level0_row9\" class=\"row_heading level0 row9\" >9</th> \n",
       "        <td id=\"T_ac328e46_48f2_11e9_880b_409f3864a092row9_col0\" class=\"data row9 col0\" >j- Lotus Baby</td> \n",
       "        <td id=\"T_ac328e46_48f2_11e9_880b_409f3864a092row9_col1\" class=\"data row9 col1\" >++</td> \n",
       "        <td id=\"T_ac328e46_48f2_11e9_880b_409f3864a092row9_col2\" class=\"data row9 col2\" >--</td> \n",
       "        <td id=\"T_ac328e46_48f2_11e9_880b_409f3864a092row9_col3\" class=\"data row9 col3\" >9.5</td> \n",
       "    </tr>    <tr> \n",
       "        <th id=\"T_ac328e46_48f2_11e9_880b_409f3864a092level0_row10\" class=\"row_heading level0 row10\" >10</th> \n",
       "        <td id=\"T_ac328e46_48f2_11e9_880b_409f3864a092row10_col0\" class=\"data row10 col0\" >k- Pommette</td> \n",
       "        <td id=\"T_ac328e46_48f2_11e9_880b_409f3864a092row10_col1\" class=\"data row10 col1\" >++</td> \n",
       "        <td id=\"T_ac328e46_48f2_11e9_880b_409f3864a092row10_col2\" class=\"data row10 col2\" >--</td> \n",
       "        <td id=\"T_ac328e46_48f2_11e9_880b_409f3864a092row10_col3\" class=\"data row10 col3\" >9.5</td> \n",
       "    </tr>    <tr> \n",
       "        <th id=\"T_ac328e46_48f2_11e9_880b_409f3864a092level0_row11\" class=\"row_heading level0 row11\" >11</th> \n",
       "        <td id=\"T_ac328e46_48f2_11e9_880b_409f3864a092row11_col0\" class=\"data row11 col0\" >l- Lillydoo </td> \n",
       "        <td id=\"T_ac328e46_48f2_11e9_880b_409f3864a092row11_col1\" class=\"data row11 col1\" >+</td> \n",
       "        <td id=\"T_ac328e46_48f2_11e9_880b_409f3864a092row11_col2\" class=\"data row11 col2\" >--</td> \n",
       "        <td id=\"T_ac328e46_48f2_11e9_880b_409f3864a092row11_col3\" class=\"data row11 col3\" >6.5</td> \n",
       "    </tr></tbody> \n",
       "</table> <style  type=\"text/css\" >\n",
       "</style>  \n",
       "<table id=\"T_ac341428_48f2_11e9_bd3c_409f3864a092\" style='display:inline'><caption>Programme Lineaire - Meilleur score Lillydoo</caption> \n",
       "<thead>    <tr> \n",
       "        <th class=\"blank level0\" ></th> \n",
       "        <th class=\"col_heading level0 col0\" >Produit</th> \n",
       "        <th class=\"col_heading level0 col1\" >Performance</th> \n",
       "        <th class=\"col_heading level0 col2\" >Composition</th> \n",
       "        <th class=\"col_heading level0 col3\" >Score</th> \n",
       "    </tr></thead> \n",
       "<tbody>    <tr> \n",
       "        <th id=\"T_ac341428_48f2_11e9_bd3c_409f3864a092level0_row0\" class=\"row_heading level0 row0\" >0</th> \n",
       "        <td id=\"T_ac341428_48f2_11e9_bd3c_409f3864a092row0_col0\" class=\"data row0 col0\" >a- Joone</td> \n",
       "        <td id=\"T_ac341428_48f2_11e9_bd3c_409f3864a092row0_col1\" class=\"data row0 col1\" >17</td> \n",
       "        <td id=\"T_ac341428_48f2_11e9_bd3c_409f3864a092row0_col2\" class=\"data row0 col2\" >17</td> \n",
       "        <td id=\"T_ac341428_48f2_11e9_bd3c_409f3864a092row0_col3\" class=\"data row0 col3\" >17</td> \n",
       "    </tr>    <tr> \n",
       "        <th id=\"T_ac341428_48f2_11e9_bd3c_409f3864a092level0_row1\" class=\"row_heading level0 row1\" >1</th> \n",
       "        <td id=\"T_ac341428_48f2_11e9_bd3c_409f3864a092row1_col0\" class=\"data row1 col0\" >b- Pamp. Prem</td> \n",
       "        <td id=\"T_ac341428_48f2_11e9_bd3c_409f3864a092row1_col1\" class=\"data row1 col1\" >13</td> \n",
       "        <td id=\"T_ac341428_48f2_11e9_bd3c_409f3864a092row1_col2\" class=\"data row1 col2\" >13</td> \n",
       "        <td id=\"T_ac341428_48f2_11e9_bd3c_409f3864a092row1_col3\" class=\"data row1 col3\" >13</td> \n",
       "    </tr>    <tr> \n",
       "        <th id=\"T_ac341428_48f2_11e9_bd3c_409f3864a092level0_row2\" class=\"row_heading level0 row2\" >2</th> \n",
       "        <td id=\"T_ac341428_48f2_11e9_bd3c_409f3864a092row2_col0\" class=\"data row2 col0\" >c- Pamp. Baby</td> \n",
       "        <td id=\"T_ac341428_48f2_11e9_bd3c_409f3864a092row2_col1\" class=\"data row2 col1\" >10</td> \n",
       "        <td id=\"T_ac341428_48f2_11e9_bd3c_409f3864a092row2_col2\" class=\"data row2 col2\" >17.25</td> \n",
       "        <td id=\"T_ac341428_48f2_11e9_bd3c_409f3864a092row2_col3\" class=\"data row2 col3\" >12.9</td> \n",
       "    </tr>    <tr> \n",
       "        <th id=\"T_ac341428_48f2_11e9_bd3c_409f3864a092level0_row3\" class=\"row_heading level0 row3\" >3</th> \n",
       "        <td id=\"T_ac341428_48f2_11e9_bd3c_409f3864a092row3_col0\" class=\"data row3 col0\" >d- Naty</td> \n",
       "        <td id=\"T_ac341428_48f2_11e9_bd3c_409f3864a092row3_col1\" class=\"data row3 col1\" >10.1667</td> \n",
       "        <td id=\"T_ac341428_48f2_11e9_bd3c_409f3864a092row3_col2\" class=\"data row3 col2\" >17</td> \n",
       "        <td id=\"T_ac341428_48f2_11e9_bd3c_409f3864a092row3_col3\" class=\"data row3 col3\" >12.9</td> \n",
       "    </tr>    <tr> \n",
       "        <th id=\"T_ac341428_48f2_11e9_bd3c_409f3864a092level0_row4\" class=\"row_heading level0 row4\" >4</th> \n",
       "        <td id=\"T_ac341428_48f2_11e9_bd3c_409f3864a092row4_col0\" class=\"data row4 col0\" >e- Pamp. Activ.</td> \n",
       "        <td id=\"T_ac341428_48f2_11e9_bd3c_409f3864a092row4_col1\" class=\"data row4 col1\" >12.5</td> \n",
       "        <td id=\"T_ac341428_48f2_11e9_bd3c_409f3864a092row4_col2\" class=\"data row4 col2\" >10.75</td> \n",
       "        <td id=\"T_ac341428_48f2_11e9_bd3c_409f3864a092row4_col3\" class=\"data row4 col3\" >11.8</td> \n",
       "    </tr>    <tr> \n",
       "        <th id=\"T_ac341428_48f2_11e9_bd3c_409f3864a092level0_row5\" class=\"row_heading level0 row5\" >5</th> \n",
       "        <td id=\"T_ac341428_48f2_11e9_bd3c_409f3864a092row5_col0\" class=\"data row5 col0\" >f- Carref.Baby</td> \n",
       "        <td id=\"T_ac341428_48f2_11e9_bd3c_409f3864a092row5_col1\" class=\"data row5 col1\" >13</td> \n",
       "        <td id=\"T_ac341428_48f2_11e9_bd3c_409f3864a092row5_col2\" class=\"data row5 col2\" >10</td> \n",
       "        <td id=\"T_ac341428_48f2_11e9_bd3c_409f3864a092row5_col3\" class=\"data row5 col3\" >11.8</td> \n",
       "    </tr>    <tr> \n",
       "        <th id=\"T_ac341428_48f2_11e9_bd3c_409f3864a092level0_row6\" class=\"row_heading level0 row6\" >6</th> \n",
       "        <td id=\"T_ac341428_48f2_11e9_bd3c_409f3864a092row6_col0\" class=\"data row6 col0\" >g- Lupilu</td> \n",
       "        <td id=\"T_ac341428_48f2_11e9_bd3c_409f3864a092row6_col1\" class=\"data row6 col1\" >13.1667</td> \n",
       "        <td id=\"T_ac341428_48f2_11e9_bd3c_409f3864a092row6_col2\" class=\"data row6 col2\" >7</td> \n",
       "        <td id=\"T_ac341428_48f2_11e9_bd3c_409f3864a092row6_col3\" class=\"data row6 col3\" >10.7</td> \n",
       "    </tr>    <tr> \n",
       "        <th id=\"T_ac341428_48f2_11e9_bd3c_409f3864a092level0_row7\" class=\"row_heading level0 row7\" >7</th> \n",
       "        <td id=\"T_ac341428_48f2_11e9_bd3c_409f3864a092row7_col0\" class=\"data row7 col0\" >h- Mots d’enfants </td> \n",
       "        <td id=\"T_ac341428_48f2_11e9_bd3c_409f3864a092row7_col1\" class=\"data row7 col1\" >12.5</td> \n",
       "        <td id=\"T_ac341428_48f2_11e9_bd3c_409f3864a092row7_col2\" class=\"data row7 col2\" >8</td> \n",
       "        <td id=\"T_ac341428_48f2_11e9_bd3c_409f3864a092row7_col3\" class=\"data row7 col3\" >10.7</td> \n",
       "    </tr>    <tr> \n",
       "        <th id=\"T_ac341428_48f2_11e9_bd3c_409f3864a092level0_row8\" class=\"row_heading level0 row8\" >8</th> \n",
       "        <td id=\"T_ac341428_48f2_11e9_bd3c_409f3864a092row8_col0\" class=\"data row8 col0\" >i- Love & Green</td> \n",
       "        <td id=\"T_ac341428_48f2_11e9_bd3c_409f3864a092row8_col1\" class=\"data row8 col1\" >13</td> \n",
       "        <td id=\"T_ac341428_48f2_11e9_bd3c_409f3864a092row8_col2\" class=\"data row8 col2\" >7</td> \n",
       "        <td id=\"T_ac341428_48f2_11e9_bd3c_409f3864a092row8_col3\" class=\"data row8 col3\" >10.6</td> \n",
       "    </tr>    <tr> \n",
       "        <th id=\"T_ac341428_48f2_11e9_bd3c_409f3864a092level0_row9\" class=\"row_heading level0 row9\" >9</th> \n",
       "        <td id=\"T_ac341428_48f2_11e9_bd3c_409f3864a092row9_col0\" class=\"data row9 col0\" >j- Lotus Baby</td> \n",
       "        <td id=\"T_ac341428_48f2_11e9_bd3c_409f3864a092row9_col1\" class=\"data row9 col1\" >16.5</td> \n",
       "        <td id=\"T_ac341428_48f2_11e9_bd3c_409f3864a092row9_col2\" class=\"data row9 col2\" >0.75</td> \n",
       "        <td id=\"T_ac341428_48f2_11e9_bd3c_409f3864a092row9_col3\" class=\"data row9 col3\" >10.2</td> \n",
       "    </tr>    <tr> \n",
       "        <th id=\"T_ac341428_48f2_11e9_bd3c_409f3864a092level0_row10\" class=\"row_heading level0 row10\" >10</th> \n",
       "        <td id=\"T_ac341428_48f2_11e9_bd3c_409f3864a092row10_col0\" class=\"data row10 col0\" >k- Pommette</td> \n",
       "        <td id=\"T_ac341428_48f2_11e9_bd3c_409f3864a092row10_col1\" class=\"data row10 col1\" >16.5</td> \n",
       "        <td id=\"T_ac341428_48f2_11e9_bd3c_409f3864a092row10_col2\" class=\"data row10 col2\" >0.75</td> \n",
       "        <td id=\"T_ac341428_48f2_11e9_bd3c_409f3864a092row10_col3\" class=\"data row10 col3\" >10.2</td> \n",
       "    </tr>    <tr> \n",
       "        <th id=\"T_ac341428_48f2_11e9_bd3c_409f3864a092level0_row11\" class=\"row_heading level0 row11\" >11</th> \n",
       "        <td id=\"T_ac341428_48f2_11e9_bd3c_409f3864a092row11_col0\" class=\"data row11 col0\" >l- Lillydoo </td> \n",
       "        <td id=\"T_ac341428_48f2_11e9_bd3c_409f3864a092row11_col1\" class=\"data row11 col1\" >12.5</td> \n",
       "        <td id=\"T_ac341428_48f2_11e9_bd3c_409f3864a092row11_col2\" class=\"data row11 col2\" >6.5</td> \n",
       "        <td id=\"T_ac341428_48f2_11e9_bd3c_409f3864a092row11_col3\" class=\"data row11 col3\" >10.1</td> \n",
       "    </tr></tbody> \n",
       "</table> "
      ]
     },
     "metadata": {},
     "output_type": "display_data"
    }
   ],
   "source": [
    "df2_s = result_3_2_max.style.set_table_attributes(\"style='display:inline'\").set_caption(model_name_5)\n",
    "display_html(df1_s._repr_html_()+df2_s._repr_html_(), raw=True)"
   ]
  },
  {
   "cell_type": "markdown",
   "metadata": {},
   "source": [
    "#### Pire Score"
   ]
  },
  {
   "cell_type": "code",
   "execution_count": 14,
   "metadata": {
    "tags": [
     "remove_cell"
    ]
   },
   "outputs": [],
   "source": [
    "model_name_6 = 'Programme Lineaire - Pire score Lillydoo'\n",
    "result_3_2_min = checkAdditiveModel(csv_name=csv_name,\n",
    "                  model_name='Programme Lineaire - Pire score Lillydoo',\n",
    "                  eval_expr='y12',\n",
    "                  direction='min',\n",
    "                  update_model=update_model_Q3)"
   ]
  },
  {
   "cell_type": "code",
   "execution_count": 15,
   "metadata": {
    "tags": [
     "remove_cell"
    ]
   },
   "outputs": [
    {
     "data": {
      "text/html": [
       "<style  type=\"text/css\" >\n",
       "</style>  \n",
       "<table id=\"T_ac45bafe_48f2_11e9_8c72_409f3864a092\" style='display:inline'><caption>Modèle original</caption> \n",
       "<thead>    <tr> \n",
       "        <th class=\"blank level0\" ></th> \n",
       "        <th class=\"col_heading level0 col0\" >Produit</th> \n",
       "        <th class=\"col_heading level0 col1\" >Performance</th> \n",
       "        <th class=\"col_heading level0 col2\" >Composition</th> \n",
       "        <th class=\"col_heading level0 col3\" >Score</th> \n",
       "    </tr></thead> \n",
       "<tbody>    <tr> \n",
       "        <th id=\"T_ac45bafe_48f2_11e9_8c72_409f3864a092level0_row0\" class=\"row_heading level0 row0\" >0</th> \n",
       "        <td id=\"T_ac45bafe_48f2_11e9_8c72_409f3864a092row0_col0\" class=\"data row0 col0\" >a- Joone</td> \n",
       "        <td id=\"T_ac45bafe_48f2_11e9_8c72_409f3864a092row0_col1\" class=\"data row0 col1\" >+++</td> \n",
       "        <td id=\"T_ac45bafe_48f2_11e9_8c72_409f3864a092row0_col2\" class=\"data row0 col2\" >+++</td> \n",
       "        <td id=\"T_ac45bafe_48f2_11e9_8c72_409f3864a092row0_col3\" class=\"data row0 col3\" >17</td> \n",
       "    </tr>    <tr> \n",
       "        <th id=\"T_ac45bafe_48f2_11e9_8c72_409f3864a092level0_row1\" class=\"row_heading level0 row1\" >1</th> \n",
       "        <td id=\"T_ac45bafe_48f2_11e9_8c72_409f3864a092row1_col0\" class=\"data row1 col0\" >b- Pamp. Prem</td> \n",
       "        <td id=\"T_ac45bafe_48f2_11e9_8c72_409f3864a092row1_col1\" class=\"data row1 col1\" >++</td> \n",
       "        <td id=\"T_ac45bafe_48f2_11e9_8c72_409f3864a092row1_col2\" class=\"data row1 col2\" >++</td> \n",
       "        <td id=\"T_ac45bafe_48f2_11e9_8c72_409f3864a092row1_col3\" class=\"data row1 col3\" >14.5</td> \n",
       "    </tr>    <tr> \n",
       "        <th id=\"T_ac45bafe_48f2_11e9_8c72_409f3864a092level0_row2\" class=\"row_heading level0 row2\" >2</th> \n",
       "        <td id=\"T_ac45bafe_48f2_11e9_8c72_409f3864a092row2_col0\" class=\"data row2 col0\" >c- Pamp. Baby</td> \n",
       "        <td id=\"T_ac45bafe_48f2_11e9_8c72_409f3864a092row2_col1\" class=\"data row2 col1\" >+</td> \n",
       "        <td id=\"T_ac45bafe_48f2_11e9_8c72_409f3864a092row2_col2\" class=\"data row2 col2\" >+++</td> \n",
       "        <td id=\"T_ac45bafe_48f2_11e9_8c72_409f3864a092row2_col3\" class=\"data row2 col3\" >12.5</td> \n",
       "    </tr>    <tr> \n",
       "        <th id=\"T_ac45bafe_48f2_11e9_8c72_409f3864a092level0_row3\" class=\"row_heading level0 row3\" >3</th> \n",
       "        <td id=\"T_ac45bafe_48f2_11e9_8c72_409f3864a092row3_col0\" class=\"data row3 col0\" >d- Naty</td> \n",
       "        <td id=\"T_ac45bafe_48f2_11e9_8c72_409f3864a092row3_col1\" class=\"data row3 col1\" >+</td> \n",
       "        <td id=\"T_ac45bafe_48f2_11e9_8c72_409f3864a092row3_col2\" class=\"data row3 col2\" >+++</td> \n",
       "        <td id=\"T_ac45bafe_48f2_11e9_8c72_409f3864a092row3_col3\" class=\"data row3 col3\" >12.5</td> \n",
       "    </tr>    <tr> \n",
       "        <th id=\"T_ac45bafe_48f2_11e9_8c72_409f3864a092level0_row4\" class=\"row_heading level0 row4\" >4</th> \n",
       "        <td id=\"T_ac45bafe_48f2_11e9_8c72_409f3864a092row4_col0\" class=\"data row4 col0\" >e- Pamp. Activ.</td> \n",
       "        <td id=\"T_ac45bafe_48f2_11e9_8c72_409f3864a092row4_col1\" class=\"data row4 col1\" >+</td> \n",
       "        <td id=\"T_ac45bafe_48f2_11e9_8c72_409f3864a092row4_col2\" class=\"data row4 col2\" >+</td> \n",
       "        <td id=\"T_ac45bafe_48f2_11e9_8c72_409f3864a092row4_col3\" class=\"data row4 col3\" >12.5</td> \n",
       "    </tr>    <tr> \n",
       "        <th id=\"T_ac45bafe_48f2_11e9_8c72_409f3864a092level0_row5\" class=\"row_heading level0 row5\" >5</th> \n",
       "        <td id=\"T_ac45bafe_48f2_11e9_8c72_409f3864a092row5_col0\" class=\"data row5 col0\" >f- Carref.Baby</td> \n",
       "        <td id=\"T_ac45bafe_48f2_11e9_8c72_409f3864a092row5_col1\" class=\"data row5 col1\" >++</td> \n",
       "        <td id=\"T_ac45bafe_48f2_11e9_8c72_409f3864a092row5_col2\" class=\"data row5 col2\" >+</td> \n",
       "        <td id=\"T_ac45bafe_48f2_11e9_8c72_409f3864a092row5_col3\" class=\"data row5 col3\" >12.5</td> \n",
       "    </tr>    <tr> \n",
       "        <th id=\"T_ac45bafe_48f2_11e9_8c72_409f3864a092level0_row6\" class=\"row_heading level0 row6\" >6</th> \n",
       "        <td id=\"T_ac45bafe_48f2_11e9_8c72_409f3864a092row6_col0\" class=\"data row6 col0\" >g- Lupilu</td> \n",
       "        <td id=\"T_ac45bafe_48f2_11e9_8c72_409f3864a092row6_col1\" class=\"data row6 col1\" >++</td> \n",
       "        <td id=\"T_ac45bafe_48f2_11e9_8c72_409f3864a092row6_col2\" class=\"data row6 col2\" >-</td> \n",
       "        <td id=\"T_ac45bafe_48f2_11e9_8c72_409f3864a092row6_col3\" class=\"data row6 col3\" >12</td> \n",
       "    </tr>    <tr> \n",
       "        <th id=\"T_ac45bafe_48f2_11e9_8c72_409f3864a092level0_row7\" class=\"row_heading level0 row7\" >7</th> \n",
       "        <td id=\"T_ac45bafe_48f2_11e9_8c72_409f3864a092row7_col0\" class=\"data row7 col0\" >h- Mots d’enfants </td> \n",
       "        <td id=\"T_ac45bafe_48f2_11e9_8c72_409f3864a092row7_col1\" class=\"data row7 col1\" >+</td> \n",
       "        <td id=\"T_ac45bafe_48f2_11e9_8c72_409f3864a092row7_col2\" class=\"data row7 col2\" >-</td> \n",
       "        <td id=\"T_ac45bafe_48f2_11e9_8c72_409f3864a092row7_col3\" class=\"data row7 col3\" >12</td> \n",
       "    </tr>    <tr> \n",
       "        <th id=\"T_ac45bafe_48f2_11e9_8c72_409f3864a092level0_row8\" class=\"row_heading level0 row8\" >8</th> \n",
       "        <td id=\"T_ac45bafe_48f2_11e9_8c72_409f3864a092row8_col0\" class=\"data row8 col0\" >i- Love & Green</td> \n",
       "        <td id=\"T_ac45bafe_48f2_11e9_8c72_409f3864a092row8_col1\" class=\"data row8 col1\" >++</td> \n",
       "        <td id=\"T_ac45bafe_48f2_11e9_8c72_409f3864a092row8_col2\" class=\"data row8 col2\" >-</td> \n",
       "        <td id=\"T_ac45bafe_48f2_11e9_8c72_409f3864a092row8_col3\" class=\"data row8 col3\" >9.5</td> \n",
       "    </tr>    <tr> \n",
       "        <th id=\"T_ac45bafe_48f2_11e9_8c72_409f3864a092level0_row9\" class=\"row_heading level0 row9\" >9</th> \n",
       "        <td id=\"T_ac45bafe_48f2_11e9_8c72_409f3864a092row9_col0\" class=\"data row9 col0\" >j- Lotus Baby</td> \n",
       "        <td id=\"T_ac45bafe_48f2_11e9_8c72_409f3864a092row9_col1\" class=\"data row9 col1\" >++</td> \n",
       "        <td id=\"T_ac45bafe_48f2_11e9_8c72_409f3864a092row9_col2\" class=\"data row9 col2\" >--</td> \n",
       "        <td id=\"T_ac45bafe_48f2_11e9_8c72_409f3864a092row9_col3\" class=\"data row9 col3\" >9.5</td> \n",
       "    </tr>    <tr> \n",
       "        <th id=\"T_ac45bafe_48f2_11e9_8c72_409f3864a092level0_row10\" class=\"row_heading level0 row10\" >10</th> \n",
       "        <td id=\"T_ac45bafe_48f2_11e9_8c72_409f3864a092row10_col0\" class=\"data row10 col0\" >k- Pommette</td> \n",
       "        <td id=\"T_ac45bafe_48f2_11e9_8c72_409f3864a092row10_col1\" class=\"data row10 col1\" >++</td> \n",
       "        <td id=\"T_ac45bafe_48f2_11e9_8c72_409f3864a092row10_col2\" class=\"data row10 col2\" >--</td> \n",
       "        <td id=\"T_ac45bafe_48f2_11e9_8c72_409f3864a092row10_col3\" class=\"data row10 col3\" >9.5</td> \n",
       "    </tr>    <tr> \n",
       "        <th id=\"T_ac45bafe_48f2_11e9_8c72_409f3864a092level0_row11\" class=\"row_heading level0 row11\" >11</th> \n",
       "        <td id=\"T_ac45bafe_48f2_11e9_8c72_409f3864a092row11_col0\" class=\"data row11 col0\" >l- Lillydoo </td> \n",
       "        <td id=\"T_ac45bafe_48f2_11e9_8c72_409f3864a092row11_col1\" class=\"data row11 col1\" >+</td> \n",
       "        <td id=\"T_ac45bafe_48f2_11e9_8c72_409f3864a092row11_col2\" class=\"data row11 col2\" >--</td> \n",
       "        <td id=\"T_ac45bafe_48f2_11e9_8c72_409f3864a092row11_col3\" class=\"data row11 col3\" >6.5</td> \n",
       "    </tr></tbody> \n",
       "</table> <style  type=\"text/css\" >\n",
       "</style>  \n",
       "<table id=\"T_ac4608e2_48f2_11e9_900d_409f3864a092\" style='display:inline'><caption>Programme Lineaire - Pire score Lillydoo</caption> \n",
       "<thead>    <tr> \n",
       "        <th class=\"blank level0\" ></th> \n",
       "        <th class=\"col_heading level0 col0\" >Produit</th> \n",
       "        <th class=\"col_heading level0 col1\" >Performance</th> \n",
       "        <th class=\"col_heading level0 col2\" >Composition</th> \n",
       "        <th class=\"col_heading level0 col3\" >Score</th> \n",
       "    </tr></thead> \n",
       "<tbody>    <tr> \n",
       "        <th id=\"T_ac4608e2_48f2_11e9_900d_409f3864a092level0_row0\" class=\"row_heading level0 row0\" >0</th> \n",
       "        <td id=\"T_ac4608e2_48f2_11e9_900d_409f3864a092row0_col0\" class=\"data row0 col0\" >a- Joone</td> \n",
       "        <td id=\"T_ac4608e2_48f2_11e9_900d_409f3864a092row0_col1\" class=\"data row0 col1\" >17</td> \n",
       "        <td id=\"T_ac4608e2_48f2_11e9_900d_409f3864a092row0_col2\" class=\"data row0 col2\" >17</td> \n",
       "        <td id=\"T_ac4608e2_48f2_11e9_900d_409f3864a092row0_col3\" class=\"data row0 col3\" >17</td> \n",
       "    </tr>    <tr> \n",
       "        <th id=\"T_ac4608e2_48f2_11e9_900d_409f3864a092level0_row1\" class=\"row_heading level0 row1\" >1</th> \n",
       "        <td id=\"T_ac4608e2_48f2_11e9_900d_409f3864a092row1_col0\" class=\"data row1 col0\" >b- Pamp. Prem</td> \n",
       "        <td id=\"T_ac4608e2_48f2_11e9_900d_409f3864a092row1_col1\" class=\"data row1 col1\" >13</td> \n",
       "        <td id=\"T_ac4608e2_48f2_11e9_900d_409f3864a092row1_col2\" class=\"data row1 col2\" >13</td> \n",
       "        <td id=\"T_ac4608e2_48f2_11e9_900d_409f3864a092row1_col3\" class=\"data row1 col3\" >13</td> \n",
       "    </tr>    <tr> \n",
       "        <th id=\"T_ac4608e2_48f2_11e9_900d_409f3864a092level0_row2\" class=\"row_heading level0 row2\" >2</th> \n",
       "        <td id=\"T_ac4608e2_48f2_11e9_900d_409f3864a092row2_col0\" class=\"data row2 col0\" >c- Pamp. Baby</td> \n",
       "        <td id=\"T_ac4608e2_48f2_11e9_900d_409f3864a092row2_col1\" class=\"data row2 col1\" >10</td> \n",
       "        <td id=\"T_ac4608e2_48f2_11e9_900d_409f3864a092row2_col2\" class=\"data row2 col2\" >17.25</td> \n",
       "        <td id=\"T_ac4608e2_48f2_11e9_900d_409f3864a092row2_col3\" class=\"data row2 col3\" >12.9</td> \n",
       "    </tr>    <tr> \n",
       "        <th id=\"T_ac4608e2_48f2_11e9_900d_409f3864a092level0_row3\" class=\"row_heading level0 row3\" >3</th> \n",
       "        <td id=\"T_ac4608e2_48f2_11e9_900d_409f3864a092row3_col0\" class=\"data row3 col0\" >d- Naty</td> \n",
       "        <td id=\"T_ac4608e2_48f2_11e9_900d_409f3864a092row3_col1\" class=\"data row3 col1\" >10.1667</td> \n",
       "        <td id=\"T_ac4608e2_48f2_11e9_900d_409f3864a092row3_col2\" class=\"data row3 col2\" >17</td> \n",
       "        <td id=\"T_ac4608e2_48f2_11e9_900d_409f3864a092row3_col3\" class=\"data row3 col3\" >12.9</td> \n",
       "    </tr>    <tr> \n",
       "        <th id=\"T_ac4608e2_48f2_11e9_900d_409f3864a092level0_row4\" class=\"row_heading level0 row4\" >4</th> \n",
       "        <td id=\"T_ac4608e2_48f2_11e9_900d_409f3864a092row4_col0\" class=\"data row4 col0\" >e- Pamp. Activ.</td> \n",
       "        <td id=\"T_ac4608e2_48f2_11e9_900d_409f3864a092row4_col1\" class=\"data row4 col1\" >12.5</td> \n",
       "        <td id=\"T_ac4608e2_48f2_11e9_900d_409f3864a092row4_col2\" class=\"data row4 col2\" >10.75</td> \n",
       "        <td id=\"T_ac4608e2_48f2_11e9_900d_409f3864a092row4_col3\" class=\"data row4 col3\" >11.8</td> \n",
       "    </tr>    <tr> \n",
       "        <th id=\"T_ac4608e2_48f2_11e9_900d_409f3864a092level0_row5\" class=\"row_heading level0 row5\" >5</th> \n",
       "        <td id=\"T_ac4608e2_48f2_11e9_900d_409f3864a092row5_col0\" class=\"data row5 col0\" >f- Carref.Baby</td> \n",
       "        <td id=\"T_ac4608e2_48f2_11e9_900d_409f3864a092row5_col1\" class=\"data row5 col1\" >13</td> \n",
       "        <td id=\"T_ac4608e2_48f2_11e9_900d_409f3864a092row5_col2\" class=\"data row5 col2\" >10</td> \n",
       "        <td id=\"T_ac4608e2_48f2_11e9_900d_409f3864a092row5_col3\" class=\"data row5 col3\" >11.8</td> \n",
       "    </tr>    <tr> \n",
       "        <th id=\"T_ac4608e2_48f2_11e9_900d_409f3864a092level0_row6\" class=\"row_heading level0 row6\" >6</th> \n",
       "        <td id=\"T_ac4608e2_48f2_11e9_900d_409f3864a092row6_col0\" class=\"data row6 col0\" >g- Lupilu</td> \n",
       "        <td id=\"T_ac4608e2_48f2_11e9_900d_409f3864a092row6_col1\" class=\"data row6 col1\" >13.1667</td> \n",
       "        <td id=\"T_ac4608e2_48f2_11e9_900d_409f3864a092row6_col2\" class=\"data row6 col2\" >7</td> \n",
       "        <td id=\"T_ac4608e2_48f2_11e9_900d_409f3864a092row6_col3\" class=\"data row6 col3\" >10.7</td> \n",
       "    </tr>    <tr> \n",
       "        <th id=\"T_ac4608e2_48f2_11e9_900d_409f3864a092level0_row7\" class=\"row_heading level0 row7\" >7</th> \n",
       "        <td id=\"T_ac4608e2_48f2_11e9_900d_409f3864a092row7_col0\" class=\"data row7 col0\" >h- Mots d’enfants </td> \n",
       "        <td id=\"T_ac4608e2_48f2_11e9_900d_409f3864a092row7_col1\" class=\"data row7 col1\" >12.5</td> \n",
       "        <td id=\"T_ac4608e2_48f2_11e9_900d_409f3864a092row7_col2\" class=\"data row7 col2\" >8</td> \n",
       "        <td id=\"T_ac4608e2_48f2_11e9_900d_409f3864a092row7_col3\" class=\"data row7 col3\" >10.7</td> \n",
       "    </tr>    <tr> \n",
       "        <th id=\"T_ac4608e2_48f2_11e9_900d_409f3864a092level0_row8\" class=\"row_heading level0 row8\" >8</th> \n",
       "        <td id=\"T_ac4608e2_48f2_11e9_900d_409f3864a092row8_col0\" class=\"data row8 col0\" >i- Love & Green</td> \n",
       "        <td id=\"T_ac4608e2_48f2_11e9_900d_409f3864a092row8_col1\" class=\"data row8 col1\" >13</td> \n",
       "        <td id=\"T_ac4608e2_48f2_11e9_900d_409f3864a092row8_col2\" class=\"data row8 col2\" >7</td> \n",
       "        <td id=\"T_ac4608e2_48f2_11e9_900d_409f3864a092row8_col3\" class=\"data row8 col3\" >10.6</td> \n",
       "    </tr>    <tr> \n",
       "        <th id=\"T_ac4608e2_48f2_11e9_900d_409f3864a092level0_row9\" class=\"row_heading level0 row9\" >9</th> \n",
       "        <td id=\"T_ac4608e2_48f2_11e9_900d_409f3864a092row9_col0\" class=\"data row9 col0\" >j- Lotus Baby</td> \n",
       "        <td id=\"T_ac4608e2_48f2_11e9_900d_409f3864a092row9_col1\" class=\"data row9 col1\" >13</td> \n",
       "        <td id=\"T_ac4608e2_48f2_11e9_900d_409f3864a092row9_col2\" class=\"data row9 col2\" >0</td> \n",
       "        <td id=\"T_ac4608e2_48f2_11e9_900d_409f3864a092row9_col3\" class=\"data row9 col3\" >7.8</td> \n",
       "    </tr>    <tr> \n",
       "        <th id=\"T_ac4608e2_48f2_11e9_900d_409f3864a092level0_row10\" class=\"row_heading level0 row10\" >10</th> \n",
       "        <td id=\"T_ac4608e2_48f2_11e9_900d_409f3864a092row10_col0\" class=\"data row10 col0\" >k- Pommette</td> \n",
       "        <td id=\"T_ac4608e2_48f2_11e9_900d_409f3864a092row10_col1\" class=\"data row10 col1\" >13</td> \n",
       "        <td id=\"T_ac4608e2_48f2_11e9_900d_409f3864a092row10_col2\" class=\"data row10 col2\" >0</td> \n",
       "        <td id=\"T_ac4608e2_48f2_11e9_900d_409f3864a092row10_col3\" class=\"data row10 col3\" >7.8</td> \n",
       "    </tr>    <tr> \n",
       "        <th id=\"T_ac4608e2_48f2_11e9_900d_409f3864a092level0_row11\" class=\"row_heading level0 row11\" >11</th> \n",
       "        <td id=\"T_ac4608e2_48f2_11e9_900d_409f3864a092row11_col0\" class=\"data row11 col0\" >l- Lillydoo </td> \n",
       "        <td id=\"T_ac4608e2_48f2_11e9_900d_409f3864a092row11_col1\" class=\"data row11 col1\" >10</td> \n",
       "        <td id=\"T_ac4608e2_48f2_11e9_900d_409f3864a092row11_col2\" class=\"data row11 col2\" >0</td> \n",
       "        <td id=\"T_ac4608e2_48f2_11e9_900d_409f3864a092row11_col3\" class=\"data row11 col3\" >6</td> \n",
       "    </tr></tbody> \n",
       "</table> "
      ]
     },
     "metadata": {},
     "output_type": "display_data"
    }
   ],
   "source": [
    "df2_s = result_3_2_min.style.set_table_attributes(\"style='display:inline'\").set_caption(model_name_6)\n",
    "display_html(df1_s._repr_html_()+df2_s._repr_html_(), raw=True)"
   ]
  },
  {
   "cell_type": "markdown",
   "metadata": {},
   "source": [
    "#### Commentaires"
   ]
  },
  {
   "cell_type": "markdown",
   "metadata": {},
   "source": [
    "Le pire score pour LillyDoo est 6/20 et le meilleur résultat espéré est 10,1. \n",
    "Sous ces hypothèses, en maximisant le score de \"LillyDoo\", on a \"Love & Green\", \"Pomette\" et \"illydoo\" voient leurs notes passer au-dessus de 10.\n"
   ]
  },
  {
   "cell_type": "markdown",
   "metadata": {},
   "source": [
    "## 1.3.3 Conclusions"
   ]
  },
  {
   "cell_type": "code",
   "execution_count": 16,
   "metadata": {
    "tags": [
     "remove_cell"
    ]
   },
   "outputs": [],
   "source": [
    "%%capture\n",
    "dict_max_y1 = compareRankings(result_original['Score'], result_3_1_max['Score'])\n",
    "dict_min_y1 = compareRankings(result_original['Score'], result_3_1_min['Score'])\n",
    "dict_max_y12 = compareRankings(result_original['Score'], result_3_2_max['Score'])\n",
    "dict_min_y12 = compareRankings(result_original['Score'], result_3_2_min['Score'])"
   ]
  },
  {
   "cell_type": "code",
   "execution_count": 17,
   "metadata": {
    "tags": [
     "remove_cell"
    ]
   },
   "outputs": [
    {
     "name": "stdout",
     "output_type": "stream",
     "text": [
      "Max Score Joone\n"
     ]
    },
    {
     "data": {
      "text/html": [
       "<table border=\"1\"><tr><th>coef - Spearman</th><td>0.9803024573066307</td></tr><tr><th>p - Spearman</th><td>2.259433333683426e-08</td></tr><tr><th>tau - Kendall</th><td>0.9503819266229829</td></tr><tr><th>p_val - Kendall</th><td>6.317712090483196e-05</td></tr><tr><th>Diff Moyenne</th><td>-0.375</td></tr></table>"
      ],
      "text/plain": [
       "<IPython.core.display.HTML object>"
      ]
     },
     "metadata": {},
     "output_type": "display_data"
    },
    {
     "name": "stdout",
     "output_type": "stream",
     "text": [
      "Min Score Joone\n"
     ]
    },
    {
     "data": {
      "text/html": [
       "<table border=\"1\"><tr><th>coef - Spearman</th><td>0.9803024573066307</td></tr><tr><th>p - Spearman</th><td>2.259433333683426e-08</td></tr><tr><th>tau - Kendall</th><td>0.9503819266229829</td></tr><tr><th>p_val - Kendall</th><td>6.317712090483196e-05</td></tr><tr><th>Diff Moyenne</th><td>-0.625</td></tr></table>"
      ],
      "text/plain": [
       "<IPython.core.display.HTML object>"
      ]
     },
     "metadata": {},
     "output_type": "display_data"
    },
    {
     "name": "stdout",
     "output_type": "stream",
     "text": [
      "Max Score Lillydoo\n"
     ]
    },
    {
     "data": {
      "text/html": [
       "<table border=\"1\"><tr><th>coef - Spearman</th><td>0.9803024573066307</td></tr><tr><th>p - Spearman</th><td>2.259433333683426e-08</td></tr><tr><th>tau - Kendall</th><td>0.9503819266229829</td></tr><tr><th>p_val - Kendall</th><td>6.317712090483196e-05</td></tr><tr><th>Diff Moyenne</th><td>0.11666666666666477</td></tr></table>"
      ],
      "text/plain": [
       "<IPython.core.display.HTML object>"
      ]
     },
     "metadata": {},
     "output_type": "display_data"
    },
    {
     "name": "stdout",
     "output_type": "stream",
     "text": [
      "Min Score Lillydoo\n"
     ]
    },
    {
     "data": {
      "text/html": [
       "<table border=\"1\"><tr><th>coef - Spearman</th><td>0.9803024573066307</td></tr><tr><th>p - Spearman</th><td>2.259433333683426e-08</td></tr><tr><th>tau - Kendall</th><td>0.9503819266229829</td></tr><tr><th>p_val - Kendall</th><td>6.317712090483196e-05</td></tr><tr><th>Diff Moyenne</th><td>-0.625</td></tr></table>"
      ],
      "text/plain": [
       "<IPython.core.display.HTML object>"
      ]
     },
     "metadata": {},
     "output_type": "display_data"
    }
   ],
   "source": [
    "#Coefficients Q3.1\n",
    "print(\"Max Score Joone\")\n",
    "display(HTML(json2html.convert(json = dict_max_y1)))\n",
    "print(\"Min Score Joone\")\n",
    "display(HTML(json2html.convert(json = dict_min_y1)))\n",
    "#Coefficients Q3.2\n",
    "print(\"Max Score Lillydoo\")\n",
    "display(HTML(json2html.convert(json = dict_max_y12)))\n",
    "print(\"Min Score Lillydoo\")\n",
    "display(HTML(json2html.convert(json = dict_min_y12)))"
   ]
  },
  {
   "cell_type": "markdown",
   "metadata": {},
   "source": [
    "Afin de comprendre le processus de notation suivi par le magazine, nous avons observé les scores de toutes les couches en minimisant la note de la pire couche et en la maximisant. \n",
    "\n",
    "Les scores globaux changent d’une manière significative, tandis que le classement reste inchangé. Notons que le classement présenté au préalable comprenait une égalité d’une part entre quatre couches culottes qui avaient le score de 12,5 et d’autre part entre trois couches qui avaient le score de 9,5. \n",
    "\n",
    "Le relâchement des contraintes dans notre programme linéaire a pour effet de discriminer les couches au niveau des notes mais pas au niveau du classement. \n",
    "\n",
    "Nous avons calculé deux tests de corrélation : Spearman et Kendall. Un coefficient de corrélation calcule dans quelle mesure deux variables tendent à changer ensemble. Le coefficient décrit l'importance et le sens de la relation. \n",
    "    \n",
    "Nous avons utilisé ces deux coefficients car ils traitent le cas où la relation n’est pas linéaire. Ces deux coefficients comparent les rangs obtenus selon les notes. \n",
    "\n",
    "En relâchant les contraintes d’égalité, nous avons obtenu deux scores différents mais qui gardent le même rang pour chaque couche. D’où l’invariance du coefficient de Spearman et Kendall dans le cas de maximisation et minimisation qui prennent les valeurs respectives de 98% et 95%.\n"
   ]
  },
  {
   "cell_type": "markdown",
   "metadata": {},
   "source": [
    "## 1.4"
   ]
  },
  {
   "cell_type": "markdown",
   "metadata": {},
   "source": [
    "A présent, nous choisissons de ne plus tenir compte de l’ordre des produits fourni dans le classement publié par le\n",
    "magazine. En d’autres termes, nous supprimons les contraintes **(16)** à **(19)**. Nous allons également supprimer du\n",
    "programme PL1 la contrainte **17 < U2c(+++)**, liée à la couche **c-Pamp.Baby**."
   ]
  },
  {
   "cell_type": "code",
   "execution_count": 18,
   "metadata": {
    "tags": [
     "remove_cell"
    ]
   },
   "outputs": [],
   "source": [
    "update_model_Q4 = createUpdateModel([Variable ('x6', ub = 20)], ['c13', 'c14', 'c15', \n",
    "                                                                    'c16', 'c17', 'c18',\n",
    "                                                                    'c19', 'c20', 'c21',\n",
    "                                                                    'c22', 'c23'])"
   ]
  },
  {
   "cell_type": "markdown",
   "metadata": {},
   "source": [
    "## 1.4.1 Score global maximal obtenu par chacun des 12 produits"
   ]
  },
  {
   "cell_type": "markdown",
   "metadata": {},
   "source": [
    "Maintenant nous sommes dans le cas ou on tient plus compte du classement fourni par le magazine. On exécute notre programme linéaire qui cherche la meilleure note espérée par chaque couche et on observe : \n",
    "\n",
    "La meilleure note espérée est comprise entre 10,1/20 et 20/20.\n",
    "Le classement des couches changent (Pamp Activ, Mots d’enfants descendent dans le classement).\n"
   ]
  },
  {
   "cell_type": "code",
   "execution_count": 19,
   "metadata": {
    "tags": [
     "remove_cell"
    ]
   },
   "outputs": [],
   "source": [
    "%%capture\n",
    "model_name_7 = 'Programme Lineaire - Score global maximal pour chaque produit'\n",
    "result_4_1_all_max = checkAdditiveModel(csv_name=csv_name,\n",
    "                      model_name=model_name_5,\n",
    "                      eval_expr='all',\n",
    "                      direction='max',\n",
    "                      update_model=update_model_Q4)\n",
    "\n",
    "dict_max_all = compareRankings(result_original['Score'], result_4_1_all_max['Score']) "
   ]
  },
  {
   "cell_type": "code",
   "execution_count": 20,
   "metadata": {
    "tags": [
     "remove_cell"
    ]
   },
   "outputs": [
    {
     "data": {
      "text/html": [
       "<style  type=\"text/css\" >\n",
       "</style>  \n",
       "<table id=\"T_acc09ba4_48f2_11e9_89c5_409f3864a092\" style='display:inline'><caption>Modèle original</caption> \n",
       "<thead>    <tr> \n",
       "        <th class=\"blank level0\" ></th> \n",
       "        <th class=\"col_heading level0 col0\" >Produit</th> \n",
       "        <th class=\"col_heading level0 col1\" >Performance</th> \n",
       "        <th class=\"col_heading level0 col2\" >Composition</th> \n",
       "        <th class=\"col_heading level0 col3\" >Score</th> \n",
       "    </tr></thead> \n",
       "<tbody>    <tr> \n",
       "        <th id=\"T_acc09ba4_48f2_11e9_89c5_409f3864a092level0_row0\" class=\"row_heading level0 row0\" >0</th> \n",
       "        <td id=\"T_acc09ba4_48f2_11e9_89c5_409f3864a092row0_col0\" class=\"data row0 col0\" >a- Joone</td> \n",
       "        <td id=\"T_acc09ba4_48f2_11e9_89c5_409f3864a092row0_col1\" class=\"data row0 col1\" >+++</td> \n",
       "        <td id=\"T_acc09ba4_48f2_11e9_89c5_409f3864a092row0_col2\" class=\"data row0 col2\" >+++</td> \n",
       "        <td id=\"T_acc09ba4_48f2_11e9_89c5_409f3864a092row0_col3\" class=\"data row0 col3\" >17</td> \n",
       "    </tr>    <tr> \n",
       "        <th id=\"T_acc09ba4_48f2_11e9_89c5_409f3864a092level0_row1\" class=\"row_heading level0 row1\" >1</th> \n",
       "        <td id=\"T_acc09ba4_48f2_11e9_89c5_409f3864a092row1_col0\" class=\"data row1 col0\" >b- Pamp. Prem</td> \n",
       "        <td id=\"T_acc09ba4_48f2_11e9_89c5_409f3864a092row1_col1\" class=\"data row1 col1\" >++</td> \n",
       "        <td id=\"T_acc09ba4_48f2_11e9_89c5_409f3864a092row1_col2\" class=\"data row1 col2\" >++</td> \n",
       "        <td id=\"T_acc09ba4_48f2_11e9_89c5_409f3864a092row1_col3\" class=\"data row1 col3\" >14.5</td> \n",
       "    </tr>    <tr> \n",
       "        <th id=\"T_acc09ba4_48f2_11e9_89c5_409f3864a092level0_row2\" class=\"row_heading level0 row2\" >2</th> \n",
       "        <td id=\"T_acc09ba4_48f2_11e9_89c5_409f3864a092row2_col0\" class=\"data row2 col0\" >c- Pamp. Baby</td> \n",
       "        <td id=\"T_acc09ba4_48f2_11e9_89c5_409f3864a092row2_col1\" class=\"data row2 col1\" >+</td> \n",
       "        <td id=\"T_acc09ba4_48f2_11e9_89c5_409f3864a092row2_col2\" class=\"data row2 col2\" >+++</td> \n",
       "        <td id=\"T_acc09ba4_48f2_11e9_89c5_409f3864a092row2_col3\" class=\"data row2 col3\" >12.5</td> \n",
       "    </tr>    <tr> \n",
       "        <th id=\"T_acc09ba4_48f2_11e9_89c5_409f3864a092level0_row3\" class=\"row_heading level0 row3\" >3</th> \n",
       "        <td id=\"T_acc09ba4_48f2_11e9_89c5_409f3864a092row3_col0\" class=\"data row3 col0\" >d- Naty</td> \n",
       "        <td id=\"T_acc09ba4_48f2_11e9_89c5_409f3864a092row3_col1\" class=\"data row3 col1\" >+</td> \n",
       "        <td id=\"T_acc09ba4_48f2_11e9_89c5_409f3864a092row3_col2\" class=\"data row3 col2\" >+++</td> \n",
       "        <td id=\"T_acc09ba4_48f2_11e9_89c5_409f3864a092row3_col3\" class=\"data row3 col3\" >12.5</td> \n",
       "    </tr>    <tr> \n",
       "        <th id=\"T_acc09ba4_48f2_11e9_89c5_409f3864a092level0_row4\" class=\"row_heading level0 row4\" >4</th> \n",
       "        <td id=\"T_acc09ba4_48f2_11e9_89c5_409f3864a092row4_col0\" class=\"data row4 col0\" >e- Pamp. Activ.</td> \n",
       "        <td id=\"T_acc09ba4_48f2_11e9_89c5_409f3864a092row4_col1\" class=\"data row4 col1\" >+</td> \n",
       "        <td id=\"T_acc09ba4_48f2_11e9_89c5_409f3864a092row4_col2\" class=\"data row4 col2\" >+</td> \n",
       "        <td id=\"T_acc09ba4_48f2_11e9_89c5_409f3864a092row4_col3\" class=\"data row4 col3\" >12.5</td> \n",
       "    </tr>    <tr> \n",
       "        <th id=\"T_acc09ba4_48f2_11e9_89c5_409f3864a092level0_row5\" class=\"row_heading level0 row5\" >5</th> \n",
       "        <td id=\"T_acc09ba4_48f2_11e9_89c5_409f3864a092row5_col0\" class=\"data row5 col0\" >f- Carref.Baby</td> \n",
       "        <td id=\"T_acc09ba4_48f2_11e9_89c5_409f3864a092row5_col1\" class=\"data row5 col1\" >++</td> \n",
       "        <td id=\"T_acc09ba4_48f2_11e9_89c5_409f3864a092row5_col2\" class=\"data row5 col2\" >+</td> \n",
       "        <td id=\"T_acc09ba4_48f2_11e9_89c5_409f3864a092row5_col3\" class=\"data row5 col3\" >12.5</td> \n",
       "    </tr>    <tr> \n",
       "        <th id=\"T_acc09ba4_48f2_11e9_89c5_409f3864a092level0_row6\" class=\"row_heading level0 row6\" >6</th> \n",
       "        <td id=\"T_acc09ba4_48f2_11e9_89c5_409f3864a092row6_col0\" class=\"data row6 col0\" >g- Lupilu</td> \n",
       "        <td id=\"T_acc09ba4_48f2_11e9_89c5_409f3864a092row6_col1\" class=\"data row6 col1\" >++</td> \n",
       "        <td id=\"T_acc09ba4_48f2_11e9_89c5_409f3864a092row6_col2\" class=\"data row6 col2\" >-</td> \n",
       "        <td id=\"T_acc09ba4_48f2_11e9_89c5_409f3864a092row6_col3\" class=\"data row6 col3\" >12</td> \n",
       "    </tr>    <tr> \n",
       "        <th id=\"T_acc09ba4_48f2_11e9_89c5_409f3864a092level0_row7\" class=\"row_heading level0 row7\" >7</th> \n",
       "        <td id=\"T_acc09ba4_48f2_11e9_89c5_409f3864a092row7_col0\" class=\"data row7 col0\" >h- Mots d’enfants </td> \n",
       "        <td id=\"T_acc09ba4_48f2_11e9_89c5_409f3864a092row7_col1\" class=\"data row7 col1\" >+</td> \n",
       "        <td id=\"T_acc09ba4_48f2_11e9_89c5_409f3864a092row7_col2\" class=\"data row7 col2\" >-</td> \n",
       "        <td id=\"T_acc09ba4_48f2_11e9_89c5_409f3864a092row7_col3\" class=\"data row7 col3\" >12</td> \n",
       "    </tr>    <tr> \n",
       "        <th id=\"T_acc09ba4_48f2_11e9_89c5_409f3864a092level0_row8\" class=\"row_heading level0 row8\" >8</th> \n",
       "        <td id=\"T_acc09ba4_48f2_11e9_89c5_409f3864a092row8_col0\" class=\"data row8 col0\" >i- Love & Green</td> \n",
       "        <td id=\"T_acc09ba4_48f2_11e9_89c5_409f3864a092row8_col1\" class=\"data row8 col1\" >++</td> \n",
       "        <td id=\"T_acc09ba4_48f2_11e9_89c5_409f3864a092row8_col2\" class=\"data row8 col2\" >-</td> \n",
       "        <td id=\"T_acc09ba4_48f2_11e9_89c5_409f3864a092row8_col3\" class=\"data row8 col3\" >9.5</td> \n",
       "    </tr>    <tr> \n",
       "        <th id=\"T_acc09ba4_48f2_11e9_89c5_409f3864a092level0_row9\" class=\"row_heading level0 row9\" >9</th> \n",
       "        <td id=\"T_acc09ba4_48f2_11e9_89c5_409f3864a092row9_col0\" class=\"data row9 col0\" >j- Lotus Baby</td> \n",
       "        <td id=\"T_acc09ba4_48f2_11e9_89c5_409f3864a092row9_col1\" class=\"data row9 col1\" >++</td> \n",
       "        <td id=\"T_acc09ba4_48f2_11e9_89c5_409f3864a092row9_col2\" class=\"data row9 col2\" >--</td> \n",
       "        <td id=\"T_acc09ba4_48f2_11e9_89c5_409f3864a092row9_col3\" class=\"data row9 col3\" >9.5</td> \n",
       "    </tr>    <tr> \n",
       "        <th id=\"T_acc09ba4_48f2_11e9_89c5_409f3864a092level0_row10\" class=\"row_heading level0 row10\" >10</th> \n",
       "        <td id=\"T_acc09ba4_48f2_11e9_89c5_409f3864a092row10_col0\" class=\"data row10 col0\" >k- Pommette</td> \n",
       "        <td id=\"T_acc09ba4_48f2_11e9_89c5_409f3864a092row10_col1\" class=\"data row10 col1\" >++</td> \n",
       "        <td id=\"T_acc09ba4_48f2_11e9_89c5_409f3864a092row10_col2\" class=\"data row10 col2\" >--</td> \n",
       "        <td id=\"T_acc09ba4_48f2_11e9_89c5_409f3864a092row10_col3\" class=\"data row10 col3\" >9.5</td> \n",
       "    </tr>    <tr> \n",
       "        <th id=\"T_acc09ba4_48f2_11e9_89c5_409f3864a092level0_row11\" class=\"row_heading level0 row11\" >11</th> \n",
       "        <td id=\"T_acc09ba4_48f2_11e9_89c5_409f3864a092row11_col0\" class=\"data row11 col0\" >l- Lillydoo </td> \n",
       "        <td id=\"T_acc09ba4_48f2_11e9_89c5_409f3864a092row11_col1\" class=\"data row11 col1\" >+</td> \n",
       "        <td id=\"T_acc09ba4_48f2_11e9_89c5_409f3864a092row11_col2\" class=\"data row11 col2\" >--</td> \n",
       "        <td id=\"T_acc09ba4_48f2_11e9_89c5_409f3864a092row11_col3\" class=\"data row11 col3\" >6.5</td> \n",
       "    </tr></tbody> \n",
       "</table> <style  type=\"text/css\" >\n",
       "</style>  \n",
       "<table id=\"T_acc15e70_48f2_11e9_8a45_409f3864a092\" style='display:inline'><caption>Programme Lineaire - Score global maximal pour chaque produit</caption> \n",
       "<thead>    <tr> \n",
       "        <th class=\"blank level0\" ></th> \n",
       "        <th class=\"col_heading level0 col0\" >Produit</th> \n",
       "        <th class=\"col_heading level0 col1\" >Performance</th> \n",
       "        <th class=\"col_heading level0 col2\" >Composition</th> \n",
       "        <th class=\"col_heading level0 col3\" >Score</th> \n",
       "    </tr></thead> \n",
       "<tbody>    <tr> \n",
       "        <th id=\"T_acc15e70_48f2_11e9_8a45_409f3864a092level0_row0\" class=\"row_heading level0 row0\" >0</th> \n",
       "        <td id=\"T_acc15e70_48f2_11e9_8a45_409f3864a092row0_col0\" class=\"data row0 col0\" >a- Joone</td> \n",
       "        <td id=\"T_acc15e70_48f2_11e9_8a45_409f3864a092row0_col1\" class=\"data row0 col1\" >20</td> \n",
       "        <td id=\"T_acc15e70_48f2_11e9_8a45_409f3864a092row0_col2\" class=\"data row0 col2\" >20</td> \n",
       "        <td id=\"T_acc15e70_48f2_11e9_8a45_409f3864a092row0_col3\" class=\"data row0 col3\" >20</td> \n",
       "    </tr>    <tr> \n",
       "        <th id=\"T_acc15e70_48f2_11e9_8a45_409f3864a092level0_row1\" class=\"row_heading level0 row1\" >1</th> \n",
       "        <td id=\"T_acc15e70_48f2_11e9_8a45_409f3864a092row1_col0\" class=\"data row1 col0\" >b- Pamp. Prem</td> \n",
       "        <td id=\"T_acc15e70_48f2_11e9_8a45_409f3864a092row1_col1\" class=\"data row1 col1\" >16.5</td> \n",
       "        <td id=\"T_acc15e70_48f2_11e9_8a45_409f3864a092row1_col2\" class=\"data row1 col2\" >16.5</td> \n",
       "        <td id=\"T_acc15e70_48f2_11e9_8a45_409f3864a092row1_col3\" class=\"data row1 col3\" >16.5</td> \n",
       "    </tr>    <tr> \n",
       "        <th id=\"T_acc15e70_48f2_11e9_8a45_409f3864a092level0_row2\" class=\"row_heading level0 row2\" >2</th> \n",
       "        <td id=\"T_acc15e70_48f2_11e9_8a45_409f3864a092row2_col0\" class=\"data row2 col0\" >c- Pamp. Baby</td> \n",
       "        <td id=\"T_acc15e70_48f2_11e9_8a45_409f3864a092row2_col1\" class=\"data row2 col1\" >12.5</td> \n",
       "        <td id=\"T_acc15e70_48f2_11e9_8a45_409f3864a092row2_col2\" class=\"data row2 col2\" >20</td> \n",
       "        <td id=\"T_acc15e70_48f2_11e9_8a45_409f3864a092row2_col3\" class=\"data row2 col3\" >15.5</td> \n",
       "    </tr>    <tr> \n",
       "        <th id=\"T_acc15e70_48f2_11e9_8a45_409f3864a092level0_row3\" class=\"row_heading level0 row3\" >3</th> \n",
       "        <td id=\"T_acc15e70_48f2_11e9_8a45_409f3864a092row3_col0\" class=\"data row3 col0\" >d- Naty</td> \n",
       "        <td id=\"T_acc15e70_48f2_11e9_8a45_409f3864a092row3_col1\" class=\"data row3 col1\" >12.5</td> \n",
       "        <td id=\"T_acc15e70_48f2_11e9_8a45_409f3864a092row3_col2\" class=\"data row3 col2\" >20</td> \n",
       "        <td id=\"T_acc15e70_48f2_11e9_8a45_409f3864a092row3_col3\" class=\"data row3 col3\" >15.5</td> \n",
       "    </tr>    <tr> \n",
       "        <th id=\"T_acc15e70_48f2_11e9_8a45_409f3864a092level0_row4\" class=\"row_heading level0 row4\" >4</th> \n",
       "        <td id=\"T_acc15e70_48f2_11e9_8a45_409f3864a092row4_col0\" class=\"data row4 col0\" >e- Pamp. Activ.</td> \n",
       "        <td id=\"T_acc15e70_48f2_11e9_8a45_409f3864a092row4_col1\" class=\"data row4 col1\" >12.5</td> \n",
       "        <td id=\"T_acc15e70_48f2_11e9_8a45_409f3864a092row4_col2\" class=\"data row4 col2\" >12.5</td> \n",
       "        <td id=\"T_acc15e70_48f2_11e9_8a45_409f3864a092row4_col3\" class=\"data row4 col3\" >12.5</td> \n",
       "    </tr>    <tr> \n",
       "        <th id=\"T_acc15e70_48f2_11e9_8a45_409f3864a092level0_row5\" class=\"row_heading level0 row5\" >5</th> \n",
       "        <td id=\"T_acc15e70_48f2_11e9_8a45_409f3864a092row5_col0\" class=\"data row5 col0\" >f- Carref.Baby</td> \n",
       "        <td id=\"T_acc15e70_48f2_11e9_8a45_409f3864a092row5_col1\" class=\"data row5 col1\" >16.5</td> \n",
       "        <td id=\"T_acc15e70_48f2_11e9_8a45_409f3864a092row5_col2\" class=\"data row5 col2\" >12.5</td> \n",
       "        <td id=\"T_acc15e70_48f2_11e9_8a45_409f3864a092row5_col3\" class=\"data row5 col3\" >14.9</td> \n",
       "    </tr>    <tr> \n",
       "        <th id=\"T_acc15e70_48f2_11e9_8a45_409f3864a092level0_row6\" class=\"row_heading level0 row6\" >6</th> \n",
       "        <td id=\"T_acc15e70_48f2_11e9_8a45_409f3864a092row6_col0\" class=\"data row6 col0\" >g- Lupilu</td> \n",
       "        <td id=\"T_acc15e70_48f2_11e9_8a45_409f3864a092row6_col1\" class=\"data row6 col1\" >16.5</td> \n",
       "        <td id=\"T_acc15e70_48f2_11e9_8a45_409f3864a092row6_col2\" class=\"data row6 col2\" >9.5</td> \n",
       "        <td id=\"T_acc15e70_48f2_11e9_8a45_409f3864a092row6_col3\" class=\"data row6 col3\" >13.7</td> \n",
       "    </tr>    <tr> \n",
       "        <th id=\"T_acc15e70_48f2_11e9_8a45_409f3864a092level0_row7\" class=\"row_heading level0 row7\" >7</th> \n",
       "        <td id=\"T_acc15e70_48f2_11e9_8a45_409f3864a092row7_col0\" class=\"data row7 col0\" >h- Mots d’enfants </td> \n",
       "        <td id=\"T_acc15e70_48f2_11e9_8a45_409f3864a092row7_col1\" class=\"data row7 col1\" >12.5</td> \n",
       "        <td id=\"T_acc15e70_48f2_11e9_8a45_409f3864a092row7_col2\" class=\"data row7 col2\" >9.5</td> \n",
       "        <td id=\"T_acc15e70_48f2_11e9_8a45_409f3864a092row7_col3\" class=\"data row7 col3\" >11.3</td> \n",
       "    </tr>    <tr> \n",
       "        <th id=\"T_acc15e70_48f2_11e9_8a45_409f3864a092level0_row8\" class=\"row_heading level0 row8\" >8</th> \n",
       "        <td id=\"T_acc15e70_48f2_11e9_8a45_409f3864a092row8_col0\" class=\"data row8 col0\" >i- Love & Green</td> \n",
       "        <td id=\"T_acc15e70_48f2_11e9_8a45_409f3864a092row8_col1\" class=\"data row8 col1\" >16.5</td> \n",
       "        <td id=\"T_acc15e70_48f2_11e9_8a45_409f3864a092row8_col2\" class=\"data row8 col2\" >9.5</td> \n",
       "        <td id=\"T_acc15e70_48f2_11e9_8a45_409f3864a092row8_col3\" class=\"data row8 col3\" >13.7</td> \n",
       "    </tr>    <tr> \n",
       "        <th id=\"T_acc15e70_48f2_11e9_8a45_409f3864a092level0_row9\" class=\"row_heading level0 row9\" >9</th> \n",
       "        <td id=\"T_acc15e70_48f2_11e9_8a45_409f3864a092row9_col0\" class=\"data row9 col0\" >j- Lotus Baby</td> \n",
       "        <td id=\"T_acc15e70_48f2_11e9_8a45_409f3864a092row9_col1\" class=\"data row9 col1\" >16.5</td> \n",
       "        <td id=\"T_acc15e70_48f2_11e9_8a45_409f3864a092row9_col2\" class=\"data row9 col2\" >6.5</td> \n",
       "        <td id=\"T_acc15e70_48f2_11e9_8a45_409f3864a092row9_col3\" class=\"data row9 col3\" >12.5</td> \n",
       "    </tr>    <tr> \n",
       "        <th id=\"T_acc15e70_48f2_11e9_8a45_409f3864a092level0_row10\" class=\"row_heading level0 row10\" >10</th> \n",
       "        <td id=\"T_acc15e70_48f2_11e9_8a45_409f3864a092row10_col0\" class=\"data row10 col0\" >k- Pommette</td> \n",
       "        <td id=\"T_acc15e70_48f2_11e9_8a45_409f3864a092row10_col1\" class=\"data row10 col1\" >16.5</td> \n",
       "        <td id=\"T_acc15e70_48f2_11e9_8a45_409f3864a092row10_col2\" class=\"data row10 col2\" >6.5</td> \n",
       "        <td id=\"T_acc15e70_48f2_11e9_8a45_409f3864a092row10_col3\" class=\"data row10 col3\" >12.5</td> \n",
       "    </tr>    <tr> \n",
       "        <th id=\"T_acc15e70_48f2_11e9_8a45_409f3864a092level0_row11\" class=\"row_heading level0 row11\" >11</th> \n",
       "        <td id=\"T_acc15e70_48f2_11e9_8a45_409f3864a092row11_col0\" class=\"data row11 col0\" >l- Lillydoo </td> \n",
       "        <td id=\"T_acc15e70_48f2_11e9_8a45_409f3864a092row11_col1\" class=\"data row11 col1\" >12.5</td> \n",
       "        <td id=\"T_acc15e70_48f2_11e9_8a45_409f3864a092row11_col2\" class=\"data row11 col2\" >6.5</td> \n",
       "        <td id=\"T_acc15e70_48f2_11e9_8a45_409f3864a092row11_col3\" class=\"data row11 col3\" >10.1</td> \n",
       "    </tr></tbody> \n",
       "</table> "
      ]
     },
     "metadata": {},
     "output_type": "display_data"
    }
   ],
   "source": [
    "df2_s = result_4_1_all_max.style.set_table_attributes(\"style='display:inline'\").set_caption(model_name_7)\n",
    "display_html(df1_s._repr_html_()+df2_s._repr_html_(), raw=True)"
   ]
  },
  {
   "cell_type": "code",
   "execution_count": 21,
   "metadata": {
    "tags": [
     "remove_cell"
    ]
   },
   "outputs": [
    {
     "name": "stdout",
     "output_type": "stream",
     "text": [
      "Max Score pour toutes les marques\n"
     ]
    },
    {
     "data": {
      "text/html": [
       "<table border=\"1\"><tr><th>coef - Spearman</th><td>0.9803024573066307</td></tr><tr><th>p - Spearman</th><td>2.259433333683426e-08</td></tr><tr><th>tau - Kendall</th><td>0.9503819266229829</td></tr><tr><th>p_val - Kendall</th><td>6.317712090483196e-05</td></tr><tr><th>Diff Moyenne</th><td>-0.625</td></tr></table>"
      ],
      "text/plain": [
       "<IPython.core.display.HTML object>"
      ]
     },
     "metadata": {},
     "output_type": "display_data"
    }
   ],
   "source": [
    "print(\"Max Score pour toutes les marques\")\n",
    "display(HTML(json2html.convert(json = dict_min_y12)))"
   ]
  },
  {
   "cell_type": "markdown",
   "metadata": {},
   "source": [
    "## 1.4.2 Conclusion"
   ]
  },
  {
   "cell_type": "markdown",
   "metadata": {},
   "source": [
    "Nous observons une baisse des coefficients de Spearman et Kendall qui est dû au changement de rang des couches. \n",
    "\n",
    "La positivité de ce coefficient indique qu’il existe une corrélation, et que si les scores de départ augment, les scores obtenus augmenteront aussi. "
   ]
  },
  {
   "cell_type": "code",
   "execution_count": 22,
   "metadata": {
    "tags": [
     "remove_cell"
    ]
   },
   "outputs": [],
   "source": [
    "%%capture\n",
    "exportInExcel('./results_notebook/Couches_Analyse_Classement.xlsx', 'Q3.1',\n",
    "                 [result_original, result_3_1_max, result_3_1_min],\n",
    "                 ['Modèle Original',model_name_3, model_name_4],\n",
    "                 [dict_max_y1,dict_min_y1])"
   ]
  },
  {
   "cell_type": "code",
   "execution_count": 23,
   "metadata": {
    "tags": [
     "remove_cell"
    ]
   },
   "outputs": [],
   "source": [
    "%%capture\n",
    "exportInExcel('./results_notebook/Couches_Analyse_Classement.xlsx', 'Q3.2',\n",
    "                 [result_original, result_3_2_max, result_3_2_min],\n",
    "                 ['Modèle Original',model_name_5, model_name_6],\n",
    "                 [dict_max_y12,dict_min_y12])\n"
   ]
  },
  {
   "cell_type": "code",
   "execution_count": 24,
   "metadata": {
    "tags": [
     "remove_cell"
    ]
   },
   "outputs": [],
   "source": [
    "%%capture\n",
    "exportInExcel('./results_notebook/Couches_Analyse_Classement.xlsx', 'Q4',\n",
    "                 [result_original, result_4_1_all_max],\n",
    "                 ['Modèle Original',model_name_7],\n",
    "                 [dict_max_all])"
   ]
  },
  {
   "cell_type": "markdown",
   "metadata": {},
   "source": [
    "# 2 Application d’une démarche de classification multicritère : la méthode ELECTRE TRI"
   ]
  },
  {
   "cell_type": "markdown",
   "metadata": {},
   "source": [
    "Dans cette partie, au lieu d’attribuer une note (/20) à chaque couche-culotte, nous allons plutôt l’affecter à une classe à l’aide d’une approche ne nécessitant pas une normalisation des critères : La méthode ELECTRE TRI. Cette dernière est une approche d’Aide MultiCritère à la Décision qui vise à résoudre des problèmes d’affectation (classification) d’objets dans des catégories prédéfinies.\n",
    "\n",
    "Comme indiqué ci-dessus, les poids associés aux deux critères du classement des couches-culottes, Performance et Com- position, sont donnés par le vecteur W = (3/5; 2/5). Nous retenons ici comme catégories ou classes, les 5 catégories suivantes (compatibles avec celles suggérées par le magazine) : ‘Très Bon” (catégorie C5), “Bon” (catégorie C4), “Ac- ceptable” (C3), “Insuffisant” (catégorie C2) et “Inacceptable” (C1).\n",
    "\n",
    "\n",
    "La méthode ELECTRE-TRI consiste alors à affecter chacune des 12 couches-culottes à une de ces 5 catégories.\n",
    "On va également supposer que chaque catégorie Ci est délimitée par une frontière supérieure notée bi+1 et une frontière inférieure bi. Les frontières bi+1 et bi sont appelées “profils” et représentent des couches-culottes de référence qui peuvent être fictives. Il y a une dominance paréto-stricte entre bi+1 et bi. Pour ce classement des couches, nous aurons :\n",
    "• C1 délimitée par b2 et b1 ; \n",
    "• C2 délimitée par b3 et b2 ; \n",
    "• C3 délimitée par b4 et b3;\n",
    "• C4 délimitée par b5 et b4;\n",
    "• C5 délimitée par b6 et b5.\n",
    "\n",
    "Ainsi, comme l’affectation se fait dans 5 catégories distinctes, le profil b3 représente la frontière entre les classes “Très Bon” et “Bon”, et b2 la frontière entre les classes “Bon” et “Moyen”.\n",
    "\n",
    "Le principe de la méthode ELECTRE TRI consiste, non pas à comparer les couches-culottes entre elles, mais à les comparer aux six couches-culottes de référence b6, b5, b4, b3, b2 et b1 dont les évaluations sur chaque critère sont résumés à la Table 2. \n",
    "\n",
    "Attention : dans ce tableau, les profils b6 et b1 doivent toujours avoir des valeurs extrêmes, ne pouvant jamais être atteintes, sur chaque critère.\n",
    "\n",
    "Ainsi, l’affectation d’une couche-culotte à une catégorie dépendra de sa comparaison aux profils b6, b5, b4, b3, b2 et b1. Plus formellement, l’affectation d’une couches-culottes dans les catégories se base sur le concept de sur-classement."
   ]
  },
  {
   "cell_type": "markdown",
   "metadata": {},
   "source": [
    "<img src=\"../docs/tableau_2.png\">"
   ]
  },
  {
   "cell_type": "markdown",
   "metadata": {},
   "source": [
    "On dira qu’une couche-culotte H surclasse le profil bi (respectivement le profil bi surclasse la couche-culotte H) et on note H S bi (respectivement bi S H) si H est au moins aussi bon que bi (respectivement bi est au moins aussi bon que H) sur une majorité de les critères (la majorité étant définie par un seuil de majorité λ). Les étapes de la méthode ELECTRE TRI se décrivent comme suit :"
   ]
  },
  {
   "cell_type": "markdown",
   "metadata": {},
   "source": [
    "<img src=\"../docs/maths.png\">"
   ]
  },
  {
   "cell_type": "markdown",
   "metadata": {},
   "source": [
    "<img src=\"../docs/somme.png\">"
   ]
  },
  {
   "cell_type": "markdown",
   "metadata": {},
   "source": [
    "<img src=\"../docs/question.png\">"
   ]
  },
  {
   "cell_type": "markdown",
   "metadata": {},
   "source": [
    "## 2.5.1 Matrices de concordances partielles et globales"
   ]
  },
  {
   "cell_type": "code",
   "execution_count": 25,
   "metadata": {
    "tags": [
     "remove_cell"
    ]
   },
   "outputs": [],
   "source": [
    "import os\n",
    "import sys\n",
    "module_path = os.path.abspath(os.path.join('../src'))\n",
    "if module_path not in sys.path:\n",
    "    sys.path.append(module_path) "
   ]
  },
  {
   "cell_type": "code",
   "execution_count": 26,
   "metadata": {
    "tags": [
     "remove_cell"
    ]
   },
   "outputs": [],
   "source": [
    "from electre_tri import ConcordancePartielleHbi, ConcordancePartiellebiH, ConcordonceGlobaleHbi,ConcordonceGlobalebiH \n",
    "from electre_tri import SurclassementHbi,SurclassementbiH,EvaluationPessimiste,EvaluationOptimiste, compareClassification\n",
    "from loader import getElectreTriData, exportInExcel\n",
    "import pandas as pd"
   ]
  },
  {
   "cell_type": "markdown",
   "metadata": {},
   "source": [
    "### a. Test de la fonction de creation des matrices de concordance Partielles pour les couches culottes"
   ]
  },
  {
   "cell_type": "code",
   "execution_count": 27,
   "metadata": {
    "tags": [
     "remove_cell"
    ]
   },
   "outputs": [],
   "source": [
    "csv_name='../data/data_couches_original.xlsx'\n",
    "direction=\"max\"\n",
    "result_original = getElectreTriData(csv_name) \n",
    "lambda_2=0.75"
   ]
  },
  {
   "cell_type": "markdown",
   "metadata": {},
   "source": [
    "vu qu'on a choisi de maximiser l'algorithme va executer la fonction ConcordancePartielHbi et ConcordancebiH selon : "
   ]
  },
  {
   "cell_type": "markdown",
   "metadata": {},
   "source": [
    "<img src=\"../docs/concorde.png\">"
   ]
  },
  {
   "cell_type": "code",
   "execution_count": 28,
   "metadata": {
    "tags": [
     "remove_cell"
    ]
   },
   "outputs": [],
   "source": [
    "result_2_5_1Hbi = ConcordancePartielleHbi(csv_name=csv_name,\n",
    "                      direction=direction)\n",
    "\n",
    "result_2_5_1biH = ConcordancePartiellebiH(csv_name=csv_name,\n",
    "                      direction=direction)"
   ]
  },
  {
   "cell_type": "markdown",
   "metadata": {},
   "source": [
    "######  commentaires"
   ]
  },
  {
   "cell_type": "markdown",
   "metadata": {},
   "source": [
    "on voit que la fonction  concordanceHbi et concordance biH renvoit une liste de matrice selon les nombre de critères et pour les couches on aura deux matrices , une pour la performance et une pour la composition ."
   ]
  },
  {
   "cell_type": "markdown",
   "metadata": {},
   "source": [
    "### b. Test de la fonction de creation des matrices de concordance globale pour les couches culottes"
   ]
  },
  {
   "cell_type": "markdown",
   "metadata": {},
   "source": [
    "pour creer la matrice de concordance globale pour chaque critère de classment de produit on suit la formule suivante : "
   ]
  },
  {
   "cell_type": "markdown",
   "metadata": {},
   "source": [
    "<img src=\"../docs/globale.png\">"
   ]
  },
  {
   "cell_type": "code",
   "execution_count": 29,
   "metadata": {
    "tags": [
     "remove_cell"
    ]
   },
   "outputs": [],
   "source": [
    "result_2_5_2Hbi = ConcordonceGlobaleHbi(csv_name=csv_name,\n",
    "                      direction=direction )\n",
    "\n",
    "result_2_5_2_biH = ConcordonceGlobalebiH(csv_name=csv_name,\n",
    "                      direction=direction )"
   ]
  },
  {
   "cell_type": "markdown",
   "metadata": {},
   "source": [
    "la premiere matrice correspond au matrice  C(H,bi) de concrdance globale pour les deux critères Performance et Composition .\n",
    "\n",
    "la deuxième matrice correspond au matrice  C(bi,H) de concrdance globale pour les deux critères Performance et Composition "
   ]
  },
  {
   "cell_type": "markdown",
   "metadata": {},
   "source": [
    "## 2.5.3 La methode de surclassment des couches culottes "
   ]
  },
  {
   "cell_type": "markdown",
   "metadata": {},
   "source": [
    "on dit : \n",
    "\n",
    "H surclasse bi et on notera H S bi si et seulement si C(H, bi) ≥ λ.\n",
    "\n",
    "bi surclasse H et on notera bi S H si et seulement si C(bi, H) ≥ λ.\n",
    "\n",
    "PS : λ est le seuil de majorité généralement superieure à 50 % "
   ]
  },
  {
   "cell_type": "code",
   "execution_count": 30,
   "metadata": {
    "tags": [
     "remove_cell"
    ]
   },
   "outputs": [],
   "source": [
    "result_2_5_3Hbi=SurclassementHbi(lamda=lambda_2,\n",
    "                      csv_name=csv_name,\n",
    "                      direction=direction)\n",
    "\n",
    "\n",
    "result_2_5_3biH = SurclassementbiH(lamda=lambda_2,\n",
    "                     csv_name=csv_name,\n",
    "                     direction=direction)"
   ]
  },
  {
   "cell_type": "markdown",
   "metadata": {},
   "source": [
    "## 2.5.4 Phase final : Procedures d'evaluation Optimiste et pessimiste "
   ]
  },
  {
   "cell_type": "markdown",
   "metadata": {},
   "source": [
    "### a. Test des procedures EvalOptimiste  et EvalPessimiste ainsi les taux de mauvaise classification(optimiste pessimiste) selon λ = 75 % "
   ]
  },
  {
   "cell_type": "code",
   "execution_count": 31,
   "metadata": {
    "tags": [
     "remove_cell"
    ]
   },
   "outputs": [
    {
     "data": {
      "text/html": [
       "<div>\n",
       "<style scoped>\n",
       "    .dataframe tbody tr th:only-of-type {\n",
       "        vertical-align: middle;\n",
       "    }\n",
       "\n",
       "    .dataframe tbody tr th {\n",
       "        vertical-align: top;\n",
       "    }\n",
       "\n",
       "    .dataframe thead th {\n",
       "        text-align: right;\n",
       "    }\n",
       "</style>\n",
       "<table border=\"1\" class=\"dataframe\">\n",
       "  <thead>\n",
       "    <tr style=\"text-align: right;\">\n",
       "      <th></th>\n",
       "      <th>Produit</th>\n",
       "      <th>Note_magazine</th>\n",
       "      <th>Eval Pessimiste</th>\n",
       "      <th>Eval Optimiste</th>\n",
       "    </tr>\n",
       "  </thead>\n",
       "  <tbody>\n",
       "    <tr>\n",
       "      <th>0</th>\n",
       "      <td>a- Joone</td>\n",
       "      <td>C5</td>\n",
       "      <td>Très Bon</td>\n",
       "      <td>Très Bon</td>\n",
       "    </tr>\n",
       "    <tr>\n",
       "      <th>1</th>\n",
       "      <td>b- Pamp. Prem</td>\n",
       "      <td>C4</td>\n",
       "      <td>Bon</td>\n",
       "      <td>Bon</td>\n",
       "    </tr>\n",
       "    <tr>\n",
       "      <th>2</th>\n",
       "      <td>c- Pamp. Baby</td>\n",
       "      <td>C3</td>\n",
       "      <td>Acceptable</td>\n",
       "      <td>Bon</td>\n",
       "    </tr>\n",
       "    <tr>\n",
       "      <th>3</th>\n",
       "      <td>d- Naty</td>\n",
       "      <td>C3</td>\n",
       "      <td>Acceptable</td>\n",
       "      <td>Bon</td>\n",
       "    </tr>\n",
       "    <tr>\n",
       "      <th>4</th>\n",
       "      <td>e- Pamp. Activ.</td>\n",
       "      <td>C3</td>\n",
       "      <td>Acceptable</td>\n",
       "      <td>Acceptable</td>\n",
       "    </tr>\n",
       "    <tr>\n",
       "      <th>5</th>\n",
       "      <td>f- Carref.Baby</td>\n",
       "      <td>C3</td>\n",
       "      <td>Acceptable</td>\n",
       "      <td>Acceptable</td>\n",
       "    </tr>\n",
       "    <tr>\n",
       "      <th>6</th>\n",
       "      <td>g- Lupilu</td>\n",
       "      <td>C3</td>\n",
       "      <td>Insuffisant</td>\n",
       "      <td>Acceptable</td>\n",
       "    </tr>\n",
       "    <tr>\n",
       "      <th>7</th>\n",
       "      <td>h- Mots d’enfants</td>\n",
       "      <td>C3</td>\n",
       "      <td>Insuffisant</td>\n",
       "      <td>Insuffisant</td>\n",
       "    </tr>\n",
       "    <tr>\n",
       "      <th>8</th>\n",
       "      <td>i- Love &amp; Green</td>\n",
       "      <td>C2</td>\n",
       "      <td>Insuffisant</td>\n",
       "      <td>Acceptable</td>\n",
       "    </tr>\n",
       "    <tr>\n",
       "      <th>9</th>\n",
       "      <td>j- Lotus Baby</td>\n",
       "      <td>C2</td>\n",
       "      <td>Très Insuffisant</td>\n",
       "      <td>Acceptable</td>\n",
       "    </tr>\n",
       "    <tr>\n",
       "      <th>10</th>\n",
       "      <td>k- Pommette</td>\n",
       "      <td>C2</td>\n",
       "      <td>Très Insuffisant</td>\n",
       "      <td>Acceptable</td>\n",
       "    </tr>\n",
       "    <tr>\n",
       "      <th>11</th>\n",
       "      <td>l- Lillydoo</td>\n",
       "      <td>C1</td>\n",
       "      <td>Très Insuffisant</td>\n",
       "      <td>Insuffisant</td>\n",
       "    </tr>\n",
       "  </tbody>\n",
       "</table>\n",
       "</div>"
      ],
      "text/plain": [
       "               Produit Note_magazine   Eval Pessimiste Eval Optimiste\n",
       "0             a- Joone            C5          Très Bon       Très Bon\n",
       "1        b- Pamp. Prem            C4               Bon            Bon\n",
       "2        c- Pamp. Baby            C3        Acceptable            Bon\n",
       "3              d- Naty            C3        Acceptable            Bon\n",
       "4      e- Pamp. Activ.            C3        Acceptable     Acceptable\n",
       "5       f- Carref.Baby            C3        Acceptable     Acceptable\n",
       "6            g- Lupilu            C3       Insuffisant     Acceptable\n",
       "7   h- Mots d’enfants             C3       Insuffisant    Insuffisant\n",
       "8      i- Love & Green            C2       Insuffisant     Acceptable\n",
       "9        j- Lotus Baby            C2  Très Insuffisant     Acceptable\n",
       "10         k- Pommette            C2  Très Insuffisant     Acceptable\n",
       "11        l- Lillydoo             C1  Très Insuffisant    Insuffisant"
      ]
     },
     "metadata": {},
     "output_type": "display_data"
    },
    {
     "name": "stdout",
     "output_type": "stream",
     "text": [
      "Taux mauvaise classification Optimiste 58.333333333333336 %\n",
      "Taux mauvaise classification Pessimiste 33.33333333333333 %\n"
     ]
    }
   ],
   "source": [
    "EvalPessimisteResult_lambda_2 = EvaluationPessimiste(lamda=lambda_2,\n",
    "                     csv_name=csv_name,\n",
    "                     direction=direction)\n",
    "EvalOptimisteResult_lambda_2 = EvaluationOptimiste(lamda=lambda_2,\n",
    "                     csv_name=csv_name,\n",
    "                     direction=direction)  \n",
    "taux_mauvaise_classification_opt_lambda_2= compareClassification(TypeEval=\"optimiste\",\n",
    "                                                       lamda=lambda_2,\n",
    "                                                       csv_name=csv_name,\n",
    "                                                       direction=direction)\n",
    "taux_mauvaise_classification1_pess_lambda_2 = compareClassification(TypeEval=\"pessimiste\",\n",
    "                                                       lamda=lambda_2,\n",
    "                                                       csv_name=csv_name,\n",
    "                                                       direction=direction)\n",
    "\n",
    "\n",
    "result_original['Eval Pessimiste'] = EvalPessimisteResult_lambda_2\n",
    "result_original['Eval Optimiste'] = EvalOptimisteResult_lambda_2\n",
    "display(result_original)\n",
    "\n",
    "    \n",
    "print(\"Taux mauvaise classification Optimiste\", taux_mauvaise_classification_opt_lambda_2,'%')\n",
    "   \n",
    "print(\"Taux mauvaise classification Pessimiste\", taux_mauvaise_classification1_pess_lambda_2,'%')\n",
    "\n",
    "\n",
    "df_Eval_Opt_lambda_2=pd.DataFrame(EvalOptimisteResult_lambda_2,columns=[\"Classement Optimiste\"])\n",
    "df_Eval_Pes_lambda_2=pd.DataFrame(EvalPessimisteResult_lambda_2,columns=[\"Classement Pessimiste\"])\n",
    "\n",
    "\n",
    "new_df_lambda_2 = pd.concat([result_original, df_Eval_Opt_lambda_2, df_Eval_Pes_lambda_2], axis=1, sort=False)\n",
    "\n",
    "result_lambda_2 = {\"Tx Optimiste\": taux_mauvaise_classification_opt_lambda_2, \"Tx Pessimiste\" :taux_mauvaise_classification1_pess_lambda_2}  \n",
    "   "
   ]
  },
  {
   "cell_type": "markdown",
   "metadata": {},
   "source": [
    "### b. Test des procedures EvalOptimiste  et EvalPessimiste ainsi les taux de mauvaise classification(optimiste pessimiste) selon λ = 55 % "
   ]
  },
  {
   "cell_type": "code",
   "execution_count": 32,
   "metadata": {
    "tags": [
     "remove_cell"
    ]
   },
   "outputs": [
    {
     "data": {
      "text/html": [
       "<div>\n",
       "<style scoped>\n",
       "    .dataframe tbody tr th:only-of-type {\n",
       "        vertical-align: middle;\n",
       "    }\n",
       "\n",
       "    .dataframe tbody tr th {\n",
       "        vertical-align: top;\n",
       "    }\n",
       "\n",
       "    .dataframe thead th {\n",
       "        text-align: right;\n",
       "    }\n",
       "</style>\n",
       "<table border=\"1\" class=\"dataframe\">\n",
       "  <thead>\n",
       "    <tr style=\"text-align: right;\">\n",
       "      <th></th>\n",
       "      <th>Produit</th>\n",
       "      <th>Note_magazine</th>\n",
       "      <th>Eval Pessimiste</th>\n",
       "      <th>Eval Optimiste</th>\n",
       "    </tr>\n",
       "  </thead>\n",
       "  <tbody>\n",
       "    <tr>\n",
       "      <th>0</th>\n",
       "      <td>a- Joone</td>\n",
       "      <td>C5</td>\n",
       "      <td>Très Bon</td>\n",
       "      <td>Très Bon</td>\n",
       "    </tr>\n",
       "    <tr>\n",
       "      <th>1</th>\n",
       "      <td>b- Pamp. Prem</td>\n",
       "      <td>C4</td>\n",
       "      <td>Bon</td>\n",
       "      <td>Bon</td>\n",
       "    </tr>\n",
       "    <tr>\n",
       "      <th>2</th>\n",
       "      <td>c- Pamp. Baby</td>\n",
       "      <td>C3</td>\n",
       "      <td>Acceptable</td>\n",
       "      <td>Acceptable</td>\n",
       "    </tr>\n",
       "    <tr>\n",
       "      <th>3</th>\n",
       "      <td>d- Naty</td>\n",
       "      <td>C3</td>\n",
       "      <td>Acceptable</td>\n",
       "      <td>Acceptable</td>\n",
       "    </tr>\n",
       "    <tr>\n",
       "      <th>4</th>\n",
       "      <td>e- Pamp. Activ.</td>\n",
       "      <td>C3</td>\n",
       "      <td>Acceptable</td>\n",
       "      <td>Acceptable</td>\n",
       "    </tr>\n",
       "    <tr>\n",
       "      <th>5</th>\n",
       "      <td>f- Carref.Baby</td>\n",
       "      <td>C3</td>\n",
       "      <td>Bon</td>\n",
       "      <td>Bon</td>\n",
       "    </tr>\n",
       "    <tr>\n",
       "      <th>6</th>\n",
       "      <td>g- Lupilu</td>\n",
       "      <td>C3</td>\n",
       "      <td>Bon</td>\n",
       "      <td>Bon</td>\n",
       "    </tr>\n",
       "    <tr>\n",
       "      <th>7</th>\n",
       "      <td>h- Mots d’enfants</td>\n",
       "      <td>C3</td>\n",
       "      <td>Acceptable</td>\n",
       "      <td>Acceptable</td>\n",
       "    </tr>\n",
       "    <tr>\n",
       "      <th>8</th>\n",
       "      <td>i- Love &amp; Green</td>\n",
       "      <td>C2</td>\n",
       "      <td>Bon</td>\n",
       "      <td>Bon</td>\n",
       "    </tr>\n",
       "    <tr>\n",
       "      <th>9</th>\n",
       "      <td>j- Lotus Baby</td>\n",
       "      <td>C2</td>\n",
       "      <td>Bon</td>\n",
       "      <td>Bon</td>\n",
       "    </tr>\n",
       "    <tr>\n",
       "      <th>10</th>\n",
       "      <td>k- Pommette</td>\n",
       "      <td>C2</td>\n",
       "      <td>Bon</td>\n",
       "      <td>Bon</td>\n",
       "    </tr>\n",
       "    <tr>\n",
       "      <th>11</th>\n",
       "      <td>l- Lillydoo</td>\n",
       "      <td>C1</td>\n",
       "      <td>Acceptable</td>\n",
       "      <td>Acceptable</td>\n",
       "    </tr>\n",
       "  </tbody>\n",
       "</table>\n",
       "</div>"
      ],
      "text/plain": [
       "               Produit Note_magazine Eval Pessimiste Eval Optimiste\n",
       "0             a- Joone            C5        Très Bon       Très Bon\n",
       "1        b- Pamp. Prem            C4             Bon            Bon\n",
       "2        c- Pamp. Baby            C3      Acceptable     Acceptable\n",
       "3              d- Naty            C3      Acceptable     Acceptable\n",
       "4      e- Pamp. Activ.            C3      Acceptable     Acceptable\n",
       "5       f- Carref.Baby            C3             Bon            Bon\n",
       "6            g- Lupilu            C3             Bon            Bon\n",
       "7   h- Mots d’enfants             C3      Acceptable     Acceptable\n",
       "8      i- Love & Green            C2             Bon            Bon\n",
       "9        j- Lotus Baby            C2             Bon            Bon\n",
       "10         k- Pommette            C2             Bon            Bon\n",
       "11        l- Lillydoo             C1      Acceptable     Acceptable"
      ]
     },
     "metadata": {},
     "output_type": "display_data"
    },
    {
     "name": "stdout",
     "output_type": "stream",
     "text": [
      "Taux mauvaise classification Opt 50.0 %\n",
      "Taux mauvaise classification Pessimiste 50.0 %\n"
     ]
    }
   ],
   "source": [
    "lambda_1 = 0.55\n",
    "result_2_5_3Hbi=SurclassementHbi(lamda=lambda_1,\n",
    "                      csv_name=csv_name,\n",
    "                      direction=direction)\n",
    "\n",
    "\n",
    "result_2_5_3biH = SurclassementbiH(lamda=lambda_1,\n",
    "                     csv_name=csv_name,\n",
    "                     direction=direction)\n",
    "\n",
    "EvalPessimisteResult_lambda_1 = EvaluationPessimiste(lamda=lambda_1,\n",
    "                     csv_name=csv_name,\n",
    "                     direction=direction)\n",
    "EvalOptimisteResult_lambda_1 = EvaluationOptimiste(lamda=lambda_1,\n",
    "                     csv_name=csv_name,\n",
    "                     direction=direction)  \n",
    "\n",
    "taux_mauvaise_classification_opt_lambda_1= compareClassification(TypeEval=\"optimiste\",\n",
    "                                                       lamda=lambda_1,\n",
    "                                                       csv_name=csv_name,\n",
    "                                                       direction=direction)\n",
    "taux_mauvaise_classification1_pess_lambda_1 = compareClassification(TypeEval=\"pessimiste\",\n",
    "                                                       lamda=lambda_1,\n",
    "                                                       csv_name=csv_name,\n",
    "                                                       direction=direction)\n",
    "\n",
    "\n",
    "result_original['Eval Pessimiste'] = EvalPessimisteResult_lambda_1\n",
    "result_original['Eval Optimiste'] = EvalOptimisteResult_lambda_1\n",
    "display(result_original)\n",
    "   \n",
    "   \n",
    "   \n",
    "print(\"Taux mauvaise classification Opt\", taux_mauvaise_classification_opt_lambda_1,'%')\n",
    "   \n",
    "print(\"Taux mauvaise classification Pessimiste\", taux_mauvaise_classification1_pess_lambda_1,'%')\n",
    "\n",
    "df_Eval_Opt_lambda1=pd.DataFrame(EvalOptimisteResult_lambda_1,columns=[\"Classement Optimiste\"])\n",
    "df_Eval_Pes_lambda1=pd.DataFrame(EvalPessimisteResult_lambda_1,columns=[\"Classement Pessimiste\"])\n",
    "   \n",
    "new_df_lambda1 = pd.concat([result_original, df_Eval_Opt_lambda1, df_Eval_Pes_lambda1], axis=1, sort=False)\n",
    "\n",
    "result_lambda1 = {\"Tx Optimiste\": taux_mauvaise_classification_opt_lambda_1, \"Tx Pessimiste\" :taux_mauvaise_classification1_pess_lambda_1  }\n"
   ]
  },
  {
   "cell_type": "markdown",
   "metadata": {},
   "source": [
    "### c.Interpretation des resultats pour λ = 55 %"
   ]
  },
  {
   "cell_type": "markdown",
   "metadata": {},
   "source": [
    "\t\n",
    "Les résultats issus des deux procédures pessimiste et optimiste (Colonne 3 et 4), et les taux de mauvaise classification obtenus montrent que la procédure pessimiste est plus efficace en terme de performance et que la procédure optimiste est plus restrictive.\n",
    "Ceci est dû au fait que pour pouvoir affecter une couche culotte à une catégorie donnée, il faut que le site soit jugé au moins “aussi performant” que la frontière basse de la catégorie. Ce qui traduit une certaine prudence dans la procédure d’affectation. \n",
    "\n",
    "Nous remarquons que : \n",
    "les classements proposés par les deux procédures ne sont pas les mêmes quand lambda=0.75, par contre ces derniers sont identiques lorsque lambda=0.55.\n",
    "La couche jugée la meilleure par les deux procédures est la couche a-Joone, malgré le faite qu’elle soit la plus chère couche-culotte soit 0,40 euros l’unité et qu’elle ne soit pas bio. Ce qui veut dire qu’effectivement ces deux critères prix et bio ne rentrent pas dans la notation fournie par les utilisateurs.\n",
    "\n",
    "Tandis que la pire couche est Lillydoo selon la procédure pessimiste ainsi que l-Lillydoo et  h-Mots d’enfants d’après la procédure optimiste.\n",
    "Quant aux couches b-Pamp. Prem, c-Pamp. Baby et d-Naty, ils sont considérés comme bons sans être toutefois meilleurs. \n",
    "Les résultats obtenues par Electre tri comparés aux résultats obtenues par le magazine ne sont pas assez identiques donc on peut dire que la manière dont les produits ont été classés par le magazine n’est pas fiable.\n"
   ]
  },
  {
   "cell_type": "markdown",
   "metadata": {},
   "source": [
    "## Conclusion\n"
   ]
  },
  {
   "cell_type": "markdown",
   "metadata": {},
   "source": [
    "Après l’analyse que nous avons réalisé en utilisant deux méthodes différentes dans les parties précédentes, une méthode par fonction d’utilité (somme pondérée) et une méthode basée sur le surclassement (Electre tri), Nous réalisons que nous obtenons des résultats presque similaires en terme de meilleure couche élue qui est la couche a-Joone.\n",
    "\n",
    "On déduit que, certes ces deux méthodes sont conçues pour l’analyse multicritères de données mais elles ne répondent pas au même objectif qui est de détecter le meilleur produit ou action pour la méthode de somme pondérée, ou qui est de classifier un ensemble de produits dans le cas de la méthode Electre tri. En terme de classement le classement des produits n’est pas le même pour les deux méthodes.\n",
    "\n",
    "Parmi les désavantages de la première méthode (Somme pondérée) c’est la compensation des mauvais critères par les critères plus performants. En synthétisant le problème en une fonction unique, on élimine de l'information importante en masquant les critères discriminants. En effet, un mauvais critère pourra toujours être compensé ici par un bon critère. \n",
    "Pour la deuxième méthode c’est la multitude des paramètres utilisés (seuil de majorité, poids des critères ..) mais cette dernière reste une méthode très efficace.\n"
   ]
  },
  {
   "cell_type": "code",
   "execution_count": 33,
   "metadata": {
    "tags": [
     "remove_cell"
    ]
   },
   "outputs": [],
   "source": [
    "%%capture\n",
    "csv_export='./results_notebook/Couches_Analyse_Classement.xlsx'\n",
    "exportInExcel(csv_export, 'Electre-tri-Couches',\n",
    "                 [new_df_lambda1, new_df_lambda_2],\n",
    "                 ['Modèle lambda 0.55', 'Modèle lambda 0.75'],\n",
    "                 [result_lambda1, result_lambda_2], \n",
    "                 electre = True)"
   ]
  },
  {
   "cell_type": "code",
   "execution_count": null,
   "metadata": {
    "tags": [
     "remove_cell"
    ]
   },
   "outputs": [],
   "source": []
  }
 ],
 "metadata": {
  "celltoolbar": "Tags",
  "kernelspec": {
   "display_name": "Python 3",
   "language": "python",
   "name": "python3"
  },
  "language_info": {
   "codemirror_mode": {
    "name": "ipython",
    "version": 3
   },
   "file_extension": ".py",
   "mimetype": "text/x-python",
   "name": "python",
   "nbconvert_exporter": "python",
   "pygments_lexer": "ipython3",
   "version": "3.7.1"
  }
 },
 "nbformat": 4,
 "nbformat_minor": 2
}
