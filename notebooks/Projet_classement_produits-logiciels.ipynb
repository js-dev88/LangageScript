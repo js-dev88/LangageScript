{
 "cells": [
  {
   "cell_type": "markdown",
   "metadata": {},
   "source": [
    " <div align=\"center\"><h1> ANALYSE DES CLASSEMENTS DE PRODUITS </h1></div>"
   ]
  },
  {
   "cell_type": "markdown",
   "metadata": {},
   "source": [
    "## CAS - Logiciels Gestionnaires de Mots de Passe"
   ]
  },
  {
   "cell_type": "markdown",
   "metadata": {},
   "source": [
    "Dans son numéro de septembre 2018, le magazine 60 millions de consommateurs compare dix gestionnaires de mots de passe sur oridnateur et sur mobile. \n",
    "\n",
    "Nous allons appliquer la même méthode que pour le classement des couches-culottes précédent afin d'étudier la qualité du modèle d'évaluation."
   ]
  },
  {
   "cell_type": "markdown",
   "metadata": {},
   "source": [
    "<img src=\"./docs/tableau.png\">"
   ]
  },
  {
   "cell_type": "markdown",
   "metadata": {},
   "source": [
    "Dans cette section, nous essayerons d’analyser ce classement élaboré à partir de deux critères : la performance et la\n",
    "composition avec des poids respectifs de 60% et 40 %."
   ]
  },
  {
   "cell_type": "markdown",
   "metadata": {},
   "source": [
    "## 1. Le score global (/20) associé à chaque produit peut-il être expliqué par une somme pondérée ?"
   ]
  },
  {
   "cell_type": "markdown",
   "metadata": {},
   "source": [
    "A la lecture du classement publié, il semble clair, pour un consommateur, que le score global donné à chaque produit\n",
    "résulte d’une moyenne pondérée (somme pondérée) de ses évaluations sur les deux critères performance et composition.\n",
    "L’objectif dans cette partie est de vérifier l’exactitude ou non de cette hypothèse."
   ]
  },
  {
   "cell_type": "markdown",
   "metadata": {},
   "source": [
    "Pour cela, nous allons associer un nombre réel positif à chaque évaluation qualitative attribuée à un produit. Ainsi, pour\n",
    "le produit “Joone” représenté par la lettre a sur le Tableau 1, si son score de 17/20 est obtenu à partir d’une somme\n",
    "pondérée notée f, alors il existe des nombres réels positifs U1a(+++) ∈ [17, 20] et U2a(+++) ∈ [17, 20] tels que"
   ]
  },
  {
   "cell_type": "markdown",
   "metadata": {},
   "source": [
    "**<p style=\"text-align: center;\">f(a) = 0.6 U1a(+++) + 0.4 U2a(+++) = 17</p>**"
   ]
  },
  {
   "cell_type": "markdown",
   "metadata": {},
   "source": [
    "Plus généralement, pour un produit x dont le score global f(x) est donné par une somme pondérée f, si on note Uix(αix)\n",
    "le nombre réel associé à l’évaluation qualitative αix du produit x sur le critère i (la valeur qualitative αix étant donnée\n",
    "par le magazine), alors on aura\n"
   ]
  },
  {
   "cell_type": "markdown",
   "metadata": {},
   "source": [
    "**<p style=\"text-align: center;\">f(x) = 0.6 U1x(α1x) + 0.4 U2x(α2x)</p>**"
   ]
  },
  {
   "cell_type": "markdown",
   "metadata": {},
   "source": [
    "Pour déterminer si le classement des couches-culottes, fourni par le magazine, est compatible avec un modèle d’évaluation\n",
    "basé sur la somme pondérée, il nous suffit alors de résoudre le programme linéaire PL1 suivant (un système d’inéquations\n",
    "linéaires est suffisant pour ce test) :"
   ]
  },
  {
   "cell_type": "markdown",
   "metadata": {},
   "source": [
    "<img src=\"./docs/pl.png\">"
   ]
  },
  {
   "cell_type": "markdown",
   "metadata": {
    "slideshow": {
     "slide_type": "-"
    }
   },
   "source": [
    "où\n",
    "* La fonction objectif donnée par l’équation (3) consiste, ici, à maximiser le nombre réel U1a(+++) associé à l’évaluation de la couche-culotte “Joone” sur le critère Performance. En réalité, étant donné que nous cherchons simplement à satisfaire les contraintes de ce programme linéaire, le choix de n’importe quelle fonction objectif suffira à résoudre notre problème. En clair le choix de la fonction objectif de PL1 est arbitraire.\n"
   ]
  },
  {
   "cell_type": "markdown",
   "metadata": {},
   "source": [
    "* Les contraintes (4) à (15) correspondent à l’écriture sous forme de somme pondérée, comme dans la formule 2 ci-dessus, des 12 produits à évaluer."
   ]
  },
  {
   "cell_type": "markdown",
   "metadata": {},
   "source": [
    "\n",
    "* Les contraintes (16) à (19) correspondent à l’ordre établi dans le classement des 12 produits du magazine. A noter que la valeur 0.1, dans certains de ces contraintes, permet simplement de satisfaire une inégalité stricte, en termesde notes globales, entre certains produits."
   ]
  },
  {
   "cell_type": "markdown",
   "metadata": {},
   "source": [
    "* Les contraintes (20) à (29) permettent d’assurer l’appartenance de chaque nombre réel Uix(αix) à un intervalle lié à la note qualitative αix telle que donnée par le magazine."
   ]
  },
  {
   "cell_type": "code",
   "execution_count": 1,
   "metadata": {},
   "outputs": [],
   "source": [
    "import os\n",
    "import sys\n",
    "module_path = os.path.abspath(os.path.join('./src'))\n",
    "if module_path not in sys.path:\n",
    "    sys.path.append(module_path)"
   ]
  },
  {
   "cell_type": "markdown",
   "metadata": {},
   "source": [
    " ### 1.1 fonction CheckAdditiveModel"
   ]
  },
  {
   "cell_type": "code",
   "execution_count": 2,
   "metadata": {},
   "outputs": [],
   "source": [
    "from system import checkAdditiveModel, createUpdateModel, compareRankings\n",
    "from optlang import Variable\n",
    "from loader import getOriginalData, exportInExcel\n",
    "from IPython.display import display, display_html, HTML\n",
    "from json2html import *\n",
    "from IPython.display import HTML"
   ]
  },
  {
   "cell_type": "markdown",
   "metadata": {},
   "source": [
    "**CheckAdditiveModel** retourne un message d’erreur si le classement n’est pas explicable par un modèle type\n",
    "somme pondérée (dans ce cas, le programme linéaire ou système linéaire correspondant n’admet pas de solution\n",
    "réalisable). Au cas où cela est possible, le programme retournera alors des valeurs numériques à associer à chaque\n",
    "produit (pour chaque critère d’évaluation), ainsi que la valeur de la somme pondérée qui lui correspond, dans ce notebook et sous fichier **Excel** (répertoire **data_solved**)"
   ]
  },
  {
   "cell_type": "markdown",
   "metadata": {},
   "source": [
    "La fonction est construite pour être générique et sera appelée sur différentes propositions de résolution du problème"
   ]
  },
  {
   "cell_type": "markdown",
   "metadata": {},
   "source": [
    " ## 1.2 \n",
    " ### 1.2.1 Test de la fonction avec le classement des couches-culottes"
   ]
  },
  {
   "cell_type": "code",
   "execution_count": 3,
   "metadata": {},
   "outputs": [],
   "source": [
    "csv_name='./data/data_couches_original.xlsx'\n",
    "model_name_1 = 'Programme Lineaire - Classement Couches-culottes avec notes' "
   ]
  },
  {
   "cell_type": "markdown",
   "metadata": {},
   "source": [
    "La résolution du problème passe par une formalisation en Programme Linéaire"
   ]
  },
  {
   "cell_type": "code",
   "execution_count": 4,
   "metadata": {},
   "outputs": [
    {
     "name": "stdout",
     "output_type": "stream",
     "text": [
      "Le Programme Lineaire - Classement Couches-culottes avec notes \n",
      " du fichier ./data/data_couches_original.xlsx n'admet pas de solution\n"
     ]
    }
   ],
   "source": [
    "result_2_1 = checkAdditiveModel(csv_name=csv_name,\n",
    "                      model_name=model_name_1,\n",
    "                      eval_expr='x1',\n",
    "                      direction='max',\n",
    "                      with_scores=True)\n",
    "print(result_2_1)"
   ]
  },
  {
   "cell_type": "markdown",
   "metadata": {},
   "source": [
    "#### Commentaires"
   ]
  },
  {
   "cell_type": "markdown",
   "metadata": {},
   "source": [
    "Le problème ainsi formalisé n'admet donc pas de solution"
   ]
  },
  {
   "cell_type": "markdown",
   "metadata": {},
   "source": [
    " ### 1.2.2 CheckAdditiveModel avec le classement des couches lorsque la note globale de chaque couche-culotte n’est pas fixée"
   ]
  },
  {
   "cell_type": "code",
   "execution_count": 5,
   "metadata": {},
   "outputs": [],
   "source": [
    "model_name_2 = 'Programme Lineaire - Classement Couches-culottes sans note'"
   ]
  },
  {
   "cell_type": "code",
   "execution_count": 6,
   "metadata": {},
   "outputs": [
    {
     "name": "stdout",
     "output_type": "stream",
     "text": [
      "Le Programme Lineaire - Classement Couches-culottes sans note \n",
      " du fichier ./data/data_couches_original.xlsx n'admet pas de solution\n"
     ]
    }
   ],
   "source": [
    "result_2_2 = checkAdditiveModel(csv_name=csv_name,\n",
    "                  model_name=model_name_2,\n",
    "                  eval_expr='x1',\n",
    "                  direction='max')\n",
    "print(result_2_2)"
   ]
  },
  {
   "cell_type": "markdown",
   "metadata": {},
   "source": [
    "Le problème ainsi formalisé n'admet également pas de solution"
   ]
  },
  {
   "cell_type": "markdown",
   "metadata": {},
   "source": [
    " ### 1.2.3 Commentaires"
   ]
  },
  {
   "cell_type": "markdown",
   "metadata": {},
   "source": [
    "# 1.3"
   ]
  },
  {
   "cell_type": "markdown",
   "metadata": {},
   "source": [
    "Dans cette question, nous allons supposer que l’évaluation globale n’est pas la même pour les couches-culottes\n",
    "“Naty” et “Pamp. Activ” d’une part, et les couches-culottes “Love & Green” et “Lotus Baby” d’autre part.\n",
    "\n",
    "Pour cela, nous allons supprimer du programme PL1 les deux contraintes suivantes : **fd = fe** de l’équation (17)\n",
    "et **fi = fj** de l’équation (18). \n",
    "\n",
    "Nous allons également supprimer du programme PL1 la contrainte **17 < U2c(+++)**,\n",
    "liée à la couche c-Pamp.Baby."
   ]
  },
  {
   "cell_type": "markdown",
   "metadata": {},
   "source": [
    "## 1.3.1 Le meilleur et le pire score global obtenu par le produit “Joone”"
   ]
  },
  {
   "cell_type": "markdown",
   "metadata": {},
   "source": [
    "#### Meilleur score"
   ]
  },
  {
   "cell_type": "code",
   "execution_count": 7,
   "metadata": {},
   "outputs": [],
   "source": [
    "update_model_Q3 = createUpdateModel([Variable ('x6', ub = 20)], ['c16', 'c21'])"
   ]
  },
  {
   "cell_type": "code",
   "execution_count": 8,
   "metadata": {},
   "outputs": [],
   "source": [
    "result_original = getOriginalData(csv_name)\n",
    "model_name_3 = 'Programme Lineaire - Meilleur score Joone'\n",
    "result_3_1_max = checkAdditiveModel(csv_name=csv_name,\n",
    "                  model_name=model_name_3,\n",
    "                  eval_expr='y1',\n",
    "                  direction='max',\n",
    "                  update_model=update_model_Q3)"
   ]
  },
  {
   "cell_type": "code",
   "execution_count": 9,
   "metadata": {},
   "outputs": [
    {
     "data": {
      "text/html": [
       "<style  type=\"text/css\" >\n",
       "</style><table id=\"T_21362d2e_47fc_11e9_9bbc_d8fc93089377\" style='display:inline'><caption>Modèle original</caption><thead>    <tr>        <th class=\"blank level0\" ></th>        <th class=\"col_heading level0 col0\" >Produit</th>        <th class=\"col_heading level0 col1\" >Performance</th>        <th class=\"col_heading level0 col2\" >Composition</th>        <th class=\"col_heading level0 col3\" >Score</th>    </tr></thead><tbody>\n",
       "                <tr>\n",
       "                        <th id=\"T_21362d2e_47fc_11e9_9bbc_d8fc93089377level0_row0\" class=\"row_heading level0 row0\" >0</th>\n",
       "                        <td id=\"T_21362d2e_47fc_11e9_9bbc_d8fc93089377row0_col0\" class=\"data row0 col0\" >a- Joone</td>\n",
       "                        <td id=\"T_21362d2e_47fc_11e9_9bbc_d8fc93089377row0_col1\" class=\"data row0 col1\" >+++</td>\n",
       "                        <td id=\"T_21362d2e_47fc_11e9_9bbc_d8fc93089377row0_col2\" class=\"data row0 col2\" >+++</td>\n",
       "                        <td id=\"T_21362d2e_47fc_11e9_9bbc_d8fc93089377row0_col3\" class=\"data row0 col3\" >17</td>\n",
       "            </tr>\n",
       "            <tr>\n",
       "                        <th id=\"T_21362d2e_47fc_11e9_9bbc_d8fc93089377level0_row1\" class=\"row_heading level0 row1\" >1</th>\n",
       "                        <td id=\"T_21362d2e_47fc_11e9_9bbc_d8fc93089377row1_col0\" class=\"data row1 col0\" >b- Pamp. Prem</td>\n",
       "                        <td id=\"T_21362d2e_47fc_11e9_9bbc_d8fc93089377row1_col1\" class=\"data row1 col1\" >++</td>\n",
       "                        <td id=\"T_21362d2e_47fc_11e9_9bbc_d8fc93089377row1_col2\" class=\"data row1 col2\" >++</td>\n",
       "                        <td id=\"T_21362d2e_47fc_11e9_9bbc_d8fc93089377row1_col3\" class=\"data row1 col3\" >14.5</td>\n",
       "            </tr>\n",
       "            <tr>\n",
       "                        <th id=\"T_21362d2e_47fc_11e9_9bbc_d8fc93089377level0_row2\" class=\"row_heading level0 row2\" >2</th>\n",
       "                        <td id=\"T_21362d2e_47fc_11e9_9bbc_d8fc93089377row2_col0\" class=\"data row2 col0\" >c- Pamp. Baby</td>\n",
       "                        <td id=\"T_21362d2e_47fc_11e9_9bbc_d8fc93089377row2_col1\" class=\"data row2 col1\" >+</td>\n",
       "                        <td id=\"T_21362d2e_47fc_11e9_9bbc_d8fc93089377row2_col2\" class=\"data row2 col2\" >+++</td>\n",
       "                        <td id=\"T_21362d2e_47fc_11e9_9bbc_d8fc93089377row2_col3\" class=\"data row2 col3\" >12.5</td>\n",
       "            </tr>\n",
       "            <tr>\n",
       "                        <th id=\"T_21362d2e_47fc_11e9_9bbc_d8fc93089377level0_row3\" class=\"row_heading level0 row3\" >3</th>\n",
       "                        <td id=\"T_21362d2e_47fc_11e9_9bbc_d8fc93089377row3_col0\" class=\"data row3 col0\" >d- Naty</td>\n",
       "                        <td id=\"T_21362d2e_47fc_11e9_9bbc_d8fc93089377row3_col1\" class=\"data row3 col1\" >+</td>\n",
       "                        <td id=\"T_21362d2e_47fc_11e9_9bbc_d8fc93089377row3_col2\" class=\"data row3 col2\" >+++</td>\n",
       "                        <td id=\"T_21362d2e_47fc_11e9_9bbc_d8fc93089377row3_col3\" class=\"data row3 col3\" >12.5</td>\n",
       "            </tr>\n",
       "            <tr>\n",
       "                        <th id=\"T_21362d2e_47fc_11e9_9bbc_d8fc93089377level0_row4\" class=\"row_heading level0 row4\" >4</th>\n",
       "                        <td id=\"T_21362d2e_47fc_11e9_9bbc_d8fc93089377row4_col0\" class=\"data row4 col0\" >e- Pamp. Activ.</td>\n",
       "                        <td id=\"T_21362d2e_47fc_11e9_9bbc_d8fc93089377row4_col1\" class=\"data row4 col1\" >+</td>\n",
       "                        <td id=\"T_21362d2e_47fc_11e9_9bbc_d8fc93089377row4_col2\" class=\"data row4 col2\" >+</td>\n",
       "                        <td id=\"T_21362d2e_47fc_11e9_9bbc_d8fc93089377row4_col3\" class=\"data row4 col3\" >12.5</td>\n",
       "            </tr>\n",
       "            <tr>\n",
       "                        <th id=\"T_21362d2e_47fc_11e9_9bbc_d8fc93089377level0_row5\" class=\"row_heading level0 row5\" >5</th>\n",
       "                        <td id=\"T_21362d2e_47fc_11e9_9bbc_d8fc93089377row5_col0\" class=\"data row5 col0\" >f- Carref.Baby</td>\n",
       "                        <td id=\"T_21362d2e_47fc_11e9_9bbc_d8fc93089377row5_col1\" class=\"data row5 col1\" >++</td>\n",
       "                        <td id=\"T_21362d2e_47fc_11e9_9bbc_d8fc93089377row5_col2\" class=\"data row5 col2\" >+</td>\n",
       "                        <td id=\"T_21362d2e_47fc_11e9_9bbc_d8fc93089377row5_col3\" class=\"data row5 col3\" >12.5</td>\n",
       "            </tr>\n",
       "            <tr>\n",
       "                        <th id=\"T_21362d2e_47fc_11e9_9bbc_d8fc93089377level0_row6\" class=\"row_heading level0 row6\" >6</th>\n",
       "                        <td id=\"T_21362d2e_47fc_11e9_9bbc_d8fc93089377row6_col0\" class=\"data row6 col0\" >g- Lupilu</td>\n",
       "                        <td id=\"T_21362d2e_47fc_11e9_9bbc_d8fc93089377row6_col1\" class=\"data row6 col1\" >++</td>\n",
       "                        <td id=\"T_21362d2e_47fc_11e9_9bbc_d8fc93089377row6_col2\" class=\"data row6 col2\" >-</td>\n",
       "                        <td id=\"T_21362d2e_47fc_11e9_9bbc_d8fc93089377row6_col3\" class=\"data row6 col3\" >12</td>\n",
       "            </tr>\n",
       "            <tr>\n",
       "                        <th id=\"T_21362d2e_47fc_11e9_9bbc_d8fc93089377level0_row7\" class=\"row_heading level0 row7\" >7</th>\n",
       "                        <td id=\"T_21362d2e_47fc_11e9_9bbc_d8fc93089377row7_col0\" class=\"data row7 col0\" >h- Mots d’enfants </td>\n",
       "                        <td id=\"T_21362d2e_47fc_11e9_9bbc_d8fc93089377row7_col1\" class=\"data row7 col1\" >+</td>\n",
       "                        <td id=\"T_21362d2e_47fc_11e9_9bbc_d8fc93089377row7_col2\" class=\"data row7 col2\" >-</td>\n",
       "                        <td id=\"T_21362d2e_47fc_11e9_9bbc_d8fc93089377row7_col3\" class=\"data row7 col3\" >12</td>\n",
       "            </tr>\n",
       "            <tr>\n",
       "                        <th id=\"T_21362d2e_47fc_11e9_9bbc_d8fc93089377level0_row8\" class=\"row_heading level0 row8\" >8</th>\n",
       "                        <td id=\"T_21362d2e_47fc_11e9_9bbc_d8fc93089377row8_col0\" class=\"data row8 col0\" >i- Love & Green</td>\n",
       "                        <td id=\"T_21362d2e_47fc_11e9_9bbc_d8fc93089377row8_col1\" class=\"data row8 col1\" >++</td>\n",
       "                        <td id=\"T_21362d2e_47fc_11e9_9bbc_d8fc93089377row8_col2\" class=\"data row8 col2\" >-</td>\n",
       "                        <td id=\"T_21362d2e_47fc_11e9_9bbc_d8fc93089377row8_col3\" class=\"data row8 col3\" >9.5</td>\n",
       "            </tr>\n",
       "            <tr>\n",
       "                        <th id=\"T_21362d2e_47fc_11e9_9bbc_d8fc93089377level0_row9\" class=\"row_heading level0 row9\" >9</th>\n",
       "                        <td id=\"T_21362d2e_47fc_11e9_9bbc_d8fc93089377row9_col0\" class=\"data row9 col0\" >j- Lotus Baby</td>\n",
       "                        <td id=\"T_21362d2e_47fc_11e9_9bbc_d8fc93089377row9_col1\" class=\"data row9 col1\" >++</td>\n",
       "                        <td id=\"T_21362d2e_47fc_11e9_9bbc_d8fc93089377row9_col2\" class=\"data row9 col2\" >--</td>\n",
       "                        <td id=\"T_21362d2e_47fc_11e9_9bbc_d8fc93089377row9_col3\" class=\"data row9 col3\" >9.5</td>\n",
       "            </tr>\n",
       "            <tr>\n",
       "                        <th id=\"T_21362d2e_47fc_11e9_9bbc_d8fc93089377level0_row10\" class=\"row_heading level0 row10\" >10</th>\n",
       "                        <td id=\"T_21362d2e_47fc_11e9_9bbc_d8fc93089377row10_col0\" class=\"data row10 col0\" >k- Pommette</td>\n",
       "                        <td id=\"T_21362d2e_47fc_11e9_9bbc_d8fc93089377row10_col1\" class=\"data row10 col1\" >++</td>\n",
       "                        <td id=\"T_21362d2e_47fc_11e9_9bbc_d8fc93089377row10_col2\" class=\"data row10 col2\" >--</td>\n",
       "                        <td id=\"T_21362d2e_47fc_11e9_9bbc_d8fc93089377row10_col3\" class=\"data row10 col3\" >9.5</td>\n",
       "            </tr>\n",
       "            <tr>\n",
       "                        <th id=\"T_21362d2e_47fc_11e9_9bbc_d8fc93089377level0_row11\" class=\"row_heading level0 row11\" >11</th>\n",
       "                        <td id=\"T_21362d2e_47fc_11e9_9bbc_d8fc93089377row11_col0\" class=\"data row11 col0\" >l- Lillydoo </td>\n",
       "                        <td id=\"T_21362d2e_47fc_11e9_9bbc_d8fc93089377row11_col1\" class=\"data row11 col1\" >+</td>\n",
       "                        <td id=\"T_21362d2e_47fc_11e9_9bbc_d8fc93089377row11_col2\" class=\"data row11 col2\" >--</td>\n",
       "                        <td id=\"T_21362d2e_47fc_11e9_9bbc_d8fc93089377row11_col3\" class=\"data row11 col3\" >6.5</td>\n",
       "            </tr>\n",
       "    </tbody></table><style  type=\"text/css\" >\n",
       "</style><table id=\"T_21367b42_47fc_11e9_86b6_d8fc93089377\" style='display:inline'><caption>Programme Lineaire - Meilleur score Joone</caption><thead>    <tr>        <th class=\"blank level0\" ></th>        <th class=\"col_heading level0 col0\" >Produit</th>        <th class=\"col_heading level0 col1\" >Performance</th>        <th class=\"col_heading level0 col2\" >Composition</th>        <th class=\"col_heading level0 col3\" >Score</th>    </tr></thead><tbody>\n",
       "                <tr>\n",
       "                        <th id=\"T_21367b42_47fc_11e9_86b6_d8fc93089377level0_row0\" class=\"row_heading level0 row0\" >0</th>\n",
       "                        <td id=\"T_21367b42_47fc_11e9_86b6_d8fc93089377row0_col0\" class=\"data row0 col0\" >a- Joone</td>\n",
       "                        <td id=\"T_21367b42_47fc_11e9_86b6_d8fc93089377row0_col1\" class=\"data row0 col1\" >20</td>\n",
       "                        <td id=\"T_21367b42_47fc_11e9_86b6_d8fc93089377row0_col2\" class=\"data row0 col2\" >20</td>\n",
       "                        <td id=\"T_21367b42_47fc_11e9_86b6_d8fc93089377row0_col3\" class=\"data row0 col3\" >20</td>\n",
       "            </tr>\n",
       "            <tr>\n",
       "                        <th id=\"T_21367b42_47fc_11e9_86b6_d8fc93089377level0_row1\" class=\"row_heading level0 row1\" >1</th>\n",
       "                        <td id=\"T_21367b42_47fc_11e9_86b6_d8fc93089377row1_col0\" class=\"data row1 col0\" >b- Pamp. Prem</td>\n",
       "                        <td id=\"T_21367b42_47fc_11e9_86b6_d8fc93089377row1_col1\" class=\"data row1 col1\" >13</td>\n",
       "                        <td id=\"T_21367b42_47fc_11e9_86b6_d8fc93089377row1_col2\" class=\"data row1 col2\" >13</td>\n",
       "                        <td id=\"T_21367b42_47fc_11e9_86b6_d8fc93089377row1_col3\" class=\"data row1 col3\" >13</td>\n",
       "            </tr>\n",
       "            <tr>\n",
       "                        <th id=\"T_21367b42_47fc_11e9_86b6_d8fc93089377level0_row2\" class=\"row_heading level0 row2\" >2</th>\n",
       "                        <td id=\"T_21367b42_47fc_11e9_86b6_d8fc93089377row2_col0\" class=\"data row2 col0\" >c- Pamp. Baby</td>\n",
       "                        <td id=\"T_21367b42_47fc_11e9_86b6_d8fc93089377row2_col1\" class=\"data row2 col1\" >12.5</td>\n",
       "                        <td id=\"T_21367b42_47fc_11e9_86b6_d8fc93089377row2_col2\" class=\"data row2 col2\" >13.25</td>\n",
       "                        <td id=\"T_21367b42_47fc_11e9_86b6_d8fc93089377row2_col3\" class=\"data row2 col3\" >12.8</td>\n",
       "            </tr>\n",
       "            <tr>\n",
       "                        <th id=\"T_21367b42_47fc_11e9_86b6_d8fc93089377level0_row3\" class=\"row_heading level0 row3\" >3</th>\n",
       "                        <td id=\"T_21367b42_47fc_11e9_86b6_d8fc93089377row3_col0\" class=\"data row3 col0\" >d- Naty</td>\n",
       "                        <td id=\"T_21367b42_47fc_11e9_86b6_d8fc93089377row3_col1\" class=\"data row3 col1\" >10</td>\n",
       "                        <td id=\"T_21367b42_47fc_11e9_86b6_d8fc93089377row3_col2\" class=\"data row3 col2\" >17</td>\n",
       "                        <td id=\"T_21367b42_47fc_11e9_86b6_d8fc93089377row3_col3\" class=\"data row3 col3\" >12.8</td>\n",
       "            </tr>\n",
       "            <tr>\n",
       "                        <th id=\"T_21367b42_47fc_11e9_86b6_d8fc93089377level0_row4\" class=\"row_heading level0 row4\" >4</th>\n",
       "                        <td id=\"T_21367b42_47fc_11e9_86b6_d8fc93089377row4_col0\" class=\"data row4 col0\" >e- Pamp. Activ.</td>\n",
       "                        <td id=\"T_21367b42_47fc_11e9_86b6_d8fc93089377row4_col1\" class=\"data row4 col1\" >12.5</td>\n",
       "                        <td id=\"T_21367b42_47fc_11e9_86b6_d8fc93089377row4_col2\" class=\"data row4 col2\" >10.75</td>\n",
       "                        <td id=\"T_21367b42_47fc_11e9_86b6_d8fc93089377row4_col3\" class=\"data row4 col3\" >11.8</td>\n",
       "            </tr>\n",
       "            <tr>\n",
       "                        <th id=\"T_21367b42_47fc_11e9_86b6_d8fc93089377level0_row5\" class=\"row_heading level0 row5\" >5</th>\n",
       "                        <td id=\"T_21367b42_47fc_11e9_86b6_d8fc93089377row5_col0\" class=\"data row5 col0\" >f- Carref.Baby</td>\n",
       "                        <td id=\"T_21367b42_47fc_11e9_86b6_d8fc93089377row5_col1\" class=\"data row5 col1\" >13</td>\n",
       "                        <td id=\"T_21367b42_47fc_11e9_86b6_d8fc93089377row5_col2\" class=\"data row5 col2\" >10</td>\n",
       "                        <td id=\"T_21367b42_47fc_11e9_86b6_d8fc93089377row5_col3\" class=\"data row5 col3\" >11.8</td>\n",
       "            </tr>\n",
       "            <tr>\n",
       "                        <th id=\"T_21367b42_47fc_11e9_86b6_d8fc93089377level0_row6\" class=\"row_heading level0 row6\" >6</th>\n",
       "                        <td id=\"T_21367b42_47fc_11e9_86b6_d8fc93089377row6_col0\" class=\"data row6 col0\" >g- Lupilu</td>\n",
       "                        <td id=\"T_21367b42_47fc_11e9_86b6_d8fc93089377row6_col1\" class=\"data row6 col1\" >13.1667</td>\n",
       "                        <td id=\"T_21367b42_47fc_11e9_86b6_d8fc93089377row6_col2\" class=\"data row6 col2\" >7</td>\n",
       "                        <td id=\"T_21367b42_47fc_11e9_86b6_d8fc93089377row6_col3\" class=\"data row6 col3\" >10.7</td>\n",
       "            </tr>\n",
       "            <tr>\n",
       "                        <th id=\"T_21367b42_47fc_11e9_86b6_d8fc93089377level0_row7\" class=\"row_heading level0 row7\" >7</th>\n",
       "                        <td id=\"T_21367b42_47fc_11e9_86b6_d8fc93089377row7_col0\" class=\"data row7 col0\" >h- Mots d’enfants </td>\n",
       "                        <td id=\"T_21367b42_47fc_11e9_86b6_d8fc93089377row7_col1\" class=\"data row7 col1\" >12.5</td>\n",
       "                        <td id=\"T_21367b42_47fc_11e9_86b6_d8fc93089377row7_col2\" class=\"data row7 col2\" >8</td>\n",
       "                        <td id=\"T_21367b42_47fc_11e9_86b6_d8fc93089377row7_col3\" class=\"data row7 col3\" >10.7</td>\n",
       "            </tr>\n",
       "            <tr>\n",
       "                        <th id=\"T_21367b42_47fc_11e9_86b6_d8fc93089377level0_row8\" class=\"row_heading level0 row8\" >8</th>\n",
       "                        <td id=\"T_21367b42_47fc_11e9_86b6_d8fc93089377row8_col0\" class=\"data row8 col0\" >i- Love & Green</td>\n",
       "                        <td id=\"T_21367b42_47fc_11e9_86b6_d8fc93089377row8_col1\" class=\"data row8 col1\" >13</td>\n",
       "                        <td id=\"T_21367b42_47fc_11e9_86b6_d8fc93089377row8_col2\" class=\"data row8 col2\" >7</td>\n",
       "                        <td id=\"T_21367b42_47fc_11e9_86b6_d8fc93089377row8_col3\" class=\"data row8 col3\" >10.6</td>\n",
       "            </tr>\n",
       "            <tr>\n",
       "                        <th id=\"T_21367b42_47fc_11e9_86b6_d8fc93089377level0_row9\" class=\"row_heading level0 row9\" >9</th>\n",
       "                        <td id=\"T_21367b42_47fc_11e9_86b6_d8fc93089377row9_col0\" class=\"data row9 col0\" >j- Lotus Baby</td>\n",
       "                        <td id=\"T_21367b42_47fc_11e9_86b6_d8fc93089377row9_col1\" class=\"data row9 col1\" >13</td>\n",
       "                        <td id=\"T_21367b42_47fc_11e9_86b6_d8fc93089377row9_col2\" class=\"data row9 col2\" >0</td>\n",
       "                        <td id=\"T_21367b42_47fc_11e9_86b6_d8fc93089377row9_col3\" class=\"data row9 col3\" >7.8</td>\n",
       "            </tr>\n",
       "            <tr>\n",
       "                        <th id=\"T_21367b42_47fc_11e9_86b6_d8fc93089377level0_row10\" class=\"row_heading level0 row10\" >10</th>\n",
       "                        <td id=\"T_21367b42_47fc_11e9_86b6_d8fc93089377row10_col0\" class=\"data row10 col0\" >k- Pommette</td>\n",
       "                        <td id=\"T_21367b42_47fc_11e9_86b6_d8fc93089377row10_col1\" class=\"data row10 col1\" >13</td>\n",
       "                        <td id=\"T_21367b42_47fc_11e9_86b6_d8fc93089377row10_col2\" class=\"data row10 col2\" >0</td>\n",
       "                        <td id=\"T_21367b42_47fc_11e9_86b6_d8fc93089377row10_col3\" class=\"data row10 col3\" >7.8</td>\n",
       "            </tr>\n",
       "            <tr>\n",
       "                        <th id=\"T_21367b42_47fc_11e9_86b6_d8fc93089377level0_row11\" class=\"row_heading level0 row11\" >11</th>\n",
       "                        <td id=\"T_21367b42_47fc_11e9_86b6_d8fc93089377row11_col0\" class=\"data row11 col0\" >l- Lillydoo </td>\n",
       "                        <td id=\"T_21367b42_47fc_11e9_86b6_d8fc93089377row11_col1\" class=\"data row11 col1\" >10</td>\n",
       "                        <td id=\"T_21367b42_47fc_11e9_86b6_d8fc93089377row11_col2\" class=\"data row11 col2\" >0</td>\n",
       "                        <td id=\"T_21367b42_47fc_11e9_86b6_d8fc93089377row11_col3\" class=\"data row11 col3\" >6</td>\n",
       "            </tr>\n",
       "    </tbody></table>"
      ]
     },
     "metadata": {},
     "output_type": "display_data"
    }
   ],
   "source": [
    "df1_s = result_original.style.set_table_attributes(\"style='display:inline'\").set_caption('Modèle original')\n",
    "df2_s = result_3_1_max.style.set_table_attributes(\"style='display:inline'\").set_caption(model_name_3)\n",
    "\n",
    "display_html(df1_s._repr_html_()+df2_s._repr_html_(), raw=True)"
   ]
  },
  {
   "cell_type": "markdown",
   "metadata": {},
   "source": [
    "#### Pire score"
   ]
  },
  {
   "cell_type": "code",
   "execution_count": 10,
   "metadata": {},
   "outputs": [],
   "source": [
    "model_name_4 = 'Programme Lineaire - Pire score Joone'\n",
    "result_3_1_min = checkAdditiveModel(csv_name=csv_name,\n",
    "                  model_name=model_name_4,\n",
    "                  eval_expr='y1',\n",
    "                  direction='min',\n",
    "                  update_model=update_model_Q3)"
   ]
  },
  {
   "cell_type": "code",
   "execution_count": 11,
   "metadata": {},
   "outputs": [
    {
     "data": {
      "text/html": [
       "<style  type=\"text/css\" >\n",
       "</style><table id=\"T_21479036_47fc_11e9_a8a8_d8fc93089377\" style='display:inline'><caption>Modèle original</caption><thead>    <tr>        <th class=\"blank level0\" ></th>        <th class=\"col_heading level0 col0\" >Produit</th>        <th class=\"col_heading level0 col1\" >Performance</th>        <th class=\"col_heading level0 col2\" >Composition</th>        <th class=\"col_heading level0 col3\" >Score</th>    </tr></thead><tbody>\n",
       "                <tr>\n",
       "                        <th id=\"T_21479036_47fc_11e9_a8a8_d8fc93089377level0_row0\" class=\"row_heading level0 row0\" >0</th>\n",
       "                        <td id=\"T_21479036_47fc_11e9_a8a8_d8fc93089377row0_col0\" class=\"data row0 col0\" >a- Joone</td>\n",
       "                        <td id=\"T_21479036_47fc_11e9_a8a8_d8fc93089377row0_col1\" class=\"data row0 col1\" >+++</td>\n",
       "                        <td id=\"T_21479036_47fc_11e9_a8a8_d8fc93089377row0_col2\" class=\"data row0 col2\" >+++</td>\n",
       "                        <td id=\"T_21479036_47fc_11e9_a8a8_d8fc93089377row0_col3\" class=\"data row0 col3\" >17</td>\n",
       "            </tr>\n",
       "            <tr>\n",
       "                        <th id=\"T_21479036_47fc_11e9_a8a8_d8fc93089377level0_row1\" class=\"row_heading level0 row1\" >1</th>\n",
       "                        <td id=\"T_21479036_47fc_11e9_a8a8_d8fc93089377row1_col0\" class=\"data row1 col0\" >b- Pamp. Prem</td>\n",
       "                        <td id=\"T_21479036_47fc_11e9_a8a8_d8fc93089377row1_col1\" class=\"data row1 col1\" >++</td>\n",
       "                        <td id=\"T_21479036_47fc_11e9_a8a8_d8fc93089377row1_col2\" class=\"data row1 col2\" >++</td>\n",
       "                        <td id=\"T_21479036_47fc_11e9_a8a8_d8fc93089377row1_col3\" class=\"data row1 col3\" >14.5</td>\n",
       "            </tr>\n",
       "            <tr>\n",
       "                        <th id=\"T_21479036_47fc_11e9_a8a8_d8fc93089377level0_row2\" class=\"row_heading level0 row2\" >2</th>\n",
       "                        <td id=\"T_21479036_47fc_11e9_a8a8_d8fc93089377row2_col0\" class=\"data row2 col0\" >c- Pamp. Baby</td>\n",
       "                        <td id=\"T_21479036_47fc_11e9_a8a8_d8fc93089377row2_col1\" class=\"data row2 col1\" >+</td>\n",
       "                        <td id=\"T_21479036_47fc_11e9_a8a8_d8fc93089377row2_col2\" class=\"data row2 col2\" >+++</td>\n",
       "                        <td id=\"T_21479036_47fc_11e9_a8a8_d8fc93089377row2_col3\" class=\"data row2 col3\" >12.5</td>\n",
       "            </tr>\n",
       "            <tr>\n",
       "                        <th id=\"T_21479036_47fc_11e9_a8a8_d8fc93089377level0_row3\" class=\"row_heading level0 row3\" >3</th>\n",
       "                        <td id=\"T_21479036_47fc_11e9_a8a8_d8fc93089377row3_col0\" class=\"data row3 col0\" >d- Naty</td>\n",
       "                        <td id=\"T_21479036_47fc_11e9_a8a8_d8fc93089377row3_col1\" class=\"data row3 col1\" >+</td>\n",
       "                        <td id=\"T_21479036_47fc_11e9_a8a8_d8fc93089377row3_col2\" class=\"data row3 col2\" >+++</td>\n",
       "                        <td id=\"T_21479036_47fc_11e9_a8a8_d8fc93089377row3_col3\" class=\"data row3 col3\" >12.5</td>\n",
       "            </tr>\n",
       "            <tr>\n",
       "                        <th id=\"T_21479036_47fc_11e9_a8a8_d8fc93089377level0_row4\" class=\"row_heading level0 row4\" >4</th>\n",
       "                        <td id=\"T_21479036_47fc_11e9_a8a8_d8fc93089377row4_col0\" class=\"data row4 col0\" >e- Pamp. Activ.</td>\n",
       "                        <td id=\"T_21479036_47fc_11e9_a8a8_d8fc93089377row4_col1\" class=\"data row4 col1\" >+</td>\n",
       "                        <td id=\"T_21479036_47fc_11e9_a8a8_d8fc93089377row4_col2\" class=\"data row4 col2\" >+</td>\n",
       "                        <td id=\"T_21479036_47fc_11e9_a8a8_d8fc93089377row4_col3\" class=\"data row4 col3\" >12.5</td>\n",
       "            </tr>\n",
       "            <tr>\n",
       "                        <th id=\"T_21479036_47fc_11e9_a8a8_d8fc93089377level0_row5\" class=\"row_heading level0 row5\" >5</th>\n",
       "                        <td id=\"T_21479036_47fc_11e9_a8a8_d8fc93089377row5_col0\" class=\"data row5 col0\" >f- Carref.Baby</td>\n",
       "                        <td id=\"T_21479036_47fc_11e9_a8a8_d8fc93089377row5_col1\" class=\"data row5 col1\" >++</td>\n",
       "                        <td id=\"T_21479036_47fc_11e9_a8a8_d8fc93089377row5_col2\" class=\"data row5 col2\" >+</td>\n",
       "                        <td id=\"T_21479036_47fc_11e9_a8a8_d8fc93089377row5_col3\" class=\"data row5 col3\" >12.5</td>\n",
       "            </tr>\n",
       "            <tr>\n",
       "                        <th id=\"T_21479036_47fc_11e9_a8a8_d8fc93089377level0_row6\" class=\"row_heading level0 row6\" >6</th>\n",
       "                        <td id=\"T_21479036_47fc_11e9_a8a8_d8fc93089377row6_col0\" class=\"data row6 col0\" >g- Lupilu</td>\n",
       "                        <td id=\"T_21479036_47fc_11e9_a8a8_d8fc93089377row6_col1\" class=\"data row6 col1\" >++</td>\n",
       "                        <td id=\"T_21479036_47fc_11e9_a8a8_d8fc93089377row6_col2\" class=\"data row6 col2\" >-</td>\n",
       "                        <td id=\"T_21479036_47fc_11e9_a8a8_d8fc93089377row6_col3\" class=\"data row6 col3\" >12</td>\n",
       "            </tr>\n",
       "            <tr>\n",
       "                        <th id=\"T_21479036_47fc_11e9_a8a8_d8fc93089377level0_row7\" class=\"row_heading level0 row7\" >7</th>\n",
       "                        <td id=\"T_21479036_47fc_11e9_a8a8_d8fc93089377row7_col0\" class=\"data row7 col0\" >h- Mots d’enfants </td>\n",
       "                        <td id=\"T_21479036_47fc_11e9_a8a8_d8fc93089377row7_col1\" class=\"data row7 col1\" >+</td>\n",
       "                        <td id=\"T_21479036_47fc_11e9_a8a8_d8fc93089377row7_col2\" class=\"data row7 col2\" >-</td>\n",
       "                        <td id=\"T_21479036_47fc_11e9_a8a8_d8fc93089377row7_col3\" class=\"data row7 col3\" >12</td>\n",
       "            </tr>\n",
       "            <tr>\n",
       "                        <th id=\"T_21479036_47fc_11e9_a8a8_d8fc93089377level0_row8\" class=\"row_heading level0 row8\" >8</th>\n",
       "                        <td id=\"T_21479036_47fc_11e9_a8a8_d8fc93089377row8_col0\" class=\"data row8 col0\" >i- Love & Green</td>\n",
       "                        <td id=\"T_21479036_47fc_11e9_a8a8_d8fc93089377row8_col1\" class=\"data row8 col1\" >++</td>\n",
       "                        <td id=\"T_21479036_47fc_11e9_a8a8_d8fc93089377row8_col2\" class=\"data row8 col2\" >-</td>\n",
       "                        <td id=\"T_21479036_47fc_11e9_a8a8_d8fc93089377row8_col3\" class=\"data row8 col3\" >9.5</td>\n",
       "            </tr>\n",
       "            <tr>\n",
       "                        <th id=\"T_21479036_47fc_11e9_a8a8_d8fc93089377level0_row9\" class=\"row_heading level0 row9\" >9</th>\n",
       "                        <td id=\"T_21479036_47fc_11e9_a8a8_d8fc93089377row9_col0\" class=\"data row9 col0\" >j- Lotus Baby</td>\n",
       "                        <td id=\"T_21479036_47fc_11e9_a8a8_d8fc93089377row9_col1\" class=\"data row9 col1\" >++</td>\n",
       "                        <td id=\"T_21479036_47fc_11e9_a8a8_d8fc93089377row9_col2\" class=\"data row9 col2\" >--</td>\n",
       "                        <td id=\"T_21479036_47fc_11e9_a8a8_d8fc93089377row9_col3\" class=\"data row9 col3\" >9.5</td>\n",
       "            </tr>\n",
       "            <tr>\n",
       "                        <th id=\"T_21479036_47fc_11e9_a8a8_d8fc93089377level0_row10\" class=\"row_heading level0 row10\" >10</th>\n",
       "                        <td id=\"T_21479036_47fc_11e9_a8a8_d8fc93089377row10_col0\" class=\"data row10 col0\" >k- Pommette</td>\n",
       "                        <td id=\"T_21479036_47fc_11e9_a8a8_d8fc93089377row10_col1\" class=\"data row10 col1\" >++</td>\n",
       "                        <td id=\"T_21479036_47fc_11e9_a8a8_d8fc93089377row10_col2\" class=\"data row10 col2\" >--</td>\n",
       "                        <td id=\"T_21479036_47fc_11e9_a8a8_d8fc93089377row10_col3\" class=\"data row10 col3\" >9.5</td>\n",
       "            </tr>\n",
       "            <tr>\n",
       "                        <th id=\"T_21479036_47fc_11e9_a8a8_d8fc93089377level0_row11\" class=\"row_heading level0 row11\" >11</th>\n",
       "                        <td id=\"T_21479036_47fc_11e9_a8a8_d8fc93089377row11_col0\" class=\"data row11 col0\" >l- Lillydoo </td>\n",
       "                        <td id=\"T_21479036_47fc_11e9_a8a8_d8fc93089377row11_col1\" class=\"data row11 col1\" >+</td>\n",
       "                        <td id=\"T_21479036_47fc_11e9_a8a8_d8fc93089377row11_col2\" class=\"data row11 col2\" >--</td>\n",
       "                        <td id=\"T_21479036_47fc_11e9_a8a8_d8fc93089377row11_col3\" class=\"data row11 col3\" >6.5</td>\n",
       "            </tr>\n",
       "    </tbody></table><style  type=\"text/css\" >\n",
       "</style><table id=\"T_2147de4c_47fc_11e9_8dca_d8fc93089377\" style='display:inline'><caption>Programme Lineaire - Pire score Joone</caption><thead>    <tr>        <th class=\"blank level0\" ></th>        <th class=\"col_heading level0 col0\" >Produit</th>        <th class=\"col_heading level0 col1\" >Performance</th>        <th class=\"col_heading level0 col2\" >Composition</th>        <th class=\"col_heading level0 col3\" >Score</th>    </tr></thead><tbody>\n",
       "                <tr>\n",
       "                        <th id=\"T_2147de4c_47fc_11e9_8dca_d8fc93089377level0_row0\" class=\"row_heading level0 row0\" >0</th>\n",
       "                        <td id=\"T_2147de4c_47fc_11e9_8dca_d8fc93089377row0_col0\" class=\"data row0 col0\" >a- Joone</td>\n",
       "                        <td id=\"T_2147de4c_47fc_11e9_8dca_d8fc93089377row0_col1\" class=\"data row0 col1\" >17</td>\n",
       "                        <td id=\"T_2147de4c_47fc_11e9_8dca_d8fc93089377row0_col2\" class=\"data row0 col2\" >17</td>\n",
       "                        <td id=\"T_2147de4c_47fc_11e9_8dca_d8fc93089377row0_col3\" class=\"data row0 col3\" >17</td>\n",
       "            </tr>\n",
       "            <tr>\n",
       "                        <th id=\"T_2147de4c_47fc_11e9_8dca_d8fc93089377level0_row1\" class=\"row_heading level0 row1\" >1</th>\n",
       "                        <td id=\"T_2147de4c_47fc_11e9_8dca_d8fc93089377row1_col0\" class=\"data row1 col0\" >b- Pamp. Prem</td>\n",
       "                        <td id=\"T_2147de4c_47fc_11e9_8dca_d8fc93089377row1_col1\" class=\"data row1 col1\" >13</td>\n",
       "                        <td id=\"T_2147de4c_47fc_11e9_8dca_d8fc93089377row1_col2\" class=\"data row1 col2\" >13</td>\n",
       "                        <td id=\"T_2147de4c_47fc_11e9_8dca_d8fc93089377row1_col3\" class=\"data row1 col3\" >13</td>\n",
       "            </tr>\n",
       "            <tr>\n",
       "                        <th id=\"T_2147de4c_47fc_11e9_8dca_d8fc93089377level0_row2\" class=\"row_heading level0 row2\" >2</th>\n",
       "                        <td id=\"T_2147de4c_47fc_11e9_8dca_d8fc93089377row2_col0\" class=\"data row2 col0\" >c- Pamp. Baby</td>\n",
       "                        <td id=\"T_2147de4c_47fc_11e9_8dca_d8fc93089377row2_col1\" class=\"data row2 col1\" >12.5</td>\n",
       "                        <td id=\"T_2147de4c_47fc_11e9_8dca_d8fc93089377row2_col2\" class=\"data row2 col2\" >13.25</td>\n",
       "                        <td id=\"T_2147de4c_47fc_11e9_8dca_d8fc93089377row2_col3\" class=\"data row2 col3\" >12.8</td>\n",
       "            </tr>\n",
       "            <tr>\n",
       "                        <th id=\"T_2147de4c_47fc_11e9_8dca_d8fc93089377level0_row3\" class=\"row_heading level0 row3\" >3</th>\n",
       "                        <td id=\"T_2147de4c_47fc_11e9_8dca_d8fc93089377row3_col0\" class=\"data row3 col0\" >d- Naty</td>\n",
       "                        <td id=\"T_2147de4c_47fc_11e9_8dca_d8fc93089377row3_col1\" class=\"data row3 col1\" >10</td>\n",
       "                        <td id=\"T_2147de4c_47fc_11e9_8dca_d8fc93089377row3_col2\" class=\"data row3 col2\" >17</td>\n",
       "                        <td id=\"T_2147de4c_47fc_11e9_8dca_d8fc93089377row3_col3\" class=\"data row3 col3\" >12.8</td>\n",
       "            </tr>\n",
       "            <tr>\n",
       "                        <th id=\"T_2147de4c_47fc_11e9_8dca_d8fc93089377level0_row4\" class=\"row_heading level0 row4\" >4</th>\n",
       "                        <td id=\"T_2147de4c_47fc_11e9_8dca_d8fc93089377row4_col0\" class=\"data row4 col0\" >e- Pamp. Activ.</td>\n",
       "                        <td id=\"T_2147de4c_47fc_11e9_8dca_d8fc93089377row4_col1\" class=\"data row4 col1\" >12.5</td>\n",
       "                        <td id=\"T_2147de4c_47fc_11e9_8dca_d8fc93089377row4_col2\" class=\"data row4 col2\" >10.75</td>\n",
       "                        <td id=\"T_2147de4c_47fc_11e9_8dca_d8fc93089377row4_col3\" class=\"data row4 col3\" >11.8</td>\n",
       "            </tr>\n",
       "            <tr>\n",
       "                        <th id=\"T_2147de4c_47fc_11e9_8dca_d8fc93089377level0_row5\" class=\"row_heading level0 row5\" >5</th>\n",
       "                        <td id=\"T_2147de4c_47fc_11e9_8dca_d8fc93089377row5_col0\" class=\"data row5 col0\" >f- Carref.Baby</td>\n",
       "                        <td id=\"T_2147de4c_47fc_11e9_8dca_d8fc93089377row5_col1\" class=\"data row5 col1\" >13</td>\n",
       "                        <td id=\"T_2147de4c_47fc_11e9_8dca_d8fc93089377row5_col2\" class=\"data row5 col2\" >10</td>\n",
       "                        <td id=\"T_2147de4c_47fc_11e9_8dca_d8fc93089377row5_col3\" class=\"data row5 col3\" >11.8</td>\n",
       "            </tr>\n",
       "            <tr>\n",
       "                        <th id=\"T_2147de4c_47fc_11e9_8dca_d8fc93089377level0_row6\" class=\"row_heading level0 row6\" >6</th>\n",
       "                        <td id=\"T_2147de4c_47fc_11e9_8dca_d8fc93089377row6_col0\" class=\"data row6 col0\" >g- Lupilu</td>\n",
       "                        <td id=\"T_2147de4c_47fc_11e9_8dca_d8fc93089377row6_col1\" class=\"data row6 col1\" >13.1667</td>\n",
       "                        <td id=\"T_2147de4c_47fc_11e9_8dca_d8fc93089377row6_col2\" class=\"data row6 col2\" >7</td>\n",
       "                        <td id=\"T_2147de4c_47fc_11e9_8dca_d8fc93089377row6_col3\" class=\"data row6 col3\" >10.7</td>\n",
       "            </tr>\n",
       "            <tr>\n",
       "                        <th id=\"T_2147de4c_47fc_11e9_8dca_d8fc93089377level0_row7\" class=\"row_heading level0 row7\" >7</th>\n",
       "                        <td id=\"T_2147de4c_47fc_11e9_8dca_d8fc93089377row7_col0\" class=\"data row7 col0\" >h- Mots d’enfants </td>\n",
       "                        <td id=\"T_2147de4c_47fc_11e9_8dca_d8fc93089377row7_col1\" class=\"data row7 col1\" >12.5</td>\n",
       "                        <td id=\"T_2147de4c_47fc_11e9_8dca_d8fc93089377row7_col2\" class=\"data row7 col2\" >8</td>\n",
       "                        <td id=\"T_2147de4c_47fc_11e9_8dca_d8fc93089377row7_col3\" class=\"data row7 col3\" >10.7</td>\n",
       "            </tr>\n",
       "            <tr>\n",
       "                        <th id=\"T_2147de4c_47fc_11e9_8dca_d8fc93089377level0_row8\" class=\"row_heading level0 row8\" >8</th>\n",
       "                        <td id=\"T_2147de4c_47fc_11e9_8dca_d8fc93089377row8_col0\" class=\"data row8 col0\" >i- Love & Green</td>\n",
       "                        <td id=\"T_2147de4c_47fc_11e9_8dca_d8fc93089377row8_col1\" class=\"data row8 col1\" >13</td>\n",
       "                        <td id=\"T_2147de4c_47fc_11e9_8dca_d8fc93089377row8_col2\" class=\"data row8 col2\" >7</td>\n",
       "                        <td id=\"T_2147de4c_47fc_11e9_8dca_d8fc93089377row8_col3\" class=\"data row8 col3\" >10.6</td>\n",
       "            </tr>\n",
       "            <tr>\n",
       "                        <th id=\"T_2147de4c_47fc_11e9_8dca_d8fc93089377level0_row9\" class=\"row_heading level0 row9\" >9</th>\n",
       "                        <td id=\"T_2147de4c_47fc_11e9_8dca_d8fc93089377row9_col0\" class=\"data row9 col0\" >j- Lotus Baby</td>\n",
       "                        <td id=\"T_2147de4c_47fc_11e9_8dca_d8fc93089377row9_col1\" class=\"data row9 col1\" >13</td>\n",
       "                        <td id=\"T_2147de4c_47fc_11e9_8dca_d8fc93089377row9_col2\" class=\"data row9 col2\" >0</td>\n",
       "                        <td id=\"T_2147de4c_47fc_11e9_8dca_d8fc93089377row9_col3\" class=\"data row9 col3\" >7.8</td>\n",
       "            </tr>\n",
       "            <tr>\n",
       "                        <th id=\"T_2147de4c_47fc_11e9_8dca_d8fc93089377level0_row10\" class=\"row_heading level0 row10\" >10</th>\n",
       "                        <td id=\"T_2147de4c_47fc_11e9_8dca_d8fc93089377row10_col0\" class=\"data row10 col0\" >k- Pommette</td>\n",
       "                        <td id=\"T_2147de4c_47fc_11e9_8dca_d8fc93089377row10_col1\" class=\"data row10 col1\" >13</td>\n",
       "                        <td id=\"T_2147de4c_47fc_11e9_8dca_d8fc93089377row10_col2\" class=\"data row10 col2\" >0</td>\n",
       "                        <td id=\"T_2147de4c_47fc_11e9_8dca_d8fc93089377row10_col3\" class=\"data row10 col3\" >7.8</td>\n",
       "            </tr>\n",
       "            <tr>\n",
       "                        <th id=\"T_2147de4c_47fc_11e9_8dca_d8fc93089377level0_row11\" class=\"row_heading level0 row11\" >11</th>\n",
       "                        <td id=\"T_2147de4c_47fc_11e9_8dca_d8fc93089377row11_col0\" class=\"data row11 col0\" >l- Lillydoo </td>\n",
       "                        <td id=\"T_2147de4c_47fc_11e9_8dca_d8fc93089377row11_col1\" class=\"data row11 col1\" >10</td>\n",
       "                        <td id=\"T_2147de4c_47fc_11e9_8dca_d8fc93089377row11_col2\" class=\"data row11 col2\" >0</td>\n",
       "                        <td id=\"T_2147de4c_47fc_11e9_8dca_d8fc93089377row11_col3\" class=\"data row11 col3\" >6</td>\n",
       "            </tr>\n",
       "    </tbody></table>"
      ]
     },
     "metadata": {},
     "output_type": "display_data"
    }
   ],
   "source": [
    "df2_s = result_3_1_min.style.set_table_attributes(\"style='display:inline'\").set_caption(model_name_4)\n",
    "display_html(df1_s._repr_html_()+df2_s._repr_html_(), raw=True)"
   ]
  },
  {
   "cell_type": "markdown",
   "metadata": {},
   "source": [
    "#### Commentaires"
   ]
  },
  {
   "cell_type": "markdown",
   "metadata": {},
   "source": [
    "## 1.3.2 Le meilleur et le pire score global obtenu par le produit “Lillydoo”"
   ]
  },
  {
   "cell_type": "markdown",
   "metadata": {},
   "source": [
    "#### Meilleur score"
   ]
  },
  {
   "cell_type": "code",
   "execution_count": 12,
   "metadata": {},
   "outputs": [],
   "source": [
    "model_name_5 = 'Programme Lineaire - Meilleur score Lillydoo'\n",
    "result_3_2_max = checkAdditiveModel(csv_name=csv_name,\n",
    "                  model_name=model_name_5,\n",
    "                  eval_expr='y12',\n",
    "                  direction='max',\n",
    "                  update_model=update_model_Q3)"
   ]
  },
  {
   "cell_type": "code",
   "execution_count": 13,
   "metadata": {},
   "outputs": [
    {
     "data": {
      "text/html": [
       "<style  type=\"text/css\" >\n",
       "</style><table id=\"T_215a0410_47fc_11e9_b316_d8fc93089377\" style='display:inline'><caption>Modèle original</caption><thead>    <tr>        <th class=\"blank level0\" ></th>        <th class=\"col_heading level0 col0\" >Produit</th>        <th class=\"col_heading level0 col1\" >Performance</th>        <th class=\"col_heading level0 col2\" >Composition</th>        <th class=\"col_heading level0 col3\" >Score</th>    </tr></thead><tbody>\n",
       "                <tr>\n",
       "                        <th id=\"T_215a0410_47fc_11e9_b316_d8fc93089377level0_row0\" class=\"row_heading level0 row0\" >0</th>\n",
       "                        <td id=\"T_215a0410_47fc_11e9_b316_d8fc93089377row0_col0\" class=\"data row0 col0\" >a- Joone</td>\n",
       "                        <td id=\"T_215a0410_47fc_11e9_b316_d8fc93089377row0_col1\" class=\"data row0 col1\" >+++</td>\n",
       "                        <td id=\"T_215a0410_47fc_11e9_b316_d8fc93089377row0_col2\" class=\"data row0 col2\" >+++</td>\n",
       "                        <td id=\"T_215a0410_47fc_11e9_b316_d8fc93089377row0_col3\" class=\"data row0 col3\" >17</td>\n",
       "            </tr>\n",
       "            <tr>\n",
       "                        <th id=\"T_215a0410_47fc_11e9_b316_d8fc93089377level0_row1\" class=\"row_heading level0 row1\" >1</th>\n",
       "                        <td id=\"T_215a0410_47fc_11e9_b316_d8fc93089377row1_col0\" class=\"data row1 col0\" >b- Pamp. Prem</td>\n",
       "                        <td id=\"T_215a0410_47fc_11e9_b316_d8fc93089377row1_col1\" class=\"data row1 col1\" >++</td>\n",
       "                        <td id=\"T_215a0410_47fc_11e9_b316_d8fc93089377row1_col2\" class=\"data row1 col2\" >++</td>\n",
       "                        <td id=\"T_215a0410_47fc_11e9_b316_d8fc93089377row1_col3\" class=\"data row1 col3\" >14.5</td>\n",
       "            </tr>\n",
       "            <tr>\n",
       "                        <th id=\"T_215a0410_47fc_11e9_b316_d8fc93089377level0_row2\" class=\"row_heading level0 row2\" >2</th>\n",
       "                        <td id=\"T_215a0410_47fc_11e9_b316_d8fc93089377row2_col0\" class=\"data row2 col0\" >c- Pamp. Baby</td>\n",
       "                        <td id=\"T_215a0410_47fc_11e9_b316_d8fc93089377row2_col1\" class=\"data row2 col1\" >+</td>\n",
       "                        <td id=\"T_215a0410_47fc_11e9_b316_d8fc93089377row2_col2\" class=\"data row2 col2\" >+++</td>\n",
       "                        <td id=\"T_215a0410_47fc_11e9_b316_d8fc93089377row2_col3\" class=\"data row2 col3\" >12.5</td>\n",
       "            </tr>\n",
       "            <tr>\n",
       "                        <th id=\"T_215a0410_47fc_11e9_b316_d8fc93089377level0_row3\" class=\"row_heading level0 row3\" >3</th>\n",
       "                        <td id=\"T_215a0410_47fc_11e9_b316_d8fc93089377row3_col0\" class=\"data row3 col0\" >d- Naty</td>\n",
       "                        <td id=\"T_215a0410_47fc_11e9_b316_d8fc93089377row3_col1\" class=\"data row3 col1\" >+</td>\n",
       "                        <td id=\"T_215a0410_47fc_11e9_b316_d8fc93089377row3_col2\" class=\"data row3 col2\" >+++</td>\n",
       "                        <td id=\"T_215a0410_47fc_11e9_b316_d8fc93089377row3_col3\" class=\"data row3 col3\" >12.5</td>\n",
       "            </tr>\n",
       "            <tr>\n",
       "                        <th id=\"T_215a0410_47fc_11e9_b316_d8fc93089377level0_row4\" class=\"row_heading level0 row4\" >4</th>\n",
       "                        <td id=\"T_215a0410_47fc_11e9_b316_d8fc93089377row4_col0\" class=\"data row4 col0\" >e- Pamp. Activ.</td>\n",
       "                        <td id=\"T_215a0410_47fc_11e9_b316_d8fc93089377row4_col1\" class=\"data row4 col1\" >+</td>\n",
       "                        <td id=\"T_215a0410_47fc_11e9_b316_d8fc93089377row4_col2\" class=\"data row4 col2\" >+</td>\n",
       "                        <td id=\"T_215a0410_47fc_11e9_b316_d8fc93089377row4_col3\" class=\"data row4 col3\" >12.5</td>\n",
       "            </tr>\n",
       "            <tr>\n",
       "                        <th id=\"T_215a0410_47fc_11e9_b316_d8fc93089377level0_row5\" class=\"row_heading level0 row5\" >5</th>\n",
       "                        <td id=\"T_215a0410_47fc_11e9_b316_d8fc93089377row5_col0\" class=\"data row5 col0\" >f- Carref.Baby</td>\n",
       "                        <td id=\"T_215a0410_47fc_11e9_b316_d8fc93089377row5_col1\" class=\"data row5 col1\" >++</td>\n",
       "                        <td id=\"T_215a0410_47fc_11e9_b316_d8fc93089377row5_col2\" class=\"data row5 col2\" >+</td>\n",
       "                        <td id=\"T_215a0410_47fc_11e9_b316_d8fc93089377row5_col3\" class=\"data row5 col3\" >12.5</td>\n",
       "            </tr>\n",
       "            <tr>\n",
       "                        <th id=\"T_215a0410_47fc_11e9_b316_d8fc93089377level0_row6\" class=\"row_heading level0 row6\" >6</th>\n",
       "                        <td id=\"T_215a0410_47fc_11e9_b316_d8fc93089377row6_col0\" class=\"data row6 col0\" >g- Lupilu</td>\n",
       "                        <td id=\"T_215a0410_47fc_11e9_b316_d8fc93089377row6_col1\" class=\"data row6 col1\" >++</td>\n",
       "                        <td id=\"T_215a0410_47fc_11e9_b316_d8fc93089377row6_col2\" class=\"data row6 col2\" >-</td>\n",
       "                        <td id=\"T_215a0410_47fc_11e9_b316_d8fc93089377row6_col3\" class=\"data row6 col3\" >12</td>\n",
       "            </tr>\n",
       "            <tr>\n",
       "                        <th id=\"T_215a0410_47fc_11e9_b316_d8fc93089377level0_row7\" class=\"row_heading level0 row7\" >7</th>\n",
       "                        <td id=\"T_215a0410_47fc_11e9_b316_d8fc93089377row7_col0\" class=\"data row7 col0\" >h- Mots d’enfants </td>\n",
       "                        <td id=\"T_215a0410_47fc_11e9_b316_d8fc93089377row7_col1\" class=\"data row7 col1\" >+</td>\n",
       "                        <td id=\"T_215a0410_47fc_11e9_b316_d8fc93089377row7_col2\" class=\"data row7 col2\" >-</td>\n",
       "                        <td id=\"T_215a0410_47fc_11e9_b316_d8fc93089377row7_col3\" class=\"data row7 col3\" >12</td>\n",
       "            </tr>\n",
       "            <tr>\n",
       "                        <th id=\"T_215a0410_47fc_11e9_b316_d8fc93089377level0_row8\" class=\"row_heading level0 row8\" >8</th>\n",
       "                        <td id=\"T_215a0410_47fc_11e9_b316_d8fc93089377row8_col0\" class=\"data row8 col0\" >i- Love & Green</td>\n",
       "                        <td id=\"T_215a0410_47fc_11e9_b316_d8fc93089377row8_col1\" class=\"data row8 col1\" >++</td>\n",
       "                        <td id=\"T_215a0410_47fc_11e9_b316_d8fc93089377row8_col2\" class=\"data row8 col2\" >-</td>\n",
       "                        <td id=\"T_215a0410_47fc_11e9_b316_d8fc93089377row8_col3\" class=\"data row8 col3\" >9.5</td>\n",
       "            </tr>\n",
       "            <tr>\n",
       "                        <th id=\"T_215a0410_47fc_11e9_b316_d8fc93089377level0_row9\" class=\"row_heading level0 row9\" >9</th>\n",
       "                        <td id=\"T_215a0410_47fc_11e9_b316_d8fc93089377row9_col0\" class=\"data row9 col0\" >j- Lotus Baby</td>\n",
       "                        <td id=\"T_215a0410_47fc_11e9_b316_d8fc93089377row9_col1\" class=\"data row9 col1\" >++</td>\n",
       "                        <td id=\"T_215a0410_47fc_11e9_b316_d8fc93089377row9_col2\" class=\"data row9 col2\" >--</td>\n",
       "                        <td id=\"T_215a0410_47fc_11e9_b316_d8fc93089377row9_col3\" class=\"data row9 col3\" >9.5</td>\n",
       "            </tr>\n",
       "            <tr>\n",
       "                        <th id=\"T_215a0410_47fc_11e9_b316_d8fc93089377level0_row10\" class=\"row_heading level0 row10\" >10</th>\n",
       "                        <td id=\"T_215a0410_47fc_11e9_b316_d8fc93089377row10_col0\" class=\"data row10 col0\" >k- Pommette</td>\n",
       "                        <td id=\"T_215a0410_47fc_11e9_b316_d8fc93089377row10_col1\" class=\"data row10 col1\" >++</td>\n",
       "                        <td id=\"T_215a0410_47fc_11e9_b316_d8fc93089377row10_col2\" class=\"data row10 col2\" >--</td>\n",
       "                        <td id=\"T_215a0410_47fc_11e9_b316_d8fc93089377row10_col3\" class=\"data row10 col3\" >9.5</td>\n",
       "            </tr>\n",
       "            <tr>\n",
       "                        <th id=\"T_215a0410_47fc_11e9_b316_d8fc93089377level0_row11\" class=\"row_heading level0 row11\" >11</th>\n",
       "                        <td id=\"T_215a0410_47fc_11e9_b316_d8fc93089377row11_col0\" class=\"data row11 col0\" >l- Lillydoo </td>\n",
       "                        <td id=\"T_215a0410_47fc_11e9_b316_d8fc93089377row11_col1\" class=\"data row11 col1\" >+</td>\n",
       "                        <td id=\"T_215a0410_47fc_11e9_b316_d8fc93089377row11_col2\" class=\"data row11 col2\" >--</td>\n",
       "                        <td id=\"T_215a0410_47fc_11e9_b316_d8fc93089377row11_col3\" class=\"data row11 col3\" >6.5</td>\n",
       "            </tr>\n",
       "    </tbody></table><style  type=\"text/css\" >\n",
       "</style><table id=\"T_215a7930_47fc_11e9_b034_d8fc93089377\" style='display:inline'><caption>Programme Lineaire - Meilleur score Lillydoo</caption><thead>    <tr>        <th class=\"blank level0\" ></th>        <th class=\"col_heading level0 col0\" >Produit</th>        <th class=\"col_heading level0 col1\" >Performance</th>        <th class=\"col_heading level0 col2\" >Composition</th>        <th class=\"col_heading level0 col3\" >Score</th>    </tr></thead><tbody>\n",
       "                <tr>\n",
       "                        <th id=\"T_215a7930_47fc_11e9_b034_d8fc93089377level0_row0\" class=\"row_heading level0 row0\" >0</th>\n",
       "                        <td id=\"T_215a7930_47fc_11e9_b034_d8fc93089377row0_col0\" class=\"data row0 col0\" >a- Joone</td>\n",
       "                        <td id=\"T_215a7930_47fc_11e9_b034_d8fc93089377row0_col1\" class=\"data row0 col1\" >17</td>\n",
       "                        <td id=\"T_215a7930_47fc_11e9_b034_d8fc93089377row0_col2\" class=\"data row0 col2\" >17</td>\n",
       "                        <td id=\"T_215a7930_47fc_11e9_b034_d8fc93089377row0_col3\" class=\"data row0 col3\" >17</td>\n",
       "            </tr>\n",
       "            <tr>\n",
       "                        <th id=\"T_215a7930_47fc_11e9_b034_d8fc93089377level0_row1\" class=\"row_heading level0 row1\" >1</th>\n",
       "                        <td id=\"T_215a7930_47fc_11e9_b034_d8fc93089377row1_col0\" class=\"data row1 col0\" >b- Pamp. Prem</td>\n",
       "                        <td id=\"T_215a7930_47fc_11e9_b034_d8fc93089377row1_col1\" class=\"data row1 col1\" >13</td>\n",
       "                        <td id=\"T_215a7930_47fc_11e9_b034_d8fc93089377row1_col2\" class=\"data row1 col2\" >13</td>\n",
       "                        <td id=\"T_215a7930_47fc_11e9_b034_d8fc93089377row1_col3\" class=\"data row1 col3\" >13</td>\n",
       "            </tr>\n",
       "            <tr>\n",
       "                        <th id=\"T_215a7930_47fc_11e9_b034_d8fc93089377level0_row2\" class=\"row_heading level0 row2\" >2</th>\n",
       "                        <td id=\"T_215a7930_47fc_11e9_b034_d8fc93089377row2_col0\" class=\"data row2 col0\" >c- Pamp. Baby</td>\n",
       "                        <td id=\"T_215a7930_47fc_11e9_b034_d8fc93089377row2_col1\" class=\"data row2 col1\" >12.5</td>\n",
       "                        <td id=\"T_215a7930_47fc_11e9_b034_d8fc93089377row2_col2\" class=\"data row2 col2\" >13.25</td>\n",
       "                        <td id=\"T_215a7930_47fc_11e9_b034_d8fc93089377row2_col3\" class=\"data row2 col3\" >12.8</td>\n",
       "            </tr>\n",
       "            <tr>\n",
       "                        <th id=\"T_215a7930_47fc_11e9_b034_d8fc93089377level0_row3\" class=\"row_heading level0 row3\" >3</th>\n",
       "                        <td id=\"T_215a7930_47fc_11e9_b034_d8fc93089377row3_col0\" class=\"data row3 col0\" >d- Naty</td>\n",
       "                        <td id=\"T_215a7930_47fc_11e9_b034_d8fc93089377row3_col1\" class=\"data row3 col1\" >10</td>\n",
       "                        <td id=\"T_215a7930_47fc_11e9_b034_d8fc93089377row3_col2\" class=\"data row3 col2\" >17</td>\n",
       "                        <td id=\"T_215a7930_47fc_11e9_b034_d8fc93089377row3_col3\" class=\"data row3 col3\" >12.8</td>\n",
       "            </tr>\n",
       "            <tr>\n",
       "                        <th id=\"T_215a7930_47fc_11e9_b034_d8fc93089377level0_row4\" class=\"row_heading level0 row4\" >4</th>\n",
       "                        <td id=\"T_215a7930_47fc_11e9_b034_d8fc93089377row4_col0\" class=\"data row4 col0\" >e- Pamp. Activ.</td>\n",
       "                        <td id=\"T_215a7930_47fc_11e9_b034_d8fc93089377row4_col1\" class=\"data row4 col1\" >12.5</td>\n",
       "                        <td id=\"T_215a7930_47fc_11e9_b034_d8fc93089377row4_col2\" class=\"data row4 col2\" >10.75</td>\n",
       "                        <td id=\"T_215a7930_47fc_11e9_b034_d8fc93089377row4_col3\" class=\"data row4 col3\" >11.8</td>\n",
       "            </tr>\n",
       "            <tr>\n",
       "                        <th id=\"T_215a7930_47fc_11e9_b034_d8fc93089377level0_row5\" class=\"row_heading level0 row5\" >5</th>\n",
       "                        <td id=\"T_215a7930_47fc_11e9_b034_d8fc93089377row5_col0\" class=\"data row5 col0\" >f- Carref.Baby</td>\n",
       "                        <td id=\"T_215a7930_47fc_11e9_b034_d8fc93089377row5_col1\" class=\"data row5 col1\" >13</td>\n",
       "                        <td id=\"T_215a7930_47fc_11e9_b034_d8fc93089377row5_col2\" class=\"data row5 col2\" >10</td>\n",
       "                        <td id=\"T_215a7930_47fc_11e9_b034_d8fc93089377row5_col3\" class=\"data row5 col3\" >11.8</td>\n",
       "            </tr>\n",
       "            <tr>\n",
       "                        <th id=\"T_215a7930_47fc_11e9_b034_d8fc93089377level0_row6\" class=\"row_heading level0 row6\" >6</th>\n",
       "                        <td id=\"T_215a7930_47fc_11e9_b034_d8fc93089377row6_col0\" class=\"data row6 col0\" >g- Lupilu</td>\n",
       "                        <td id=\"T_215a7930_47fc_11e9_b034_d8fc93089377row6_col1\" class=\"data row6 col1\" >13.1667</td>\n",
       "                        <td id=\"T_215a7930_47fc_11e9_b034_d8fc93089377row6_col2\" class=\"data row6 col2\" >7</td>\n",
       "                        <td id=\"T_215a7930_47fc_11e9_b034_d8fc93089377row6_col3\" class=\"data row6 col3\" >10.7</td>\n",
       "            </tr>\n",
       "            <tr>\n",
       "                        <th id=\"T_215a7930_47fc_11e9_b034_d8fc93089377level0_row7\" class=\"row_heading level0 row7\" >7</th>\n",
       "                        <td id=\"T_215a7930_47fc_11e9_b034_d8fc93089377row7_col0\" class=\"data row7 col0\" >h- Mots d’enfants </td>\n",
       "                        <td id=\"T_215a7930_47fc_11e9_b034_d8fc93089377row7_col1\" class=\"data row7 col1\" >12.5</td>\n",
       "                        <td id=\"T_215a7930_47fc_11e9_b034_d8fc93089377row7_col2\" class=\"data row7 col2\" >8</td>\n",
       "                        <td id=\"T_215a7930_47fc_11e9_b034_d8fc93089377row7_col3\" class=\"data row7 col3\" >10.7</td>\n",
       "            </tr>\n",
       "            <tr>\n",
       "                        <th id=\"T_215a7930_47fc_11e9_b034_d8fc93089377level0_row8\" class=\"row_heading level0 row8\" >8</th>\n",
       "                        <td id=\"T_215a7930_47fc_11e9_b034_d8fc93089377row8_col0\" class=\"data row8 col0\" >i- Love & Green</td>\n",
       "                        <td id=\"T_215a7930_47fc_11e9_b034_d8fc93089377row8_col1\" class=\"data row8 col1\" >13</td>\n",
       "                        <td id=\"T_215a7930_47fc_11e9_b034_d8fc93089377row8_col2\" class=\"data row8 col2\" >7</td>\n",
       "                        <td id=\"T_215a7930_47fc_11e9_b034_d8fc93089377row8_col3\" class=\"data row8 col3\" >10.6</td>\n",
       "            </tr>\n",
       "            <tr>\n",
       "                        <th id=\"T_215a7930_47fc_11e9_b034_d8fc93089377level0_row9\" class=\"row_heading level0 row9\" >9</th>\n",
       "                        <td id=\"T_215a7930_47fc_11e9_b034_d8fc93089377row9_col0\" class=\"data row9 col0\" >j- Lotus Baby</td>\n",
       "                        <td id=\"T_215a7930_47fc_11e9_b034_d8fc93089377row9_col1\" class=\"data row9 col1\" >16.5</td>\n",
       "                        <td id=\"T_215a7930_47fc_11e9_b034_d8fc93089377row9_col2\" class=\"data row9 col2\" >0.75</td>\n",
       "                        <td id=\"T_215a7930_47fc_11e9_b034_d8fc93089377row9_col3\" class=\"data row9 col3\" >10.2</td>\n",
       "            </tr>\n",
       "            <tr>\n",
       "                        <th id=\"T_215a7930_47fc_11e9_b034_d8fc93089377level0_row10\" class=\"row_heading level0 row10\" >10</th>\n",
       "                        <td id=\"T_215a7930_47fc_11e9_b034_d8fc93089377row10_col0\" class=\"data row10 col0\" >k- Pommette</td>\n",
       "                        <td id=\"T_215a7930_47fc_11e9_b034_d8fc93089377row10_col1\" class=\"data row10 col1\" >16.5</td>\n",
       "                        <td id=\"T_215a7930_47fc_11e9_b034_d8fc93089377row10_col2\" class=\"data row10 col2\" >0.75</td>\n",
       "                        <td id=\"T_215a7930_47fc_11e9_b034_d8fc93089377row10_col3\" class=\"data row10 col3\" >10.2</td>\n",
       "            </tr>\n",
       "            <tr>\n",
       "                        <th id=\"T_215a7930_47fc_11e9_b034_d8fc93089377level0_row11\" class=\"row_heading level0 row11\" >11</th>\n",
       "                        <td id=\"T_215a7930_47fc_11e9_b034_d8fc93089377row11_col0\" class=\"data row11 col0\" >l- Lillydoo </td>\n",
       "                        <td id=\"T_215a7930_47fc_11e9_b034_d8fc93089377row11_col1\" class=\"data row11 col1\" >12.5</td>\n",
       "                        <td id=\"T_215a7930_47fc_11e9_b034_d8fc93089377row11_col2\" class=\"data row11 col2\" >6.5</td>\n",
       "                        <td id=\"T_215a7930_47fc_11e9_b034_d8fc93089377row11_col3\" class=\"data row11 col3\" >10.1</td>\n",
       "            </tr>\n",
       "    </tbody></table>"
      ]
     },
     "metadata": {},
     "output_type": "display_data"
    }
   ],
   "source": [
    "df2_s = result_3_2_max.style.set_table_attributes(\"style='display:inline'\").set_caption(model_name_5)\n",
    "display_html(df1_s._repr_html_()+df2_s._repr_html_(), raw=True)"
   ]
  },
  {
   "cell_type": "markdown",
   "metadata": {},
   "source": [
    "#### Pire Score"
   ]
  },
  {
   "cell_type": "code",
   "execution_count": 14,
   "metadata": {},
   "outputs": [],
   "source": [
    "model_name_6 = 'Programme Lineaire - Pire score Lillydoo'\n",
    "result_3_2_min = checkAdditiveModel(csv_name=csv_name,\n",
    "                  model_name='Programme Lineaire - Pire score Lillydoo',\n",
    "                  eval_expr='y12',\n",
    "                  direction='min',\n",
    "                  update_model=update_model_Q3)"
   ]
  },
  {
   "cell_type": "code",
   "execution_count": 15,
   "metadata": {},
   "outputs": [
    {
     "data": {
      "text/html": [
       "<style  type=\"text/css\" >\n",
       "</style><table id=\"T_216c7812_47fc_11e9_a110_d8fc93089377\" style='display:inline'><caption>Modèle original</caption><thead>    <tr>        <th class=\"blank level0\" ></th>        <th class=\"col_heading level0 col0\" >Produit</th>        <th class=\"col_heading level0 col1\" >Performance</th>        <th class=\"col_heading level0 col2\" >Composition</th>        <th class=\"col_heading level0 col3\" >Score</th>    </tr></thead><tbody>\n",
       "                <tr>\n",
       "                        <th id=\"T_216c7812_47fc_11e9_a110_d8fc93089377level0_row0\" class=\"row_heading level0 row0\" >0</th>\n",
       "                        <td id=\"T_216c7812_47fc_11e9_a110_d8fc93089377row0_col0\" class=\"data row0 col0\" >a- Joone</td>\n",
       "                        <td id=\"T_216c7812_47fc_11e9_a110_d8fc93089377row0_col1\" class=\"data row0 col1\" >+++</td>\n",
       "                        <td id=\"T_216c7812_47fc_11e9_a110_d8fc93089377row0_col2\" class=\"data row0 col2\" >+++</td>\n",
       "                        <td id=\"T_216c7812_47fc_11e9_a110_d8fc93089377row0_col3\" class=\"data row0 col3\" >17</td>\n",
       "            </tr>\n",
       "            <tr>\n",
       "                        <th id=\"T_216c7812_47fc_11e9_a110_d8fc93089377level0_row1\" class=\"row_heading level0 row1\" >1</th>\n",
       "                        <td id=\"T_216c7812_47fc_11e9_a110_d8fc93089377row1_col0\" class=\"data row1 col0\" >b- Pamp. Prem</td>\n",
       "                        <td id=\"T_216c7812_47fc_11e9_a110_d8fc93089377row1_col1\" class=\"data row1 col1\" >++</td>\n",
       "                        <td id=\"T_216c7812_47fc_11e9_a110_d8fc93089377row1_col2\" class=\"data row1 col2\" >++</td>\n",
       "                        <td id=\"T_216c7812_47fc_11e9_a110_d8fc93089377row1_col3\" class=\"data row1 col3\" >14.5</td>\n",
       "            </tr>\n",
       "            <tr>\n",
       "                        <th id=\"T_216c7812_47fc_11e9_a110_d8fc93089377level0_row2\" class=\"row_heading level0 row2\" >2</th>\n",
       "                        <td id=\"T_216c7812_47fc_11e9_a110_d8fc93089377row2_col0\" class=\"data row2 col0\" >c- Pamp. Baby</td>\n",
       "                        <td id=\"T_216c7812_47fc_11e9_a110_d8fc93089377row2_col1\" class=\"data row2 col1\" >+</td>\n",
       "                        <td id=\"T_216c7812_47fc_11e9_a110_d8fc93089377row2_col2\" class=\"data row2 col2\" >+++</td>\n",
       "                        <td id=\"T_216c7812_47fc_11e9_a110_d8fc93089377row2_col3\" class=\"data row2 col3\" >12.5</td>\n",
       "            </tr>\n",
       "            <tr>\n",
       "                        <th id=\"T_216c7812_47fc_11e9_a110_d8fc93089377level0_row3\" class=\"row_heading level0 row3\" >3</th>\n",
       "                        <td id=\"T_216c7812_47fc_11e9_a110_d8fc93089377row3_col0\" class=\"data row3 col0\" >d- Naty</td>\n",
       "                        <td id=\"T_216c7812_47fc_11e9_a110_d8fc93089377row3_col1\" class=\"data row3 col1\" >+</td>\n",
       "                        <td id=\"T_216c7812_47fc_11e9_a110_d8fc93089377row3_col2\" class=\"data row3 col2\" >+++</td>\n",
       "                        <td id=\"T_216c7812_47fc_11e9_a110_d8fc93089377row3_col3\" class=\"data row3 col3\" >12.5</td>\n",
       "            </tr>\n",
       "            <tr>\n",
       "                        <th id=\"T_216c7812_47fc_11e9_a110_d8fc93089377level0_row4\" class=\"row_heading level0 row4\" >4</th>\n",
       "                        <td id=\"T_216c7812_47fc_11e9_a110_d8fc93089377row4_col0\" class=\"data row4 col0\" >e- Pamp. Activ.</td>\n",
       "                        <td id=\"T_216c7812_47fc_11e9_a110_d8fc93089377row4_col1\" class=\"data row4 col1\" >+</td>\n",
       "                        <td id=\"T_216c7812_47fc_11e9_a110_d8fc93089377row4_col2\" class=\"data row4 col2\" >+</td>\n",
       "                        <td id=\"T_216c7812_47fc_11e9_a110_d8fc93089377row4_col3\" class=\"data row4 col3\" >12.5</td>\n",
       "            </tr>\n",
       "            <tr>\n",
       "                        <th id=\"T_216c7812_47fc_11e9_a110_d8fc93089377level0_row5\" class=\"row_heading level0 row5\" >5</th>\n",
       "                        <td id=\"T_216c7812_47fc_11e9_a110_d8fc93089377row5_col0\" class=\"data row5 col0\" >f- Carref.Baby</td>\n",
       "                        <td id=\"T_216c7812_47fc_11e9_a110_d8fc93089377row5_col1\" class=\"data row5 col1\" >++</td>\n",
       "                        <td id=\"T_216c7812_47fc_11e9_a110_d8fc93089377row5_col2\" class=\"data row5 col2\" >+</td>\n",
       "                        <td id=\"T_216c7812_47fc_11e9_a110_d8fc93089377row5_col3\" class=\"data row5 col3\" >12.5</td>\n",
       "            </tr>\n",
       "            <tr>\n",
       "                        <th id=\"T_216c7812_47fc_11e9_a110_d8fc93089377level0_row6\" class=\"row_heading level0 row6\" >6</th>\n",
       "                        <td id=\"T_216c7812_47fc_11e9_a110_d8fc93089377row6_col0\" class=\"data row6 col0\" >g- Lupilu</td>\n",
       "                        <td id=\"T_216c7812_47fc_11e9_a110_d8fc93089377row6_col1\" class=\"data row6 col1\" >++</td>\n",
       "                        <td id=\"T_216c7812_47fc_11e9_a110_d8fc93089377row6_col2\" class=\"data row6 col2\" >-</td>\n",
       "                        <td id=\"T_216c7812_47fc_11e9_a110_d8fc93089377row6_col3\" class=\"data row6 col3\" >12</td>\n",
       "            </tr>\n",
       "            <tr>\n",
       "                        <th id=\"T_216c7812_47fc_11e9_a110_d8fc93089377level0_row7\" class=\"row_heading level0 row7\" >7</th>\n",
       "                        <td id=\"T_216c7812_47fc_11e9_a110_d8fc93089377row7_col0\" class=\"data row7 col0\" >h- Mots d’enfants </td>\n",
       "                        <td id=\"T_216c7812_47fc_11e9_a110_d8fc93089377row7_col1\" class=\"data row7 col1\" >+</td>\n",
       "                        <td id=\"T_216c7812_47fc_11e9_a110_d8fc93089377row7_col2\" class=\"data row7 col2\" >-</td>\n",
       "                        <td id=\"T_216c7812_47fc_11e9_a110_d8fc93089377row7_col3\" class=\"data row7 col3\" >12</td>\n",
       "            </tr>\n",
       "            <tr>\n",
       "                        <th id=\"T_216c7812_47fc_11e9_a110_d8fc93089377level0_row8\" class=\"row_heading level0 row8\" >8</th>\n",
       "                        <td id=\"T_216c7812_47fc_11e9_a110_d8fc93089377row8_col0\" class=\"data row8 col0\" >i- Love & Green</td>\n",
       "                        <td id=\"T_216c7812_47fc_11e9_a110_d8fc93089377row8_col1\" class=\"data row8 col1\" >++</td>\n",
       "                        <td id=\"T_216c7812_47fc_11e9_a110_d8fc93089377row8_col2\" class=\"data row8 col2\" >-</td>\n",
       "                        <td id=\"T_216c7812_47fc_11e9_a110_d8fc93089377row8_col3\" class=\"data row8 col3\" >9.5</td>\n",
       "            </tr>\n",
       "            <tr>\n",
       "                        <th id=\"T_216c7812_47fc_11e9_a110_d8fc93089377level0_row9\" class=\"row_heading level0 row9\" >9</th>\n",
       "                        <td id=\"T_216c7812_47fc_11e9_a110_d8fc93089377row9_col0\" class=\"data row9 col0\" >j- Lotus Baby</td>\n",
       "                        <td id=\"T_216c7812_47fc_11e9_a110_d8fc93089377row9_col1\" class=\"data row9 col1\" >++</td>\n",
       "                        <td id=\"T_216c7812_47fc_11e9_a110_d8fc93089377row9_col2\" class=\"data row9 col2\" >--</td>\n",
       "                        <td id=\"T_216c7812_47fc_11e9_a110_d8fc93089377row9_col3\" class=\"data row9 col3\" >9.5</td>\n",
       "            </tr>\n",
       "            <tr>\n",
       "                        <th id=\"T_216c7812_47fc_11e9_a110_d8fc93089377level0_row10\" class=\"row_heading level0 row10\" >10</th>\n",
       "                        <td id=\"T_216c7812_47fc_11e9_a110_d8fc93089377row10_col0\" class=\"data row10 col0\" >k- Pommette</td>\n",
       "                        <td id=\"T_216c7812_47fc_11e9_a110_d8fc93089377row10_col1\" class=\"data row10 col1\" >++</td>\n",
       "                        <td id=\"T_216c7812_47fc_11e9_a110_d8fc93089377row10_col2\" class=\"data row10 col2\" >--</td>\n",
       "                        <td id=\"T_216c7812_47fc_11e9_a110_d8fc93089377row10_col3\" class=\"data row10 col3\" >9.5</td>\n",
       "            </tr>\n",
       "            <tr>\n",
       "                        <th id=\"T_216c7812_47fc_11e9_a110_d8fc93089377level0_row11\" class=\"row_heading level0 row11\" >11</th>\n",
       "                        <td id=\"T_216c7812_47fc_11e9_a110_d8fc93089377row11_col0\" class=\"data row11 col0\" >l- Lillydoo </td>\n",
       "                        <td id=\"T_216c7812_47fc_11e9_a110_d8fc93089377row11_col1\" class=\"data row11 col1\" >+</td>\n",
       "                        <td id=\"T_216c7812_47fc_11e9_a110_d8fc93089377row11_col2\" class=\"data row11 col2\" >--</td>\n",
       "                        <td id=\"T_216c7812_47fc_11e9_a110_d8fc93089377row11_col3\" class=\"data row11 col3\" >6.5</td>\n",
       "            </tr>\n",
       "    </tbody></table><style  type=\"text/css\" >\n",
       "</style><table id=\"T_216cc626_47fc_11e9_8715_d8fc93089377\" style='display:inline'><caption>Programme Lineaire - Pire score Lillydoo</caption><thead>    <tr>        <th class=\"blank level0\" ></th>        <th class=\"col_heading level0 col0\" >Produit</th>        <th class=\"col_heading level0 col1\" >Performance</th>        <th class=\"col_heading level0 col2\" >Composition</th>        <th class=\"col_heading level0 col3\" >Score</th>    </tr></thead><tbody>\n",
       "                <tr>\n",
       "                        <th id=\"T_216cc626_47fc_11e9_8715_d8fc93089377level0_row0\" class=\"row_heading level0 row0\" >0</th>\n",
       "                        <td id=\"T_216cc626_47fc_11e9_8715_d8fc93089377row0_col0\" class=\"data row0 col0\" >a- Joone</td>\n",
       "                        <td id=\"T_216cc626_47fc_11e9_8715_d8fc93089377row0_col1\" class=\"data row0 col1\" >17</td>\n",
       "                        <td id=\"T_216cc626_47fc_11e9_8715_d8fc93089377row0_col2\" class=\"data row0 col2\" >17</td>\n",
       "                        <td id=\"T_216cc626_47fc_11e9_8715_d8fc93089377row0_col3\" class=\"data row0 col3\" >17</td>\n",
       "            </tr>\n",
       "            <tr>\n",
       "                        <th id=\"T_216cc626_47fc_11e9_8715_d8fc93089377level0_row1\" class=\"row_heading level0 row1\" >1</th>\n",
       "                        <td id=\"T_216cc626_47fc_11e9_8715_d8fc93089377row1_col0\" class=\"data row1 col0\" >b- Pamp. Prem</td>\n",
       "                        <td id=\"T_216cc626_47fc_11e9_8715_d8fc93089377row1_col1\" class=\"data row1 col1\" >13</td>\n",
       "                        <td id=\"T_216cc626_47fc_11e9_8715_d8fc93089377row1_col2\" class=\"data row1 col2\" >13</td>\n",
       "                        <td id=\"T_216cc626_47fc_11e9_8715_d8fc93089377row1_col3\" class=\"data row1 col3\" >13</td>\n",
       "            </tr>\n",
       "            <tr>\n",
       "                        <th id=\"T_216cc626_47fc_11e9_8715_d8fc93089377level0_row2\" class=\"row_heading level0 row2\" >2</th>\n",
       "                        <td id=\"T_216cc626_47fc_11e9_8715_d8fc93089377row2_col0\" class=\"data row2 col0\" >c- Pamp. Baby</td>\n",
       "                        <td id=\"T_216cc626_47fc_11e9_8715_d8fc93089377row2_col1\" class=\"data row2 col1\" >12.5</td>\n",
       "                        <td id=\"T_216cc626_47fc_11e9_8715_d8fc93089377row2_col2\" class=\"data row2 col2\" >13.25</td>\n",
       "                        <td id=\"T_216cc626_47fc_11e9_8715_d8fc93089377row2_col3\" class=\"data row2 col3\" >12.8</td>\n",
       "            </tr>\n",
       "            <tr>\n",
       "                        <th id=\"T_216cc626_47fc_11e9_8715_d8fc93089377level0_row3\" class=\"row_heading level0 row3\" >3</th>\n",
       "                        <td id=\"T_216cc626_47fc_11e9_8715_d8fc93089377row3_col0\" class=\"data row3 col0\" >d- Naty</td>\n",
       "                        <td id=\"T_216cc626_47fc_11e9_8715_d8fc93089377row3_col1\" class=\"data row3 col1\" >10</td>\n",
       "                        <td id=\"T_216cc626_47fc_11e9_8715_d8fc93089377row3_col2\" class=\"data row3 col2\" >17</td>\n",
       "                        <td id=\"T_216cc626_47fc_11e9_8715_d8fc93089377row3_col3\" class=\"data row3 col3\" >12.8</td>\n",
       "            </tr>\n",
       "            <tr>\n",
       "                        <th id=\"T_216cc626_47fc_11e9_8715_d8fc93089377level0_row4\" class=\"row_heading level0 row4\" >4</th>\n",
       "                        <td id=\"T_216cc626_47fc_11e9_8715_d8fc93089377row4_col0\" class=\"data row4 col0\" >e- Pamp. Activ.</td>\n",
       "                        <td id=\"T_216cc626_47fc_11e9_8715_d8fc93089377row4_col1\" class=\"data row4 col1\" >12.5</td>\n",
       "                        <td id=\"T_216cc626_47fc_11e9_8715_d8fc93089377row4_col2\" class=\"data row4 col2\" >10.75</td>\n",
       "                        <td id=\"T_216cc626_47fc_11e9_8715_d8fc93089377row4_col3\" class=\"data row4 col3\" >11.8</td>\n",
       "            </tr>\n",
       "            <tr>\n",
       "                        <th id=\"T_216cc626_47fc_11e9_8715_d8fc93089377level0_row5\" class=\"row_heading level0 row5\" >5</th>\n",
       "                        <td id=\"T_216cc626_47fc_11e9_8715_d8fc93089377row5_col0\" class=\"data row5 col0\" >f- Carref.Baby</td>\n",
       "                        <td id=\"T_216cc626_47fc_11e9_8715_d8fc93089377row5_col1\" class=\"data row5 col1\" >13</td>\n",
       "                        <td id=\"T_216cc626_47fc_11e9_8715_d8fc93089377row5_col2\" class=\"data row5 col2\" >10</td>\n",
       "                        <td id=\"T_216cc626_47fc_11e9_8715_d8fc93089377row5_col3\" class=\"data row5 col3\" >11.8</td>\n",
       "            </tr>\n",
       "            <tr>\n",
       "                        <th id=\"T_216cc626_47fc_11e9_8715_d8fc93089377level0_row6\" class=\"row_heading level0 row6\" >6</th>\n",
       "                        <td id=\"T_216cc626_47fc_11e9_8715_d8fc93089377row6_col0\" class=\"data row6 col0\" >g- Lupilu</td>\n",
       "                        <td id=\"T_216cc626_47fc_11e9_8715_d8fc93089377row6_col1\" class=\"data row6 col1\" >13.1667</td>\n",
       "                        <td id=\"T_216cc626_47fc_11e9_8715_d8fc93089377row6_col2\" class=\"data row6 col2\" >7</td>\n",
       "                        <td id=\"T_216cc626_47fc_11e9_8715_d8fc93089377row6_col3\" class=\"data row6 col3\" >10.7</td>\n",
       "            </tr>\n",
       "            <tr>\n",
       "                        <th id=\"T_216cc626_47fc_11e9_8715_d8fc93089377level0_row7\" class=\"row_heading level0 row7\" >7</th>\n",
       "                        <td id=\"T_216cc626_47fc_11e9_8715_d8fc93089377row7_col0\" class=\"data row7 col0\" >h- Mots d’enfants </td>\n",
       "                        <td id=\"T_216cc626_47fc_11e9_8715_d8fc93089377row7_col1\" class=\"data row7 col1\" >12.5</td>\n",
       "                        <td id=\"T_216cc626_47fc_11e9_8715_d8fc93089377row7_col2\" class=\"data row7 col2\" >8</td>\n",
       "                        <td id=\"T_216cc626_47fc_11e9_8715_d8fc93089377row7_col3\" class=\"data row7 col3\" >10.7</td>\n",
       "            </tr>\n",
       "            <tr>\n",
       "                        <th id=\"T_216cc626_47fc_11e9_8715_d8fc93089377level0_row8\" class=\"row_heading level0 row8\" >8</th>\n",
       "                        <td id=\"T_216cc626_47fc_11e9_8715_d8fc93089377row8_col0\" class=\"data row8 col0\" >i- Love & Green</td>\n",
       "                        <td id=\"T_216cc626_47fc_11e9_8715_d8fc93089377row8_col1\" class=\"data row8 col1\" >13</td>\n",
       "                        <td id=\"T_216cc626_47fc_11e9_8715_d8fc93089377row8_col2\" class=\"data row8 col2\" >7</td>\n",
       "                        <td id=\"T_216cc626_47fc_11e9_8715_d8fc93089377row8_col3\" class=\"data row8 col3\" >10.6</td>\n",
       "            </tr>\n",
       "            <tr>\n",
       "                        <th id=\"T_216cc626_47fc_11e9_8715_d8fc93089377level0_row9\" class=\"row_heading level0 row9\" >9</th>\n",
       "                        <td id=\"T_216cc626_47fc_11e9_8715_d8fc93089377row9_col0\" class=\"data row9 col0\" >j- Lotus Baby</td>\n",
       "                        <td id=\"T_216cc626_47fc_11e9_8715_d8fc93089377row9_col1\" class=\"data row9 col1\" >13</td>\n",
       "                        <td id=\"T_216cc626_47fc_11e9_8715_d8fc93089377row9_col2\" class=\"data row9 col2\" >0</td>\n",
       "                        <td id=\"T_216cc626_47fc_11e9_8715_d8fc93089377row9_col3\" class=\"data row9 col3\" >7.8</td>\n",
       "            </tr>\n",
       "            <tr>\n",
       "                        <th id=\"T_216cc626_47fc_11e9_8715_d8fc93089377level0_row10\" class=\"row_heading level0 row10\" >10</th>\n",
       "                        <td id=\"T_216cc626_47fc_11e9_8715_d8fc93089377row10_col0\" class=\"data row10 col0\" >k- Pommette</td>\n",
       "                        <td id=\"T_216cc626_47fc_11e9_8715_d8fc93089377row10_col1\" class=\"data row10 col1\" >13</td>\n",
       "                        <td id=\"T_216cc626_47fc_11e9_8715_d8fc93089377row10_col2\" class=\"data row10 col2\" >0</td>\n",
       "                        <td id=\"T_216cc626_47fc_11e9_8715_d8fc93089377row10_col3\" class=\"data row10 col3\" >7.8</td>\n",
       "            </tr>\n",
       "            <tr>\n",
       "                        <th id=\"T_216cc626_47fc_11e9_8715_d8fc93089377level0_row11\" class=\"row_heading level0 row11\" >11</th>\n",
       "                        <td id=\"T_216cc626_47fc_11e9_8715_d8fc93089377row11_col0\" class=\"data row11 col0\" >l- Lillydoo </td>\n",
       "                        <td id=\"T_216cc626_47fc_11e9_8715_d8fc93089377row11_col1\" class=\"data row11 col1\" >10</td>\n",
       "                        <td id=\"T_216cc626_47fc_11e9_8715_d8fc93089377row11_col2\" class=\"data row11 col2\" >0</td>\n",
       "                        <td id=\"T_216cc626_47fc_11e9_8715_d8fc93089377row11_col3\" class=\"data row11 col3\" >6</td>\n",
       "            </tr>\n",
       "    </tbody></table>"
      ]
     },
     "metadata": {},
     "output_type": "display_data"
    }
   ],
   "source": [
    "df2_s = result_3_2_min.style.set_table_attributes(\"style='display:inline'\").set_caption(model_name_6)\n",
    "display_html(df1_s._repr_html_()+df2_s._repr_html_(), raw=True)"
   ]
  },
  {
   "cell_type": "markdown",
   "metadata": {},
   "source": [
    "#### Commentaires"
   ]
  },
  {
   "cell_type": "markdown",
   "metadata": {},
   "source": [
    "## 1.3.3 Conclusions"
   ]
  },
  {
   "cell_type": "code",
   "execution_count": 27,
   "metadata": {},
   "outputs": [],
   "source": [
    "%%capture\n",
    "dict_max_y1 = compareRankings(result_original['Score'], result_3_1_max['Score'])\n",
    "dict_min_y1 = compareRankings(result_original['Score'], result_3_1_min['Score'])\n",
    "dict_max_y12 = compareRankings(result_original['Score'], result_3_2_max['Score'])\n",
    "dict_min_y12 = compareRankings(result_original['Score'], result_3_2_min['Score'])"
   ]
  },
  {
   "cell_type": "code",
   "execution_count": 28,
   "metadata": {},
   "outputs": [
    {
     "name": "stdout",
     "output_type": "stream",
     "text": [
      "Max Score Joone\n"
     ]
    },
    {
     "data": {
      "text/html": [
       "<table border=\"1\"><tr><th>coef - Spearman</th><td>0.9803024573066307</td></tr><tr><th>p - Spearman</th><td>2.259433333683426e-08</td></tr><tr><th>tau - Kendall</th><td>0.9503819266229829</td></tr><tr><th>p_val - Kendall</th><td>6.317712090483196e-05</td></tr></table>"
      ],
      "text/plain": [
       "<IPython.core.display.HTML object>"
      ]
     },
     "metadata": {},
     "output_type": "display_data"
    },
    {
     "name": "stdout",
     "output_type": "stream",
     "text": [
      "Min Score Joone\n"
     ]
    },
    {
     "data": {
      "text/html": [
       "<table border=\"1\"><tr><th>coef - Spearman</th><td>0.9803024573066307</td></tr><tr><th>p - Spearman</th><td>2.259433333683426e-08</td></tr><tr><th>tau - Kendall</th><td>0.9503819266229829</td></tr><tr><th>p_val - Kendall</th><td>6.317712090483196e-05</td></tr></table>"
      ],
      "text/plain": [
       "<IPython.core.display.HTML object>"
      ]
     },
     "metadata": {},
     "output_type": "display_data"
    },
    {
     "name": "stdout",
     "output_type": "stream",
     "text": [
      "Max Score Lillydoo\n"
     ]
    },
    {
     "data": {
      "text/html": [
       "<table border=\"1\"><tr><th>coef - Spearman</th><td>0.9803024573066307</td></tr><tr><th>p - Spearman</th><td>2.259433333683426e-08</td></tr><tr><th>tau - Kendall</th><td>0.9503819266229829</td></tr><tr><th>p_val - Kendall</th><td>6.317712090483196e-05</td></tr></table>"
      ],
      "text/plain": [
       "<IPython.core.display.HTML object>"
      ]
     },
     "metadata": {},
     "output_type": "display_data"
    },
    {
     "name": "stdout",
     "output_type": "stream",
     "text": [
      "Min Score Lillydoo\n"
     ]
    },
    {
     "data": {
      "text/html": [
       "<table border=\"1\"><tr><th>coef - Spearman</th><td>0.9803024573066307</td></tr><tr><th>p - Spearman</th><td>2.259433333683426e-08</td></tr><tr><th>tau - Kendall</th><td>0.9503819266229829</td></tr><tr><th>p_val - Kendall</th><td>6.317712090483196e-05</td></tr></table>"
      ],
      "text/plain": [
       "<IPython.core.display.HTML object>"
      ]
     },
     "metadata": {},
     "output_type": "display_data"
    },
    {
     "name": "stdout",
     "output_type": "stream",
     "text": [
      "Min Score Lillydoo\n"
     ]
    },
    {
     "data": {
      "text/html": [
       "<table border=\"1\"><tr><th>coef - Spearman</th><td>1.0</td></tr><tr><th>p - Spearman</th><td>0.0</td></tr><tr><th>tau - Kendall</th><td>1.0</td></tr><tr><th>p_val - Kendall</th><td>1.4827983767297566e-05</td></tr></table>"
      ],
      "text/plain": [
       "<IPython.core.display.HTML object>"
      ]
     },
     "metadata": {},
     "output_type": "display_data"
    }
   ],
   "source": [
    "#Coefficients Q3.1\n",
    "print(\"Max Score Joone\")\n",
    "display(HTML(json2html.convert(json = dict_max_y1)))\n",
    "print(\"Min Score Joone\")\n",
    "display(HTML(json2html.convert(json = dict_min_y1)))\n",
    "#Coefficients Q3.2\n",
    "print(\"Max Score Lillydoo\")\n",
    "display(HTML(json2html.convert(json = dict_max_y12)))\n",
    "print(\"Min Score Lillydoo\")\n",
    "display(HTML(json2html.convert(json = dict_min_y12)))"
   ]
  },
  {
   "cell_type": "markdown",
   "metadata": {},
   "source": [
    "## 1.4"
   ]
  },
  {
   "cell_type": "markdown",
   "metadata": {},
   "source": [
    "A présent, nous choisissons de ne plus tenir compte de l’ordre des produits fourni dans le classement publié par le\n",
    "magazine. En d’autres termes, nous supprimons les contraintes **(16)** à **(19)**. Nous allons également supprimer du\n",
    "programme PL1 la contrainte **17 < U2c(+++)**, liée à la couche **c-Pamp.Baby**."
   ]
  },
  {
   "cell_type": "code",
   "execution_count": 18,
   "metadata": {},
   "outputs": [],
   "source": [
    "update_model_Q4 = createUpdateModel([Variable ('x6', ub = 20)], ['c13', 'c14', 'c15', \n",
    "                                                                    'c16', 'c17', 'c18',\n",
    "                                                                    'c19', 'c20', 'c21',\n",
    "                                                                    'c22', 'c23'])"
   ]
  },
  {
   "cell_type": "markdown",
   "metadata": {},
   "source": [
    "## 1.4.1 Score global maximal obtenu par chacun des 12 produits"
   ]
  },
  {
   "cell_type": "markdown",
   "metadata": {},
   "source": [
    "Nous résolvons à chaque fois le programme linéaire correspondant"
   ]
  },
  {
   "cell_type": "code",
   "execution_count": 19,
   "metadata": {},
   "outputs": [],
   "source": [
    "%%capture\n",
    "model_name_7 = 'Programme Lineaire - Score global maximal pour chaque produit'\n",
    "result_4_1_all_max = checkAdditiveModel(csv_name=csv_name,\n",
    "                      model_name=model_name_5,\n",
    "                      eval_expr='all',\n",
    "                      direction='max',\n",
    "                      update_model=update_model_Q4)\n",
    "\n",
    "dict_max_all = compareRankings(result_original['Score'], result_4_1_all_max['Score']) "
   ]
  },
  {
   "cell_type": "code",
   "execution_count": 20,
   "metadata": {},
   "outputs": [
    {
     "data": {
      "text/html": [
       "<style  type=\"text/css\" >\n",
       "</style><table id=\"T_21e031ba_47fc_11e9_8ce9_d8fc93089377\" style='display:inline'><caption>Modèle original</caption><thead>    <tr>        <th class=\"blank level0\" ></th>        <th class=\"col_heading level0 col0\" >Produit</th>        <th class=\"col_heading level0 col1\" >Performance</th>        <th class=\"col_heading level0 col2\" >Composition</th>        <th class=\"col_heading level0 col3\" >Score</th>    </tr></thead><tbody>\n",
       "                <tr>\n",
       "                        <th id=\"T_21e031ba_47fc_11e9_8ce9_d8fc93089377level0_row0\" class=\"row_heading level0 row0\" >0</th>\n",
       "                        <td id=\"T_21e031ba_47fc_11e9_8ce9_d8fc93089377row0_col0\" class=\"data row0 col0\" >a- Joone</td>\n",
       "                        <td id=\"T_21e031ba_47fc_11e9_8ce9_d8fc93089377row0_col1\" class=\"data row0 col1\" >+++</td>\n",
       "                        <td id=\"T_21e031ba_47fc_11e9_8ce9_d8fc93089377row0_col2\" class=\"data row0 col2\" >+++</td>\n",
       "                        <td id=\"T_21e031ba_47fc_11e9_8ce9_d8fc93089377row0_col3\" class=\"data row0 col3\" >17</td>\n",
       "            </tr>\n",
       "            <tr>\n",
       "                        <th id=\"T_21e031ba_47fc_11e9_8ce9_d8fc93089377level0_row1\" class=\"row_heading level0 row1\" >1</th>\n",
       "                        <td id=\"T_21e031ba_47fc_11e9_8ce9_d8fc93089377row1_col0\" class=\"data row1 col0\" >b- Pamp. Prem</td>\n",
       "                        <td id=\"T_21e031ba_47fc_11e9_8ce9_d8fc93089377row1_col1\" class=\"data row1 col1\" >++</td>\n",
       "                        <td id=\"T_21e031ba_47fc_11e9_8ce9_d8fc93089377row1_col2\" class=\"data row1 col2\" >++</td>\n",
       "                        <td id=\"T_21e031ba_47fc_11e9_8ce9_d8fc93089377row1_col3\" class=\"data row1 col3\" >14.5</td>\n",
       "            </tr>\n",
       "            <tr>\n",
       "                        <th id=\"T_21e031ba_47fc_11e9_8ce9_d8fc93089377level0_row2\" class=\"row_heading level0 row2\" >2</th>\n",
       "                        <td id=\"T_21e031ba_47fc_11e9_8ce9_d8fc93089377row2_col0\" class=\"data row2 col0\" >c- Pamp. Baby</td>\n",
       "                        <td id=\"T_21e031ba_47fc_11e9_8ce9_d8fc93089377row2_col1\" class=\"data row2 col1\" >+</td>\n",
       "                        <td id=\"T_21e031ba_47fc_11e9_8ce9_d8fc93089377row2_col2\" class=\"data row2 col2\" >+++</td>\n",
       "                        <td id=\"T_21e031ba_47fc_11e9_8ce9_d8fc93089377row2_col3\" class=\"data row2 col3\" >12.5</td>\n",
       "            </tr>\n",
       "            <tr>\n",
       "                        <th id=\"T_21e031ba_47fc_11e9_8ce9_d8fc93089377level0_row3\" class=\"row_heading level0 row3\" >3</th>\n",
       "                        <td id=\"T_21e031ba_47fc_11e9_8ce9_d8fc93089377row3_col0\" class=\"data row3 col0\" >d- Naty</td>\n",
       "                        <td id=\"T_21e031ba_47fc_11e9_8ce9_d8fc93089377row3_col1\" class=\"data row3 col1\" >+</td>\n",
       "                        <td id=\"T_21e031ba_47fc_11e9_8ce9_d8fc93089377row3_col2\" class=\"data row3 col2\" >+++</td>\n",
       "                        <td id=\"T_21e031ba_47fc_11e9_8ce9_d8fc93089377row3_col3\" class=\"data row3 col3\" >12.5</td>\n",
       "            </tr>\n",
       "            <tr>\n",
       "                        <th id=\"T_21e031ba_47fc_11e9_8ce9_d8fc93089377level0_row4\" class=\"row_heading level0 row4\" >4</th>\n",
       "                        <td id=\"T_21e031ba_47fc_11e9_8ce9_d8fc93089377row4_col0\" class=\"data row4 col0\" >e- Pamp. Activ.</td>\n",
       "                        <td id=\"T_21e031ba_47fc_11e9_8ce9_d8fc93089377row4_col1\" class=\"data row4 col1\" >+</td>\n",
       "                        <td id=\"T_21e031ba_47fc_11e9_8ce9_d8fc93089377row4_col2\" class=\"data row4 col2\" >+</td>\n",
       "                        <td id=\"T_21e031ba_47fc_11e9_8ce9_d8fc93089377row4_col3\" class=\"data row4 col3\" >12.5</td>\n",
       "            </tr>\n",
       "            <tr>\n",
       "                        <th id=\"T_21e031ba_47fc_11e9_8ce9_d8fc93089377level0_row5\" class=\"row_heading level0 row5\" >5</th>\n",
       "                        <td id=\"T_21e031ba_47fc_11e9_8ce9_d8fc93089377row5_col0\" class=\"data row5 col0\" >f- Carref.Baby</td>\n",
       "                        <td id=\"T_21e031ba_47fc_11e9_8ce9_d8fc93089377row5_col1\" class=\"data row5 col1\" >++</td>\n",
       "                        <td id=\"T_21e031ba_47fc_11e9_8ce9_d8fc93089377row5_col2\" class=\"data row5 col2\" >+</td>\n",
       "                        <td id=\"T_21e031ba_47fc_11e9_8ce9_d8fc93089377row5_col3\" class=\"data row5 col3\" >12.5</td>\n",
       "            </tr>\n",
       "            <tr>\n",
       "                        <th id=\"T_21e031ba_47fc_11e9_8ce9_d8fc93089377level0_row6\" class=\"row_heading level0 row6\" >6</th>\n",
       "                        <td id=\"T_21e031ba_47fc_11e9_8ce9_d8fc93089377row6_col0\" class=\"data row6 col0\" >g- Lupilu</td>\n",
       "                        <td id=\"T_21e031ba_47fc_11e9_8ce9_d8fc93089377row6_col1\" class=\"data row6 col1\" >++</td>\n",
       "                        <td id=\"T_21e031ba_47fc_11e9_8ce9_d8fc93089377row6_col2\" class=\"data row6 col2\" >-</td>\n",
       "                        <td id=\"T_21e031ba_47fc_11e9_8ce9_d8fc93089377row6_col3\" class=\"data row6 col3\" >12</td>\n",
       "            </tr>\n",
       "            <tr>\n",
       "                        <th id=\"T_21e031ba_47fc_11e9_8ce9_d8fc93089377level0_row7\" class=\"row_heading level0 row7\" >7</th>\n",
       "                        <td id=\"T_21e031ba_47fc_11e9_8ce9_d8fc93089377row7_col0\" class=\"data row7 col0\" >h- Mots d’enfants </td>\n",
       "                        <td id=\"T_21e031ba_47fc_11e9_8ce9_d8fc93089377row7_col1\" class=\"data row7 col1\" >+</td>\n",
       "                        <td id=\"T_21e031ba_47fc_11e9_8ce9_d8fc93089377row7_col2\" class=\"data row7 col2\" >-</td>\n",
       "                        <td id=\"T_21e031ba_47fc_11e9_8ce9_d8fc93089377row7_col3\" class=\"data row7 col3\" >12</td>\n",
       "            </tr>\n",
       "            <tr>\n",
       "                        <th id=\"T_21e031ba_47fc_11e9_8ce9_d8fc93089377level0_row8\" class=\"row_heading level0 row8\" >8</th>\n",
       "                        <td id=\"T_21e031ba_47fc_11e9_8ce9_d8fc93089377row8_col0\" class=\"data row8 col0\" >i- Love & Green</td>\n",
       "                        <td id=\"T_21e031ba_47fc_11e9_8ce9_d8fc93089377row8_col1\" class=\"data row8 col1\" >++</td>\n",
       "                        <td id=\"T_21e031ba_47fc_11e9_8ce9_d8fc93089377row8_col2\" class=\"data row8 col2\" >-</td>\n",
       "                        <td id=\"T_21e031ba_47fc_11e9_8ce9_d8fc93089377row8_col3\" class=\"data row8 col3\" >9.5</td>\n",
       "            </tr>\n",
       "            <tr>\n",
       "                        <th id=\"T_21e031ba_47fc_11e9_8ce9_d8fc93089377level0_row9\" class=\"row_heading level0 row9\" >9</th>\n",
       "                        <td id=\"T_21e031ba_47fc_11e9_8ce9_d8fc93089377row9_col0\" class=\"data row9 col0\" >j- Lotus Baby</td>\n",
       "                        <td id=\"T_21e031ba_47fc_11e9_8ce9_d8fc93089377row9_col1\" class=\"data row9 col1\" >++</td>\n",
       "                        <td id=\"T_21e031ba_47fc_11e9_8ce9_d8fc93089377row9_col2\" class=\"data row9 col2\" >--</td>\n",
       "                        <td id=\"T_21e031ba_47fc_11e9_8ce9_d8fc93089377row9_col3\" class=\"data row9 col3\" >9.5</td>\n",
       "            </tr>\n",
       "            <tr>\n",
       "                        <th id=\"T_21e031ba_47fc_11e9_8ce9_d8fc93089377level0_row10\" class=\"row_heading level0 row10\" >10</th>\n",
       "                        <td id=\"T_21e031ba_47fc_11e9_8ce9_d8fc93089377row10_col0\" class=\"data row10 col0\" >k- Pommette</td>\n",
       "                        <td id=\"T_21e031ba_47fc_11e9_8ce9_d8fc93089377row10_col1\" class=\"data row10 col1\" >++</td>\n",
       "                        <td id=\"T_21e031ba_47fc_11e9_8ce9_d8fc93089377row10_col2\" class=\"data row10 col2\" >--</td>\n",
       "                        <td id=\"T_21e031ba_47fc_11e9_8ce9_d8fc93089377row10_col3\" class=\"data row10 col3\" >9.5</td>\n",
       "            </tr>\n",
       "            <tr>\n",
       "                        <th id=\"T_21e031ba_47fc_11e9_8ce9_d8fc93089377level0_row11\" class=\"row_heading level0 row11\" >11</th>\n",
       "                        <td id=\"T_21e031ba_47fc_11e9_8ce9_d8fc93089377row11_col0\" class=\"data row11 col0\" >l- Lillydoo </td>\n",
       "                        <td id=\"T_21e031ba_47fc_11e9_8ce9_d8fc93089377row11_col1\" class=\"data row11 col1\" >+</td>\n",
       "                        <td id=\"T_21e031ba_47fc_11e9_8ce9_d8fc93089377row11_col2\" class=\"data row11 col2\" >--</td>\n",
       "                        <td id=\"T_21e031ba_47fc_11e9_8ce9_d8fc93089377row11_col3\" class=\"data row11 col3\" >6.5</td>\n",
       "            </tr>\n",
       "    </tbody></table><style  type=\"text/css\" >\n",
       "</style><table id=\"T_21e07fd0_47fc_11e9_ab06_d8fc93089377\" style='display:inline'><caption>Programme Lineaire - Score global maximal pour chaque produit</caption><thead>    <tr>        <th class=\"blank level0\" ></th>        <th class=\"col_heading level0 col0\" >Produit</th>        <th class=\"col_heading level0 col1\" >Performance</th>        <th class=\"col_heading level0 col2\" >Composition</th>        <th class=\"col_heading level0 col3\" >Score</th>    </tr></thead><tbody>\n",
       "                <tr>\n",
       "                        <th id=\"T_21e07fd0_47fc_11e9_ab06_d8fc93089377level0_row0\" class=\"row_heading level0 row0\" >0</th>\n",
       "                        <td id=\"T_21e07fd0_47fc_11e9_ab06_d8fc93089377row0_col0\" class=\"data row0 col0\" >a- Joone</td>\n",
       "                        <td id=\"T_21e07fd0_47fc_11e9_ab06_d8fc93089377row0_col1\" class=\"data row0 col1\" >20</td>\n",
       "                        <td id=\"T_21e07fd0_47fc_11e9_ab06_d8fc93089377row0_col2\" class=\"data row0 col2\" >20</td>\n",
       "                        <td id=\"T_21e07fd0_47fc_11e9_ab06_d8fc93089377row0_col3\" class=\"data row0 col3\" >20</td>\n",
       "            </tr>\n",
       "            <tr>\n",
       "                        <th id=\"T_21e07fd0_47fc_11e9_ab06_d8fc93089377level0_row1\" class=\"row_heading level0 row1\" >1</th>\n",
       "                        <td id=\"T_21e07fd0_47fc_11e9_ab06_d8fc93089377row1_col0\" class=\"data row1 col0\" >b- Pamp. Prem</td>\n",
       "                        <td id=\"T_21e07fd0_47fc_11e9_ab06_d8fc93089377row1_col1\" class=\"data row1 col1\" >16.5</td>\n",
       "                        <td id=\"T_21e07fd0_47fc_11e9_ab06_d8fc93089377row1_col2\" class=\"data row1 col2\" >16.5</td>\n",
       "                        <td id=\"T_21e07fd0_47fc_11e9_ab06_d8fc93089377row1_col3\" class=\"data row1 col3\" >16.5</td>\n",
       "            </tr>\n",
       "            <tr>\n",
       "                        <th id=\"T_21e07fd0_47fc_11e9_ab06_d8fc93089377level0_row2\" class=\"row_heading level0 row2\" >2</th>\n",
       "                        <td id=\"T_21e07fd0_47fc_11e9_ab06_d8fc93089377row2_col0\" class=\"data row2 col0\" >c- Pamp. Baby</td>\n",
       "                        <td id=\"T_21e07fd0_47fc_11e9_ab06_d8fc93089377row2_col1\" class=\"data row2 col1\" >12.5</td>\n",
       "                        <td id=\"T_21e07fd0_47fc_11e9_ab06_d8fc93089377row2_col2\" class=\"data row2 col2\" >20</td>\n",
       "                        <td id=\"T_21e07fd0_47fc_11e9_ab06_d8fc93089377row2_col3\" class=\"data row2 col3\" >15.5</td>\n",
       "            </tr>\n",
       "            <tr>\n",
       "                        <th id=\"T_21e07fd0_47fc_11e9_ab06_d8fc93089377level0_row3\" class=\"row_heading level0 row3\" >3</th>\n",
       "                        <td id=\"T_21e07fd0_47fc_11e9_ab06_d8fc93089377row3_col0\" class=\"data row3 col0\" >d- Naty</td>\n",
       "                        <td id=\"T_21e07fd0_47fc_11e9_ab06_d8fc93089377row3_col1\" class=\"data row3 col1\" >12.5</td>\n",
       "                        <td id=\"T_21e07fd0_47fc_11e9_ab06_d8fc93089377row3_col2\" class=\"data row3 col2\" >20</td>\n",
       "                        <td id=\"T_21e07fd0_47fc_11e9_ab06_d8fc93089377row3_col3\" class=\"data row3 col3\" >15.5</td>\n",
       "            </tr>\n",
       "            <tr>\n",
       "                        <th id=\"T_21e07fd0_47fc_11e9_ab06_d8fc93089377level0_row4\" class=\"row_heading level0 row4\" >4</th>\n",
       "                        <td id=\"T_21e07fd0_47fc_11e9_ab06_d8fc93089377row4_col0\" class=\"data row4 col0\" >e- Pamp. Activ.</td>\n",
       "                        <td id=\"T_21e07fd0_47fc_11e9_ab06_d8fc93089377row4_col1\" class=\"data row4 col1\" >12.5</td>\n",
       "                        <td id=\"T_21e07fd0_47fc_11e9_ab06_d8fc93089377row4_col2\" class=\"data row4 col2\" >12.5</td>\n",
       "                        <td id=\"T_21e07fd0_47fc_11e9_ab06_d8fc93089377row4_col3\" class=\"data row4 col3\" >12.5</td>\n",
       "            </tr>\n",
       "            <tr>\n",
       "                        <th id=\"T_21e07fd0_47fc_11e9_ab06_d8fc93089377level0_row5\" class=\"row_heading level0 row5\" >5</th>\n",
       "                        <td id=\"T_21e07fd0_47fc_11e9_ab06_d8fc93089377row5_col0\" class=\"data row5 col0\" >f- Carref.Baby</td>\n",
       "                        <td id=\"T_21e07fd0_47fc_11e9_ab06_d8fc93089377row5_col1\" class=\"data row5 col1\" >16.5</td>\n",
       "                        <td id=\"T_21e07fd0_47fc_11e9_ab06_d8fc93089377row5_col2\" class=\"data row5 col2\" >12.5</td>\n",
       "                        <td id=\"T_21e07fd0_47fc_11e9_ab06_d8fc93089377row5_col3\" class=\"data row5 col3\" >14.9</td>\n",
       "            </tr>\n",
       "            <tr>\n",
       "                        <th id=\"T_21e07fd0_47fc_11e9_ab06_d8fc93089377level0_row6\" class=\"row_heading level0 row6\" >6</th>\n",
       "                        <td id=\"T_21e07fd0_47fc_11e9_ab06_d8fc93089377row6_col0\" class=\"data row6 col0\" >g- Lupilu</td>\n",
       "                        <td id=\"T_21e07fd0_47fc_11e9_ab06_d8fc93089377row6_col1\" class=\"data row6 col1\" >16.5</td>\n",
       "                        <td id=\"T_21e07fd0_47fc_11e9_ab06_d8fc93089377row6_col2\" class=\"data row6 col2\" >9.5</td>\n",
       "                        <td id=\"T_21e07fd0_47fc_11e9_ab06_d8fc93089377row6_col3\" class=\"data row6 col3\" >13.7</td>\n",
       "            </tr>\n",
       "            <tr>\n",
       "                        <th id=\"T_21e07fd0_47fc_11e9_ab06_d8fc93089377level0_row7\" class=\"row_heading level0 row7\" >7</th>\n",
       "                        <td id=\"T_21e07fd0_47fc_11e9_ab06_d8fc93089377row7_col0\" class=\"data row7 col0\" >h- Mots d’enfants </td>\n",
       "                        <td id=\"T_21e07fd0_47fc_11e9_ab06_d8fc93089377row7_col1\" class=\"data row7 col1\" >12.5</td>\n",
       "                        <td id=\"T_21e07fd0_47fc_11e9_ab06_d8fc93089377row7_col2\" class=\"data row7 col2\" >9.5</td>\n",
       "                        <td id=\"T_21e07fd0_47fc_11e9_ab06_d8fc93089377row7_col3\" class=\"data row7 col3\" >11.3</td>\n",
       "            </tr>\n",
       "            <tr>\n",
       "                        <th id=\"T_21e07fd0_47fc_11e9_ab06_d8fc93089377level0_row8\" class=\"row_heading level0 row8\" >8</th>\n",
       "                        <td id=\"T_21e07fd0_47fc_11e9_ab06_d8fc93089377row8_col0\" class=\"data row8 col0\" >i- Love & Green</td>\n",
       "                        <td id=\"T_21e07fd0_47fc_11e9_ab06_d8fc93089377row8_col1\" class=\"data row8 col1\" >16.5</td>\n",
       "                        <td id=\"T_21e07fd0_47fc_11e9_ab06_d8fc93089377row8_col2\" class=\"data row8 col2\" >9.5</td>\n",
       "                        <td id=\"T_21e07fd0_47fc_11e9_ab06_d8fc93089377row8_col3\" class=\"data row8 col3\" >13.7</td>\n",
       "            </tr>\n",
       "            <tr>\n",
       "                        <th id=\"T_21e07fd0_47fc_11e9_ab06_d8fc93089377level0_row9\" class=\"row_heading level0 row9\" >9</th>\n",
       "                        <td id=\"T_21e07fd0_47fc_11e9_ab06_d8fc93089377row9_col0\" class=\"data row9 col0\" >j- Lotus Baby</td>\n",
       "                        <td id=\"T_21e07fd0_47fc_11e9_ab06_d8fc93089377row9_col1\" class=\"data row9 col1\" >16.5</td>\n",
       "                        <td id=\"T_21e07fd0_47fc_11e9_ab06_d8fc93089377row9_col2\" class=\"data row9 col2\" >6.5</td>\n",
       "                        <td id=\"T_21e07fd0_47fc_11e9_ab06_d8fc93089377row9_col3\" class=\"data row9 col3\" >12.5</td>\n",
       "            </tr>\n",
       "            <tr>\n",
       "                        <th id=\"T_21e07fd0_47fc_11e9_ab06_d8fc93089377level0_row10\" class=\"row_heading level0 row10\" >10</th>\n",
       "                        <td id=\"T_21e07fd0_47fc_11e9_ab06_d8fc93089377row10_col0\" class=\"data row10 col0\" >k- Pommette</td>\n",
       "                        <td id=\"T_21e07fd0_47fc_11e9_ab06_d8fc93089377row10_col1\" class=\"data row10 col1\" >16.5</td>\n",
       "                        <td id=\"T_21e07fd0_47fc_11e9_ab06_d8fc93089377row10_col2\" class=\"data row10 col2\" >6.5</td>\n",
       "                        <td id=\"T_21e07fd0_47fc_11e9_ab06_d8fc93089377row10_col3\" class=\"data row10 col3\" >12.5</td>\n",
       "            </tr>\n",
       "            <tr>\n",
       "                        <th id=\"T_21e07fd0_47fc_11e9_ab06_d8fc93089377level0_row11\" class=\"row_heading level0 row11\" >11</th>\n",
       "                        <td id=\"T_21e07fd0_47fc_11e9_ab06_d8fc93089377row11_col0\" class=\"data row11 col0\" >l- Lillydoo </td>\n",
       "                        <td id=\"T_21e07fd0_47fc_11e9_ab06_d8fc93089377row11_col1\" class=\"data row11 col1\" >12.5</td>\n",
       "                        <td id=\"T_21e07fd0_47fc_11e9_ab06_d8fc93089377row11_col2\" class=\"data row11 col2\" >6.5</td>\n",
       "                        <td id=\"T_21e07fd0_47fc_11e9_ab06_d8fc93089377row11_col3\" class=\"data row11 col3\" >10.1</td>\n",
       "            </tr>\n",
       "    </tbody></table>"
      ]
     },
     "metadata": {},
     "output_type": "display_data"
    }
   ],
   "source": [
    "df2_s = result_4_1_all_max.style.set_table_attributes(\"style='display:inline'\").set_caption(model_name_7)\n",
    "display_html(df1_s._repr_html_()+df2_s._repr_html_(), raw=True)"
   ]
  },
  {
   "cell_type": "code",
   "execution_count": 21,
   "metadata": {},
   "outputs": [
    {
     "name": "stdout",
     "output_type": "stream",
     "text": [
      "Max Score pour toutes les marques\n"
     ]
    },
    {
     "data": {
      "text/html": [
       "<table border=\"1\"><tr><th>coef - Spearman</th><td>0.9803024573066307</td></tr><tr><th>p - Spearman</th><td>2.259433333683426e-08</td></tr><tr><th>tau - Kendall</th><td>0.9503819266229829</td></tr><tr><th>p_val - Kendall</th><td>6.317712090483196e-05</td></tr></table>"
      ],
      "text/plain": [
       "<IPython.core.display.HTML object>"
      ]
     },
     "metadata": {},
     "output_type": "display_data"
    }
   ],
   "source": [
    "print(\"Max Score pour toutes les marques\")\n",
    "display(HTML(json2html.convert(json = dict_min_y12)))"
   ]
  },
  {
   "cell_type": "markdown",
   "metadata": {},
   "source": [
    "## 1.4.2 Conclusion"
   ]
  },
  {
   "cell_type": "code",
   "execution_count": 22,
   "metadata": {},
   "outputs": [
    {
     "data": {
      "text/plain": [
       "<openpyxl.workbook.workbook.Workbook at 0x1bcffd4ac88>"
      ]
     },
     "execution_count": 22,
     "metadata": {},
     "output_type": "execute_result"
    }
   ],
   "source": [
    "exportInExcel('./Partie_1_Analyse_Classement.xlsx', 'Q3.1',\n",
    "                 [result_original, result_3_1_max, result_3_1_min],\n",
    "                 ['Modèle Original',model_name_3, model_name_4],\n",
    "                 [dict_max_y1,dict_min_y1])"
   ]
  },
  {
   "cell_type": "code",
   "execution_count": 23,
   "metadata": {},
   "outputs": [
    {
     "data": {
      "text/plain": [
       "<openpyxl.workbook.workbook.Workbook at 0x1bcffdd1ef0>"
      ]
     },
     "execution_count": 23,
     "metadata": {},
     "output_type": "execute_result"
    }
   ],
   "source": [
    "exportInExcel('./Partie_1_Analyse_Classement.xlsx', 'Q3.2',\n",
    "                 [result_original, result_3_2_max, result_3_2_min],\n",
    "                 ['Modèle Original',model_name_5, model_name_6],\n",
    "                 [dict_max_y12,dict_min_y12])\n"
   ]
  },
  {
   "cell_type": "code",
   "execution_count": 24,
   "metadata": {},
   "outputs": [
    {
     "data": {
      "text/plain": [
       "<openpyxl.workbook.workbook.Workbook at 0x1bcffdfd5f8>"
      ]
     },
     "execution_count": 24,
     "metadata": {},
     "output_type": "execute_result"
    }
   ],
   "source": [
    "exportInExcel('./Partie_1_Analyse_Classement.xlsx', 'Q4',\n",
    "                 [result_original, result_4_1_all_max],\n",
    "                 ['Modèle Original',model_name_7],\n",
    "                 [dict_max_all])"
   ]
  },
  {
   "cell_type": "code",
   "execution_count": null,
   "metadata": {},
   "outputs": [],
   "source": []
  }
 ],
 "metadata": {
  "kernelspec": {
   "display_name": "Python 3",
   "language": "python",
   "name": "python3"
  },
  "language_info": {
   "codemirror_mode": {
    "name": "ipython",
    "version": 3
   },
   "file_extension": ".py",
   "mimetype": "text/x-python",
   "name": "python",
   "nbconvert_exporter": "python",
   "pygments_lexer": "ipython3",
   "version": "3.7.0"
  }
 },
 "nbformat": 4,
 "nbformat_minor": 2
}
