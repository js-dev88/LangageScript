{
 "cells": [
  {
   "cell_type": "markdown",
   "metadata": {},
   "source": [
    " <div align=\"center\"><h1> ANALYSE DES CLASSEMENTS DE PRODUITS </h1></div>"
   ]
  },
  {
   "cell_type": "markdown",
   "metadata": {},
   "source": [
    "## LE CAS DU MAGAZINE 60 MILLIONS DE CONSOMMATEURS"
   ]
  },
  {
   "cell_type": "markdown",
   "metadata": {},
   "source": [
    "Le magazine 60 millions de consommateurs dans son numéro 540 du mois d’Août 2018 a publié, après des essais comparatifs, un classement de plusieurs marques de couches-culottes pour enfants. Les résultats de leur enquête sont donnés\n",
    "par le tableau ci-dessous.\n"
   ]
  },
  {
   "cell_type": "markdown",
   "metadata": {},
   "source": [
    "<img src=\"./files/tableau.png\">"
   ]
  },
  {
   "cell_type": "markdown",
   "metadata": {},
   "source": [
    "Dans cette section, nous essayerons d’analyser ce classement élaboré à partir de deux critères : la performance et la\n",
    "composition avec des poids respectifs de 60% et 40 %."
   ]
  },
  {
   "cell_type": "markdown",
   "metadata": {},
   "source": [
    "## 1. Le score global (/20) associé à chaque produit peut-il être expliqué par une somme pondérée ?"
   ]
  },
  {
   "cell_type": "code",
   "execution_count": 1,
   "metadata": {},
   "outputs": [],
   "source": [
    "import os\n",
    "import sys\n",
    "module_path = os.path.abspath(os.path.join('./src'))\n",
    "if module_path not in sys.path:\n",
    "    sys.path.append(module_path)"
   ]
  },
  {
   "cell_type": "markdown",
   "metadata": {},
   "source": [
    " ### 1.1 fonction CheckAdditiveModel"
   ]
  },
  {
   "cell_type": "code",
   "execution_count": 2,
   "metadata": {},
   "outputs": [],
   "source": [
    "from src.system import checkAdditiveModel"
   ]
  },
  {
   "cell_type": "markdown",
   "metadata": {},
   "source": [
    "**CheckAdditiveModel** retourne un message d’erreur si le classement n’est pas explicable par un modèle type\n",
    "somme pondérée (dans ce cas, le programme linéaire ou système linéaire correspondant n’admet pas de solution\n",
    "réalisable). Au cas où cela est possible, le programme retournera alors des valeurs numériques à associer à chaque\n",
    "produit (pour chaque critère d’évaluation), ainsi que la valeur de la somme pondérée qui lui correspond, dans ce notebook et sous fichier **Excel** (répertoire **data_solved**)"
   ]
  },
  {
   "cell_type": "markdown",
   "metadata": {},
   "source": [
    "La fonction est construite pour être générique et sera appelée sur différentes propositions de résolution du problème"
   ]
  },
  {
   "cell_type": "markdown",
   "metadata": {},
   "source": [
    " ### 1.2 Test de la fonction avec le classement des couches-culottes"
   ]
  },
  {
   "cell_type": "markdown",
   "metadata": {},
   "source": [
    "La résolution du problème passe par une formalisation en Programme Linéaire"
   ]
  },
  {
   "cell_type": "code",
   "execution_count": 3,
   "metadata": {},
   "outputs": [
    {
     "name": "stdout",
     "output_type": "stream",
     "text": [
      "Le programme lineaire avec notes du fichier ./data/data_couches_original.xlsx n'admet pas de solution\n",
      "Scores : True\n",
      "-----------------------------------------------------\n",
      "\\* Problem: programme lineaire avec notes *\\\n",
      "\n",
      "Maximize\n",
      " obj: + x1\n",
      "\n",
      "Subject To\n",
      " c1: + 0.6 x1 + 0.4 x2 = 17\n",
      " c2: + 0.6 x3 + 0.4 x4 = 14.5\n",
      " c3: + 0.6 x5 + 0.4 x6 = 12.5\n",
      " c4: + 0.6 x7 + 0.4 x8 = 12.5\n",
      " c5: + 0.6 x9 + 0.4 x10 = 12.5\n",
      " c6: + 0.6 x11 + 0.4 x12 = 12.5\n",
      " c7: + 0.6 x13 + 0.4 x14 = 12\n",
      " c8: + 0.6 x15 + 0.4 x16 = 12\n",
      " c9: + 0.6 x17 + 0.4 x18 = 9.5\n",
      " c10: + 0.6 x19 + 0.4 x20 = 9.5\n",
      " c11: + 0.6 x21 + 0.4 x22 = 9.5\n",
      " c12: + 0.6 x23 + 0.4 x24 = 6.5\n",
      "\n",
      "Bounds\n",
      " 17 <= x1 <= 20\n",
      " 17 <= x2 <= 20\n",
      " 13 <= x4 <= 16.5\n",
      " 13 <= x3 <= 16.5\n",
      " 17 <= x6 <= 20\n",
      " 10 <= x5 <= 12.5\n",
      " 10 <= x7 <= 12.5\n",
      " 17 <= x8 <= 20\n",
      " 10 <= x10 <= 12.5\n",
      " 10 <= x9 <= 12.5\n",
      " 13 <= x11 <= 16.5\n",
      " 10 <= x12 <= 12.5\n",
      " 13 <= x13 <= 16.5\n",
      " 7 <= x14 <= 9.5\n",
      " 7 <= x16 <= 9.5\n",
      " 10 <= x15 <= 12.5\n",
      " 7 <= x18 <= 9.5\n",
      " 13 <= x17 <= 16.5\n",
      " 0 <= x20 <= 6.5\n",
      " 13 <= x19 <= 16.5\n",
      " 13 <= x21 <= 16.5\n",
      " 0 <= x22 <= 6.5\n",
      " 0 <= x24 <= 6.5\n",
      " 10 <= x23 <= 12.5\n",
      "\n",
      "End\n",
      "\n"
     ]
    }
   ],
   "source": [
    "   checkAdditiveModel(csv_name='../data/data_couches_original.xlsx',\n",
    "                      model_name='Programme Lineaire - Classement Couches-culottes avec notes',\n",
    "                      eval_expr='x1',\n",
    "                      direction='max')"
   ]
  },
  {
   "cell_type": "markdown",
   "metadata": {},
   "source": [
    "Le problème ainsi formalisé n'admet donc pas de solution"
   ]
  },
  {
   "cell_type": "markdown",
   "metadata": {},
   "source": [
    " ### 1.2 CheckAdditiveModel avec le classement des couches lorsque la note globale de chaque couche-culotte n’est pas fixée\n",
    " "
   ]
  },
  {
   "cell_type": "code",
   "execution_count": null,
   "metadata": {},
   "outputs": [],
   "source": [
    "   checkAdditiveModel(csv_name='../data/data_couches_original.xlsx',\n",
    "                      model_name='Programme Lineaire - Classement Couches-culottes sans note',\n",
    "                      eval_expr='x1',\n",
    "                      direction='max')"
   ]
  }
 ],
 "metadata": {
  "kernelspec": {
   "display_name": "Python 3",
   "language": "python",
   "name": "python3"
  },
  "language_info": {
   "codemirror_mode": {
    "name": "ipython",
    "version": 3
   },
   "file_extension": ".py",
   "mimetype": "text/x-python",
   "name": "python",
   "nbconvert_exporter": "python",
   "pygments_lexer": "ipython3",
   "version": "3.6.6"
  }
 },
 "nbformat": 4,
 "nbformat_minor": 2
}
