{
 "cells": [
  {
   "cell_type": "markdown",
   "metadata": {},
   "source": [
    "# Conclusion"
   ]
  },
  {
   "cell_type": "markdown",
   "metadata": {},
   "source": [
    "### ** Les classements publiés vous paraissent-ils clairs, explicables, ou opaques (pour n’importe quel consommateur) ?"
   ]
  },
  {
   "cell_type": "markdown",
   "metadata": {},
   "source": [
    "    Le classement des couches culottes nous semble être opaque, car on s’interroge sur la façon de calculer le score final d’une couche en se basant sur les évaluations : +++,---,++,--,+,-,...Etc. On a supposé l’existence d’un model de somme pondérée. Or, on a constaté l’inexistence d’une solution réalisable qui respecte le classement donné par le magazine. On suggère la mise en place d’une notice expliquant le processus d'évaluation suivi.\n",
    "\n",
    "    Le classement des logiciels est plus cohérent, car on a pu trouver un model de somme pondérée se basant sur les quatre critères d’évaluation. Les deux classements étant faits par le même magazine, on aurait apprécié plus de précisions sur les méthodes utilisées.\n"
   ]
  },
  {
   "cell_type": "markdown",
   "metadata": {},
   "source": [
    "### ** Ces classements vous paraissent-ils non biaisés ?"
   ]
  },
  {
   "cell_type": "markdown",
   "metadata": {},
   "source": [
    "    Pour savoir si les classements sont biaisés ou pas, nous allons comparer les classements obtenus par le magazine par les classements que nous avons trouvé. \n",
    " \n",
    "    Nous avons précédemment dit que les classements obtenu par la méthode Electre tri (peu importe la méthode d’affectation utilisée) ne correspondent pas aux résultats du magazine ( le taux de mauvaise classification le plus bas est de 33,3 % pour les couches-culottes et il est de 40% pour les logiciels de mots de passe) donc d’après ces chiffres les classements sont probablement biaisées.\n"
   ]
  },
  {
   "cell_type": "markdown",
   "metadata": {},
   "source": [
    "### ** Le magazine devrait-il en dire plus sur la manière de classer les produits ? si oui, comment devra-t-elle être transparente pour convaincre le lecteur ?"
   ]
  },
  {
   "cell_type": "markdown",
   "metadata": {},
   "source": [
    "En lisant les résultats d’essai du magazine, nous remarquons que les notes attribuées aux critères et aux sous-critères sont qualitatifs (en forme de ++ et -- ) alors que la note globale du produit est numérique. \n",
    "Donc on peut voir qu’il ya une incohérence et un manque de transparence sur la façon par laquelle la passation des notes qualitatifs vers les notes numériques a été faite. \n",
    "\n",
    "Nous suggérons l’utilisation, soit des notes qualitatifs, soit des notes numériques dans toute l’étude et ne pas mélanger les deux.   \n"
   ]
  },
  {
   "cell_type": "markdown",
   "metadata": {},
   "source": [
    "### ** Préférerez-vous une évaluation globale numérique ou qualitative (comme ELECTRE TRI) ?"
   ]
  },
  {
   "cell_type": "markdown",
   "metadata": {},
   "source": [
    "Sur les décisions que nous avons à prendre,nous pouvons faire face à différents problématiques, on peut avoir comme objectif soit, de sélectionner une alternative parmi plusieurs, soit de trier ou affecter les alternatives possibles, soit de classer les alternatives, soit de décrire les alternatives. Et c’est donc selon l’objectif envisagé que nous pouvons choisir ou avoir une préférence pour une évaluation globale numérique ou qualitative.\n",
    "\n",
    "Par exemple, si on considère une banque X qui souhaite faire la promotion d’un nouveau produit destiné aux clients fragiles financièrement (un crédit immobilier à taux très faible par exemple), dans ce cas nous allons privilégier une évaluation qualitative comme ELECTRE TRI (élaboré sur des critères comme le revenu, le niveau de surendettement) afin de dégager la liste de clients correspondants à la plus mauvaise catégorie. L’inconvénient de ces méthodes est qu’il faut définir de nombreux paramètres et il faut par la suite mettre en place des indicateurs d’analyse de sensibilité et de robustesse.  \n",
    "\n",
    "Nous prenons un autre exemple, où un supermarché souhaite élire “the employee of the month” dans ce cas nous allons avoir une préférence pour la méthode numérique afin d’avoir plus de précision dans les résultats. Pour ce faire, nous allons attribuer une note à chaque employé et l’employé le mieux noté sera retenu.  \n"
   ]
  },
  {
   "cell_type": "code",
   "execution_count": null,
   "metadata": {},
   "outputs": [],
   "source": []
  }
 ],
 "metadata": {
  "kernelspec": {
   "display_name": "Python 3",
   "language": "python",
   "name": "python3"
  },
  "language_info": {
   "codemirror_mode": {
    "name": "ipython",
    "version": 3
   },
   "file_extension": ".py",
   "mimetype": "text/x-python",
   "name": "python",
   "nbconvert_exporter": "python",
   "pygments_lexer": "ipython3",
   "version": "3.7.1"
  }
 },
 "nbformat": 4,
 "nbformat_minor": 2
}
