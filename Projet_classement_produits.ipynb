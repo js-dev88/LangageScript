{
 "cells": [
  {
   "cell_type": "markdown",
   "metadata": {},
   "source": [
    " <div align=\"center\"><h1> ANALYSE DES CLASSEMENTS DE PRODUITS </h1></div>"
   ]
  },
  {
   "cell_type": "markdown",
   "metadata": {},
   "source": [
    "## LE CAS DU MAGAZINE 60 MILLIONS DE CONSOMMATEURS"
   ]
  },
  {
   "cell_type": "markdown",
   "metadata": {},
   "source": [
    "Le magazine 60 millions de consommateurs dans son numéro 540 du mois d’Août 2018 a publié, après des essais comparatifs, un classement de plusieurs marques de couches-culottes pour enfants. Les résultats de leur enquête sont donnés\n",
    "par le tableau ci-dessous.\n"
   ]
  },
  {
   "cell_type": "markdown",
   "metadata": {},
   "source": [
    "<img src=\"./files/tableau.png\">"
   ]
  },
  {
   "cell_type": "markdown",
   "metadata": {},
   "source": [
    "Dans cette section, nous essayerons d’analyser ce classement élaboré à partir de deux critères : la performance et la\n",
    "composition avec des poids respectifs de 60% et 40 %."
   ]
  },
  {
   "cell_type": "markdown",
   "metadata": {},
   "source": [
    "## 1. Le score global (/20) associé à chaque produit peut-il être expliqué par une somme pondérée ?"
   ]
  },
  {
   "cell_type": "markdown",
   "metadata": {},
   "source": [
    "A la lecture du classement publié, il semble clair, pour un consommateur, que le score global donné à chaque produit\n",
    "résulte d’une moyenne pondérée (somme pondérée) de ses évaluations sur les deux critères performance et composition.\n",
    "L’objectif dans cette partie est de vérifier l’exactitude ou non de cette hypothèse."
   ]
  },
  {
   "cell_type": "markdown",
   "metadata": {},
   "source": [
    "Pour cela, nous allons associer un nombre réel positif à chaque évaluation qualitative attribuée à un produit. Ainsi, pour\n",
    "le produit “Joone” représenté par la lettre a sur le Tableau 1, si son score de 17/20 est obtenu à partir d’une somme\n",
    "pondérée notée f, alors il existe des nombres réels positifs U1a(+++) ∈ [17, 20] et U2a(+++) ∈ [17, 20] tels que"
   ]
  },
  {
   "cell_type": "markdown",
   "metadata": {},
   "source": [
    "**<p style=\"text-align: center;\">f(a) = 0.6 U1a(+++) + 0.4 U2a(+++) = 17</p>**"
   ]
  },
  {
   "cell_type": "markdown",
   "metadata": {},
   "source": [
    "Plus généralement, pour un produit x dont le score global f(x) est donné par une somme pondérée f, si on note Uix(αix)\n",
    "le nombre réel associé à l’évaluation qualitative αix du produit x sur le critère i (la valeur qualitative αix étant donnée\n",
    "par le magazine), alors on aura\n"
   ]
  },
  {
   "cell_type": "markdown",
   "metadata": {},
   "source": [
    "**<p style=\"text-align: center;\">f(x) = 0.6 U1x(α1x) + 0.4 U2x(α2x)</p>**"
   ]
  },
  {
   "cell_type": "markdown",
   "metadata": {},
   "source": [
    "Pour déterminer si le classement des couches-culottes, fourni par le magazine, est compatible avec un modèle d’évaluation\n",
    "basé sur la somme pondérée, il nous suffit alors de résoudre le programme linéaire PL1 suivant (un système d’inéquations\n",
    "linéaires est suffisant pour ce test) :"
   ]
  },
  {
   "cell_type": "markdown",
   "metadata": {},
   "source": [
    "<img src=\"./files/pl.png\">"
   ]
  },
  {
   "cell_type": "markdown",
   "metadata": {
    "slideshow": {
     "slide_type": "-"
    }
   },
   "source": [
    "où\n",
    "* La fonction objectif donnée par l’équation (3) consiste, ici, à maximiser le nombre réel U1a(+++) associé à l’évaluation de la couche-culotte “Joone” sur le critère Performance. En réalité, étant donné que nous cherchons simplement à satisfaire les contraintes de ce programme linéaire, le choix de n’importe quelle fonction objectif suffira à résoudre notre problème. En clair le choix de la fonction objectif de PL1 est arbitraire.\n"
   ]
  },
  {
   "cell_type": "markdown",
   "metadata": {},
   "source": [
    "* Les contraintes (4) à (15) correspondent à l’écriture sous forme de somme pondérée, comme dans la formule 2 ci-dessus, des 12 produits à évaluer."
   ]
  },
  {
   "cell_type": "markdown",
   "metadata": {},
   "source": [
    "\n",
    "* Les contraintes (16) à (19) correspondent à l’ordre établi dans le classement des 12 produits du magazine. A noter que la valeur 0.1, dans certains de ces contraintes, permet simplement de satisfaire une inégalité stricte, en termesde notes globales, entre certains produits."
   ]
  },
  {
   "cell_type": "markdown",
   "metadata": {},
   "source": [
    "* Les contraintes (20) à (29) permettent d’assurer l’appartenance de chaque nombre réel Uix(αix) à un intervalle lié à la note qualitative αix telle que donnée par le magazine."
   ]
  },
  {
   "cell_type": "code",
   "execution_count": 12,
   "metadata": {
    "collapsed": true
   },
   "outputs": [],
   "source": [
    "import os\n",
    "import sys\n",
    "module_path = os.path.abspath(os.path.join('./src'))\n",
    "if module_path not in sys.path:\n",
    "    sys.path.append(module_path)"
   ]
  },
  {
   "cell_type": "markdown",
   "metadata": {},
   "source": [
    " ### 1.1 fonction CheckAdditiveModel"
   ]
  },
  {
   "cell_type": "code",
   "execution_count": 13,
   "metadata": {},
   "outputs": [],
   "source": [
    "from src.system import checkAdditiveModel"
   ]
  },
  {
   "cell_type": "markdown",
   "metadata": {},
   "source": [
    "**CheckAdditiveModel** retourne un message d’erreur si le classement n’est pas explicable par un modèle type\n",
    "somme pondérée (dans ce cas, le programme linéaire ou système linéaire correspondant n’admet pas de solution\n",
    "réalisable). Au cas où cela est possible, le programme retournera alors des valeurs numériques à associer à chaque\n",
    "produit (pour chaque critère d’évaluation), ainsi que la valeur de la somme pondérée qui lui correspond, dans ce notebook et sous fichier **Excel** (répertoire **data_solved**)"
   ]
  },
  {
   "cell_type": "markdown",
   "metadata": {},
   "source": [
    "La fonction est construite pour être générique et sera appelée sur différentes propositions de résolution du problème"
   ]
  },
  {
   "cell_type": "markdown",
   "metadata": {},
   "source": [
    " ## 1.2 \n",
    " ### 1.2.1 Test de la fonction avec le classement des couches-culottes"
   ]
  },
  {
   "cell_type": "markdown",
   "metadata": {},
   "source": [
    "La résolution du problème passe par une formalisation en Programme Linéaire"
   ]
  },
  {
   "cell_type": "code",
   "execution_count": 14,
   "metadata": {},
   "outputs": [
    {
     "name": "stdout",
     "output_type": "stream",
     "text": [
      "Le Programme Lineaire - Classement Couches-culottes avec notes du fichier ./data/data_couches_original.xlsx n'admet pas de solution\n",
      "Scores : True\n",
      "-----------------------------------------------------\n",
      "\\* Problem: Programme Lineaire - Classement Couches-culottes avec notes *\\\n",
      "\n",
      "Maximize\n",
      " obj: + x1\n",
      "\n",
      "Subject To\n",
      " c1: + 0.6 x1 + 0.4 x2 = 17\n",
      " c2: + 0.6 x3 + 0.4 x4 = 14.5\n",
      " c3: + 0.6 x5 + 0.4 x6 = 12.5\n",
      " c4: + 0.6 x7 + 0.4 x8 = 12.5\n",
      " c5: + 0.6 x9 + 0.4 x10 = 12.5\n",
      " c6: + 0.6 x11 + 0.4 x12 = 12.5\n",
      " c7: + 0.6 x13 + 0.4 x14 = 12\n",
      " c8: + 0.6 x15 + 0.4 x16 = 12\n",
      " c9: + 0.6 x17 + 0.4 x18 = 9.5\n",
      " c10: + 0.6 x19 + 0.4 x20 = 9.5\n",
      " c11: + 0.6 x21 + 0.4 x22 = 9.5\n",
      " c12: + 0.6 x23 + 0.4 x24 = 6.5\n",
      "\n",
      "Bounds\n",
      " 17 <= x1 <= 20\n",
      " 17 <= x2 <= 20\n",
      " 13 <= x4 <= 16.5\n",
      " 13 <= x3 <= 16.5\n",
      " 17 <= x6 <= 20\n",
      " 10 <= x5 <= 12.5\n",
      " 10 <= x7 <= 12.5\n",
      " 17 <= x8 <= 20\n",
      " 10 <= x10 <= 12.5\n",
      " 10 <= x9 <= 12.5\n",
      " 13 <= x11 <= 16.5\n",
      " 10 <= x12 <= 12.5\n",
      " 13 <= x13 <= 16.5\n",
      " 7 <= x14 <= 9.5\n",
      " 10 <= x15 <= 12.5\n",
      " 7 <= x16 <= 9.5\n",
      " 7 <= x18 <= 9.5\n",
      " 13 <= x17 <= 16.5\n",
      " 13 <= x19 <= 16.5\n",
      " 0 <= x20 <= 6.5\n",
      " 13 <= x21 <= 16.5\n",
      " 0 <= x22 <= 6.5\n",
      " 10 <= x23 <= 12.5\n",
      " 0 <= x24 <= 6.5\n",
      "\n",
      "End\n",
      "\n"
     ]
    }
   ],
   "source": [
    "   checkAdditiveModel(csv_name='./data/data_couches_original.xlsx',\n",
    "                      model_name='Programme Lineaire - Classement Couches-culottes avec notes',\n",
    "                      eval_expr='x1',\n",
    "                      direction='max')"
   ]
  },
  {
   "cell_type": "markdown",
   "metadata": {},
   "source": [
    "Le problème ainsi formalisé n'admet donc pas de solution"
   ]
  },
  {
   "cell_type": "markdown",
   "metadata": {},
   "source": [
    " ### 1.2.2 CheckAdditiveModel avec le classement des couches lorsque la note globale de chaque couche-culotte n’est pas fixée\n",
    " "
   ]
  },
  {
   "cell_type": "code",
   "execution_count": 16,
   "metadata": {},
   "outputs": [
    {
     "name": "stdout",
     "output_type": "stream",
     "text": [
      "Le Programme Lineaire - Classement Couches-culottes sans note du fichier ./data/data_couches_original.xlsx n'admet pas de solution\n",
      "Scores : False\n",
      "-----------------------------------------------------\n",
      "\\* Problem: Programme Lineaire - Classement Couches-culottes sans note *\\\n",
      "\n",
      "Maximize\n",
      " obj: + x1\n",
      "\n",
      "Subject To\n",
      " c1: + 0.6 x1 + 0.4 x2 - y1 = 0\n",
      " c2: + 0.6 x3 + 0.4 x4 - y2 = 0\n",
      " c3: + 0.6 x5 + 0.4 x6 - y3 = 0\n",
      " c4: + 0.6 x7 + 0.4 x8 - y4 = 0\n",
      " c5: + 0.6 x9 + 0.4 x10 - y5 = 0\n",
      " c6: + 0.6 x11 + 0.4 x12 - y6 = 0\n",
      " c7: + 0.6 x13 + 0.4 x14 - y7 = 0\n",
      " c8: + 0.6 x15 + 0.4 x16 - y8 = 0\n",
      " c9: + 0.6 x17 + 0.4 x18 - y9 = 0\n",
      " c10: + 0.6 x19 + 0.4 x20 - y10 = 0\n",
      " c11: + 0.6 x21 + 0.4 x22 - y11 = 0\n",
      " c12: + 0.6 x23 + 0.4 x24 - y12 = 0\n",
      " c13: + y1 - y2 >= 0.1\n",
      " c14: + y2 - y3 >= 0.1\n",
      " c15: + y3 - y4 = 0\n",
      " c16: + y4 - y5 = 0\n",
      " c17: + y5 - y6 = 0\n",
      " c18: + y6 - y7 >= 0.1\n",
      " c19: + y7 - y8 = 0\n",
      " c20: + y8 - y9 >= 0.1\n",
      " c21: + y9 - y10 = 0\n",
      " c22: + y10 - y11 = 0\n",
      " c23: + y11 - y12 >= 0.1\n",
      "\n",
      "Bounds\n",
      " 17 <= x1 <= 20\n",
      " 17 <= x2 <= 20\n",
      " 0 <= y1 <= 20\n",
      " 13 <= x4 <= 16.5\n",
      " 13 <= x3 <= 16.5\n",
      " 0 <= y2 <= 20\n",
      " 0 <= y3 <= 20\n",
      " 17 <= x6 <= 20\n",
      " 10 <= x5 <= 12.5\n",
      " 17 <= x8 <= 20\n",
      " 10 <= x7 <= 12.5\n",
      " 0 <= y4 <= 20\n",
      " 10 <= x9 <= 12.5\n",
      " 10 <= x10 <= 12.5\n",
      " 0 <= y5 <= 20\n",
      " 0 <= y6 <= 20\n",
      " 10 <= x12 <= 12.5\n",
      " 13 <= x11 <= 16.5\n",
      " 0 <= y7 <= 20\n",
      " 13 <= x13 <= 16.5\n",
      " 7 <= x14 <= 9.5\n",
      " 7 <= x16 <= 9.5\n",
      " 0 <= y8 <= 20\n",
      " 10 <= x15 <= 12.5\n",
      " 7 <= x18 <= 9.5\n",
      " 13 <= x17 <= 16.5\n",
      " 0 <= y9 <= 20\n",
      " 0 <= x20 <= 6.5\n",
      " 13 <= x19 <= 16.5\n",
      " 0 <= y10 <= 20\n",
      " 0 <= y11 <= 20\n",
      " 0 <= x22 <= 6.5\n",
      " 13 <= x21 <= 16.5\n",
      " 10 <= x23 <= 12.5\n",
      " 0 <= x24 <= 6.5\n",
      " 0 <= y12 <= 20\n",
      "\n",
      "End\n",
      "\n"
     ]
    }
   ],
   "source": [
    "     checkAdditiveModel(csv_name='./data/data_couches_original.xlsx',\n",
    "                      model_name='Programme Lineaire - Classement Couches-culottes sans note',\n",
    "                      eval_expr='x1',\n",
    "                      direction='max',\n",
    "                      with_scores=False)"
   ]
  },
  {
   "cell_type": "markdown",
   "metadata": {},
   "source": [
    "Le problème ainsi formalisé n'admet également pas de solution"
   ]
  },
  {
   "cell_type": "markdown",
   "metadata": {},
   "source": [
    " ### 1.2.3 Conclusions"
   ]
  },
  {
   "cell_type": "code",
   "execution_count": null,
   "metadata": {},
   "outputs": [],
   "source": []
  }
 ],
 "metadata": {
  "kernelspec": {
   "display_name": "Python 3",
   "language": "python",
   "name": "python3"
  },
  "language_info": {
   "codemirror_mode": {
    "name": "ipython",
    "version": 3
   },
   "file_extension": ".py",
   "mimetype": "text/x-python",
   "name": "python",
   "nbconvert_exporter": "python",
   "pygments_lexer": "ipython3",
   "version": "3.6.6"
  }
 },
 "nbformat": 4,
 "nbformat_minor": 2
}
